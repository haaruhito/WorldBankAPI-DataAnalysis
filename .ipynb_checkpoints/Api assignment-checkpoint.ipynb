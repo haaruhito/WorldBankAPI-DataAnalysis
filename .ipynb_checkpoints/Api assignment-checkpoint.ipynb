{
 "cells": [
  {
   "cell_type": "markdown",
   "metadata": {
    "ExecuteTime": {
     "end_time": "2020-12-29T11:54:31.395610Z",
     "start_time": "2020-12-29T11:54:31.383591Z"
    }
   },
   "source": [
    "World bank has defined different types of income as follows\n",
    "\n",
    "\"For the current 2021 fiscal year, low-income economies are defined as those with a GNI per capita, calculated using the World Bank Atlas method, of $1,035 or less in 2019, lower middle-income economies are those with a GNI per capita between $1,036 and $4,045, upper middle-income economies are those with a GNI per capita between $4,046 and $12,535, high-income economies are those with a GNI per capita of $12,536 or more.\"\n",
    "\n",
    "- Low income = $1,035 or less\n",
    "\n",
    "- Lower-middle income = $1,036 to $4,045\n",
    "\n",
    "- Upper-middle income = $4,046 to $12,535\n",
    "\n",
    "- High income = $12,536 or more\n",
    "\n",
    "Source: https://datahelpdesk.worldbank.org/knowledgebase/articles/906519-world-bank-country-and-lending-groups\n"
   ]
  },
  {
   "cell_type": "code",
   "execution_count": 51,
   "metadata": {
    "ExecuteTime": {
     "end_time": "2020-12-29T12:23:05.029908Z",
     "start_time": "2020-12-29T12:23:05.025374Z"
    }
   },
   "outputs": [],
   "source": [
    "import requests\n",
    "import pandas as pd\n",
    "import numpy as np\n",
    "#from plotly.offline import iplot\n",
    "#import cufflinks as cf\n",
    "#cf.go_offline(connected=True)\n",
    "\n",
    "import plotly.express as px\n"
   ]
  },
  {
   "cell_type": "code",
   "execution_count": 2,
   "metadata": {
    "ExecuteTime": {
     "end_time": "2020-12-29T12:05:45.071596Z",
     "start_time": "2020-12-29T12:05:45.065490Z"
    }
   },
   "outputs": [],
   "source": [
    "# base end_point = http://api.worldbank.org/v2/country"
   ]
  },
  {
   "cell_type": "markdown",
   "metadata": {},
   "source": [
    "<mark> Making a request to retrive data from the endpoint adding json format as parameter"
   ]
  },
  {
   "cell_type": "code",
   "execution_count": 3,
   "metadata": {
    "ExecuteTime": {
     "end_time": "2020-12-29T12:05:45.466062Z",
     "start_time": "2020-12-29T12:05:45.078208Z"
    }
   },
   "outputs": [],
   "source": [
    "param = {'page':1}\n",
    "response = requests.get('http://api.worldbank.org/v2/country/?format=json',params=param)"
   ]
  },
  {
   "cell_type": "code",
   "execution_count": 4,
   "metadata": {
    "ExecuteTime": {
     "end_time": "2020-12-29T12:05:45.484311Z",
     "start_time": "2020-12-29T12:05:45.470530Z"
    }
   },
   "outputs": [
    {
     "data": {
      "text/plain": [
       "'http://api.worldbank.org/v2/country/?format=json&page=1'"
      ]
     },
     "execution_count": 4,
     "metadata": {},
     "output_type": "execute_result"
    }
   ],
   "source": [
    "response.url"
   ]
  },
  {
   "cell_type": "code",
   "execution_count": 5,
   "metadata": {
    "ExecuteTime": {
     "end_time": "2020-12-29T12:05:45.496832Z",
     "start_time": "2020-12-29T12:05:45.488170Z"
    }
   },
   "outputs": [
    {
     "data": {
      "text/plain": [
       "200"
      ]
     },
     "execution_count": 5,
     "metadata": {},
     "output_type": "execute_result"
    }
   ],
   "source": [
    "response.status_code"
   ]
  },
  {
   "cell_type": "code",
   "execution_count": 6,
   "metadata": {
    "ExecuteTime": {
     "end_time": "2020-12-29T12:05:45.564224Z",
     "start_time": "2020-12-29T12:05:45.501844Z"
    },
    "scrolled": true
   },
   "outputs": [
    {
     "data": {
      "text/plain": [
       "[{'page': 1, 'pages': 7, 'per_page': '50', 'total': 304},\n",
       " [{'id': 'ABW',\n",
       "   'iso2Code': 'AW',\n",
       "   'name': 'Aruba',\n",
       "   'region': {'id': 'LCN',\n",
       "    'iso2code': 'ZJ',\n",
       "    'value': 'Latin America & Caribbean '},\n",
       "   'adminregion': {'id': '', 'iso2code': '', 'value': ''},\n",
       "   'incomeLevel': {'id': 'HIC', 'iso2code': 'XD', 'value': 'High income'},\n",
       "   'lendingType': {'id': 'LNX', 'iso2code': 'XX', 'value': 'Not classified'},\n",
       "   'capitalCity': 'Oranjestad',\n",
       "   'longitude': '-70.0167',\n",
       "   'latitude': '12.5167'},\n",
       "  {'id': 'AFG',\n",
       "   'iso2Code': 'AF',\n",
       "   'name': 'Afghanistan',\n",
       "   'region': {'id': 'SAS', 'iso2code': '8S', 'value': 'South Asia'},\n",
       "   'adminregion': {'id': 'SAS', 'iso2code': '8S', 'value': 'South Asia'},\n",
       "   'incomeLevel': {'id': 'LIC', 'iso2code': 'XM', 'value': 'Low income'},\n",
       "   'lendingType': {'id': 'IDX', 'iso2code': 'XI', 'value': 'IDA'},\n",
       "   'capitalCity': 'Kabul',\n",
       "   'longitude': '69.1761',\n",
       "   'latitude': '34.5228'},\n",
       "  {'id': 'AFR',\n",
       "   'iso2Code': 'A9',\n",
       "   'name': 'Africa',\n",
       "   'region': {'id': 'NA', 'iso2code': 'NA', 'value': 'Aggregates'},\n",
       "   'adminregion': {'id': '', 'iso2code': '', 'value': ''},\n",
       "   'incomeLevel': {'id': 'NA', 'iso2code': 'NA', 'value': 'Aggregates'},\n",
       "   'lendingType': {'id': '', 'iso2code': '', 'value': 'Aggregates'},\n",
       "   'capitalCity': '',\n",
       "   'longitude': '',\n",
       "   'latitude': ''},\n",
       "  {'id': 'AGO',\n",
       "   'iso2Code': 'AO',\n",
       "   'name': 'Angola',\n",
       "   'region': {'id': 'SSF', 'iso2code': 'ZG', 'value': 'Sub-Saharan Africa '},\n",
       "   'adminregion': {'id': 'SSA',\n",
       "    'iso2code': 'ZF',\n",
       "    'value': 'Sub-Saharan Africa (excluding high income)'},\n",
       "   'incomeLevel': {'id': 'LMC',\n",
       "    'iso2code': 'XN',\n",
       "    'value': 'Lower middle income'},\n",
       "   'lendingType': {'id': 'IBD', 'iso2code': 'XF', 'value': 'IBRD'},\n",
       "   'capitalCity': 'Luanda',\n",
       "   'longitude': '13.242',\n",
       "   'latitude': '-8.81155'},\n",
       "  {'id': 'ALB',\n",
       "   'iso2Code': 'AL',\n",
       "   'name': 'Albania',\n",
       "   'region': {'id': 'ECS', 'iso2code': 'Z7', 'value': 'Europe & Central Asia'},\n",
       "   'adminregion': {'id': 'ECA',\n",
       "    'iso2code': '7E',\n",
       "    'value': 'Europe & Central Asia (excluding high income)'},\n",
       "   'incomeLevel': {'id': 'UMC',\n",
       "    'iso2code': 'XT',\n",
       "    'value': 'Upper middle income'},\n",
       "   'lendingType': {'id': 'IBD', 'iso2code': 'XF', 'value': 'IBRD'},\n",
       "   'capitalCity': 'Tirane',\n",
       "   'longitude': '19.8172',\n",
       "   'latitude': '41.3317'},\n",
       "  {'id': 'AND',\n",
       "   'iso2Code': 'AD',\n",
       "   'name': 'Andorra',\n",
       "   'region': {'id': 'ECS', 'iso2code': 'Z7', 'value': 'Europe & Central Asia'},\n",
       "   'adminregion': {'id': '', 'iso2code': '', 'value': ''},\n",
       "   'incomeLevel': {'id': 'HIC', 'iso2code': 'XD', 'value': 'High income'},\n",
       "   'lendingType': {'id': 'LNX', 'iso2code': 'XX', 'value': 'Not classified'},\n",
       "   'capitalCity': 'Andorra la Vella',\n",
       "   'longitude': '1.5218',\n",
       "   'latitude': '42.5075'},\n",
       "  {'id': 'ANR',\n",
       "   'iso2Code': 'L5',\n",
       "   'name': 'Andean Region',\n",
       "   'region': {'id': 'NA', 'iso2code': 'NA', 'value': 'Aggregates'},\n",
       "   'adminregion': {'id': '', 'iso2code': '', 'value': ''},\n",
       "   'incomeLevel': {'id': 'NA', 'iso2code': 'NA', 'value': 'Aggregates'},\n",
       "   'lendingType': {'id': '', 'iso2code': '', 'value': 'Aggregates'},\n",
       "   'capitalCity': '',\n",
       "   'longitude': '',\n",
       "   'latitude': ''},\n",
       "  {'id': 'ARB',\n",
       "   'iso2Code': '1A',\n",
       "   'name': 'Arab World',\n",
       "   'region': {'id': 'NA', 'iso2code': 'NA', 'value': 'Aggregates'},\n",
       "   'adminregion': {'id': '', 'iso2code': '', 'value': ''},\n",
       "   'incomeLevel': {'id': 'NA', 'iso2code': 'NA', 'value': 'Aggregates'},\n",
       "   'lendingType': {'id': '', 'iso2code': '', 'value': 'Aggregates'},\n",
       "   'capitalCity': '',\n",
       "   'longitude': '',\n",
       "   'latitude': ''},\n",
       "  {'id': 'ARE',\n",
       "   'iso2Code': 'AE',\n",
       "   'name': 'United Arab Emirates',\n",
       "   'region': {'id': 'MEA',\n",
       "    'iso2code': 'ZQ',\n",
       "    'value': 'Middle East & North Africa'},\n",
       "   'adminregion': {'id': '', 'iso2code': '', 'value': ''},\n",
       "   'incomeLevel': {'id': 'HIC', 'iso2code': 'XD', 'value': 'High income'},\n",
       "   'lendingType': {'id': 'LNX', 'iso2code': 'XX', 'value': 'Not classified'},\n",
       "   'capitalCity': 'Abu Dhabi',\n",
       "   'longitude': '54.3705',\n",
       "   'latitude': '24.4764'},\n",
       "  {'id': 'ARG',\n",
       "   'iso2Code': 'AR',\n",
       "   'name': 'Argentina',\n",
       "   'region': {'id': 'LCN',\n",
       "    'iso2code': 'ZJ',\n",
       "    'value': 'Latin America & Caribbean '},\n",
       "   'adminregion': {'id': 'LAC',\n",
       "    'iso2code': 'XJ',\n",
       "    'value': 'Latin America & Caribbean (excluding high income)'},\n",
       "   'incomeLevel': {'id': 'UMC',\n",
       "    'iso2code': 'XT',\n",
       "    'value': 'Upper middle income'},\n",
       "   'lendingType': {'id': 'IBD', 'iso2code': 'XF', 'value': 'IBRD'},\n",
       "   'capitalCity': 'Buenos Aires',\n",
       "   'longitude': '-58.4173',\n",
       "   'latitude': '-34.6118'},\n",
       "  {'id': 'ARM',\n",
       "   'iso2Code': 'AM',\n",
       "   'name': 'Armenia',\n",
       "   'region': {'id': 'ECS', 'iso2code': 'Z7', 'value': 'Europe & Central Asia'},\n",
       "   'adminregion': {'id': 'ECA',\n",
       "    'iso2code': '7E',\n",
       "    'value': 'Europe & Central Asia (excluding high income)'},\n",
       "   'incomeLevel': {'id': 'UMC',\n",
       "    'iso2code': 'XT',\n",
       "    'value': 'Upper middle income'},\n",
       "   'lendingType': {'id': 'IBD', 'iso2code': 'XF', 'value': 'IBRD'},\n",
       "   'capitalCity': 'Yerevan',\n",
       "   'longitude': '44.509',\n",
       "   'latitude': '40.1596'},\n",
       "  {'id': 'ASM',\n",
       "   'iso2Code': 'AS',\n",
       "   'name': 'American Samoa',\n",
       "   'region': {'id': 'EAS', 'iso2code': 'Z4', 'value': 'East Asia & Pacific'},\n",
       "   'adminregion': {'id': 'EAP',\n",
       "    'iso2code': '4E',\n",
       "    'value': 'East Asia & Pacific (excluding high income)'},\n",
       "   'incomeLevel': {'id': 'UMC',\n",
       "    'iso2code': 'XT',\n",
       "    'value': 'Upper middle income'},\n",
       "   'lendingType': {'id': 'LNX', 'iso2code': 'XX', 'value': 'Not classified'},\n",
       "   'capitalCity': 'Pago Pago',\n",
       "   'longitude': '-170.691',\n",
       "   'latitude': '-14.2846'},\n",
       "  {'id': 'ATG',\n",
       "   'iso2Code': 'AG',\n",
       "   'name': 'Antigua and Barbuda',\n",
       "   'region': {'id': 'LCN',\n",
       "    'iso2code': 'ZJ',\n",
       "    'value': 'Latin America & Caribbean '},\n",
       "   'adminregion': {'id': '', 'iso2code': '', 'value': ''},\n",
       "   'incomeLevel': {'id': 'HIC', 'iso2code': 'XD', 'value': 'High income'},\n",
       "   'lendingType': {'id': 'IBD', 'iso2code': 'XF', 'value': 'IBRD'},\n",
       "   'capitalCity': \"Saint John's\",\n",
       "   'longitude': '-61.8456',\n",
       "   'latitude': '17.1175'},\n",
       "  {'id': 'AUS',\n",
       "   'iso2Code': 'AU',\n",
       "   'name': 'Australia',\n",
       "   'region': {'id': 'EAS', 'iso2code': 'Z4', 'value': 'East Asia & Pacific'},\n",
       "   'adminregion': {'id': '', 'iso2code': '', 'value': ''},\n",
       "   'incomeLevel': {'id': 'HIC', 'iso2code': 'XD', 'value': 'High income'},\n",
       "   'lendingType': {'id': 'LNX', 'iso2code': 'XX', 'value': 'Not classified'},\n",
       "   'capitalCity': 'Canberra',\n",
       "   'longitude': '149.129',\n",
       "   'latitude': '-35.282'},\n",
       "  {'id': 'AUT',\n",
       "   'iso2Code': 'AT',\n",
       "   'name': 'Austria',\n",
       "   'region': {'id': 'ECS', 'iso2code': 'Z7', 'value': 'Europe & Central Asia'},\n",
       "   'adminregion': {'id': '', 'iso2code': '', 'value': ''},\n",
       "   'incomeLevel': {'id': 'HIC', 'iso2code': 'XD', 'value': 'High income'},\n",
       "   'lendingType': {'id': 'LNX', 'iso2code': 'XX', 'value': 'Not classified'},\n",
       "   'capitalCity': 'Vienna',\n",
       "   'longitude': '16.3798',\n",
       "   'latitude': '48.2201'},\n",
       "  {'id': 'AZE',\n",
       "   'iso2Code': 'AZ',\n",
       "   'name': 'Azerbaijan',\n",
       "   'region': {'id': 'ECS', 'iso2code': 'Z7', 'value': 'Europe & Central Asia'},\n",
       "   'adminregion': {'id': 'ECA',\n",
       "    'iso2code': '7E',\n",
       "    'value': 'Europe & Central Asia (excluding high income)'},\n",
       "   'incomeLevel': {'id': 'UMC',\n",
       "    'iso2code': 'XT',\n",
       "    'value': 'Upper middle income'},\n",
       "   'lendingType': {'id': 'IBD', 'iso2code': 'XF', 'value': 'IBRD'},\n",
       "   'capitalCity': 'Baku',\n",
       "   'longitude': '49.8932',\n",
       "   'latitude': '40.3834'},\n",
       "  {'id': 'BDI',\n",
       "   'iso2Code': 'BI',\n",
       "   'name': 'Burundi',\n",
       "   'region': {'id': 'SSF', 'iso2code': 'ZG', 'value': 'Sub-Saharan Africa '},\n",
       "   'adminregion': {'id': 'SSA',\n",
       "    'iso2code': 'ZF',\n",
       "    'value': 'Sub-Saharan Africa (excluding high income)'},\n",
       "   'incomeLevel': {'id': 'LIC', 'iso2code': 'XM', 'value': 'Low income'},\n",
       "   'lendingType': {'id': 'IDX', 'iso2code': 'XI', 'value': 'IDA'},\n",
       "   'capitalCity': 'Bujumbura',\n",
       "   'longitude': '29.3639',\n",
       "   'latitude': '-3.3784'},\n",
       "  {'id': 'BEA',\n",
       "   'iso2Code': 'B4',\n",
       "   'name': 'East Asia & Pacific (IBRD-only countries)',\n",
       "   'region': {'id': 'NA', 'iso2code': 'NA', 'value': 'Aggregates'},\n",
       "   'adminregion': {'id': '', 'iso2code': '', 'value': ''},\n",
       "   'incomeLevel': {'id': 'NA', 'iso2code': 'NA', 'value': 'Aggregates'},\n",
       "   'lendingType': {'id': '', 'iso2code': '', 'value': 'Aggregates'},\n",
       "   'capitalCity': '',\n",
       "   'longitude': '',\n",
       "   'latitude': ''},\n",
       "  {'id': 'BEC',\n",
       "   'iso2Code': 'B7',\n",
       "   'name': 'Europe & Central Asia (IBRD-only countries)',\n",
       "   'region': {'id': 'NA', 'iso2code': 'NA', 'value': 'Aggregates'},\n",
       "   'adminregion': {'id': '', 'iso2code': '', 'value': ''},\n",
       "   'incomeLevel': {'id': 'NA', 'iso2code': 'NA', 'value': 'Aggregates'},\n",
       "   'lendingType': {'id': '', 'iso2code': '', 'value': 'Aggregates'},\n",
       "   'capitalCity': '',\n",
       "   'longitude': '',\n",
       "   'latitude': ''},\n",
       "  {'id': 'BEL',\n",
       "   'iso2Code': 'BE',\n",
       "   'name': 'Belgium',\n",
       "   'region': {'id': 'ECS', 'iso2code': 'Z7', 'value': 'Europe & Central Asia'},\n",
       "   'adminregion': {'id': '', 'iso2code': '', 'value': ''},\n",
       "   'incomeLevel': {'id': 'HIC', 'iso2code': 'XD', 'value': 'High income'},\n",
       "   'lendingType': {'id': 'LNX', 'iso2code': 'XX', 'value': 'Not classified'},\n",
       "   'capitalCity': 'Brussels',\n",
       "   'longitude': '4.36761',\n",
       "   'latitude': '50.8371'},\n",
       "  {'id': 'BEN',\n",
       "   'iso2Code': 'BJ',\n",
       "   'name': 'Benin',\n",
       "   'region': {'id': 'SSF', 'iso2code': 'ZG', 'value': 'Sub-Saharan Africa '},\n",
       "   'adminregion': {'id': 'SSA',\n",
       "    'iso2code': 'ZF',\n",
       "    'value': 'Sub-Saharan Africa (excluding high income)'},\n",
       "   'incomeLevel': {'id': 'LMC',\n",
       "    'iso2code': 'XN',\n",
       "    'value': 'Lower middle income'},\n",
       "   'lendingType': {'id': 'IDX', 'iso2code': 'XI', 'value': 'IDA'},\n",
       "   'capitalCity': 'Porto-Novo',\n",
       "   'longitude': '2.6323',\n",
       "   'latitude': '6.4779'},\n",
       "  {'id': 'BFA',\n",
       "   'iso2Code': 'BF',\n",
       "   'name': 'Burkina Faso',\n",
       "   'region': {'id': 'SSF', 'iso2code': 'ZG', 'value': 'Sub-Saharan Africa '},\n",
       "   'adminregion': {'id': 'SSA',\n",
       "    'iso2code': 'ZF',\n",
       "    'value': 'Sub-Saharan Africa (excluding high income)'},\n",
       "   'incomeLevel': {'id': 'LIC', 'iso2code': 'XM', 'value': 'Low income'},\n",
       "   'lendingType': {'id': 'IDX', 'iso2code': 'XI', 'value': 'IDA'},\n",
       "   'capitalCity': 'Ouagadougou',\n",
       "   'longitude': '-1.53395',\n",
       "   'latitude': '12.3605'},\n",
       "  {'id': 'BGD',\n",
       "   'iso2Code': 'BD',\n",
       "   'name': 'Bangladesh',\n",
       "   'region': {'id': 'SAS', 'iso2code': '8S', 'value': 'South Asia'},\n",
       "   'adminregion': {'id': 'SAS', 'iso2code': '8S', 'value': 'South Asia'},\n",
       "   'incomeLevel': {'id': 'LMC',\n",
       "    'iso2code': 'XN',\n",
       "    'value': 'Lower middle income'},\n",
       "   'lendingType': {'id': 'IDX', 'iso2code': 'XI', 'value': 'IDA'},\n",
       "   'capitalCity': 'Dhaka',\n",
       "   'longitude': '90.4113',\n",
       "   'latitude': '23.7055'},\n",
       "  {'id': 'BGR',\n",
       "   'iso2Code': 'BG',\n",
       "   'name': 'Bulgaria',\n",
       "   'region': {'id': 'ECS', 'iso2code': 'Z7', 'value': 'Europe & Central Asia'},\n",
       "   'adminregion': {'id': 'ECA',\n",
       "    'iso2code': '7E',\n",
       "    'value': 'Europe & Central Asia (excluding high income)'},\n",
       "   'incomeLevel': {'id': 'UMC',\n",
       "    'iso2code': 'XT',\n",
       "    'value': 'Upper middle income'},\n",
       "   'lendingType': {'id': 'IBD', 'iso2code': 'XF', 'value': 'IBRD'},\n",
       "   'capitalCity': 'Sofia',\n",
       "   'longitude': '23.3238',\n",
       "   'latitude': '42.7105'},\n",
       "  {'id': 'BHI',\n",
       "   'iso2Code': 'B1',\n",
       "   'name': 'IBRD countries classified as high income',\n",
       "   'region': {'id': 'NA', 'iso2code': 'NA', 'value': 'Aggregates'},\n",
       "   'adminregion': {'id': '', 'iso2code': '', 'value': ''},\n",
       "   'incomeLevel': {'id': 'NA', 'iso2code': 'NA', 'value': 'Aggregates'},\n",
       "   'lendingType': {'id': '', 'iso2code': '', 'value': 'Aggregates'},\n",
       "   'capitalCity': '',\n",
       "   'longitude': '',\n",
       "   'latitude': ''},\n",
       "  {'id': 'BHR',\n",
       "   'iso2Code': 'BH',\n",
       "   'name': 'Bahrain',\n",
       "   'region': {'id': 'MEA',\n",
       "    'iso2code': 'ZQ',\n",
       "    'value': 'Middle East & North Africa'},\n",
       "   'adminregion': {'id': '', 'iso2code': '', 'value': ''},\n",
       "   'incomeLevel': {'id': 'HIC', 'iso2code': 'XD', 'value': 'High income'},\n",
       "   'lendingType': {'id': 'LNX', 'iso2code': 'XX', 'value': 'Not classified'},\n",
       "   'capitalCity': 'Manama',\n",
       "   'longitude': '50.5354',\n",
       "   'latitude': '26.1921'},\n",
       "  {'id': 'BHS',\n",
       "   'iso2Code': 'BS',\n",
       "   'name': 'Bahamas, The',\n",
       "   'region': {'id': 'LCN',\n",
       "    'iso2code': 'ZJ',\n",
       "    'value': 'Latin America & Caribbean '},\n",
       "   'adminregion': {'id': '', 'iso2code': '', 'value': ''},\n",
       "   'incomeLevel': {'id': 'HIC', 'iso2code': 'XD', 'value': 'High income'},\n",
       "   'lendingType': {'id': 'LNX', 'iso2code': 'XX', 'value': 'Not classified'},\n",
       "   'capitalCity': 'Nassau',\n",
       "   'longitude': '-77.339',\n",
       "   'latitude': '25.0661'},\n",
       "  {'id': 'BIH',\n",
       "   'iso2Code': 'BA',\n",
       "   'name': 'Bosnia and Herzegovina',\n",
       "   'region': {'id': 'ECS', 'iso2code': 'Z7', 'value': 'Europe & Central Asia'},\n",
       "   'adminregion': {'id': 'ECA',\n",
       "    'iso2code': '7E',\n",
       "    'value': 'Europe & Central Asia (excluding high income)'},\n",
       "   'incomeLevel': {'id': 'UMC',\n",
       "    'iso2code': 'XT',\n",
       "    'value': 'Upper middle income'},\n",
       "   'lendingType': {'id': 'IBD', 'iso2code': 'XF', 'value': 'IBRD'},\n",
       "   'capitalCity': 'Sarajevo',\n",
       "   'longitude': '18.4214',\n",
       "   'latitude': '43.8607'},\n",
       "  {'id': 'BLA',\n",
       "   'iso2Code': 'B2',\n",
       "   'name': 'Latin America & the Caribbean (IBRD-only countries)',\n",
       "   'region': {'id': 'NA', 'iso2code': 'NA', 'value': 'Aggregates'},\n",
       "   'adminregion': {'id': '', 'iso2code': '', 'value': ''},\n",
       "   'incomeLevel': {'id': 'NA', 'iso2code': 'NA', 'value': 'Aggregates'},\n",
       "   'lendingType': {'id': '', 'iso2code': '', 'value': 'Aggregates'},\n",
       "   'capitalCity': '',\n",
       "   'longitude': '',\n",
       "   'latitude': ''},\n",
       "  {'id': 'BLR',\n",
       "   'iso2Code': 'BY',\n",
       "   'name': 'Belarus',\n",
       "   'region': {'id': 'ECS', 'iso2code': 'Z7', 'value': 'Europe & Central Asia'},\n",
       "   'adminregion': {'id': 'ECA',\n",
       "    'iso2code': '7E',\n",
       "    'value': 'Europe & Central Asia (excluding high income)'},\n",
       "   'incomeLevel': {'id': 'UMC',\n",
       "    'iso2code': 'XT',\n",
       "    'value': 'Upper middle income'},\n",
       "   'lendingType': {'id': 'IBD', 'iso2code': 'XF', 'value': 'IBRD'},\n",
       "   'capitalCity': 'Minsk',\n",
       "   'longitude': '27.5766',\n",
       "   'latitude': '53.9678'},\n",
       "  {'id': 'BLZ',\n",
       "   'iso2Code': 'BZ',\n",
       "   'name': 'Belize',\n",
       "   'region': {'id': 'LCN',\n",
       "    'iso2code': 'ZJ',\n",
       "    'value': 'Latin America & Caribbean '},\n",
       "   'adminregion': {'id': 'LAC',\n",
       "    'iso2code': 'XJ',\n",
       "    'value': 'Latin America & Caribbean (excluding high income)'},\n",
       "   'incomeLevel': {'id': 'UMC',\n",
       "    'iso2code': 'XT',\n",
       "    'value': 'Upper middle income'},\n",
       "   'lendingType': {'id': 'IBD', 'iso2code': 'XF', 'value': 'IBRD'},\n",
       "   'capitalCity': 'Belmopan',\n",
       "   'longitude': '-88.7713',\n",
       "   'latitude': '17.2534'},\n",
       "  {'id': 'BMN',\n",
       "   'iso2Code': 'B3',\n",
       "   'name': 'Middle East & North Africa (IBRD-only countries)',\n",
       "   'region': {'id': 'NA', 'iso2code': 'NA', 'value': 'Aggregates'},\n",
       "   'adminregion': {'id': '', 'iso2code': '', 'value': ''},\n",
       "   'incomeLevel': {'id': 'NA', 'iso2code': 'NA', 'value': 'Aggregates'},\n",
       "   'lendingType': {'id': '', 'iso2code': '', 'value': 'Aggregates'},\n",
       "   'capitalCity': '',\n",
       "   'longitude': '',\n",
       "   'latitude': ''},\n",
       "  {'id': 'BMU',\n",
       "   'iso2Code': 'BM',\n",
       "   'name': 'Bermuda',\n",
       "   'region': {'id': 'NAC', 'iso2code': 'XU', 'value': 'North America'},\n",
       "   'adminregion': {'id': '', 'iso2code': '', 'value': ''},\n",
       "   'incomeLevel': {'id': 'HIC', 'iso2code': 'XD', 'value': 'High income'},\n",
       "   'lendingType': {'id': 'LNX', 'iso2code': 'XX', 'value': 'Not classified'},\n",
       "   'capitalCity': 'Hamilton',\n",
       "   'longitude': '-64.706',\n",
       "   'latitude': '32.3293'},\n",
       "  {'id': 'BOL',\n",
       "   'iso2Code': 'BO',\n",
       "   'name': 'Bolivia',\n",
       "   'region': {'id': 'LCN',\n",
       "    'iso2code': 'ZJ',\n",
       "    'value': 'Latin America & Caribbean '},\n",
       "   'adminregion': {'id': 'LAC',\n",
       "    'iso2code': 'XJ',\n",
       "    'value': 'Latin America & Caribbean (excluding high income)'},\n",
       "   'incomeLevel': {'id': 'LMC',\n",
       "    'iso2code': 'XN',\n",
       "    'value': 'Lower middle income'},\n",
       "   'lendingType': {'id': 'IBD', 'iso2code': 'XF', 'value': 'IBRD'},\n",
       "   'capitalCity': 'La Paz',\n",
       "   'longitude': '-66.1936',\n",
       "   'latitude': '-13.9908'},\n",
       "  {'id': 'BRA',\n",
       "   'iso2Code': 'BR',\n",
       "   'name': 'Brazil',\n",
       "   'region': {'id': 'LCN',\n",
       "    'iso2code': 'ZJ',\n",
       "    'value': 'Latin America & Caribbean '},\n",
       "   'adminregion': {'id': 'LAC',\n",
       "    'iso2code': 'XJ',\n",
       "    'value': 'Latin America & Caribbean (excluding high income)'},\n",
       "   'incomeLevel': {'id': 'UMC',\n",
       "    'iso2code': 'XT',\n",
       "    'value': 'Upper middle income'},\n",
       "   'lendingType': {'id': 'IBD', 'iso2code': 'XF', 'value': 'IBRD'},\n",
       "   'capitalCity': 'Brasilia',\n",
       "   'longitude': '-47.9292',\n",
       "   'latitude': '-15.7801'},\n",
       "  {'id': 'BRB',\n",
       "   'iso2Code': 'BB',\n",
       "   'name': 'Barbados',\n",
       "   'region': {'id': 'LCN',\n",
       "    'iso2code': 'ZJ',\n",
       "    'value': 'Latin America & Caribbean '},\n",
       "   'adminregion': {'id': '', 'iso2code': '', 'value': ''},\n",
       "   'incomeLevel': {'id': 'HIC', 'iso2code': 'XD', 'value': 'High income'},\n",
       "   'lendingType': {'id': 'LNX', 'iso2code': 'XX', 'value': 'Not classified'},\n",
       "   'capitalCity': 'Bridgetown',\n",
       "   'longitude': '-59.6105',\n",
       "   'latitude': '13.0935'},\n",
       "  {'id': 'BRN',\n",
       "   'iso2Code': 'BN',\n",
       "   'name': 'Brunei Darussalam',\n",
       "   'region': {'id': 'EAS', 'iso2code': 'Z4', 'value': 'East Asia & Pacific'},\n",
       "   'adminregion': {'id': '', 'iso2code': '', 'value': ''},\n",
       "   'incomeLevel': {'id': 'HIC', 'iso2code': 'XD', 'value': 'High income'},\n",
       "   'lendingType': {'id': 'LNX', 'iso2code': 'XX', 'value': 'Not classified'},\n",
       "   'capitalCity': 'Bandar Seri Begawan',\n",
       "   'longitude': '114.946',\n",
       "   'latitude': '4.94199'},\n",
       "  {'id': 'BSS',\n",
       "   'iso2Code': 'B6',\n",
       "   'name': 'Sub-Saharan Africa (IBRD-only countries)',\n",
       "   'region': {'id': 'NA', 'iso2code': 'NA', 'value': 'Aggregates'},\n",
       "   'adminregion': {'id': '', 'iso2code': '', 'value': ''},\n",
       "   'incomeLevel': {'id': 'NA', 'iso2code': 'NA', 'value': 'Aggregates'},\n",
       "   'lendingType': {'id': '', 'iso2code': '', 'value': 'Aggregates'},\n",
       "   'capitalCity': '',\n",
       "   'longitude': '',\n",
       "   'latitude': ''},\n",
       "  {'id': 'BTN',\n",
       "   'iso2Code': 'BT',\n",
       "   'name': 'Bhutan',\n",
       "   'region': {'id': 'SAS', 'iso2code': '8S', 'value': 'South Asia'},\n",
       "   'adminregion': {'id': 'SAS', 'iso2code': '8S', 'value': 'South Asia'},\n",
       "   'incomeLevel': {'id': 'LMC',\n",
       "    'iso2code': 'XN',\n",
       "    'value': 'Lower middle income'},\n",
       "   'lendingType': {'id': 'IDX', 'iso2code': 'XI', 'value': 'IDA'},\n",
       "   'capitalCity': 'Thimphu',\n",
       "   'longitude': '89.6177',\n",
       "   'latitude': '27.5768'},\n",
       "  {'id': 'BWA',\n",
       "   'iso2Code': 'BW',\n",
       "   'name': 'Botswana',\n",
       "   'region': {'id': 'SSF', 'iso2code': 'ZG', 'value': 'Sub-Saharan Africa '},\n",
       "   'adminregion': {'id': 'SSA',\n",
       "    'iso2code': 'ZF',\n",
       "    'value': 'Sub-Saharan Africa (excluding high income)'},\n",
       "   'incomeLevel': {'id': 'UMC',\n",
       "    'iso2code': 'XT',\n",
       "    'value': 'Upper middle income'},\n",
       "   'lendingType': {'id': 'IBD', 'iso2code': 'XF', 'value': 'IBRD'},\n",
       "   'capitalCity': 'Gaborone',\n",
       "   'longitude': '25.9201',\n",
       "   'latitude': '-24.6544'},\n",
       "  {'id': 'CAA',\n",
       "   'iso2Code': 'C9',\n",
       "   'name': 'Sub-Saharan Africa (IFC classification)',\n",
       "   'region': {'id': 'NA', 'iso2code': 'NA', 'value': 'Aggregates'},\n",
       "   'adminregion': {'id': '', 'iso2code': '', 'value': ''},\n",
       "   'incomeLevel': {'id': 'NA', 'iso2code': 'NA', 'value': 'Aggregates'},\n",
       "   'lendingType': {'id': '', 'iso2code': '', 'value': 'Aggregates'},\n",
       "   'capitalCity': '',\n",
       "   'longitude': '',\n",
       "   'latitude': ''},\n",
       "  {'id': 'CAF',\n",
       "   'iso2Code': 'CF',\n",
       "   'name': 'Central African Republic',\n",
       "   'region': {'id': 'SSF', 'iso2code': 'ZG', 'value': 'Sub-Saharan Africa '},\n",
       "   'adminregion': {'id': 'SSA',\n",
       "    'iso2code': 'ZF',\n",
       "    'value': 'Sub-Saharan Africa (excluding high income)'},\n",
       "   'incomeLevel': {'id': 'LIC', 'iso2code': 'XM', 'value': 'Low income'},\n",
       "   'lendingType': {'id': 'IDX', 'iso2code': 'XI', 'value': 'IDA'},\n",
       "   'capitalCity': 'Bangui',\n",
       "   'longitude': '21.6407',\n",
       "   'latitude': '5.63056'},\n",
       "  {'id': 'CAN',\n",
       "   'iso2Code': 'CA',\n",
       "   'name': 'Canada',\n",
       "   'region': {'id': 'NAC', 'iso2code': 'XU', 'value': 'North America'},\n",
       "   'adminregion': {'id': '', 'iso2code': '', 'value': ''},\n",
       "   'incomeLevel': {'id': 'HIC', 'iso2code': 'XD', 'value': 'High income'},\n",
       "   'lendingType': {'id': 'LNX', 'iso2code': 'XX', 'value': 'Not classified'},\n",
       "   'capitalCity': 'Ottawa',\n",
       "   'longitude': '-75.6919',\n",
       "   'latitude': '45.4215'},\n",
       "  {'id': 'CEA',\n",
       "   'iso2Code': 'C4',\n",
       "   'name': 'East Asia and the Pacific (IFC classification)',\n",
       "   'region': {'id': 'NA', 'iso2code': 'NA', 'value': 'Aggregates'},\n",
       "   'adminregion': {'id': '', 'iso2code': '', 'value': ''},\n",
       "   'incomeLevel': {'id': 'NA', 'iso2code': 'NA', 'value': 'Aggregates'},\n",
       "   'lendingType': {'id': '', 'iso2code': '', 'value': 'Aggregates'},\n",
       "   'capitalCity': '',\n",
       "   'longitude': '',\n",
       "   'latitude': ''},\n",
       "  {'id': 'CEB',\n",
       "   'iso2Code': 'B8',\n",
       "   'name': 'Central Europe and the Baltics',\n",
       "   'region': {'id': 'NA', 'iso2code': 'NA', 'value': 'Aggregates'},\n",
       "   'adminregion': {'id': '', 'iso2code': '', 'value': ''},\n",
       "   'incomeLevel': {'id': 'NA', 'iso2code': 'NA', 'value': 'Aggregates'},\n",
       "   'lendingType': {'id': '', 'iso2code': '', 'value': 'Aggregates'},\n",
       "   'capitalCity': '',\n",
       "   'longitude': '',\n",
       "   'latitude': ''},\n",
       "  {'id': 'CEU',\n",
       "   'iso2Code': 'C5',\n",
       "   'name': 'Europe and Central Asia (IFC classification)',\n",
       "   'region': {'id': 'NA', 'iso2code': 'NA', 'value': 'Aggregates'},\n",
       "   'adminregion': {'id': '', 'iso2code': '', 'value': ''},\n",
       "   'incomeLevel': {'id': 'NA', 'iso2code': 'NA', 'value': 'Aggregates'},\n",
       "   'lendingType': {'id': '', 'iso2code': '', 'value': 'Aggregates'},\n",
       "   'capitalCity': '',\n",
       "   'longitude': '',\n",
       "   'latitude': ''},\n",
       "  {'id': 'CHE',\n",
       "   'iso2Code': 'CH',\n",
       "   'name': 'Switzerland',\n",
       "   'region': {'id': 'ECS', 'iso2code': 'Z7', 'value': 'Europe & Central Asia'},\n",
       "   'adminregion': {'id': '', 'iso2code': '', 'value': ''},\n",
       "   'incomeLevel': {'id': 'HIC', 'iso2code': 'XD', 'value': 'High income'},\n",
       "   'lendingType': {'id': 'LNX', 'iso2code': 'XX', 'value': 'Not classified'},\n",
       "   'capitalCity': 'Bern',\n",
       "   'longitude': '7.44821',\n",
       "   'latitude': '46.948'},\n",
       "  {'id': 'CHI',\n",
       "   'iso2Code': 'JG',\n",
       "   'name': 'Channel Islands',\n",
       "   'region': {'id': 'ECS', 'iso2code': 'Z7', 'value': 'Europe & Central Asia'},\n",
       "   'adminregion': {'id': '', 'iso2code': '', 'value': ''},\n",
       "   'incomeLevel': {'id': 'HIC', 'iso2code': 'XD', 'value': 'High income'},\n",
       "   'lendingType': {'id': 'LNX', 'iso2code': 'XX', 'value': 'Not classified'},\n",
       "   'capitalCity': '',\n",
       "   'longitude': '',\n",
       "   'latitude': ''},\n",
       "  {'id': 'CHL',\n",
       "   'iso2Code': 'CL',\n",
       "   'name': 'Chile',\n",
       "   'region': {'id': 'LCN',\n",
       "    'iso2code': 'ZJ',\n",
       "    'value': 'Latin America & Caribbean '},\n",
       "   'adminregion': {'id': '', 'iso2code': '', 'value': ''},\n",
       "   'incomeLevel': {'id': 'HIC', 'iso2code': 'XD', 'value': 'High income'},\n",
       "   'lendingType': {'id': 'IBD', 'iso2code': 'XF', 'value': 'IBRD'},\n",
       "   'capitalCity': 'Santiago',\n",
       "   'longitude': '-70.6475',\n",
       "   'latitude': '-33.475'},\n",
       "  {'id': 'CHN',\n",
       "   'iso2Code': 'CN',\n",
       "   'name': 'China',\n",
       "   'region': {'id': 'EAS', 'iso2code': 'Z4', 'value': 'East Asia & Pacific'},\n",
       "   'adminregion': {'id': 'EAP',\n",
       "    'iso2code': '4E',\n",
       "    'value': 'East Asia & Pacific (excluding high income)'},\n",
       "   'incomeLevel': {'id': 'UMC',\n",
       "    'iso2code': 'XT',\n",
       "    'value': 'Upper middle income'},\n",
       "   'lendingType': {'id': 'IBD', 'iso2code': 'XF', 'value': 'IBRD'},\n",
       "   'capitalCity': 'Beijing',\n",
       "   'longitude': '116.286',\n",
       "   'latitude': '40.0495'}]]"
      ]
     },
     "execution_count": 6,
     "metadata": {},
     "output_type": "execute_result"
    }
   ],
   "source": [
    "response.json()"
   ]
  },
  {
   "cell_type": "markdown",
   "metadata": {},
   "source": [
    "<mark> Above we can see that the data has been extracted from page 1. There are 7 pages and each page has 50 data points. And there are total 304 data points. I will extract all the data from the 7 pages. In addition to this, I will choose relevant attributes for further data analysis. I will choose the following attributes.\n",
    "- iso2Code\n",
    "- name\n",
    "- region\n",
    "- incomeLevel\n",
    "- capitalCity\n",
    "- longitude\n",
    "- latitude\n",
    "</mark>"
   ]
  },
  {
   "cell_type": "code",
   "execution_count": 7,
   "metadata": {
    "ExecuteTime": {
     "end_time": "2020-12-29T12:05:45.575966Z",
     "start_time": "2020-12-29T12:05:45.569541Z"
    }
   },
   "outputs": [],
   "source": [
    "countries = response.json()[1]"
   ]
  },
  {
   "cell_type": "code",
   "execution_count": 8,
   "metadata": {
    "ExecuteTime": {
     "end_time": "2020-12-29T12:05:45.591567Z",
     "start_time": "2020-12-29T12:05:45.584734Z"
    }
   },
   "outputs": [
    {
     "data": {
      "text/plain": [
       "{'id': 'LCN', 'iso2code': 'ZJ', 'value': 'Latin America & Caribbean '}"
      ]
     },
     "execution_count": 8,
     "metadata": {},
     "output_type": "execute_result"
    }
   ],
   "source": [
    "countries[0]['region']"
   ]
  },
  {
   "cell_type": "code",
   "execution_count": 9,
   "metadata": {
    "ExecuteTime": {
     "end_time": "2020-12-29T12:05:47.901254Z",
     "start_time": "2020-12-29T12:05:45.597241Z"
    }
   },
   "outputs": [],
   "source": [
    "list1 = []\n",
    "\n",
    "for page in range(1,8): \n",
    "\n",
    "    param = {'page':page}    \n",
    "    response = requests.get('http://api.worldbank.org/v2/country/?format=json',params=param)\n",
    "    #print(response.json())\n",
    "    countries = response.json()[1]\n",
    "    \n",
    "    for country in countries:\n",
    "        #print(country)\n",
    "        all_countries = {}\n",
    "        all_countries['iso2Code']=country['iso2Code']\n",
    "        all_countries['name']=country['name']\n",
    "        all_countries['region']=country['region']\n",
    "        all_countries['incomeLevel']=country['incomeLevel']\n",
    "        all_countries['capitalCity']=country['capitalCity']\n",
    "        all_countries['longitude']=country['longitude']\n",
    "        all_countries['latitude']=country['latitude']\n",
    "        list1.append(all_countries)\n",
    "  \n",
    "   \n",
    "   \n",
    "  \n",
    "    \n",
    "    "
   ]
  },
  {
   "cell_type": "code",
   "execution_count": 10,
   "metadata": {
    "ExecuteTime": {
     "end_time": "2020-12-29T12:05:48.086280Z",
     "start_time": "2020-12-29T12:05:47.903995Z"
    }
   },
   "outputs": [
    {
     "data": {
      "text/plain": [
       "[{'iso2Code': 'AW',\n",
       "  'name': 'Aruba',\n",
       "  'region': {'id': 'LCN',\n",
       "   'iso2code': 'ZJ',\n",
       "   'value': 'Latin America & Caribbean '},\n",
       "  'incomeLevel': {'id': 'HIC', 'iso2code': 'XD', 'value': 'High income'},\n",
       "  'capitalCity': 'Oranjestad',\n",
       "  'longitude': '-70.0167',\n",
       "  'latitude': '12.5167'},\n",
       " {'iso2Code': 'AF',\n",
       "  'name': 'Afghanistan',\n",
       "  'region': {'id': 'SAS', 'iso2code': '8S', 'value': 'South Asia'},\n",
       "  'incomeLevel': {'id': 'LIC', 'iso2code': 'XM', 'value': 'Low income'},\n",
       "  'capitalCity': 'Kabul',\n",
       "  'longitude': '69.1761',\n",
       "  'latitude': '34.5228'},\n",
       " {'iso2Code': 'A9',\n",
       "  'name': 'Africa',\n",
       "  'region': {'id': 'NA', 'iso2code': 'NA', 'value': 'Aggregates'},\n",
       "  'incomeLevel': {'id': 'NA', 'iso2code': 'NA', 'value': 'Aggregates'},\n",
       "  'capitalCity': '',\n",
       "  'longitude': '',\n",
       "  'latitude': ''},\n",
       " {'iso2Code': 'AO',\n",
       "  'name': 'Angola',\n",
       "  'region': {'id': 'SSF', 'iso2code': 'ZG', 'value': 'Sub-Saharan Africa '},\n",
       "  'incomeLevel': {'id': 'LMC',\n",
       "   'iso2code': 'XN',\n",
       "   'value': 'Lower middle income'},\n",
       "  'capitalCity': 'Luanda',\n",
       "  'longitude': '13.242',\n",
       "  'latitude': '-8.81155'},\n",
       " {'iso2Code': 'AL',\n",
       "  'name': 'Albania',\n",
       "  'region': {'id': 'ECS', 'iso2code': 'Z7', 'value': 'Europe & Central Asia'},\n",
       "  'incomeLevel': {'id': 'UMC',\n",
       "   'iso2code': 'XT',\n",
       "   'value': 'Upper middle income'},\n",
       "  'capitalCity': 'Tirane',\n",
       "  'longitude': '19.8172',\n",
       "  'latitude': '41.3317'},\n",
       " {'iso2Code': 'AD',\n",
       "  'name': 'Andorra',\n",
       "  'region': {'id': 'ECS', 'iso2code': 'Z7', 'value': 'Europe & Central Asia'},\n",
       "  'incomeLevel': {'id': 'HIC', 'iso2code': 'XD', 'value': 'High income'},\n",
       "  'capitalCity': 'Andorra la Vella',\n",
       "  'longitude': '1.5218',\n",
       "  'latitude': '42.5075'},\n",
       " {'iso2Code': 'L5',\n",
       "  'name': 'Andean Region',\n",
       "  'region': {'id': 'NA', 'iso2code': 'NA', 'value': 'Aggregates'},\n",
       "  'incomeLevel': {'id': 'NA', 'iso2code': 'NA', 'value': 'Aggregates'},\n",
       "  'capitalCity': '',\n",
       "  'longitude': '',\n",
       "  'latitude': ''},\n",
       " {'iso2Code': '1A',\n",
       "  'name': 'Arab World',\n",
       "  'region': {'id': 'NA', 'iso2code': 'NA', 'value': 'Aggregates'},\n",
       "  'incomeLevel': {'id': 'NA', 'iso2code': 'NA', 'value': 'Aggregates'},\n",
       "  'capitalCity': '',\n",
       "  'longitude': '',\n",
       "  'latitude': ''},\n",
       " {'iso2Code': 'AE',\n",
       "  'name': 'United Arab Emirates',\n",
       "  'region': {'id': 'MEA',\n",
       "   'iso2code': 'ZQ',\n",
       "   'value': 'Middle East & North Africa'},\n",
       "  'incomeLevel': {'id': 'HIC', 'iso2code': 'XD', 'value': 'High income'},\n",
       "  'capitalCity': 'Abu Dhabi',\n",
       "  'longitude': '54.3705',\n",
       "  'latitude': '24.4764'},\n",
       " {'iso2Code': 'AR',\n",
       "  'name': 'Argentina',\n",
       "  'region': {'id': 'LCN',\n",
       "   'iso2code': 'ZJ',\n",
       "   'value': 'Latin America & Caribbean '},\n",
       "  'incomeLevel': {'id': 'UMC',\n",
       "   'iso2code': 'XT',\n",
       "   'value': 'Upper middle income'},\n",
       "  'capitalCity': 'Buenos Aires',\n",
       "  'longitude': '-58.4173',\n",
       "  'latitude': '-34.6118'},\n",
       " {'iso2Code': 'AM',\n",
       "  'name': 'Armenia',\n",
       "  'region': {'id': 'ECS', 'iso2code': 'Z7', 'value': 'Europe & Central Asia'},\n",
       "  'incomeLevel': {'id': 'UMC',\n",
       "   'iso2code': 'XT',\n",
       "   'value': 'Upper middle income'},\n",
       "  'capitalCity': 'Yerevan',\n",
       "  'longitude': '44.509',\n",
       "  'latitude': '40.1596'},\n",
       " {'iso2Code': 'AS',\n",
       "  'name': 'American Samoa',\n",
       "  'region': {'id': 'EAS', 'iso2code': 'Z4', 'value': 'East Asia & Pacific'},\n",
       "  'incomeLevel': {'id': 'UMC',\n",
       "   'iso2code': 'XT',\n",
       "   'value': 'Upper middle income'},\n",
       "  'capitalCity': 'Pago Pago',\n",
       "  'longitude': '-170.691',\n",
       "  'latitude': '-14.2846'},\n",
       " {'iso2Code': 'AG',\n",
       "  'name': 'Antigua and Barbuda',\n",
       "  'region': {'id': 'LCN',\n",
       "   'iso2code': 'ZJ',\n",
       "   'value': 'Latin America & Caribbean '},\n",
       "  'incomeLevel': {'id': 'HIC', 'iso2code': 'XD', 'value': 'High income'},\n",
       "  'capitalCity': \"Saint John's\",\n",
       "  'longitude': '-61.8456',\n",
       "  'latitude': '17.1175'},\n",
       " {'iso2Code': 'AU',\n",
       "  'name': 'Australia',\n",
       "  'region': {'id': 'EAS', 'iso2code': 'Z4', 'value': 'East Asia & Pacific'},\n",
       "  'incomeLevel': {'id': 'HIC', 'iso2code': 'XD', 'value': 'High income'},\n",
       "  'capitalCity': 'Canberra',\n",
       "  'longitude': '149.129',\n",
       "  'latitude': '-35.282'},\n",
       " {'iso2Code': 'AT',\n",
       "  'name': 'Austria',\n",
       "  'region': {'id': 'ECS', 'iso2code': 'Z7', 'value': 'Europe & Central Asia'},\n",
       "  'incomeLevel': {'id': 'HIC', 'iso2code': 'XD', 'value': 'High income'},\n",
       "  'capitalCity': 'Vienna',\n",
       "  'longitude': '16.3798',\n",
       "  'latitude': '48.2201'},\n",
       " {'iso2Code': 'AZ',\n",
       "  'name': 'Azerbaijan',\n",
       "  'region': {'id': 'ECS', 'iso2code': 'Z7', 'value': 'Europe & Central Asia'},\n",
       "  'incomeLevel': {'id': 'UMC',\n",
       "   'iso2code': 'XT',\n",
       "   'value': 'Upper middle income'},\n",
       "  'capitalCity': 'Baku',\n",
       "  'longitude': '49.8932',\n",
       "  'latitude': '40.3834'},\n",
       " {'iso2Code': 'BI',\n",
       "  'name': 'Burundi',\n",
       "  'region': {'id': 'SSF', 'iso2code': 'ZG', 'value': 'Sub-Saharan Africa '},\n",
       "  'incomeLevel': {'id': 'LIC', 'iso2code': 'XM', 'value': 'Low income'},\n",
       "  'capitalCity': 'Bujumbura',\n",
       "  'longitude': '29.3639',\n",
       "  'latitude': '-3.3784'},\n",
       " {'iso2Code': 'B4',\n",
       "  'name': 'East Asia & Pacific (IBRD-only countries)',\n",
       "  'region': {'id': 'NA', 'iso2code': 'NA', 'value': 'Aggregates'},\n",
       "  'incomeLevel': {'id': 'NA', 'iso2code': 'NA', 'value': 'Aggregates'},\n",
       "  'capitalCity': '',\n",
       "  'longitude': '',\n",
       "  'latitude': ''},\n",
       " {'iso2Code': 'B7',\n",
       "  'name': 'Europe & Central Asia (IBRD-only countries)',\n",
       "  'region': {'id': 'NA', 'iso2code': 'NA', 'value': 'Aggregates'},\n",
       "  'incomeLevel': {'id': 'NA', 'iso2code': 'NA', 'value': 'Aggregates'},\n",
       "  'capitalCity': '',\n",
       "  'longitude': '',\n",
       "  'latitude': ''},\n",
       " {'iso2Code': 'BE',\n",
       "  'name': 'Belgium',\n",
       "  'region': {'id': 'ECS', 'iso2code': 'Z7', 'value': 'Europe & Central Asia'},\n",
       "  'incomeLevel': {'id': 'HIC', 'iso2code': 'XD', 'value': 'High income'},\n",
       "  'capitalCity': 'Brussels',\n",
       "  'longitude': '4.36761',\n",
       "  'latitude': '50.8371'},\n",
       " {'iso2Code': 'BJ',\n",
       "  'name': 'Benin',\n",
       "  'region': {'id': 'SSF', 'iso2code': 'ZG', 'value': 'Sub-Saharan Africa '},\n",
       "  'incomeLevel': {'id': 'LMC',\n",
       "   'iso2code': 'XN',\n",
       "   'value': 'Lower middle income'},\n",
       "  'capitalCity': 'Porto-Novo',\n",
       "  'longitude': '2.6323',\n",
       "  'latitude': '6.4779'},\n",
       " {'iso2Code': 'BF',\n",
       "  'name': 'Burkina Faso',\n",
       "  'region': {'id': 'SSF', 'iso2code': 'ZG', 'value': 'Sub-Saharan Africa '},\n",
       "  'incomeLevel': {'id': 'LIC', 'iso2code': 'XM', 'value': 'Low income'},\n",
       "  'capitalCity': 'Ouagadougou',\n",
       "  'longitude': '-1.53395',\n",
       "  'latitude': '12.3605'},\n",
       " {'iso2Code': 'BD',\n",
       "  'name': 'Bangladesh',\n",
       "  'region': {'id': 'SAS', 'iso2code': '8S', 'value': 'South Asia'},\n",
       "  'incomeLevel': {'id': 'LMC',\n",
       "   'iso2code': 'XN',\n",
       "   'value': 'Lower middle income'},\n",
       "  'capitalCity': 'Dhaka',\n",
       "  'longitude': '90.4113',\n",
       "  'latitude': '23.7055'},\n",
       " {'iso2Code': 'BG',\n",
       "  'name': 'Bulgaria',\n",
       "  'region': {'id': 'ECS', 'iso2code': 'Z7', 'value': 'Europe & Central Asia'},\n",
       "  'incomeLevel': {'id': 'UMC',\n",
       "   'iso2code': 'XT',\n",
       "   'value': 'Upper middle income'},\n",
       "  'capitalCity': 'Sofia',\n",
       "  'longitude': '23.3238',\n",
       "  'latitude': '42.7105'},\n",
       " {'iso2Code': 'B1',\n",
       "  'name': 'IBRD countries classified as high income',\n",
       "  'region': {'id': 'NA', 'iso2code': 'NA', 'value': 'Aggregates'},\n",
       "  'incomeLevel': {'id': 'NA', 'iso2code': 'NA', 'value': 'Aggregates'},\n",
       "  'capitalCity': '',\n",
       "  'longitude': '',\n",
       "  'latitude': ''},\n",
       " {'iso2Code': 'BH',\n",
       "  'name': 'Bahrain',\n",
       "  'region': {'id': 'MEA',\n",
       "   'iso2code': 'ZQ',\n",
       "   'value': 'Middle East & North Africa'},\n",
       "  'incomeLevel': {'id': 'HIC', 'iso2code': 'XD', 'value': 'High income'},\n",
       "  'capitalCity': 'Manama',\n",
       "  'longitude': '50.5354',\n",
       "  'latitude': '26.1921'},\n",
       " {'iso2Code': 'BS',\n",
       "  'name': 'Bahamas, The',\n",
       "  'region': {'id': 'LCN',\n",
       "   'iso2code': 'ZJ',\n",
       "   'value': 'Latin America & Caribbean '},\n",
       "  'incomeLevel': {'id': 'HIC', 'iso2code': 'XD', 'value': 'High income'},\n",
       "  'capitalCity': 'Nassau',\n",
       "  'longitude': '-77.339',\n",
       "  'latitude': '25.0661'},\n",
       " {'iso2Code': 'BA',\n",
       "  'name': 'Bosnia and Herzegovina',\n",
       "  'region': {'id': 'ECS', 'iso2code': 'Z7', 'value': 'Europe & Central Asia'},\n",
       "  'incomeLevel': {'id': 'UMC',\n",
       "   'iso2code': 'XT',\n",
       "   'value': 'Upper middle income'},\n",
       "  'capitalCity': 'Sarajevo',\n",
       "  'longitude': '18.4214',\n",
       "  'latitude': '43.8607'},\n",
       " {'iso2Code': 'B2',\n",
       "  'name': 'Latin America & the Caribbean (IBRD-only countries)',\n",
       "  'region': {'id': 'NA', 'iso2code': 'NA', 'value': 'Aggregates'},\n",
       "  'incomeLevel': {'id': 'NA', 'iso2code': 'NA', 'value': 'Aggregates'},\n",
       "  'capitalCity': '',\n",
       "  'longitude': '',\n",
       "  'latitude': ''},\n",
       " {'iso2Code': 'BY',\n",
       "  'name': 'Belarus',\n",
       "  'region': {'id': 'ECS', 'iso2code': 'Z7', 'value': 'Europe & Central Asia'},\n",
       "  'incomeLevel': {'id': 'UMC',\n",
       "   'iso2code': 'XT',\n",
       "   'value': 'Upper middle income'},\n",
       "  'capitalCity': 'Minsk',\n",
       "  'longitude': '27.5766',\n",
       "  'latitude': '53.9678'},\n",
       " {'iso2Code': 'BZ',\n",
       "  'name': 'Belize',\n",
       "  'region': {'id': 'LCN',\n",
       "   'iso2code': 'ZJ',\n",
       "   'value': 'Latin America & Caribbean '},\n",
       "  'incomeLevel': {'id': 'UMC',\n",
       "   'iso2code': 'XT',\n",
       "   'value': 'Upper middle income'},\n",
       "  'capitalCity': 'Belmopan',\n",
       "  'longitude': '-88.7713',\n",
       "  'latitude': '17.2534'},\n",
       " {'iso2Code': 'B3',\n",
       "  'name': 'Middle East & North Africa (IBRD-only countries)',\n",
       "  'region': {'id': 'NA', 'iso2code': 'NA', 'value': 'Aggregates'},\n",
       "  'incomeLevel': {'id': 'NA', 'iso2code': 'NA', 'value': 'Aggregates'},\n",
       "  'capitalCity': '',\n",
       "  'longitude': '',\n",
       "  'latitude': ''},\n",
       " {'iso2Code': 'BM',\n",
       "  'name': 'Bermuda',\n",
       "  'region': {'id': 'NAC', 'iso2code': 'XU', 'value': 'North America'},\n",
       "  'incomeLevel': {'id': 'HIC', 'iso2code': 'XD', 'value': 'High income'},\n",
       "  'capitalCity': 'Hamilton',\n",
       "  'longitude': '-64.706',\n",
       "  'latitude': '32.3293'},\n",
       " {'iso2Code': 'BO',\n",
       "  'name': 'Bolivia',\n",
       "  'region': {'id': 'LCN',\n",
       "   'iso2code': 'ZJ',\n",
       "   'value': 'Latin America & Caribbean '},\n",
       "  'incomeLevel': {'id': 'LMC',\n",
       "   'iso2code': 'XN',\n",
       "   'value': 'Lower middle income'},\n",
       "  'capitalCity': 'La Paz',\n",
       "  'longitude': '-66.1936',\n",
       "  'latitude': '-13.9908'},\n",
       " {'iso2Code': 'BR',\n",
       "  'name': 'Brazil',\n",
       "  'region': {'id': 'LCN',\n",
       "   'iso2code': 'ZJ',\n",
       "   'value': 'Latin America & Caribbean '},\n",
       "  'incomeLevel': {'id': 'UMC',\n",
       "   'iso2code': 'XT',\n",
       "   'value': 'Upper middle income'},\n",
       "  'capitalCity': 'Brasilia',\n",
       "  'longitude': '-47.9292',\n",
       "  'latitude': '-15.7801'},\n",
       " {'iso2Code': 'BB',\n",
       "  'name': 'Barbados',\n",
       "  'region': {'id': 'LCN',\n",
       "   'iso2code': 'ZJ',\n",
       "   'value': 'Latin America & Caribbean '},\n",
       "  'incomeLevel': {'id': 'HIC', 'iso2code': 'XD', 'value': 'High income'},\n",
       "  'capitalCity': 'Bridgetown',\n",
       "  'longitude': '-59.6105',\n",
       "  'latitude': '13.0935'},\n",
       " {'iso2Code': 'BN',\n",
       "  'name': 'Brunei Darussalam',\n",
       "  'region': {'id': 'EAS', 'iso2code': 'Z4', 'value': 'East Asia & Pacific'},\n",
       "  'incomeLevel': {'id': 'HIC', 'iso2code': 'XD', 'value': 'High income'},\n",
       "  'capitalCity': 'Bandar Seri Begawan',\n",
       "  'longitude': '114.946',\n",
       "  'latitude': '4.94199'},\n",
       " {'iso2Code': 'B6',\n",
       "  'name': 'Sub-Saharan Africa (IBRD-only countries)',\n",
       "  'region': {'id': 'NA', 'iso2code': 'NA', 'value': 'Aggregates'},\n",
       "  'incomeLevel': {'id': 'NA', 'iso2code': 'NA', 'value': 'Aggregates'},\n",
       "  'capitalCity': '',\n",
       "  'longitude': '',\n",
       "  'latitude': ''},\n",
       " {'iso2Code': 'BT',\n",
       "  'name': 'Bhutan',\n",
       "  'region': {'id': 'SAS', 'iso2code': '8S', 'value': 'South Asia'},\n",
       "  'incomeLevel': {'id': 'LMC',\n",
       "   'iso2code': 'XN',\n",
       "   'value': 'Lower middle income'},\n",
       "  'capitalCity': 'Thimphu',\n",
       "  'longitude': '89.6177',\n",
       "  'latitude': '27.5768'},\n",
       " {'iso2Code': 'BW',\n",
       "  'name': 'Botswana',\n",
       "  'region': {'id': 'SSF', 'iso2code': 'ZG', 'value': 'Sub-Saharan Africa '},\n",
       "  'incomeLevel': {'id': 'UMC',\n",
       "   'iso2code': 'XT',\n",
       "   'value': 'Upper middle income'},\n",
       "  'capitalCity': 'Gaborone',\n",
       "  'longitude': '25.9201',\n",
       "  'latitude': '-24.6544'},\n",
       " {'iso2Code': 'C9',\n",
       "  'name': 'Sub-Saharan Africa (IFC classification)',\n",
       "  'region': {'id': 'NA', 'iso2code': 'NA', 'value': 'Aggregates'},\n",
       "  'incomeLevel': {'id': 'NA', 'iso2code': 'NA', 'value': 'Aggregates'},\n",
       "  'capitalCity': '',\n",
       "  'longitude': '',\n",
       "  'latitude': ''},\n",
       " {'iso2Code': 'CF',\n",
       "  'name': 'Central African Republic',\n",
       "  'region': {'id': 'SSF', 'iso2code': 'ZG', 'value': 'Sub-Saharan Africa '},\n",
       "  'incomeLevel': {'id': 'LIC', 'iso2code': 'XM', 'value': 'Low income'},\n",
       "  'capitalCity': 'Bangui',\n",
       "  'longitude': '21.6407',\n",
       "  'latitude': '5.63056'},\n",
       " {'iso2Code': 'CA',\n",
       "  'name': 'Canada',\n",
       "  'region': {'id': 'NAC', 'iso2code': 'XU', 'value': 'North America'},\n",
       "  'incomeLevel': {'id': 'HIC', 'iso2code': 'XD', 'value': 'High income'},\n",
       "  'capitalCity': 'Ottawa',\n",
       "  'longitude': '-75.6919',\n",
       "  'latitude': '45.4215'},\n",
       " {'iso2Code': 'C4',\n",
       "  'name': 'East Asia and the Pacific (IFC classification)',\n",
       "  'region': {'id': 'NA', 'iso2code': 'NA', 'value': 'Aggregates'},\n",
       "  'incomeLevel': {'id': 'NA', 'iso2code': 'NA', 'value': 'Aggregates'},\n",
       "  'capitalCity': '',\n",
       "  'longitude': '',\n",
       "  'latitude': ''},\n",
       " {'iso2Code': 'B8',\n",
       "  'name': 'Central Europe and the Baltics',\n",
       "  'region': {'id': 'NA', 'iso2code': 'NA', 'value': 'Aggregates'},\n",
       "  'incomeLevel': {'id': 'NA', 'iso2code': 'NA', 'value': 'Aggregates'},\n",
       "  'capitalCity': '',\n",
       "  'longitude': '',\n",
       "  'latitude': ''},\n",
       " {'iso2Code': 'C5',\n",
       "  'name': 'Europe and Central Asia (IFC classification)',\n",
       "  'region': {'id': 'NA', 'iso2code': 'NA', 'value': 'Aggregates'},\n",
       "  'incomeLevel': {'id': 'NA', 'iso2code': 'NA', 'value': 'Aggregates'},\n",
       "  'capitalCity': '',\n",
       "  'longitude': '',\n",
       "  'latitude': ''},\n",
       " {'iso2Code': 'CH',\n",
       "  'name': 'Switzerland',\n",
       "  'region': {'id': 'ECS', 'iso2code': 'Z7', 'value': 'Europe & Central Asia'},\n",
       "  'incomeLevel': {'id': 'HIC', 'iso2code': 'XD', 'value': 'High income'},\n",
       "  'capitalCity': 'Bern',\n",
       "  'longitude': '7.44821',\n",
       "  'latitude': '46.948'},\n",
       " {'iso2Code': 'JG',\n",
       "  'name': 'Channel Islands',\n",
       "  'region': {'id': 'ECS', 'iso2code': 'Z7', 'value': 'Europe & Central Asia'},\n",
       "  'incomeLevel': {'id': 'HIC', 'iso2code': 'XD', 'value': 'High income'},\n",
       "  'capitalCity': '',\n",
       "  'longitude': '',\n",
       "  'latitude': ''},\n",
       " {'iso2Code': 'CL',\n",
       "  'name': 'Chile',\n",
       "  'region': {'id': 'LCN',\n",
       "   'iso2code': 'ZJ',\n",
       "   'value': 'Latin America & Caribbean '},\n",
       "  'incomeLevel': {'id': 'HIC', 'iso2code': 'XD', 'value': 'High income'},\n",
       "  'capitalCity': 'Santiago',\n",
       "  'longitude': '-70.6475',\n",
       "  'latitude': '-33.475'},\n",
       " {'iso2Code': 'CN',\n",
       "  'name': 'China',\n",
       "  'region': {'id': 'EAS', 'iso2code': 'Z4', 'value': 'East Asia & Pacific'},\n",
       "  'incomeLevel': {'id': 'UMC',\n",
       "   'iso2code': 'XT',\n",
       "   'value': 'Upper middle income'},\n",
       "  'capitalCity': 'Beijing',\n",
       "  'longitude': '116.286',\n",
       "  'latitude': '40.0495'},\n",
       " {'iso2Code': 'CI',\n",
       "  'name': \"Cote d'Ivoire\",\n",
       "  'region': {'id': 'SSF', 'iso2code': 'ZG', 'value': 'Sub-Saharan Africa '},\n",
       "  'incomeLevel': {'id': 'LMC',\n",
       "   'iso2code': 'XN',\n",
       "   'value': 'Lower middle income'},\n",
       "  'capitalCity': 'Yamoussoukro',\n",
       "  'longitude': '-4.0305',\n",
       "  'latitude': '5.332'},\n",
       " {'iso2Code': 'C6',\n",
       "  'name': 'Latin America and the Caribbean (IFC classification)',\n",
       "  'region': {'id': 'NA', 'iso2code': 'NA', 'value': 'Aggregates'},\n",
       "  'incomeLevel': {'id': 'NA', 'iso2code': 'NA', 'value': 'Aggregates'},\n",
       "  'capitalCity': '',\n",
       "  'longitude': '',\n",
       "  'latitude': ''},\n",
       " {'iso2Code': 'C7',\n",
       "  'name': 'Middle East and North Africa (IFC classification)',\n",
       "  'region': {'id': 'NA', 'iso2code': 'NA', 'value': 'Aggregates'},\n",
       "  'incomeLevel': {'id': 'NA', 'iso2code': 'NA', 'value': 'Aggregates'},\n",
       "  'capitalCity': '',\n",
       "  'longitude': '',\n",
       "  'latitude': ''},\n",
       " {'iso2Code': 'CM',\n",
       "  'name': 'Cameroon',\n",
       "  'region': {'id': 'SSF', 'iso2code': 'ZG', 'value': 'Sub-Saharan Africa '},\n",
       "  'incomeLevel': {'id': 'LMC',\n",
       "   'iso2code': 'XN',\n",
       "   'value': 'Lower middle income'},\n",
       "  'capitalCity': 'Yaounde',\n",
       "  'longitude': '11.5174',\n",
       "  'latitude': '3.8721'},\n",
       " {'iso2Code': 'CD',\n",
       "  'name': 'Congo, Dem. Rep.',\n",
       "  'region': {'id': 'SSF', 'iso2code': 'ZG', 'value': 'Sub-Saharan Africa '},\n",
       "  'incomeLevel': {'id': 'LIC', 'iso2code': 'XM', 'value': 'Low income'},\n",
       "  'capitalCity': 'Kinshasa',\n",
       "  'longitude': '15.3222',\n",
       "  'latitude': '-4.325'},\n",
       " {'iso2Code': 'CG',\n",
       "  'name': 'Congo, Rep.',\n",
       "  'region': {'id': 'SSF', 'iso2code': 'ZG', 'value': 'Sub-Saharan Africa '},\n",
       "  'incomeLevel': {'id': 'LMC',\n",
       "   'iso2code': 'XN',\n",
       "   'value': 'Lower middle income'},\n",
       "  'capitalCity': 'Brazzaville',\n",
       "  'longitude': '15.2662',\n",
       "  'latitude': '-4.2767'},\n",
       " {'iso2Code': 'CO',\n",
       "  'name': 'Colombia',\n",
       "  'region': {'id': 'LCN',\n",
       "   'iso2code': 'ZJ',\n",
       "   'value': 'Latin America & Caribbean '},\n",
       "  'incomeLevel': {'id': 'UMC',\n",
       "   'iso2code': 'XT',\n",
       "   'value': 'Upper middle income'},\n",
       "  'capitalCity': 'Bogota',\n",
       "  'longitude': '-74.082',\n",
       "  'latitude': '4.60987'},\n",
       " {'iso2Code': 'KM',\n",
       "  'name': 'Comoros',\n",
       "  'region': {'id': 'SSF', 'iso2code': 'ZG', 'value': 'Sub-Saharan Africa '},\n",
       "  'incomeLevel': {'id': 'LMC',\n",
       "   'iso2code': 'XN',\n",
       "   'value': 'Lower middle income'},\n",
       "  'capitalCity': 'Moroni',\n",
       "  'longitude': '43.2418',\n",
       "  'latitude': '-11.6986'},\n",
       " {'iso2Code': 'CV',\n",
       "  'name': 'Cabo Verde',\n",
       "  'region': {'id': 'SSF', 'iso2code': 'ZG', 'value': 'Sub-Saharan Africa '},\n",
       "  'incomeLevel': {'id': 'LMC',\n",
       "   'iso2code': 'XN',\n",
       "   'value': 'Lower middle income'},\n",
       "  'capitalCity': 'Praia',\n",
       "  'longitude': '-23.5087',\n",
       "  'latitude': '14.9218'},\n",
       " {'iso2Code': 'CR',\n",
       "  'name': 'Costa Rica',\n",
       "  'region': {'id': 'LCN',\n",
       "   'iso2code': 'ZJ',\n",
       "   'value': 'Latin America & Caribbean '},\n",
       "  'incomeLevel': {'id': 'UMC',\n",
       "   'iso2code': 'XT',\n",
       "   'value': 'Upper middle income'},\n",
       "  'capitalCity': 'San Jose',\n",
       "  'longitude': '-84.0089',\n",
       "  'latitude': '9.63701'},\n",
       " {'iso2Code': 'C8',\n",
       "  'name': 'South Asia (IFC classification)',\n",
       "  'region': {'id': 'NA', 'iso2code': 'NA', 'value': 'Aggregates'},\n",
       "  'incomeLevel': {'id': 'NA', 'iso2code': 'NA', 'value': 'Aggregates'},\n",
       "  'capitalCity': '',\n",
       "  'longitude': '',\n",
       "  'latitude': ''},\n",
       " {'iso2Code': 'S3',\n",
       "  'name': 'Caribbean small states',\n",
       "  'region': {'id': 'NA', 'iso2code': 'NA', 'value': 'Aggregates'},\n",
       "  'incomeLevel': {'id': 'NA', 'iso2code': 'NA', 'value': 'Aggregates'},\n",
       "  'capitalCity': '',\n",
       "  'longitude': '',\n",
       "  'latitude': ''},\n",
       " {'iso2Code': 'CU',\n",
       "  'name': 'Cuba',\n",
       "  'region': {'id': 'LCN',\n",
       "   'iso2code': 'ZJ',\n",
       "   'value': 'Latin America & Caribbean '},\n",
       "  'incomeLevel': {'id': 'UMC',\n",
       "   'iso2code': 'XT',\n",
       "   'value': 'Upper middle income'},\n",
       "  'capitalCity': 'Havana',\n",
       "  'longitude': '-82.3667',\n",
       "  'latitude': '23.1333'},\n",
       " {'iso2Code': 'CW',\n",
       "  'name': 'Curacao',\n",
       "  'region': {'id': 'LCN',\n",
       "   'iso2code': 'ZJ',\n",
       "   'value': 'Latin America & Caribbean '},\n",
       "  'incomeLevel': {'id': 'HIC', 'iso2code': 'XD', 'value': 'High income'},\n",
       "  'capitalCity': 'Willemstad',\n",
       "  'longitude': '',\n",
       "  'latitude': ''},\n",
       " {'iso2Code': 'KY',\n",
       "  'name': 'Cayman Islands',\n",
       "  'region': {'id': 'LCN',\n",
       "   'iso2code': 'ZJ',\n",
       "   'value': 'Latin America & Caribbean '},\n",
       "  'incomeLevel': {'id': 'HIC', 'iso2code': 'XD', 'value': 'High income'},\n",
       "  'capitalCity': 'George Town',\n",
       "  'longitude': '-81.3857',\n",
       "  'latitude': '19.3022'},\n",
       " {'iso2Code': 'CY',\n",
       "  'name': 'Cyprus',\n",
       "  'region': {'id': 'ECS', 'iso2code': 'Z7', 'value': 'Europe & Central Asia'},\n",
       "  'incomeLevel': {'id': 'HIC', 'iso2code': 'XD', 'value': 'High income'},\n",
       "  'capitalCity': 'Nicosia',\n",
       "  'longitude': '33.3736',\n",
       "  'latitude': '35.1676'},\n",
       " {'iso2Code': 'CZ',\n",
       "  'name': 'Czech Republic',\n",
       "  'region': {'id': 'ECS', 'iso2code': 'Z7', 'value': 'Europe & Central Asia'},\n",
       "  'incomeLevel': {'id': 'HIC', 'iso2code': 'XD', 'value': 'High income'},\n",
       "  'capitalCity': 'Prague',\n",
       "  'longitude': '14.4205',\n",
       "  'latitude': '50.0878'},\n",
       " {'iso2Code': 'D4',\n",
       "  'name': 'East Asia & Pacific (IDA-eligible countries)',\n",
       "  'region': {'id': 'NA', 'iso2code': 'NA', 'value': 'Aggregates'},\n",
       "  'incomeLevel': {'id': 'NA', 'iso2code': 'NA', 'value': 'Aggregates'},\n",
       "  'capitalCity': '',\n",
       "  'longitude': '',\n",
       "  'latitude': ''},\n",
       " {'iso2Code': 'D7',\n",
       "  'name': 'Europe & Central Asia (IDA-eligible countries)',\n",
       "  'region': {'id': 'NA', 'iso2code': 'NA', 'value': 'Aggregates'},\n",
       "  'incomeLevel': {'id': 'NA', 'iso2code': 'NA', 'value': 'Aggregates'},\n",
       "  'capitalCity': '',\n",
       "  'longitude': '',\n",
       "  'latitude': ''},\n",
       " {'iso2Code': 'DE',\n",
       "  'name': 'Germany',\n",
       "  'region': {'id': 'ECS', 'iso2code': 'Z7', 'value': 'Europe & Central Asia'},\n",
       "  'incomeLevel': {'id': 'HIC', 'iso2code': 'XD', 'value': 'High income'},\n",
       "  'capitalCity': 'Berlin',\n",
       "  'longitude': '13.4115',\n",
       "  'latitude': '52.5235'},\n",
       " {'iso2Code': 'D8',\n",
       "  'name': 'IDA countries classified as Fragile Situations',\n",
       "  'region': {'id': 'NA', 'iso2code': 'NA', 'value': 'Aggregates'},\n",
       "  'incomeLevel': {'id': 'NA', 'iso2code': 'NA', 'value': 'Aggregates'},\n",
       "  'capitalCity': '',\n",
       "  'longitude': '',\n",
       "  'latitude': ''},\n",
       " {'iso2Code': 'DJ',\n",
       "  'name': 'Djibouti',\n",
       "  'region': {'id': 'MEA',\n",
       "   'iso2code': 'ZQ',\n",
       "   'value': 'Middle East & North Africa'},\n",
       "  'incomeLevel': {'id': 'LMC',\n",
       "   'iso2code': 'XN',\n",
       "   'value': 'Lower middle income'},\n",
       "  'capitalCity': 'Djibouti',\n",
       "  'longitude': '43.1425',\n",
       "  'latitude': '11.5806'},\n",
       " {'iso2Code': 'D2',\n",
       "  'name': 'Latin America & the Caribbean (IDA-eligible countries)',\n",
       "  'region': {'id': 'NA', 'iso2code': 'NA', 'value': 'Aggregates'},\n",
       "  'incomeLevel': {'id': 'NA', 'iso2code': 'NA', 'value': 'Aggregates'},\n",
       "  'capitalCity': '',\n",
       "  'longitude': '',\n",
       "  'latitude': ''},\n",
       " {'iso2Code': 'DM',\n",
       "  'name': 'Dominica',\n",
       "  'region': {'id': 'LCN',\n",
       "   'iso2code': 'ZJ',\n",
       "   'value': 'Latin America & Caribbean '},\n",
       "  'incomeLevel': {'id': 'UMC',\n",
       "   'iso2code': 'XT',\n",
       "   'value': 'Upper middle income'},\n",
       "  'capitalCity': 'Roseau',\n",
       "  'longitude': '-61.39',\n",
       "  'latitude': '15.2976'},\n",
       " {'iso2Code': 'D3',\n",
       "  'name': 'Middle East & North Africa (IDA-eligible countries)',\n",
       "  'region': {'id': 'NA', 'iso2code': 'NA', 'value': 'Aggregates'},\n",
       "  'incomeLevel': {'id': 'NA', 'iso2code': 'NA', 'value': 'Aggregates'},\n",
       "  'capitalCity': '',\n",
       "  'longitude': '',\n",
       "  'latitude': ''},\n",
       " {'iso2Code': 'D9',\n",
       "  'name': 'IDA countries not classified as Fragile Situations',\n",
       "  'region': {'id': 'NA', 'iso2code': 'NA', 'value': 'Aggregates'},\n",
       "  'incomeLevel': {'id': 'NA', 'iso2code': 'NA', 'value': 'Aggregates'},\n",
       "  'capitalCity': '',\n",
       "  'longitude': '',\n",
       "  'latitude': ''},\n",
       " {'iso2Code': 'DK',\n",
       "  'name': 'Denmark',\n",
       "  'region': {'id': 'ECS', 'iso2code': 'Z7', 'value': 'Europe & Central Asia'},\n",
       "  'incomeLevel': {'id': 'HIC', 'iso2code': 'XD', 'value': 'High income'},\n",
       "  'capitalCity': 'Copenhagen',\n",
       "  'longitude': '12.5681',\n",
       "  'latitude': '55.6763'},\n",
       " {'iso2Code': 'N6',\n",
       "  'name': 'IDA countries in Sub-Saharan Africa not classified as fragile situations ',\n",
       "  'region': {'id': 'NA', 'iso2code': 'NA', 'value': 'Aggregates'},\n",
       "  'incomeLevel': {'id': 'NA', 'iso2code': 'NA', 'value': 'Aggregates'},\n",
       "  'capitalCity': '',\n",
       "  'longitude': '',\n",
       "  'latitude': ''},\n",
       " {'iso2Code': 'DO',\n",
       "  'name': 'Dominican Republic',\n",
       "  'region': {'id': 'LCN',\n",
       "   'iso2code': 'ZJ',\n",
       "   'value': 'Latin America & Caribbean '},\n",
       "  'incomeLevel': {'id': 'UMC',\n",
       "   'iso2code': 'XT',\n",
       "   'value': 'Upper middle income'},\n",
       "  'capitalCity': 'Santo Domingo',\n",
       "  'longitude': '-69.8908',\n",
       "  'latitude': '18.479'},\n",
       " {'iso2Code': 'D5',\n",
       "  'name': 'South Asia (IDA-eligible countries)',\n",
       "  'region': {'id': 'NA', 'iso2code': 'NA', 'value': 'Aggregates'},\n",
       "  'incomeLevel': {'id': 'NA', 'iso2code': 'NA', 'value': 'Aggregates'},\n",
       "  'capitalCity': '',\n",
       "  'longitude': '',\n",
       "  'latitude': ''},\n",
       " {'iso2Code': 'F6',\n",
       "  'name': 'IDA countries in Sub-Saharan Africa classified as fragile situations ',\n",
       "  'region': {'id': 'NA', 'iso2code': 'NA', 'value': 'Aggregates'},\n",
       "  'incomeLevel': {'id': 'NA', 'iso2code': 'NA', 'value': 'Aggregates'},\n",
       "  'capitalCity': '',\n",
       "  'longitude': '',\n",
       "  'latitude': ''},\n",
       " {'iso2Code': 'D6',\n",
       "  'name': 'Sub-Saharan Africa (IDA-eligible countries)',\n",
       "  'region': {'id': 'NA', 'iso2code': 'NA', 'value': 'Aggregates'},\n",
       "  'incomeLevel': {'id': 'NA', 'iso2code': 'NA', 'value': 'Aggregates'},\n",
       "  'capitalCity': '',\n",
       "  'longitude': '',\n",
       "  'latitude': ''},\n",
       " {'iso2Code': '6D',\n",
       "  'name': 'IDA total, excluding Sub-Saharan Africa',\n",
       "  'region': {'id': 'NA', 'iso2code': 'NA', 'value': 'Aggregates'},\n",
       "  'incomeLevel': {'id': 'NA', 'iso2code': 'NA', 'value': 'Aggregates'},\n",
       "  'capitalCity': '',\n",
       "  'longitude': '',\n",
       "  'latitude': ''},\n",
       " {'iso2Code': 'DZ',\n",
       "  'name': 'Algeria',\n",
       "  'region': {'id': 'MEA',\n",
       "   'iso2code': 'ZQ',\n",
       "   'value': 'Middle East & North Africa'},\n",
       "  'incomeLevel': {'id': 'LMC',\n",
       "   'iso2code': 'XN',\n",
       "   'value': 'Lower middle income'},\n",
       "  'capitalCity': 'Algiers',\n",
       "  'longitude': '3.05097',\n",
       "  'latitude': '36.7397'},\n",
       " {'iso2Code': '4E',\n",
       "  'name': 'East Asia & Pacific (excluding high income)',\n",
       "  'region': {'id': 'NA', 'iso2code': 'NA', 'value': 'Aggregates'},\n",
       "  'incomeLevel': {'id': 'NA', 'iso2code': 'NA', 'value': 'Aggregates'},\n",
       "  'capitalCity': '',\n",
       "  'longitude': '',\n",
       "  'latitude': ''},\n",
       " {'iso2Code': 'V2',\n",
       "  'name': 'Early-demographic dividend',\n",
       "  'region': {'id': 'NA', 'iso2code': 'NA', 'value': 'Aggregates'},\n",
       "  'incomeLevel': {'id': 'NA', 'iso2code': 'NA', 'value': 'Aggregates'},\n",
       "  'capitalCity': '',\n",
       "  'longitude': '',\n",
       "  'latitude': ''},\n",
       " {'iso2Code': 'Z4',\n",
       "  'name': 'East Asia & Pacific',\n",
       "  'region': {'id': 'NA', 'iso2code': 'NA', 'value': 'Aggregates'},\n",
       "  'incomeLevel': {'id': 'NA', 'iso2code': 'NA', 'value': 'Aggregates'},\n",
       "  'capitalCity': '',\n",
       "  'longitude': '',\n",
       "  'latitude': ''},\n",
       " {'iso2Code': '7E',\n",
       "  'name': 'Europe & Central Asia (excluding high income)',\n",
       "  'region': {'id': 'NA', 'iso2code': 'NA', 'value': 'Aggregates'},\n",
       "  'incomeLevel': {'id': 'NA', 'iso2code': 'NA', 'value': 'Aggregates'},\n",
       "  'capitalCity': '',\n",
       "  'longitude': '',\n",
       "  'latitude': ''},\n",
       " {'iso2Code': 'Z7',\n",
       "  'name': 'Europe & Central Asia',\n",
       "  'region': {'id': 'NA', 'iso2code': 'NA', 'value': 'Aggregates'},\n",
       "  'incomeLevel': {'id': 'NA', 'iso2code': 'NA', 'value': 'Aggregates'},\n",
       "  'capitalCity': '',\n",
       "  'longitude': '',\n",
       "  'latitude': ''},\n",
       " {'iso2Code': 'EC',\n",
       "  'name': 'Ecuador',\n",
       "  'region': {'id': 'LCN',\n",
       "   'iso2code': 'ZJ',\n",
       "   'value': 'Latin America & Caribbean '},\n",
       "  'incomeLevel': {'id': 'UMC',\n",
       "   'iso2code': 'XT',\n",
       "   'value': 'Upper middle income'},\n",
       "  'capitalCity': 'Quito',\n",
       "  'longitude': '-78.5243',\n",
       "  'latitude': '-0.229498'},\n",
       " {'iso2Code': 'EG',\n",
       "  'name': 'Egypt, Arab Rep.',\n",
       "  'region': {'id': 'MEA',\n",
       "   'iso2code': 'ZQ',\n",
       "   'value': 'Middle East & North Africa'},\n",
       "  'incomeLevel': {'id': 'LMC',\n",
       "   'iso2code': 'XN',\n",
       "   'value': 'Lower middle income'},\n",
       "  'capitalCity': 'Cairo',\n",
       "  'longitude': '31.2461',\n",
       "  'latitude': '30.0982'},\n",
       " {'iso2Code': 'XC',\n",
       "  'name': 'Euro area',\n",
       "  'region': {'id': 'NA', 'iso2code': 'NA', 'value': 'Aggregates'},\n",
       "  'incomeLevel': {'id': 'NA', 'iso2code': 'NA', 'value': 'Aggregates'},\n",
       "  'capitalCity': '',\n",
       "  'longitude': '',\n",
       "  'latitude': ''},\n",
       " {'iso2Code': 'ER',\n",
       "  'name': 'Eritrea',\n",
       "  'region': {'id': 'SSF', 'iso2code': 'ZG', 'value': 'Sub-Saharan Africa '},\n",
       "  'incomeLevel': {'id': 'LIC', 'iso2code': 'XM', 'value': 'Low income'},\n",
       "  'capitalCity': 'Asmara',\n",
       "  'longitude': '38.9183',\n",
       "  'latitude': '15.3315'},\n",
       " {'iso2Code': 'ES',\n",
       "  'name': 'Spain',\n",
       "  'region': {'id': 'ECS', 'iso2code': 'Z7', 'value': 'Europe & Central Asia'},\n",
       "  'incomeLevel': {'id': 'HIC', 'iso2code': 'XD', 'value': 'High income'},\n",
       "  'capitalCity': 'Madrid',\n",
       "  'longitude': '-3.70327',\n",
       "  'latitude': '40.4167'},\n",
       " {'iso2Code': 'EE',\n",
       "  'name': 'Estonia',\n",
       "  'region': {'id': 'ECS', 'iso2code': 'Z7', 'value': 'Europe & Central Asia'},\n",
       "  'incomeLevel': {'id': 'HIC', 'iso2code': 'XD', 'value': 'High income'},\n",
       "  'capitalCity': 'Tallinn',\n",
       "  'longitude': '24.7586',\n",
       "  'latitude': '59.4392'},\n",
       " {'iso2Code': 'ET',\n",
       "  'name': 'Ethiopia',\n",
       "  'region': {'id': 'SSF', 'iso2code': 'ZG', 'value': 'Sub-Saharan Africa '},\n",
       "  'incomeLevel': {'id': 'LIC', 'iso2code': 'XM', 'value': 'Low income'},\n",
       "  'capitalCity': 'Addis Ababa',\n",
       "  'longitude': '38.7468',\n",
       "  'latitude': '9.02274'},\n",
       " {'iso2Code': 'EU',\n",
       "  'name': 'European Union',\n",
       "  'region': {'id': 'NA', 'iso2code': 'NA', 'value': 'Aggregates'},\n",
       "  'incomeLevel': {'id': 'NA', 'iso2code': 'NA', 'value': 'Aggregates'},\n",
       "  'capitalCity': '',\n",
       "  'longitude': '',\n",
       "  'latitude': ''},\n",
       " {'iso2Code': 'F1',\n",
       "  'name': 'Fragile and conflict affected situations',\n",
       "  'region': {'id': 'NA', 'iso2code': 'NA', 'value': 'Aggregates'},\n",
       "  'incomeLevel': {'id': 'NA', 'iso2code': 'NA', 'value': 'Aggregates'},\n",
       "  'capitalCity': '',\n",
       "  'longitude': '',\n",
       "  'latitude': ''},\n",
       " {'iso2Code': 'FI',\n",
       "  'name': 'Finland',\n",
       "  'region': {'id': 'ECS', 'iso2code': 'Z7', 'value': 'Europe & Central Asia'},\n",
       "  'incomeLevel': {'id': 'HIC', 'iso2code': 'XD', 'value': 'High income'},\n",
       "  'capitalCity': 'Helsinki',\n",
       "  'longitude': '24.9525',\n",
       "  'latitude': '60.1608'},\n",
       " {'iso2Code': 'FJ',\n",
       "  'name': 'Fiji',\n",
       "  'region': {'id': 'EAS', 'iso2code': 'Z4', 'value': 'East Asia & Pacific'},\n",
       "  'incomeLevel': {'id': 'UMC',\n",
       "   'iso2code': 'XT',\n",
       "   'value': 'Upper middle income'},\n",
       "  'capitalCity': 'Suva',\n",
       "  'longitude': '178.399',\n",
       "  'latitude': '-18.1149'},\n",
       " {'iso2Code': 'FR',\n",
       "  'name': 'France',\n",
       "  'region': {'id': 'ECS', 'iso2code': 'Z7', 'value': 'Europe & Central Asia'},\n",
       "  'incomeLevel': {'id': 'HIC', 'iso2code': 'XD', 'value': 'High income'},\n",
       "  'capitalCity': 'Paris',\n",
       "  'longitude': '2.35097',\n",
       "  'latitude': '48.8566'},\n",
       " {'iso2Code': 'FO',\n",
       "  'name': 'Faroe Islands',\n",
       "  'region': {'id': 'ECS', 'iso2code': 'Z7', 'value': 'Europe & Central Asia'},\n",
       "  'incomeLevel': {'id': 'HIC', 'iso2code': 'XD', 'value': 'High income'},\n",
       "  'capitalCity': 'Torshavn',\n",
       "  'longitude': '-6.91181',\n",
       "  'latitude': '61.8926'},\n",
       " {'iso2Code': 'FM',\n",
       "  'name': 'Micronesia, Fed. Sts.',\n",
       "  'region': {'id': 'EAS', 'iso2code': 'Z4', 'value': 'East Asia & Pacific'},\n",
       "  'incomeLevel': {'id': 'LMC',\n",
       "   'iso2code': 'XN',\n",
       "   'value': 'Lower middle income'},\n",
       "  'capitalCity': 'Palikir',\n",
       "  'longitude': '158.185',\n",
       "  'latitude': '6.91771'},\n",
       " {'iso2Code': '6F',\n",
       "  'name': 'IDA countries classified as fragile situations, excluding Sub-Saharan Africa',\n",
       "  'region': {'id': 'NA', 'iso2code': 'NA', 'value': 'Aggregates'},\n",
       "  'incomeLevel': {'id': 'NA', 'iso2code': 'NA', 'value': 'Aggregates'},\n",
       "  'capitalCity': '',\n",
       "  'longitude': '',\n",
       "  'latitude': ''},\n",
       " {'iso2Code': 'GA',\n",
       "  'name': 'Gabon',\n",
       "  'region': {'id': 'SSF', 'iso2code': 'ZG', 'value': 'Sub-Saharan Africa '},\n",
       "  'incomeLevel': {'id': 'UMC',\n",
       "   'iso2code': 'XT',\n",
       "   'value': 'Upper middle income'},\n",
       "  'capitalCity': 'Libreville',\n",
       "  'longitude': '9.45162',\n",
       "  'latitude': '0.38832'},\n",
       " {'iso2Code': 'GB',\n",
       "  'name': 'United Kingdom',\n",
       "  'region': {'id': 'ECS', 'iso2code': 'Z7', 'value': 'Europe & Central Asia'},\n",
       "  'incomeLevel': {'id': 'HIC', 'iso2code': 'XD', 'value': 'High income'},\n",
       "  'capitalCity': 'London',\n",
       "  'longitude': '-0.126236',\n",
       "  'latitude': '51.5002'},\n",
       " {'iso2Code': 'GE',\n",
       "  'name': 'Georgia',\n",
       "  'region': {'id': 'ECS', 'iso2code': 'Z7', 'value': 'Europe & Central Asia'},\n",
       "  'incomeLevel': {'id': 'UMC',\n",
       "   'iso2code': 'XT',\n",
       "   'value': 'Upper middle income'},\n",
       "  'capitalCity': 'Tbilisi',\n",
       "  'longitude': '44.793',\n",
       "  'latitude': '41.71'},\n",
       " {'iso2Code': 'GH',\n",
       "  'name': 'Ghana',\n",
       "  'region': {'id': 'SSF', 'iso2code': 'ZG', 'value': 'Sub-Saharan Africa '},\n",
       "  'incomeLevel': {'id': 'LMC',\n",
       "   'iso2code': 'XN',\n",
       "   'value': 'Lower middle income'},\n",
       "  'capitalCity': 'Accra',\n",
       "  'longitude': '-0.20795',\n",
       "  'latitude': '5.57045'},\n",
       " {'iso2Code': 'GI',\n",
       "  'name': 'Gibraltar',\n",
       "  'region': {'id': 'ECS', 'iso2code': 'Z7', 'value': 'Europe & Central Asia'},\n",
       "  'incomeLevel': {'id': 'HIC', 'iso2code': 'XD', 'value': 'High income'},\n",
       "  'capitalCity': '',\n",
       "  'longitude': '',\n",
       "  'latitude': ''},\n",
       " {'iso2Code': 'GN',\n",
       "  'name': 'Guinea',\n",
       "  'region': {'id': 'SSF', 'iso2code': 'ZG', 'value': 'Sub-Saharan Africa '},\n",
       "  'incomeLevel': {'id': 'LIC', 'iso2code': 'XM', 'value': 'Low income'},\n",
       "  'capitalCity': 'Conakry',\n",
       "  'longitude': '-13.7',\n",
       "  'latitude': '9.51667'},\n",
       " {'iso2Code': 'GM',\n",
       "  'name': 'Gambia, The',\n",
       "  'region': {'id': 'SSF', 'iso2code': 'ZG', 'value': 'Sub-Saharan Africa '},\n",
       "  'incomeLevel': {'id': 'LIC', 'iso2code': 'XM', 'value': 'Low income'},\n",
       "  'capitalCity': 'Banjul',\n",
       "  'longitude': '-16.5885',\n",
       "  'latitude': '13.4495'},\n",
       " {'iso2Code': 'GW',\n",
       "  'name': 'Guinea-Bissau',\n",
       "  'region': {'id': 'SSF', 'iso2code': 'ZG', 'value': 'Sub-Saharan Africa '},\n",
       "  'incomeLevel': {'id': 'LIC', 'iso2code': 'XM', 'value': 'Low income'},\n",
       "  'capitalCity': 'Bissau',\n",
       "  'longitude': '-15.1804',\n",
       "  'latitude': '11.8037'},\n",
       " {'iso2Code': 'GQ',\n",
       "  'name': 'Equatorial Guinea',\n",
       "  'region': {'id': 'SSF', 'iso2code': 'ZG', 'value': 'Sub-Saharan Africa '},\n",
       "  'incomeLevel': {'id': 'UMC',\n",
       "   'iso2code': 'XT',\n",
       "   'value': 'Upper middle income'},\n",
       "  'capitalCity': 'Malabo',\n",
       "  'longitude': '8.7741',\n",
       "  'latitude': '3.7523'},\n",
       " {'iso2Code': 'GR',\n",
       "  'name': 'Greece',\n",
       "  'region': {'id': 'ECS', 'iso2code': 'Z7', 'value': 'Europe & Central Asia'},\n",
       "  'incomeLevel': {'id': 'HIC', 'iso2code': 'XD', 'value': 'High income'},\n",
       "  'capitalCity': 'Athens',\n",
       "  'longitude': '23.7166',\n",
       "  'latitude': '37.9792'},\n",
       " {'iso2Code': 'GD',\n",
       "  'name': 'Grenada',\n",
       "  'region': {'id': 'LCN',\n",
       "   'iso2code': 'ZJ',\n",
       "   'value': 'Latin America & Caribbean '},\n",
       "  'incomeLevel': {'id': 'UMC',\n",
       "   'iso2code': 'XT',\n",
       "   'value': 'Upper middle income'},\n",
       "  'capitalCity': \"Saint George's\",\n",
       "  'longitude': '-61.7449',\n",
       "  'latitude': '12.0653'},\n",
       " {'iso2Code': 'GL',\n",
       "  'name': 'Greenland',\n",
       "  'region': {'id': 'ECS', 'iso2code': 'Z7', 'value': 'Europe & Central Asia'},\n",
       "  'incomeLevel': {'id': 'HIC', 'iso2code': 'XD', 'value': 'High income'},\n",
       "  'capitalCity': 'Nuuk',\n",
       "  'longitude': '-51.7214',\n",
       "  'latitude': '64.1836'},\n",
       " {'iso2Code': 'GT',\n",
       "  'name': 'Guatemala',\n",
       "  'region': {'id': 'LCN',\n",
       "   'iso2code': 'ZJ',\n",
       "   'value': 'Latin America & Caribbean '},\n",
       "  'incomeLevel': {'id': 'UMC',\n",
       "   'iso2code': 'XT',\n",
       "   'value': 'Upper middle income'},\n",
       "  'capitalCity': 'Guatemala City',\n",
       "  'longitude': '-90.5328',\n",
       "  'latitude': '14.6248'},\n",
       " {'iso2Code': 'GU',\n",
       "  'name': 'Guam',\n",
       "  'region': {'id': 'EAS', 'iso2code': 'Z4', 'value': 'East Asia & Pacific'},\n",
       "  'incomeLevel': {'id': 'HIC', 'iso2code': 'XD', 'value': 'High income'},\n",
       "  'capitalCity': 'Agana',\n",
       "  'longitude': '144.794',\n",
       "  'latitude': '13.4443'},\n",
       " {'iso2Code': 'GY',\n",
       "  'name': 'Guyana',\n",
       "  'region': {'id': 'LCN',\n",
       "   'iso2code': 'ZJ',\n",
       "   'value': 'Latin America & Caribbean '},\n",
       "  'incomeLevel': {'id': 'UMC',\n",
       "   'iso2code': 'XT',\n",
       "   'value': 'Upper middle income'},\n",
       "  'capitalCity': 'Georgetown',\n",
       "  'longitude': '-58.1548',\n",
       "  'latitude': '6.80461'},\n",
       " {'iso2Code': 'XD',\n",
       "  'name': 'High income',\n",
       "  'region': {'id': 'NA', 'iso2code': 'NA', 'value': 'Aggregates'},\n",
       "  'incomeLevel': {'id': 'NA', 'iso2code': 'NA', 'value': 'Aggregates'},\n",
       "  'capitalCity': '',\n",
       "  'longitude': '',\n",
       "  'latitude': ''},\n",
       " {'iso2Code': 'HK',\n",
       "  'name': 'Hong Kong SAR, China',\n",
       "  'region': {'id': 'EAS', 'iso2code': 'Z4', 'value': 'East Asia & Pacific'},\n",
       "  'incomeLevel': {'id': 'HIC', 'iso2code': 'XD', 'value': 'High income'},\n",
       "  'capitalCity': '',\n",
       "  'longitude': '114.109',\n",
       "  'latitude': '22.3964'},\n",
       " {'iso2Code': 'HN',\n",
       "  'name': 'Honduras',\n",
       "  'region': {'id': 'LCN',\n",
       "   'iso2code': 'ZJ',\n",
       "   'value': 'Latin America & Caribbean '},\n",
       "  'incomeLevel': {'id': 'LMC',\n",
       "   'iso2code': 'XN',\n",
       "   'value': 'Lower middle income'},\n",
       "  'capitalCity': 'Tegucigalpa',\n",
       "  'longitude': '-87.4667',\n",
       "  'latitude': '15.1333'},\n",
       " {'iso2Code': 'XE',\n",
       "  'name': 'Heavily indebted poor countries (HIPC)',\n",
       "  'region': {'id': 'NA', 'iso2code': 'NA', 'value': 'Aggregates'},\n",
       "  'incomeLevel': {'id': 'NA', 'iso2code': 'NA', 'value': 'Aggregates'},\n",
       "  'capitalCity': '',\n",
       "  'longitude': '',\n",
       "  'latitude': ''},\n",
       " {'iso2Code': 'HR',\n",
       "  'name': 'Croatia',\n",
       "  'region': {'id': 'ECS', 'iso2code': 'Z7', 'value': 'Europe & Central Asia'},\n",
       "  'incomeLevel': {'id': 'HIC', 'iso2code': 'XD', 'value': 'High income'},\n",
       "  'capitalCity': 'Zagreb',\n",
       "  'longitude': '15.9614',\n",
       "  'latitude': '45.8069'},\n",
       " {'iso2Code': 'HT',\n",
       "  'name': 'Haiti',\n",
       "  'region': {'id': 'LCN',\n",
       "   'iso2code': 'ZJ',\n",
       "   'value': 'Latin America & Caribbean '},\n",
       "  'incomeLevel': {'id': 'LIC', 'iso2code': 'XM', 'value': 'Low income'},\n",
       "  'capitalCity': 'Port-au-Prince',\n",
       "  'longitude': '-72.3288',\n",
       "  'latitude': '18.5392'},\n",
       " {'iso2Code': 'HU',\n",
       "  'name': 'Hungary',\n",
       "  'region': {'id': 'ECS', 'iso2code': 'Z7', 'value': 'Europe & Central Asia'},\n",
       "  'incomeLevel': {'id': 'HIC', 'iso2code': 'XD', 'value': 'High income'},\n",
       "  'capitalCity': 'Budapest',\n",
       "  'longitude': '19.0408',\n",
       "  'latitude': '47.4984'},\n",
       " {'iso2Code': 'ZB',\n",
       "  'name': 'IBRD, including blend',\n",
       "  'region': {'id': 'NA', 'iso2code': 'NA', 'value': 'Aggregates'},\n",
       "  'incomeLevel': {'id': 'NA', 'iso2code': 'NA', 'value': 'Aggregates'},\n",
       "  'capitalCity': '',\n",
       "  'longitude': '',\n",
       "  'latitude': ''},\n",
       " {'iso2Code': 'XF',\n",
       "  'name': 'IBRD only',\n",
       "  'region': {'id': 'NA', 'iso2code': 'NA', 'value': 'Aggregates'},\n",
       "  'incomeLevel': {'id': 'NA', 'iso2code': 'NA', 'value': 'Aggregates'},\n",
       "  'capitalCity': '',\n",
       "  'longitude': '',\n",
       "  'latitude': ''},\n",
       " {'iso2Code': 'ZT',\n",
       "  'name': 'IDA & IBRD total',\n",
       "  'region': {'id': 'NA', 'iso2code': 'NA', 'value': 'Aggregates'},\n",
       "  'incomeLevel': {'id': 'NA', 'iso2code': 'NA', 'value': 'Aggregates'},\n",
       "  'capitalCity': '',\n",
       "  'longitude': '',\n",
       "  'latitude': ''},\n",
       " {'iso2Code': 'XG',\n",
       "  'name': 'IDA total',\n",
       "  'region': {'id': 'NA', 'iso2code': 'NA', 'value': 'Aggregates'},\n",
       "  'incomeLevel': {'id': 'NA', 'iso2code': 'NA', 'value': 'Aggregates'},\n",
       "  'capitalCity': '',\n",
       "  'longitude': '',\n",
       "  'latitude': ''},\n",
       " {'iso2Code': 'XH',\n",
       "  'name': 'IDA blend',\n",
       "  'region': {'id': 'NA', 'iso2code': 'NA', 'value': 'Aggregates'},\n",
       "  'incomeLevel': {'id': 'NA', 'iso2code': 'NA', 'value': 'Aggregates'},\n",
       "  'capitalCity': '',\n",
       "  'longitude': '',\n",
       "  'latitude': ''},\n",
       " {'iso2Code': 'ID',\n",
       "  'name': 'Indonesia',\n",
       "  'region': {'id': 'EAS', 'iso2code': 'Z4', 'value': 'East Asia & Pacific'},\n",
       "  'incomeLevel': {'id': 'UMC',\n",
       "   'iso2code': 'XT',\n",
       "   'value': 'Upper middle income'},\n",
       "  'capitalCity': 'Jakarta',\n",
       "  'longitude': '106.83',\n",
       "  'latitude': '-6.19752'},\n",
       " {'iso2Code': 'XI',\n",
       "  'name': 'IDA only',\n",
       "  'region': {'id': 'NA', 'iso2code': 'NA', 'value': 'Aggregates'},\n",
       "  'incomeLevel': {'id': 'NA', 'iso2code': 'NA', 'value': 'Aggregates'},\n",
       "  'capitalCity': '',\n",
       "  'longitude': '',\n",
       "  'latitude': ''},\n",
       " {'iso2Code': 'IM',\n",
       "  'name': 'Isle of Man',\n",
       "  'region': {'id': 'ECS', 'iso2code': 'Z7', 'value': 'Europe & Central Asia'},\n",
       "  'incomeLevel': {'id': 'HIC', 'iso2code': 'XD', 'value': 'High income'},\n",
       "  'capitalCity': 'Douglas',\n",
       "  'longitude': '-4.47928',\n",
       "  'latitude': '54.1509'},\n",
       " {'iso2Code': 'IN',\n",
       "  'name': 'India',\n",
       "  'region': {'id': 'SAS', 'iso2code': '8S', 'value': 'South Asia'},\n",
       "  'incomeLevel': {'id': 'LMC',\n",
       "   'iso2code': 'XN',\n",
       "   'value': 'Lower middle income'},\n",
       "  'capitalCity': 'New Delhi',\n",
       "  'longitude': '77.225',\n",
       "  'latitude': '28.6353'},\n",
       " {'iso2Code': 'XY',\n",
       "  'name': 'Not classified',\n",
       "  'region': {'id': 'NA', 'iso2code': 'NA', 'value': 'Aggregates'},\n",
       "  'incomeLevel': {'id': 'NA', 'iso2code': 'NA', 'value': 'Aggregates'},\n",
       "  'capitalCity': '',\n",
       "  'longitude': '',\n",
       "  'latitude': ''},\n",
       " {'iso2Code': 'IE',\n",
       "  'name': 'Ireland',\n",
       "  'region': {'id': 'ECS', 'iso2code': 'Z7', 'value': 'Europe & Central Asia'},\n",
       "  'incomeLevel': {'id': 'HIC', 'iso2code': 'XD', 'value': 'High income'},\n",
       "  'capitalCity': 'Dublin',\n",
       "  'longitude': '-6.26749',\n",
       "  'latitude': '53.3441'},\n",
       " {'iso2Code': 'IR',\n",
       "  'name': 'Iran, Islamic Rep.',\n",
       "  'region': {'id': 'MEA',\n",
       "   'iso2code': 'ZQ',\n",
       "   'value': 'Middle East & North Africa'},\n",
       "  'incomeLevel': {'id': 'UMC',\n",
       "   'iso2code': 'XT',\n",
       "   'value': 'Upper middle income'},\n",
       "  'capitalCity': 'Tehran',\n",
       "  'longitude': '51.4447',\n",
       "  'latitude': '35.6878'},\n",
       " {'iso2Code': 'IQ',\n",
       "  'name': 'Iraq',\n",
       "  'region': {'id': 'MEA',\n",
       "   'iso2code': 'ZQ',\n",
       "   'value': 'Middle East & North Africa'},\n",
       "  'incomeLevel': {'id': 'UMC',\n",
       "   'iso2code': 'XT',\n",
       "   'value': 'Upper middle income'},\n",
       "  'capitalCity': 'Baghdad',\n",
       "  'longitude': '44.394',\n",
       "  'latitude': '33.3302'},\n",
       " {'iso2Code': 'IS',\n",
       "  'name': 'Iceland',\n",
       "  'region': {'id': 'ECS', 'iso2code': 'Z7', 'value': 'Europe & Central Asia'},\n",
       "  'incomeLevel': {'id': 'HIC', 'iso2code': 'XD', 'value': 'High income'},\n",
       "  'capitalCity': 'Reykjavik',\n",
       "  'longitude': '-21.8952',\n",
       "  'latitude': '64.1353'},\n",
       " {'iso2Code': 'IL',\n",
       "  'name': 'Israel',\n",
       "  'region': {'id': 'MEA',\n",
       "   'iso2code': 'ZQ',\n",
       "   'value': 'Middle East & North Africa'},\n",
       "  'incomeLevel': {'id': 'HIC', 'iso2code': 'XD', 'value': 'High income'},\n",
       "  'capitalCity': '',\n",
       "  'longitude': '35.2035',\n",
       "  'latitude': '31.7717'},\n",
       " {'iso2Code': 'IT',\n",
       "  'name': 'Italy',\n",
       "  'region': {'id': 'ECS', 'iso2code': 'Z7', 'value': 'Europe & Central Asia'},\n",
       "  'incomeLevel': {'id': 'HIC', 'iso2code': 'XD', 'value': 'High income'},\n",
       "  'capitalCity': 'Rome',\n",
       "  'longitude': '12.4823',\n",
       "  'latitude': '41.8955'},\n",
       " {'iso2Code': 'JM',\n",
       "  'name': 'Jamaica',\n",
       "  'region': {'id': 'LCN',\n",
       "   'iso2code': 'ZJ',\n",
       "   'value': 'Latin America & Caribbean '},\n",
       "  'incomeLevel': {'id': 'UMC',\n",
       "   'iso2code': 'XT',\n",
       "   'value': 'Upper middle income'},\n",
       "  'capitalCity': 'Kingston',\n",
       "  'longitude': '-76.792',\n",
       "  'latitude': '17.9927'},\n",
       " {'iso2Code': 'JO',\n",
       "  'name': 'Jordan',\n",
       "  'region': {'id': 'MEA',\n",
       "   'iso2code': 'ZQ',\n",
       "   'value': 'Middle East & North Africa'},\n",
       "  'incomeLevel': {'id': 'UMC',\n",
       "   'iso2code': 'XT',\n",
       "   'value': 'Upper middle income'},\n",
       "  'capitalCity': 'Amman',\n",
       "  'longitude': '35.9263',\n",
       "  'latitude': '31.9497'},\n",
       " {'iso2Code': 'JP',\n",
       "  'name': 'Japan',\n",
       "  'region': {'id': 'EAS', 'iso2code': 'Z4', 'value': 'East Asia & Pacific'},\n",
       "  'incomeLevel': {'id': 'HIC', 'iso2code': 'XD', 'value': 'High income'},\n",
       "  'capitalCity': 'Tokyo',\n",
       "  'longitude': '139.77',\n",
       "  'latitude': '35.67'},\n",
       " {'iso2Code': 'KZ',\n",
       "  'name': 'Kazakhstan',\n",
       "  'region': {'id': 'ECS', 'iso2code': 'Z7', 'value': 'Europe & Central Asia'},\n",
       "  'incomeLevel': {'id': 'UMC',\n",
       "   'iso2code': 'XT',\n",
       "   'value': 'Upper middle income'},\n",
       "  'capitalCity': 'Astana',\n",
       "  'longitude': '71.4382',\n",
       "  'latitude': '51.1879'},\n",
       " {'iso2Code': 'KE',\n",
       "  'name': 'Kenya',\n",
       "  'region': {'id': 'SSF', 'iso2code': 'ZG', 'value': 'Sub-Saharan Africa '},\n",
       "  'incomeLevel': {'id': 'LMC',\n",
       "   'iso2code': 'XN',\n",
       "   'value': 'Lower middle income'},\n",
       "  'capitalCity': 'Nairobi',\n",
       "  'longitude': '36.8126',\n",
       "  'latitude': '-1.27975'},\n",
       " {'iso2Code': 'KG',\n",
       "  'name': 'Kyrgyz Republic',\n",
       "  'region': {'id': 'ECS', 'iso2code': 'Z7', 'value': 'Europe & Central Asia'},\n",
       "  'incomeLevel': {'id': 'LMC',\n",
       "   'iso2code': 'XN',\n",
       "   'value': 'Lower middle income'},\n",
       "  'capitalCity': 'Bishkek',\n",
       "  'longitude': '74.6057',\n",
       "  'latitude': '42.8851'},\n",
       " {'iso2Code': 'KH',\n",
       "  'name': 'Cambodia',\n",
       "  'region': {'id': 'EAS', 'iso2code': 'Z4', 'value': 'East Asia & Pacific'},\n",
       "  'incomeLevel': {'id': 'LMC',\n",
       "   'iso2code': 'XN',\n",
       "   'value': 'Lower middle income'},\n",
       "  'capitalCity': 'Phnom Penh',\n",
       "  'longitude': '104.874',\n",
       "  'latitude': '11.5556'},\n",
       " {'iso2Code': 'KI',\n",
       "  'name': 'Kiribati',\n",
       "  'region': {'id': 'EAS', 'iso2code': 'Z4', 'value': 'East Asia & Pacific'},\n",
       "  'incomeLevel': {'id': 'LMC',\n",
       "   'iso2code': 'XN',\n",
       "   'value': 'Lower middle income'},\n",
       "  'capitalCity': 'Tarawa',\n",
       "  'longitude': '172.979',\n",
       "  'latitude': '1.32905'},\n",
       " {'iso2Code': 'KN',\n",
       "  'name': 'St. Kitts and Nevis',\n",
       "  'region': {'id': 'LCN',\n",
       "   'iso2code': 'ZJ',\n",
       "   'value': 'Latin America & Caribbean '},\n",
       "  'incomeLevel': {'id': 'HIC', 'iso2code': 'XD', 'value': 'High income'},\n",
       "  'capitalCity': 'Basseterre',\n",
       "  'longitude': '-62.7309',\n",
       "  'latitude': '17.3'},\n",
       " {'iso2Code': 'KR',\n",
       "  'name': 'Korea, Rep.',\n",
       "  'region': {'id': 'EAS', 'iso2code': 'Z4', 'value': 'East Asia & Pacific'},\n",
       "  'incomeLevel': {'id': 'HIC', 'iso2code': 'XD', 'value': 'High income'},\n",
       "  'capitalCity': 'Seoul',\n",
       "  'longitude': '126.957',\n",
       "  'latitude': '37.5323'},\n",
       " {'iso2Code': 'KW',\n",
       "  'name': 'Kuwait',\n",
       "  'region': {'id': 'MEA',\n",
       "   'iso2code': 'ZQ',\n",
       "   'value': 'Middle East & North Africa'},\n",
       "  'incomeLevel': {'id': 'HIC', 'iso2code': 'XD', 'value': 'High income'},\n",
       "  'capitalCity': 'Kuwait City',\n",
       "  'longitude': '47.9824',\n",
       "  'latitude': '29.3721'},\n",
       " {'iso2Code': 'XJ',\n",
       "  'name': 'Latin America & Caribbean (excluding high income)',\n",
       "  'region': {'id': 'NA', 'iso2code': 'NA', 'value': 'Aggregates'},\n",
       "  'incomeLevel': {'id': 'NA', 'iso2code': 'NA', 'value': 'Aggregates'},\n",
       "  'capitalCity': '',\n",
       "  'longitude': '',\n",
       "  'latitude': ''},\n",
       " {'iso2Code': 'LA',\n",
       "  'name': 'Lao PDR',\n",
       "  'region': {'id': 'EAS', 'iso2code': 'Z4', 'value': 'East Asia & Pacific'},\n",
       "  'incomeLevel': {'id': 'LMC',\n",
       "   'iso2code': 'XN',\n",
       "   'value': 'Lower middle income'},\n",
       "  'capitalCity': 'Vientiane',\n",
       "  'longitude': '102.177',\n",
       "  'latitude': '18.5826'},\n",
       " {'iso2Code': 'LB',\n",
       "  'name': 'Lebanon',\n",
       "  'region': {'id': 'MEA',\n",
       "   'iso2code': 'ZQ',\n",
       "   'value': 'Middle East & North Africa'},\n",
       "  'incomeLevel': {'id': 'UMC',\n",
       "   'iso2code': 'XT',\n",
       "   'value': 'Upper middle income'},\n",
       "  'capitalCity': 'Beirut',\n",
       "  'longitude': '35.5134',\n",
       "  'latitude': '33.8872'},\n",
       " {'iso2Code': 'LR',\n",
       "  'name': 'Liberia',\n",
       "  'region': {'id': 'SSF', 'iso2code': 'ZG', 'value': 'Sub-Saharan Africa '},\n",
       "  'incomeLevel': {'id': 'LIC', 'iso2code': 'XM', 'value': 'Low income'},\n",
       "  'capitalCity': 'Monrovia',\n",
       "  'longitude': '-10.7957',\n",
       "  'latitude': '6.30039'},\n",
       " {'iso2Code': 'LY',\n",
       "  'name': 'Libya',\n",
       "  'region': {'id': 'MEA',\n",
       "   'iso2code': 'ZQ',\n",
       "   'value': 'Middle East & North Africa'},\n",
       "  'incomeLevel': {'id': 'UMC',\n",
       "   'iso2code': 'XT',\n",
       "   'value': 'Upper middle income'},\n",
       "  'capitalCity': 'Tripoli',\n",
       "  'longitude': '13.1072',\n",
       "  'latitude': '32.8578'},\n",
       " {'iso2Code': 'LC',\n",
       "  'name': 'St. Lucia',\n",
       "  'region': {'id': 'LCN',\n",
       "   'iso2code': 'ZJ',\n",
       "   'value': 'Latin America & Caribbean '},\n",
       "  'incomeLevel': {'id': 'UMC',\n",
       "   'iso2code': 'XT',\n",
       "   'value': 'Upper middle income'},\n",
       "  'capitalCity': 'Castries',\n",
       "  'longitude': '-60.9832',\n",
       "  'latitude': '14'},\n",
       " {'iso2Code': 'ZJ',\n",
       "  'name': 'Latin America & Caribbean ',\n",
       "  'region': {'id': 'NA', 'iso2code': 'NA', 'value': 'Aggregates'},\n",
       "  'incomeLevel': {'id': 'NA', 'iso2code': 'NA', 'value': 'Aggregates'},\n",
       "  'capitalCity': '',\n",
       "  'longitude': '',\n",
       "  'latitude': ''},\n",
       " {'iso2Code': 'L4',\n",
       "  'name': 'Latin America and the Caribbean',\n",
       "  'region': {'id': 'NA', 'iso2code': 'NA', 'value': 'Aggregates'},\n",
       "  'incomeLevel': {'id': 'NA', 'iso2code': 'NA', 'value': 'Aggregates'},\n",
       "  'capitalCity': '',\n",
       "  'longitude': '',\n",
       "  'latitude': ''},\n",
       " {'iso2Code': 'XL',\n",
       "  'name': 'Least developed countries: UN classification',\n",
       "  'region': {'id': 'NA', 'iso2code': 'NA', 'value': 'Aggregates'},\n",
       "  'incomeLevel': {'id': 'NA', 'iso2code': 'NA', 'value': 'Aggregates'},\n",
       "  'capitalCity': '',\n",
       "  'longitude': '',\n",
       "  'latitude': ''},\n",
       " {'iso2Code': 'XM',\n",
       "  'name': 'Low income',\n",
       "  'region': {'id': 'NA', 'iso2code': 'NA', 'value': 'Aggregates'},\n",
       "  'incomeLevel': {'id': 'NA', 'iso2code': 'NA', 'value': 'Aggregates'},\n",
       "  'capitalCity': '',\n",
       "  'longitude': '',\n",
       "  'latitude': ''},\n",
       " {'iso2Code': 'LI',\n",
       "  'name': 'Liechtenstein',\n",
       "  'region': {'id': 'ECS', 'iso2code': 'Z7', 'value': 'Europe & Central Asia'},\n",
       "  'incomeLevel': {'id': 'HIC', 'iso2code': 'XD', 'value': 'High income'},\n",
       "  'capitalCity': 'Vaduz',\n",
       "  'longitude': '9.52148',\n",
       "  'latitude': '47.1411'},\n",
       " {'iso2Code': 'LK',\n",
       "  'name': 'Sri Lanka',\n",
       "  'region': {'id': 'SAS', 'iso2code': '8S', 'value': 'South Asia'},\n",
       "  'incomeLevel': {'id': 'LMC',\n",
       "   'iso2code': 'XN',\n",
       "   'value': 'Lower middle income'},\n",
       "  'capitalCity': 'Colombo',\n",
       "  'longitude': '79.8528',\n",
       "  'latitude': '6.92148'},\n",
       " {'iso2Code': 'XN',\n",
       "  'name': 'Lower middle income',\n",
       "  'region': {'id': 'NA', 'iso2code': 'NA', 'value': 'Aggregates'},\n",
       "  'incomeLevel': {'id': 'NA', 'iso2code': 'NA', 'value': 'Aggregates'},\n",
       "  'capitalCity': '',\n",
       "  'longitude': '',\n",
       "  'latitude': ''},\n",
       " {'iso2Code': 'XO',\n",
       "  'name': 'Low & middle income',\n",
       "  'region': {'id': 'NA', 'iso2code': 'NA', 'value': 'Aggregates'},\n",
       "  'incomeLevel': {'id': 'NA', 'iso2code': 'NA', 'value': 'Aggregates'},\n",
       "  'capitalCity': '',\n",
       "  'longitude': '',\n",
       "  'latitude': ''},\n",
       " {'iso2Code': 'LS',\n",
       "  'name': 'Lesotho',\n",
       "  'region': {'id': 'SSF', 'iso2code': 'ZG', 'value': 'Sub-Saharan Africa '},\n",
       "  'incomeLevel': {'id': 'LMC',\n",
       "   'iso2code': 'XN',\n",
       "   'value': 'Lower middle income'},\n",
       "  'capitalCity': 'Maseru',\n",
       "  'longitude': '27.7167',\n",
       "  'latitude': '-29.5208'},\n",
       " {'iso2Code': 'V3',\n",
       "  'name': 'Late-demographic dividend',\n",
       "  'region': {'id': 'NA', 'iso2code': 'NA', 'value': 'Aggregates'},\n",
       "  'incomeLevel': {'id': 'NA', 'iso2code': 'NA', 'value': 'Aggregates'},\n",
       "  'capitalCity': '',\n",
       "  'longitude': '',\n",
       "  'latitude': ''},\n",
       " {'iso2Code': 'LT',\n",
       "  'name': 'Lithuania',\n",
       "  'region': {'id': 'ECS', 'iso2code': 'Z7', 'value': 'Europe & Central Asia'},\n",
       "  'incomeLevel': {'id': 'HIC', 'iso2code': 'XD', 'value': 'High income'},\n",
       "  'capitalCity': 'Vilnius',\n",
       "  'longitude': '25.2799',\n",
       "  'latitude': '54.6896'},\n",
       " {'iso2Code': 'LU',\n",
       "  'name': 'Luxembourg',\n",
       "  'region': {'id': 'ECS', 'iso2code': 'Z7', 'value': 'Europe & Central Asia'},\n",
       "  'incomeLevel': {'id': 'HIC', 'iso2code': 'XD', 'value': 'High income'},\n",
       "  'capitalCity': 'Luxembourg',\n",
       "  'longitude': '6.1296',\n",
       "  'latitude': '49.61'},\n",
       " {'iso2Code': 'LV',\n",
       "  'name': 'Latvia',\n",
       "  'region': {'id': 'ECS', 'iso2code': 'Z7', 'value': 'Europe & Central Asia'},\n",
       "  'incomeLevel': {'id': 'HIC', 'iso2code': 'XD', 'value': 'High income'},\n",
       "  'capitalCity': 'Riga',\n",
       "  'longitude': '24.1048',\n",
       "  'latitude': '56.9465'},\n",
       " {'iso2Code': 'MO',\n",
       "  'name': 'Macao SAR, China',\n",
       "  'region': {'id': 'EAS', 'iso2code': 'Z4', 'value': 'East Asia & Pacific'},\n",
       "  'incomeLevel': {'id': 'HIC', 'iso2code': 'XD', 'value': 'High income'},\n",
       "  'capitalCity': '',\n",
       "  'longitude': '113.55',\n",
       "  'latitude': '22.1667'},\n",
       " {'iso2Code': 'MF',\n",
       "  'name': 'St. Martin (French part)',\n",
       "  'region': {'id': 'LCN',\n",
       "   'iso2code': 'ZJ',\n",
       "   'value': 'Latin America & Caribbean '},\n",
       "  'incomeLevel': {'id': 'HIC', 'iso2code': 'XD', 'value': 'High income'},\n",
       "  'capitalCity': 'Marigot',\n",
       "  'longitude': '',\n",
       "  'latitude': ''},\n",
       " {'iso2Code': 'MA',\n",
       "  'name': 'Morocco',\n",
       "  'region': {'id': 'MEA',\n",
       "   'iso2code': 'ZQ',\n",
       "   'value': 'Middle East & North Africa'},\n",
       "  'incomeLevel': {'id': 'LMC',\n",
       "   'iso2code': 'XN',\n",
       "   'value': 'Lower middle income'},\n",
       "  'capitalCity': 'Rabat',\n",
       "  'longitude': '-6.8704',\n",
       "  'latitude': '33.9905'},\n",
       " {'iso2Code': 'L6',\n",
       "  'name': 'Central America',\n",
       "  'region': {'id': 'NA', 'iso2code': 'NA', 'value': 'Aggregates'},\n",
       "  'incomeLevel': {'id': 'NA', 'iso2code': 'NA', 'value': 'Aggregates'},\n",
       "  'capitalCity': '',\n",
       "  'longitude': '',\n",
       "  'latitude': ''},\n",
       " {'iso2Code': 'MC',\n",
       "  'name': 'Monaco',\n",
       "  'region': {'id': 'ECS', 'iso2code': 'Z7', 'value': 'Europe & Central Asia'},\n",
       "  'incomeLevel': {'id': 'HIC', 'iso2code': 'XD', 'value': 'High income'},\n",
       "  'capitalCity': 'Monaco',\n",
       "  'longitude': '7.41891',\n",
       "  'latitude': '43.7325'},\n",
       " {'iso2Code': 'MD',\n",
       "  'name': 'Moldova',\n",
       "  'region': {'id': 'ECS', 'iso2code': 'Z7', 'value': 'Europe & Central Asia'},\n",
       "  'incomeLevel': {'id': 'LMC',\n",
       "   'iso2code': 'XN',\n",
       "   'value': 'Lower middle income'},\n",
       "  'capitalCity': 'Chisinau',\n",
       "  'longitude': '28.8497',\n",
       "  'latitude': '47.0167'},\n",
       " {'iso2Code': 'M1',\n",
       "  'name': 'Middle East (developing only)',\n",
       "  'region': {'id': 'NA', 'iso2code': 'NA', 'value': 'Aggregates'},\n",
       "  'incomeLevel': {'id': 'NA', 'iso2code': 'NA', 'value': 'Aggregates'},\n",
       "  'capitalCity': '',\n",
       "  'longitude': '',\n",
       "  'latitude': ''},\n",
       " {'iso2Code': 'MG',\n",
       "  'name': 'Madagascar',\n",
       "  'region': {'id': 'SSF', 'iso2code': 'ZG', 'value': 'Sub-Saharan Africa '},\n",
       "  'incomeLevel': {'id': 'LIC', 'iso2code': 'XM', 'value': 'Low income'},\n",
       "  'capitalCity': 'Antananarivo',\n",
       "  'longitude': '45.7167',\n",
       "  'latitude': '-20.4667'},\n",
       " {'iso2Code': 'MV',\n",
       "  'name': 'Maldives',\n",
       "  'region': {'id': 'SAS', 'iso2code': '8S', 'value': 'South Asia'},\n",
       "  'incomeLevel': {'id': 'UMC',\n",
       "   'iso2code': 'XT',\n",
       "   'value': 'Upper middle income'},\n",
       "  'capitalCity': 'Male',\n",
       "  'longitude': '73.5109',\n",
       "  'latitude': '4.1742'},\n",
       " {'iso2Code': 'ZQ',\n",
       "  'name': 'Middle East & North Africa',\n",
       "  'region': {'id': 'NA', 'iso2code': 'NA', 'value': 'Aggregates'},\n",
       "  'incomeLevel': {'id': 'NA', 'iso2code': 'NA', 'value': 'Aggregates'},\n",
       "  'capitalCity': '',\n",
       "  'longitude': '',\n",
       "  'latitude': ''},\n",
       " {'iso2Code': 'MX',\n",
       "  'name': 'Mexico',\n",
       "  'region': {'id': 'LCN',\n",
       "   'iso2code': 'ZJ',\n",
       "   'value': 'Latin America & Caribbean '},\n",
       "  'incomeLevel': {'id': 'UMC',\n",
       "   'iso2code': 'XT',\n",
       "   'value': 'Upper middle income'},\n",
       "  'capitalCity': 'Mexico City',\n",
       "  'longitude': '-99.1276',\n",
       "  'latitude': '19.427'},\n",
       " {'iso2Code': 'MH',\n",
       "  'name': 'Marshall Islands',\n",
       "  'region': {'id': 'EAS', 'iso2code': 'Z4', 'value': 'East Asia & Pacific'},\n",
       "  'incomeLevel': {'id': 'UMC',\n",
       "   'iso2code': 'XT',\n",
       "   'value': 'Upper middle income'},\n",
       "  'capitalCity': 'Majuro',\n",
       "  'longitude': '171.135',\n",
       "  'latitude': '7.11046'},\n",
       " {'iso2Code': 'XP',\n",
       "  'name': 'Middle income',\n",
       "  'region': {'id': 'NA', 'iso2code': 'NA', 'value': 'Aggregates'},\n",
       "  'incomeLevel': {'id': 'NA', 'iso2code': 'NA', 'value': 'Aggregates'},\n",
       "  'capitalCity': '',\n",
       "  'longitude': '',\n",
       "  'latitude': ''},\n",
       " {'iso2Code': 'MK',\n",
       "  'name': 'North Macedonia',\n",
       "  'region': {'id': 'ECS', 'iso2code': 'Z7', 'value': 'Europe & Central Asia'},\n",
       "  'incomeLevel': {'id': 'UMC',\n",
       "   'iso2code': 'XT',\n",
       "   'value': 'Upper middle income'},\n",
       "  'capitalCity': 'Skopje',\n",
       "  'longitude': '21.4361',\n",
       "  'latitude': '42.0024'},\n",
       " {'iso2Code': 'ML',\n",
       "  'name': 'Mali',\n",
       "  'region': {'id': 'SSF', 'iso2code': 'ZG', 'value': 'Sub-Saharan Africa '},\n",
       "  'incomeLevel': {'id': 'LIC', 'iso2code': 'XM', 'value': 'Low income'},\n",
       "  'capitalCity': 'Bamako',\n",
       "  'longitude': '-7.50034',\n",
       "  'latitude': '13.5667'},\n",
       " {'iso2Code': 'MT',\n",
       "  'name': 'Malta',\n",
       "  'region': {'id': 'MEA',\n",
       "   'iso2code': 'ZQ',\n",
       "   'value': 'Middle East & North Africa'},\n",
       "  'incomeLevel': {'id': 'HIC', 'iso2code': 'XD', 'value': 'High income'},\n",
       "  'capitalCity': 'Valletta',\n",
       "  'longitude': '14.5189',\n",
       "  'latitude': '35.9042'},\n",
       " {'iso2Code': 'MM',\n",
       "  'name': 'Myanmar',\n",
       "  'region': {'id': 'EAS', 'iso2code': 'Z4', 'value': 'East Asia & Pacific'},\n",
       "  'incomeLevel': {'id': 'LMC',\n",
       "   'iso2code': 'XN',\n",
       "   'value': 'Lower middle income'},\n",
       "  'capitalCity': 'Naypyidaw',\n",
       "  'longitude': '95.9562',\n",
       "  'latitude': '21.914'},\n",
       " {'iso2Code': 'XQ',\n",
       "  'name': 'Middle East & North Africa (excluding high income)',\n",
       "  'region': {'id': 'NA', 'iso2code': 'NA', 'value': 'Aggregates'},\n",
       "  'incomeLevel': {'id': 'NA', 'iso2code': 'NA', 'value': 'Aggregates'},\n",
       "  'capitalCity': '',\n",
       "  'longitude': '',\n",
       "  'latitude': ''},\n",
       " {'iso2Code': 'ME',\n",
       "  'name': 'Montenegro',\n",
       "  'region': {'id': 'ECS', 'iso2code': 'Z7', 'value': 'Europe & Central Asia'},\n",
       "  'incomeLevel': {'id': 'UMC',\n",
       "   'iso2code': 'XT',\n",
       "   'value': 'Upper middle income'},\n",
       "  'capitalCity': 'Podgorica',\n",
       "  'longitude': '19.2595',\n",
       "  'latitude': '42.4602'},\n",
       " {'iso2Code': 'MN',\n",
       "  'name': 'Mongolia',\n",
       "  'region': {'id': 'EAS', 'iso2code': 'Z4', 'value': 'East Asia & Pacific'},\n",
       "  'incomeLevel': {'id': 'LMC',\n",
       "   'iso2code': 'XN',\n",
       "   'value': 'Lower middle income'},\n",
       "  'capitalCity': 'Ulaanbaatar',\n",
       "  'longitude': '106.937',\n",
       "  'latitude': '47.9129'},\n",
       " {'iso2Code': 'MP',\n",
       "  'name': 'Northern Mariana Islands',\n",
       "  'region': {'id': 'EAS', 'iso2code': 'Z4', 'value': 'East Asia & Pacific'},\n",
       "  'incomeLevel': {'id': 'HIC', 'iso2code': 'XD', 'value': 'High income'},\n",
       "  'capitalCity': 'Saipan',\n",
       "  'longitude': '145.765',\n",
       "  'latitude': '15.1935'},\n",
       " {'iso2Code': 'MZ',\n",
       "  'name': 'Mozambique',\n",
       "  'region': {'id': 'SSF', 'iso2code': 'ZG', 'value': 'Sub-Saharan Africa '},\n",
       "  'incomeLevel': {'id': 'LIC', 'iso2code': 'XM', 'value': 'Low income'},\n",
       "  'capitalCity': 'Maputo',\n",
       "  'longitude': '32.5713',\n",
       "  'latitude': '-25.9664'},\n",
       " {'iso2Code': 'MR',\n",
       "  'name': 'Mauritania',\n",
       "  'region': {'id': 'SSF', 'iso2code': 'ZG', 'value': 'Sub-Saharan Africa '},\n",
       "  'incomeLevel': {'id': 'LMC',\n",
       "   'iso2code': 'XN',\n",
       "   'value': 'Lower middle income'},\n",
       "  'capitalCity': 'Nouakchott',\n",
       "  'longitude': '-15.9824',\n",
       "  'latitude': '18.2367'},\n",
       " {'iso2Code': 'MU',\n",
       "  'name': 'Mauritius',\n",
       "  'region': {'id': 'SSF', 'iso2code': 'ZG', 'value': 'Sub-Saharan Africa '},\n",
       "  'incomeLevel': {'id': 'HIC', 'iso2code': 'XD', 'value': 'High income'},\n",
       "  'capitalCity': 'Port Louis',\n",
       "  'longitude': '57.4977',\n",
       "  'latitude': '-20.1605'},\n",
       " {'iso2Code': 'MW',\n",
       "  'name': 'Malawi',\n",
       "  'region': {'id': 'SSF', 'iso2code': 'ZG', 'value': 'Sub-Saharan Africa '},\n",
       "  'incomeLevel': {'id': 'LIC', 'iso2code': 'XM', 'value': 'Low income'},\n",
       "  'capitalCity': 'Lilongwe',\n",
       "  'longitude': '33.7703',\n",
       "  'latitude': '-13.9899'},\n",
       " {'iso2Code': 'MY',\n",
       "  'name': 'Malaysia',\n",
       "  'region': {'id': 'EAS', 'iso2code': 'Z4', 'value': 'East Asia & Pacific'},\n",
       "  'incomeLevel': {'id': 'UMC',\n",
       "   'iso2code': 'XT',\n",
       "   'value': 'Upper middle income'},\n",
       "  'capitalCity': 'Kuala Lumpur',\n",
       "  'longitude': '101.684',\n",
       "  'latitude': '3.12433'},\n",
       " {'iso2Code': 'XU',\n",
       "  'name': 'North America',\n",
       "  'region': {'id': 'NA', 'iso2code': 'NA', 'value': 'Aggregates'},\n",
       "  'incomeLevel': {'id': 'NA', 'iso2code': 'NA', 'value': 'Aggregates'},\n",
       "  'capitalCity': '',\n",
       "  'longitude': '',\n",
       "  'latitude': ''},\n",
       " {'iso2Code': 'M2',\n",
       "  'name': 'North Africa',\n",
       "  'region': {'id': 'NA', 'iso2code': 'NA', 'value': 'Aggregates'},\n",
       "  'incomeLevel': {'id': 'NA', 'iso2code': 'NA', 'value': 'Aggregates'},\n",
       "  'capitalCity': '',\n",
       "  'longitude': '',\n",
       "  'latitude': ''},\n",
       " {'iso2Code': 'NA',\n",
       "  'name': 'Namibia',\n",
       "  'region': {'id': 'SSF', 'iso2code': 'ZG', 'value': 'Sub-Saharan Africa '},\n",
       "  'incomeLevel': {'id': 'UMC',\n",
       "   'iso2code': 'XT',\n",
       "   'value': 'Upper middle income'},\n",
       "  'capitalCity': 'Windhoek',\n",
       "  'longitude': '17.0931',\n",
       "  'latitude': '-22.5648'},\n",
       " {'iso2Code': 'NC',\n",
       "  'name': 'New Caledonia',\n",
       "  'region': {'id': 'EAS', 'iso2code': 'Z4', 'value': 'East Asia & Pacific'},\n",
       "  'incomeLevel': {'id': 'HIC', 'iso2code': 'XD', 'value': 'High income'},\n",
       "  'capitalCity': \"Noum'ea\",\n",
       "  'longitude': '166.464',\n",
       "  'latitude': '-22.2677'},\n",
       " {'iso2Code': 'NE',\n",
       "  'name': 'Niger',\n",
       "  'region': {'id': 'SSF', 'iso2code': 'ZG', 'value': 'Sub-Saharan Africa '},\n",
       "  'incomeLevel': {'id': 'LIC', 'iso2code': 'XM', 'value': 'Low income'},\n",
       "  'capitalCity': 'Niamey',\n",
       "  'longitude': '2.1073',\n",
       "  'latitude': '13.514'},\n",
       " {'iso2Code': 'NG',\n",
       "  'name': 'Nigeria',\n",
       "  'region': {'id': 'SSF', 'iso2code': 'ZG', 'value': 'Sub-Saharan Africa '},\n",
       "  'incomeLevel': {'id': 'LMC',\n",
       "   'iso2code': 'XN',\n",
       "   'value': 'Lower middle income'},\n",
       "  'capitalCity': 'Abuja',\n",
       "  'longitude': '7.48906',\n",
       "  'latitude': '9.05804'},\n",
       " {'iso2Code': 'NI',\n",
       "  'name': 'Nicaragua',\n",
       "  'region': {'id': 'LCN',\n",
       "   'iso2code': 'ZJ',\n",
       "   'value': 'Latin America & Caribbean '},\n",
       "  'incomeLevel': {'id': 'LMC',\n",
       "   'iso2code': 'XN',\n",
       "   'value': 'Lower middle income'},\n",
       "  'capitalCity': 'Managua',\n",
       "  'longitude': '-86.2734',\n",
       "  'latitude': '12.1475'},\n",
       " {'iso2Code': 'NL',\n",
       "  'name': 'Netherlands',\n",
       "  'region': {'id': 'ECS', 'iso2code': 'Z7', 'value': 'Europe & Central Asia'},\n",
       "  'incomeLevel': {'id': 'HIC', 'iso2code': 'XD', 'value': 'High income'},\n",
       "  'capitalCity': 'Amsterdam',\n",
       "  'longitude': '4.89095',\n",
       "  'latitude': '52.3738'},\n",
       " {'iso2Code': '6L',\n",
       "  'name': 'Non-resource rich Sub-Saharan Africa countries, of which landlocked',\n",
       "  'region': {'id': 'NA', 'iso2code': 'NA', 'value': 'Aggregates'},\n",
       "  'incomeLevel': {'id': 'NA', 'iso2code': 'NA', 'value': 'Aggregates'},\n",
       "  'capitalCity': '',\n",
       "  'longitude': '',\n",
       "  'latitude': ''},\n",
       " {'iso2Code': 'NO',\n",
       "  'name': 'Norway',\n",
       "  'region': {'id': 'ECS', 'iso2code': 'Z7', 'value': 'Europe & Central Asia'},\n",
       "  'incomeLevel': {'id': 'HIC', 'iso2code': 'XD', 'value': 'High income'},\n",
       "  'capitalCity': 'Oslo',\n",
       "  'longitude': '10.7387',\n",
       "  'latitude': '59.9138'},\n",
       " {'iso2Code': 'NP',\n",
       "  'name': 'Nepal',\n",
       "  'region': {'id': 'SAS', 'iso2code': '8S', 'value': 'South Asia'},\n",
       "  'incomeLevel': {'id': 'LMC',\n",
       "   'iso2code': 'XN',\n",
       "   'value': 'Lower middle income'},\n",
       "  'capitalCity': 'Kathmandu',\n",
       "  'longitude': '85.3157',\n",
       "  'latitude': '27.6939'},\n",
       " {'iso2Code': '6X',\n",
       "  'name': 'Non-resource rich Sub-Saharan Africa countries',\n",
       "  'region': {'id': 'NA', 'iso2code': 'NA', 'value': 'Aggregates'},\n",
       "  'incomeLevel': {'id': 'NA', 'iso2code': 'NA', 'value': 'Aggregates'},\n",
       "  'capitalCity': '',\n",
       "  'longitude': '',\n",
       "  'latitude': ''},\n",
       " {'iso2Code': 'NR',\n",
       "  'name': 'Nauru',\n",
       "  'region': {'id': 'EAS', 'iso2code': 'Z4', 'value': 'East Asia & Pacific'},\n",
       "  'incomeLevel': {'id': 'HIC', 'iso2code': 'XD', 'value': 'High income'},\n",
       "  'capitalCity': 'Yaren District',\n",
       "  'longitude': '166.920867',\n",
       "  'latitude': '-0.5477'},\n",
       " {'iso2Code': '6N',\n",
       "  'name': 'IDA countries not classified as fragile situations, excluding Sub-Saharan Africa',\n",
       "  'region': {'id': 'NA', 'iso2code': 'NA', 'value': 'Aggregates'},\n",
       "  'incomeLevel': {'id': 'NA', 'iso2code': 'NA', 'value': 'Aggregates'},\n",
       "  'capitalCity': '',\n",
       "  'longitude': '',\n",
       "  'latitude': ''},\n",
       " {'iso2Code': 'NZ',\n",
       "  'name': 'New Zealand',\n",
       "  'region': {'id': 'EAS', 'iso2code': 'Z4', 'value': 'East Asia & Pacific'},\n",
       "  'incomeLevel': {'id': 'HIC', 'iso2code': 'XD', 'value': 'High income'},\n",
       "  'capitalCity': 'Wellington',\n",
       "  'longitude': '174.776',\n",
       "  'latitude': '-41.2865'},\n",
       " {'iso2Code': 'OE',\n",
       "  'name': 'OECD members',\n",
       "  'region': {'id': 'NA', 'iso2code': 'NA', 'value': 'Aggregates'},\n",
       "  'incomeLevel': {'id': 'NA', 'iso2code': 'NA', 'value': 'Aggregates'},\n",
       "  'capitalCity': '',\n",
       "  'longitude': '',\n",
       "  'latitude': ''},\n",
       " {'iso2Code': 'OM',\n",
       "  'name': 'Oman',\n",
       "  'region': {'id': 'MEA',\n",
       "   'iso2code': 'ZQ',\n",
       "   'value': 'Middle East & North Africa'},\n",
       "  'incomeLevel': {'id': 'HIC', 'iso2code': 'XD', 'value': 'High income'},\n",
       "  'capitalCity': 'Muscat',\n",
       "  'longitude': '58.5874',\n",
       "  'latitude': '23.6105'},\n",
       " {'iso2Code': 'S4',\n",
       "  'name': 'Other small states',\n",
       "  'region': {'id': 'NA', 'iso2code': 'NA', 'value': 'Aggregates'},\n",
       "  'incomeLevel': {'id': 'NA', 'iso2code': 'NA', 'value': 'Aggregates'},\n",
       "  'capitalCity': '',\n",
       "  'longitude': '',\n",
       "  'latitude': ''},\n",
       " {'iso2Code': 'PK',\n",
       "  'name': 'Pakistan',\n",
       "  'region': {'id': 'SAS', 'iso2code': '8S', 'value': 'South Asia'},\n",
       "  'incomeLevel': {'id': 'LMC',\n",
       "   'iso2code': 'XN',\n",
       "   'value': 'Lower middle income'},\n",
       "  'capitalCity': 'Islamabad',\n",
       "  'longitude': '72.8',\n",
       "  'latitude': '30.5167'},\n",
       " {'iso2Code': 'PA',\n",
       "  'name': 'Panama',\n",
       "  'region': {'id': 'LCN',\n",
       "   'iso2code': 'ZJ',\n",
       "   'value': 'Latin America & Caribbean '},\n",
       "  'incomeLevel': {'id': 'HIC', 'iso2code': 'XD', 'value': 'High income'},\n",
       "  'capitalCity': 'Panama City',\n",
       "  'longitude': '-79.5188',\n",
       "  'latitude': '8.99427'},\n",
       " {'iso2Code': 'PE',\n",
       "  'name': 'Peru',\n",
       "  'region': {'id': 'LCN',\n",
       "   'iso2code': 'ZJ',\n",
       "   'value': 'Latin America & Caribbean '},\n",
       "  'incomeLevel': {'id': 'UMC',\n",
       "   'iso2code': 'XT',\n",
       "   'value': 'Upper middle income'},\n",
       "  'capitalCity': 'Lima',\n",
       "  'longitude': '-77.0465',\n",
       "  'latitude': '-12.0931'},\n",
       " {'iso2Code': 'PH',\n",
       "  'name': 'Philippines',\n",
       "  'region': {'id': 'EAS', 'iso2code': 'Z4', 'value': 'East Asia & Pacific'},\n",
       "  'incomeLevel': {'id': 'LMC',\n",
       "   'iso2code': 'XN',\n",
       "   'value': 'Lower middle income'},\n",
       "  'capitalCity': 'Manila',\n",
       "  'longitude': '121.035',\n",
       "  'latitude': '14.5515'},\n",
       " {'iso2Code': 'PW',\n",
       "  'name': 'Palau',\n",
       "  'region': {'id': 'EAS', 'iso2code': 'Z4', 'value': 'East Asia & Pacific'},\n",
       "  'incomeLevel': {'id': 'HIC', 'iso2code': 'XD', 'value': 'High income'},\n",
       "  'capitalCity': 'Koror',\n",
       "  'longitude': '134.479',\n",
       "  'latitude': '7.34194'},\n",
       " {'iso2Code': 'PG',\n",
       "  'name': 'Papua New Guinea',\n",
       "  'region': {'id': 'EAS', 'iso2code': 'Z4', 'value': 'East Asia & Pacific'},\n",
       "  'incomeLevel': {'id': 'LMC',\n",
       "   'iso2code': 'XN',\n",
       "   'value': 'Lower middle income'},\n",
       "  'capitalCity': 'Port Moresby',\n",
       "  'longitude': '147.194',\n",
       "  'latitude': '-9.47357'},\n",
       " {'iso2Code': 'PL',\n",
       "  'name': 'Poland',\n",
       "  'region': {'id': 'ECS', 'iso2code': 'Z7', 'value': 'Europe & Central Asia'},\n",
       "  'incomeLevel': {'id': 'HIC', 'iso2code': 'XD', 'value': 'High income'},\n",
       "  'capitalCity': 'Warsaw',\n",
       "  'longitude': '21.02',\n",
       "  'latitude': '52.26'},\n",
       " {'iso2Code': 'V1',\n",
       "  'name': 'Pre-demographic dividend',\n",
       "  'region': {'id': 'NA', 'iso2code': 'NA', 'value': 'Aggregates'},\n",
       "  'incomeLevel': {'id': 'NA', 'iso2code': 'NA', 'value': 'Aggregates'},\n",
       "  'capitalCity': '',\n",
       "  'longitude': '',\n",
       "  'latitude': ''},\n",
       " {'iso2Code': 'PR',\n",
       "  'name': 'Puerto Rico',\n",
       "  'region': {'id': 'LCN',\n",
       "   'iso2code': 'ZJ',\n",
       "   'value': 'Latin America & Caribbean '},\n",
       "  'incomeLevel': {'id': 'HIC', 'iso2code': 'XD', 'value': 'High income'},\n",
       "  'capitalCity': 'San Juan',\n",
       "  'longitude': '-66',\n",
       "  'latitude': '18.23'},\n",
       " {'iso2Code': 'KP',\n",
       "  'name': 'Korea, Dem. People’s Rep.',\n",
       "  'region': {'id': 'EAS', 'iso2code': 'Z4', 'value': 'East Asia & Pacific'},\n",
       "  'incomeLevel': {'id': 'LIC', 'iso2code': 'XM', 'value': 'Low income'},\n",
       "  'capitalCity': 'Pyongyang',\n",
       "  'longitude': '125.754',\n",
       "  'latitude': '39.0319'},\n",
       " {'iso2Code': 'PT',\n",
       "  'name': 'Portugal',\n",
       "  'region': {'id': 'ECS', 'iso2code': 'Z7', 'value': 'Europe & Central Asia'},\n",
       "  'incomeLevel': {'id': 'HIC', 'iso2code': 'XD', 'value': 'High income'},\n",
       "  'capitalCity': 'Lisbon',\n",
       "  'longitude': '-9.13552',\n",
       "  'latitude': '38.7072'},\n",
       " {'iso2Code': 'PY',\n",
       "  'name': 'Paraguay',\n",
       "  'region': {'id': 'LCN',\n",
       "   'iso2code': 'ZJ',\n",
       "   'value': 'Latin America & Caribbean '},\n",
       "  'incomeLevel': {'id': 'UMC',\n",
       "   'iso2code': 'XT',\n",
       "   'value': 'Upper middle income'},\n",
       "  'capitalCity': 'Asuncion',\n",
       "  'longitude': '-57.6362',\n",
       "  'latitude': '-25.3005'},\n",
       " {'iso2Code': 'PS',\n",
       "  'name': 'West Bank and Gaza',\n",
       "  'region': {'id': 'MEA',\n",
       "   'iso2code': 'ZQ',\n",
       "   'value': 'Middle East & North Africa'},\n",
       "  'incomeLevel': {'id': 'LMC',\n",
       "   'iso2code': 'XN',\n",
       "   'value': 'Lower middle income'},\n",
       "  'capitalCity': '',\n",
       "  'longitude': '',\n",
       "  'latitude': ''},\n",
       " {'iso2Code': 'S2',\n",
       "  'name': 'Pacific island small states',\n",
       "  'region': {'id': 'NA', 'iso2code': 'NA', 'value': 'Aggregates'},\n",
       "  'incomeLevel': {'id': 'NA', 'iso2code': 'NA', 'value': 'Aggregates'},\n",
       "  'capitalCity': '',\n",
       "  'longitude': '',\n",
       "  'latitude': ''},\n",
       " {'iso2Code': 'V4',\n",
       "  'name': 'Post-demographic dividend',\n",
       "  'region': {'id': 'NA', 'iso2code': 'NA', 'value': 'Aggregates'},\n",
       "  'incomeLevel': {'id': 'NA', 'iso2code': 'NA', 'value': 'Aggregates'},\n",
       "  'capitalCity': '',\n",
       "  'longitude': '',\n",
       "  'latitude': ''},\n",
       " {'iso2Code': 'PF',\n",
       "  'name': 'French Polynesia',\n",
       "  'region': {'id': 'EAS', 'iso2code': 'Z4', 'value': 'East Asia & Pacific'},\n",
       "  'incomeLevel': {'id': 'HIC', 'iso2code': 'XD', 'value': 'High income'},\n",
       "  'capitalCity': 'Papeete',\n",
       "  'longitude': '-149.57',\n",
       "  'latitude': '-17.535'},\n",
       " {'iso2Code': 'QA',\n",
       "  'name': 'Qatar',\n",
       "  'region': {'id': 'MEA',\n",
       "   'iso2code': 'ZQ',\n",
       "   'value': 'Middle East & North Africa'},\n",
       "  'incomeLevel': {'id': 'HIC', 'iso2code': 'XD', 'value': 'High income'},\n",
       "  'capitalCity': 'Doha',\n",
       "  'longitude': '51.5082',\n",
       "  'latitude': '25.2948'},\n",
       " {'iso2Code': 'RO',\n",
       "  'name': 'Romania',\n",
       "  'region': {'id': 'ECS', 'iso2code': 'Z7', 'value': 'Europe & Central Asia'},\n",
       "  'incomeLevel': {'id': 'HIC', 'iso2code': 'XD', 'value': 'High income'},\n",
       "  'capitalCity': 'Bucharest',\n",
       "  'longitude': '26.0979',\n",
       "  'latitude': '44.4479'},\n",
       " {'iso2Code': 'R6',\n",
       "  'name': 'Resource rich Sub-Saharan Africa countries',\n",
       "  'region': {'id': 'NA', 'iso2code': 'NA', 'value': 'Aggregates'},\n",
       "  'incomeLevel': {'id': 'NA', 'iso2code': 'NA', 'value': 'Aggregates'},\n",
       "  'capitalCity': '',\n",
       "  'longitude': '',\n",
       "  'latitude': ''},\n",
       " {'iso2Code': 'O6',\n",
       "  'name': 'Resource rich Sub-Saharan Africa countries, of which oil exporters',\n",
       "  'region': {'id': 'NA', 'iso2code': 'NA', 'value': 'Aggregates'},\n",
       "  'incomeLevel': {'id': 'NA', 'iso2code': 'NA', 'value': 'Aggregates'},\n",
       "  'capitalCity': '',\n",
       "  'longitude': '',\n",
       "  'latitude': ''},\n",
       " {'iso2Code': 'RU',\n",
       "  'name': 'Russian Federation',\n",
       "  'region': {'id': 'ECS', 'iso2code': 'Z7', 'value': 'Europe & Central Asia'},\n",
       "  'incomeLevel': {'id': 'UMC',\n",
       "   'iso2code': 'XT',\n",
       "   'value': 'Upper middle income'},\n",
       "  'capitalCity': 'Moscow',\n",
       "  'longitude': '37.6176',\n",
       "  'latitude': '55.7558'},\n",
       " {'iso2Code': 'RW',\n",
       "  'name': 'Rwanda',\n",
       "  'region': {'id': 'SSF', 'iso2code': 'ZG', 'value': 'Sub-Saharan Africa '},\n",
       "  'incomeLevel': {'id': 'LIC', 'iso2code': 'XM', 'value': 'Low income'},\n",
       "  'capitalCity': 'Kigali',\n",
       "  'longitude': '30.0587',\n",
       "  'latitude': '-1.95325'},\n",
       " {'iso2Code': '8S',\n",
       "  'name': 'South Asia',\n",
       "  'region': {'id': 'NA', 'iso2code': 'NA', 'value': 'Aggregates'},\n",
       "  'incomeLevel': {'id': 'NA', 'iso2code': 'NA', 'value': 'Aggregates'},\n",
       "  'capitalCity': '',\n",
       "  'longitude': '',\n",
       "  'latitude': ''},\n",
       " {'iso2Code': 'SA',\n",
       "  'name': 'Saudi Arabia',\n",
       "  'region': {'id': 'MEA',\n",
       "   'iso2code': 'ZQ',\n",
       "   'value': 'Middle East & North Africa'},\n",
       "  'incomeLevel': {'id': 'HIC', 'iso2code': 'XD', 'value': 'High income'},\n",
       "  'capitalCity': 'Riyadh',\n",
       "  'longitude': '46.6977',\n",
       "  'latitude': '24.6748'},\n",
       " {'iso2Code': 'L7',\n",
       "  'name': 'Southern Cone',\n",
       "  'region': {'id': 'NA', 'iso2code': 'NA', 'value': 'Aggregates'},\n",
       "  'incomeLevel': {'id': 'NA', 'iso2code': 'NA', 'value': 'Aggregates'},\n",
       "  'capitalCity': '',\n",
       "  'longitude': '',\n",
       "  'latitude': ''},\n",
       " {'iso2Code': 'SD',\n",
       "  'name': 'Sudan',\n",
       "  'region': {'id': 'SSF', 'iso2code': 'ZG', 'value': 'Sub-Saharan Africa '},\n",
       "  'incomeLevel': {'id': 'LIC', 'iso2code': 'XM', 'value': 'Low income'},\n",
       "  'capitalCity': 'Khartoum',\n",
       "  'longitude': '32.5363',\n",
       "  'latitude': '15.5932'},\n",
       " {'iso2Code': 'SN',\n",
       "  'name': 'Senegal',\n",
       "  'region': {'id': 'SSF', 'iso2code': 'ZG', 'value': 'Sub-Saharan Africa '},\n",
       "  'incomeLevel': {'id': 'LMC',\n",
       "   'iso2code': 'XN',\n",
       "   'value': 'Lower middle income'},\n",
       "  'capitalCity': 'Dakar',\n",
       "  'longitude': '-17.4734',\n",
       "  'latitude': '14.7247'},\n",
       " {'iso2Code': 'SG',\n",
       "  'name': 'Singapore',\n",
       "  'region': {'id': 'EAS', 'iso2code': 'Z4', 'value': 'East Asia & Pacific'},\n",
       "  'incomeLevel': {'id': 'HIC', 'iso2code': 'XD', 'value': 'High income'},\n",
       "  'capitalCity': 'Singapore',\n",
       "  'longitude': '103.85',\n",
       "  'latitude': '1.28941'},\n",
       " {'iso2Code': 'SB',\n",
       "  'name': 'Solomon Islands',\n",
       "  'region': {'id': 'EAS', 'iso2code': 'Z4', 'value': 'East Asia & Pacific'},\n",
       "  'incomeLevel': {'id': 'LMC',\n",
       "   'iso2code': 'XN',\n",
       "   'value': 'Lower middle income'},\n",
       "  'capitalCity': 'Honiara',\n",
       "  'longitude': '159.949',\n",
       "  'latitude': '-9.42676'},\n",
       " {'iso2Code': 'SL',\n",
       "  'name': 'Sierra Leone',\n",
       "  'region': {'id': 'SSF', 'iso2code': 'ZG', 'value': 'Sub-Saharan Africa '},\n",
       "  'incomeLevel': {'id': 'LIC', 'iso2code': 'XM', 'value': 'Low income'},\n",
       "  'capitalCity': 'Freetown',\n",
       "  'longitude': '-13.2134',\n",
       "  'latitude': '8.4821'},\n",
       " {'iso2Code': 'SV',\n",
       "  'name': 'El Salvador',\n",
       "  'region': {'id': 'LCN',\n",
       "   'iso2code': 'ZJ',\n",
       "   'value': 'Latin America & Caribbean '},\n",
       "  'incomeLevel': {'id': 'LMC',\n",
       "   'iso2code': 'XN',\n",
       "   'value': 'Lower middle income'},\n",
       "  'capitalCity': 'San Salvador',\n",
       "  'longitude': '-89.2073',\n",
       "  'latitude': '13.7034'},\n",
       " {'iso2Code': 'SM',\n",
       "  'name': 'San Marino',\n",
       "  'region': {'id': 'ECS', 'iso2code': 'Z7', 'value': 'Europe & Central Asia'},\n",
       "  'incomeLevel': {'id': 'HIC', 'iso2code': 'XD', 'value': 'High income'},\n",
       "  'capitalCity': 'San Marino',\n",
       "  'longitude': '12.4486',\n",
       "  'latitude': '43.9322'},\n",
       " {'iso2Code': 'SO',\n",
       "  'name': 'Somalia',\n",
       "  'region': {'id': 'SSF', 'iso2code': 'ZG', 'value': 'Sub-Saharan Africa '},\n",
       "  'incomeLevel': {'id': 'LIC', 'iso2code': 'XM', 'value': 'Low income'},\n",
       "  'capitalCity': 'Mogadishu',\n",
       "  'longitude': '45.3254',\n",
       "  'latitude': '2.07515'},\n",
       " {'iso2Code': 'RS',\n",
       "  'name': 'Serbia',\n",
       "  'region': {'id': 'ECS', 'iso2code': 'Z7', 'value': 'Europe & Central Asia'},\n",
       "  'incomeLevel': {'id': 'UMC',\n",
       "   'iso2code': 'XT',\n",
       "   'value': 'Upper middle income'},\n",
       "  'capitalCity': 'Belgrade',\n",
       "  'longitude': '20.4656',\n",
       "  'latitude': '44.8024'},\n",
       " {'iso2Code': 'ZF',\n",
       "  'name': 'Sub-Saharan Africa (excluding high income)',\n",
       "  'region': {'id': 'NA', 'iso2code': 'NA', 'value': 'Aggregates'},\n",
       "  'incomeLevel': {'id': 'NA', 'iso2code': 'NA', 'value': 'Aggregates'},\n",
       "  'capitalCity': '',\n",
       "  'longitude': '',\n",
       "  'latitude': ''},\n",
       " {'iso2Code': 'SS',\n",
       "  'name': 'South Sudan',\n",
       "  'region': {'id': 'SSF', 'iso2code': 'ZG', 'value': 'Sub-Saharan Africa '},\n",
       "  'incomeLevel': {'id': 'LIC', 'iso2code': 'XM', 'value': 'Low income'},\n",
       "  'capitalCity': 'Juba',\n",
       "  'longitude': '31.6',\n",
       "  'latitude': '4.85'},\n",
       " {'iso2Code': 'ZG',\n",
       "  'name': 'Sub-Saharan Africa ',\n",
       "  'region': {'id': 'NA', 'iso2code': 'NA', 'value': 'Aggregates'},\n",
       "  'incomeLevel': {'id': 'NA', 'iso2code': 'NA', 'value': 'Aggregates'},\n",
       "  'capitalCity': '',\n",
       "  'longitude': '',\n",
       "  'latitude': ''},\n",
       " {'iso2Code': 'S1',\n",
       "  'name': 'Small states',\n",
       "  'region': {'id': 'NA', 'iso2code': 'NA', 'value': 'Aggregates'},\n",
       "  'incomeLevel': {'id': 'NA', 'iso2code': 'NA', 'value': 'Aggregates'},\n",
       "  'capitalCity': '',\n",
       "  'longitude': '',\n",
       "  'latitude': ''},\n",
       " {'iso2Code': 'ST',\n",
       "  'name': 'Sao Tome and Principe',\n",
       "  'region': {'id': 'SSF', 'iso2code': 'ZG', 'value': 'Sub-Saharan Africa '},\n",
       "  'incomeLevel': {'id': 'LMC',\n",
       "   'iso2code': 'XN',\n",
       "   'value': 'Lower middle income'},\n",
       "  'capitalCity': 'Sao Tome',\n",
       "  'longitude': '6.6071',\n",
       "  'latitude': '0.20618'},\n",
       " {'iso2Code': 'SR',\n",
       "  'name': 'Suriname',\n",
       "  'region': {'id': 'LCN',\n",
       "   'iso2code': 'ZJ',\n",
       "   'value': 'Latin America & Caribbean '},\n",
       "  'incomeLevel': {'id': 'UMC',\n",
       "   'iso2code': 'XT',\n",
       "   'value': 'Upper middle income'},\n",
       "  'capitalCity': 'Paramaribo',\n",
       "  'longitude': '-55.1679',\n",
       "  'latitude': '5.8232'},\n",
       " {'iso2Code': 'SK',\n",
       "  'name': 'Slovak Republic',\n",
       "  'region': {'id': 'ECS', 'iso2code': 'Z7', 'value': 'Europe & Central Asia'},\n",
       "  'incomeLevel': {'id': 'HIC', 'iso2code': 'XD', 'value': 'High income'},\n",
       "  'capitalCity': 'Bratislava',\n",
       "  'longitude': '17.1073',\n",
       "  'latitude': '48.1484'},\n",
       " {'iso2Code': 'SI',\n",
       "  'name': 'Slovenia',\n",
       "  'region': {'id': 'ECS', 'iso2code': 'Z7', 'value': 'Europe & Central Asia'},\n",
       "  'incomeLevel': {'id': 'HIC', 'iso2code': 'XD', 'value': 'High income'},\n",
       "  'capitalCity': 'Ljubljana',\n",
       "  'longitude': '14.5044',\n",
       "  'latitude': '46.0546'},\n",
       " {'iso2Code': 'SE',\n",
       "  'name': 'Sweden',\n",
       "  'region': {'id': 'ECS', 'iso2code': 'Z7', 'value': 'Europe & Central Asia'},\n",
       "  'incomeLevel': {'id': 'HIC', 'iso2code': 'XD', 'value': 'High income'},\n",
       "  'capitalCity': 'Stockholm',\n",
       "  'longitude': '18.0645',\n",
       "  'latitude': '59.3327'},\n",
       " {'iso2Code': 'SZ',\n",
       "  'name': 'Eswatini',\n",
       "  'region': {'id': 'SSF', 'iso2code': 'ZG', 'value': 'Sub-Saharan Africa '},\n",
       "  'incomeLevel': {'id': 'LMC',\n",
       "   'iso2code': 'XN',\n",
       "   'value': 'Lower middle income'},\n",
       "  'capitalCity': 'Mbabane',\n",
       "  'longitude': '31.4659',\n",
       "  'latitude': '-26.5225'},\n",
       " {'iso2Code': 'SX',\n",
       "  'name': 'Sint Maarten (Dutch part)',\n",
       "  'region': {'id': 'LCN',\n",
       "   'iso2code': 'ZJ',\n",
       "   'value': 'Latin America & Caribbean '},\n",
       "  'incomeLevel': {'id': 'HIC', 'iso2code': 'XD', 'value': 'High income'},\n",
       "  'capitalCity': 'Philipsburg',\n",
       "  'longitude': '',\n",
       "  'latitude': ''},\n",
       " {'iso2Code': 'A4',\n",
       "  'name': 'Sub-Saharan Africa excluding South Africa',\n",
       "  'region': {'id': 'NA', 'iso2code': 'NA', 'value': 'Aggregates'},\n",
       "  'incomeLevel': {'id': 'NA', 'iso2code': 'NA', 'value': 'Aggregates'},\n",
       "  'capitalCity': '',\n",
       "  'longitude': '',\n",
       "  'latitude': ''},\n",
       " {'iso2Code': 'SC',\n",
       "  'name': 'Seychelles',\n",
       "  'region': {'id': 'SSF', 'iso2code': 'ZG', 'value': 'Sub-Saharan Africa '},\n",
       "  'incomeLevel': {'id': 'HIC', 'iso2code': 'XD', 'value': 'High income'},\n",
       "  'capitalCity': 'Victoria',\n",
       "  'longitude': '55.4466',\n",
       "  'latitude': '-4.6309'},\n",
       " {'iso2Code': 'SY',\n",
       "  'name': 'Syrian Arab Republic',\n",
       "  'region': {'id': 'MEA',\n",
       "   'iso2code': 'ZQ',\n",
       "   'value': 'Middle East & North Africa'},\n",
       "  'incomeLevel': {'id': 'LIC', 'iso2code': 'XM', 'value': 'Low income'},\n",
       "  'capitalCity': 'Damascus',\n",
       "  'longitude': '36.3119',\n",
       "  'latitude': '33.5146'},\n",
       " {'iso2Code': 'TC',\n",
       "  'name': 'Turks and Caicos Islands',\n",
       "  'region': {'id': 'LCN',\n",
       "   'iso2code': 'ZJ',\n",
       "   'value': 'Latin America & Caribbean '},\n",
       "  'incomeLevel': {'id': 'HIC', 'iso2code': 'XD', 'value': 'High income'},\n",
       "  'capitalCity': 'Grand Turk',\n",
       "  'longitude': '-71.141389',\n",
       "  'latitude': '21.4602778'},\n",
       " {'iso2Code': 'TD',\n",
       "  'name': 'Chad',\n",
       "  'region': {'id': 'SSF', 'iso2code': 'ZG', 'value': 'Sub-Saharan Africa '},\n",
       "  'incomeLevel': {'id': 'LIC', 'iso2code': 'XM', 'value': 'Low income'},\n",
       "  'capitalCity': \"N'Djamena\",\n",
       "  'longitude': '15.0445',\n",
       "  'latitude': '12.1048'},\n",
       " {'iso2Code': 'T4',\n",
       "  'name': 'East Asia & Pacific (IDA & IBRD countries)',\n",
       "  'region': {'id': 'NA', 'iso2code': 'NA', 'value': 'Aggregates'},\n",
       "  'incomeLevel': {'id': 'NA', 'iso2code': 'NA', 'value': 'Aggregates'},\n",
       "  'capitalCity': '',\n",
       "  'longitude': '',\n",
       "  'latitude': ''},\n",
       " {'iso2Code': 'T7',\n",
       "  'name': 'Europe & Central Asia (IDA & IBRD countries)',\n",
       "  'region': {'id': 'NA', 'iso2code': 'NA', 'value': 'Aggregates'},\n",
       "  'incomeLevel': {'id': 'NA', 'iso2code': 'NA', 'value': 'Aggregates'},\n",
       "  'capitalCity': '',\n",
       "  'longitude': '',\n",
       "  'latitude': ''},\n",
       " {'iso2Code': 'TG',\n",
       "  'name': 'Togo',\n",
       "  'region': {'id': 'SSF', 'iso2code': 'ZG', 'value': 'Sub-Saharan Africa '},\n",
       "  'incomeLevel': {'id': 'LIC', 'iso2code': 'XM', 'value': 'Low income'},\n",
       "  'capitalCity': 'Lome',\n",
       "  'longitude': '1.2255',\n",
       "  'latitude': '6.1228'},\n",
       " {'iso2Code': 'TH',\n",
       "  'name': 'Thailand',\n",
       "  'region': {'id': 'EAS', 'iso2code': 'Z4', 'value': 'East Asia & Pacific'},\n",
       "  'incomeLevel': {'id': 'UMC',\n",
       "   'iso2code': 'XT',\n",
       "   'value': 'Upper middle income'},\n",
       "  'capitalCity': 'Bangkok',\n",
       "  'longitude': '100.521',\n",
       "  'latitude': '13.7308'},\n",
       " {'iso2Code': 'TJ',\n",
       "  'name': 'Tajikistan',\n",
       "  'region': {'id': 'ECS', 'iso2code': 'Z7', 'value': 'Europe & Central Asia'},\n",
       "  'incomeLevel': {'id': 'LIC', 'iso2code': 'XM', 'value': 'Low income'},\n",
       "  'capitalCity': 'Dushanbe',\n",
       "  'longitude': '68.7864',\n",
       "  'latitude': '38.5878'},\n",
       " {'iso2Code': 'TM',\n",
       "  'name': 'Turkmenistan',\n",
       "  'region': {'id': 'ECS', 'iso2code': 'Z7', 'value': 'Europe & Central Asia'},\n",
       "  'incomeLevel': {'id': 'UMC',\n",
       "   'iso2code': 'XT',\n",
       "   'value': 'Upper middle income'},\n",
       "  'capitalCity': 'Ashgabat',\n",
       "  'longitude': '58.3794',\n",
       "  'latitude': '37.9509'},\n",
       " {'iso2Code': 'T2',\n",
       "  'name': 'Latin America & the Caribbean (IDA & IBRD countries)',\n",
       "  'region': {'id': 'NA', 'iso2code': 'NA', 'value': 'Aggregates'},\n",
       "  'incomeLevel': {'id': 'NA', 'iso2code': 'NA', 'value': 'Aggregates'},\n",
       "  'capitalCity': '',\n",
       "  'longitude': '',\n",
       "  'latitude': ''},\n",
       " {'iso2Code': 'TL',\n",
       "  'name': 'Timor-Leste',\n",
       "  'region': {'id': 'EAS', 'iso2code': 'Z4', 'value': 'East Asia & Pacific'},\n",
       "  'incomeLevel': {'id': 'LMC',\n",
       "   'iso2code': 'XN',\n",
       "   'value': 'Lower middle income'},\n",
       "  'capitalCity': 'Dili',\n",
       "  'longitude': '125.567',\n",
       "  'latitude': '-8.56667'},\n",
       " {'iso2Code': 'T3',\n",
       "  'name': 'Middle East & North Africa (IDA & IBRD countries)',\n",
       "  'region': {'id': 'NA', 'iso2code': 'NA', 'value': 'Aggregates'},\n",
       "  'incomeLevel': {'id': 'NA', 'iso2code': 'NA', 'value': 'Aggregates'},\n",
       "  'capitalCity': '',\n",
       "  'longitude': '',\n",
       "  'latitude': ''},\n",
       " {'iso2Code': 'TO',\n",
       "  'name': 'Tonga',\n",
       "  'region': {'id': 'EAS', 'iso2code': 'Z4', 'value': 'East Asia & Pacific'},\n",
       "  'incomeLevel': {'id': 'UMC',\n",
       "   'iso2code': 'XT',\n",
       "   'value': 'Upper middle income'},\n",
       "  'capitalCity': \"Nuku'alofa\",\n",
       "  'longitude': '-175.216',\n",
       "  'latitude': '-21.136'},\n",
       " {'iso2Code': 'T5',\n",
       "  'name': 'South Asia (IDA & IBRD)',\n",
       "  'region': {'id': 'NA', 'iso2code': 'NA', 'value': 'Aggregates'},\n",
       "  'incomeLevel': {'id': 'NA', 'iso2code': 'NA', 'value': 'Aggregates'},\n",
       "  'capitalCity': '',\n",
       "  'longitude': '',\n",
       "  'latitude': ''},\n",
       " {'iso2Code': 'T6',\n",
       "  'name': 'Sub-Saharan Africa (IDA & IBRD countries)',\n",
       "  'region': {'id': 'NA', 'iso2code': 'NA', 'value': 'Aggregates'},\n",
       "  'incomeLevel': {'id': 'NA', 'iso2code': 'NA', 'value': 'Aggregates'},\n",
       "  'capitalCity': '',\n",
       "  'longitude': '',\n",
       "  'latitude': ''},\n",
       " {'iso2Code': 'TT',\n",
       "  'name': 'Trinidad and Tobago',\n",
       "  'region': {'id': 'LCN',\n",
       "   'iso2code': 'ZJ',\n",
       "   'value': 'Latin America & Caribbean '},\n",
       "  'incomeLevel': {'id': 'HIC', 'iso2code': 'XD', 'value': 'High income'},\n",
       "  'capitalCity': 'Port-of-Spain',\n",
       "  'longitude': '-61.4789',\n",
       "  'latitude': '10.6596'},\n",
       " {'iso2Code': 'TN',\n",
       "  'name': 'Tunisia',\n",
       "  'region': {'id': 'MEA',\n",
       "   'iso2code': 'ZQ',\n",
       "   'value': 'Middle East & North Africa'},\n",
       "  'incomeLevel': {'id': 'LMC',\n",
       "   'iso2code': 'XN',\n",
       "   'value': 'Lower middle income'},\n",
       "  'capitalCity': 'Tunis',\n",
       "  'longitude': '10.21',\n",
       "  'latitude': '36.7899'},\n",
       " {'iso2Code': 'TR',\n",
       "  'name': 'Turkey',\n",
       "  'region': {'id': 'ECS', 'iso2code': 'Z7', 'value': 'Europe & Central Asia'},\n",
       "  'incomeLevel': {'id': 'UMC',\n",
       "   'iso2code': 'XT',\n",
       "   'value': 'Upper middle income'},\n",
       "  'capitalCity': 'Ankara',\n",
       "  'longitude': '32.3606',\n",
       "  'latitude': '39.7153'},\n",
       " {'iso2Code': 'TV',\n",
       "  'name': 'Tuvalu',\n",
       "  'region': {'id': 'EAS', 'iso2code': 'Z4', 'value': 'East Asia & Pacific'},\n",
       "  'incomeLevel': {'id': 'UMC',\n",
       "   'iso2code': 'XT',\n",
       "   'value': 'Upper middle income'},\n",
       "  'capitalCity': 'Funafuti',\n",
       "  'longitude': '179.089567',\n",
       "  'latitude': '-8.6314877'},\n",
       " {'iso2Code': 'TW',\n",
       "  'name': 'Taiwan, China',\n",
       "  'region': {'id': 'EAS', 'iso2code': 'Z4', 'value': 'East Asia & Pacific'},\n",
       "  'incomeLevel': {'id': 'HIC', 'iso2code': 'XD', 'value': 'High income'},\n",
       "  'capitalCity': '',\n",
       "  'longitude': '',\n",
       "  'latitude': ''},\n",
       " {'iso2Code': 'TZ',\n",
       "  'name': 'Tanzania',\n",
       "  'region': {'id': 'SSF', 'iso2code': 'ZG', 'value': 'Sub-Saharan Africa '},\n",
       "  'incomeLevel': {'id': 'LMC',\n",
       "   'iso2code': 'XN',\n",
       "   'value': 'Lower middle income'},\n",
       "  'capitalCity': 'Dodoma',\n",
       "  'longitude': '35.7382',\n",
       "  'latitude': '-6.17486'},\n",
       " {'iso2Code': 'UG',\n",
       "  'name': 'Uganda',\n",
       "  'region': {'id': 'SSF', 'iso2code': 'ZG', 'value': 'Sub-Saharan Africa '},\n",
       "  'incomeLevel': {'id': 'LIC', 'iso2code': 'XM', 'value': 'Low income'},\n",
       "  'capitalCity': 'Kampala',\n",
       "  'longitude': '32.5729',\n",
       "  'latitude': '0.314269'},\n",
       " {'iso2Code': 'UA',\n",
       "  'name': 'Ukraine',\n",
       "  'region': {'id': 'ECS', 'iso2code': 'Z7', 'value': 'Europe & Central Asia'},\n",
       "  'incomeLevel': {'id': 'LMC',\n",
       "   'iso2code': 'XN',\n",
       "   'value': 'Lower middle income'},\n",
       "  'capitalCity': 'Kiev',\n",
       "  'longitude': '30.5038',\n",
       "  'latitude': '50.4536'},\n",
       " {'iso2Code': 'XT',\n",
       "  'name': 'Upper middle income',\n",
       "  'region': {'id': 'NA', 'iso2code': 'NA', 'value': 'Aggregates'},\n",
       "  'incomeLevel': {'id': 'NA', 'iso2code': 'NA', 'value': 'Aggregates'},\n",
       "  'capitalCity': '',\n",
       "  'longitude': '',\n",
       "  'latitude': ''},\n",
       " {'iso2Code': 'UY',\n",
       "  'name': 'Uruguay',\n",
       "  'region': {'id': 'LCN',\n",
       "   'iso2code': 'ZJ',\n",
       "   'value': 'Latin America & Caribbean '},\n",
       "  'incomeLevel': {'id': 'HIC', 'iso2code': 'XD', 'value': 'High income'},\n",
       "  'capitalCity': 'Montevideo',\n",
       "  'longitude': '-56.0675',\n",
       "  'latitude': '-34.8941'},\n",
       " {'iso2Code': 'US',\n",
       "  'name': 'United States',\n",
       "  'region': {'id': 'NAC', 'iso2code': 'XU', 'value': 'North America'},\n",
       "  'incomeLevel': {'id': 'HIC', 'iso2code': 'XD', 'value': 'High income'},\n",
       "  'capitalCity': 'Washington D.C.',\n",
       "  'longitude': '-77.032',\n",
       "  'latitude': '38.8895'},\n",
       " {'iso2Code': 'UZ',\n",
       "  'name': 'Uzbekistan',\n",
       "  'region': {'id': 'ECS', 'iso2code': 'Z7', 'value': 'Europe & Central Asia'},\n",
       "  'incomeLevel': {'id': 'LMC',\n",
       "   'iso2code': 'XN',\n",
       "   'value': 'Lower middle income'},\n",
       "  'capitalCity': 'Tashkent',\n",
       "  'longitude': '69.269',\n",
       "  'latitude': '41.3052'},\n",
       " {'iso2Code': 'VC',\n",
       "  'name': 'St. Vincent and the Grenadines',\n",
       "  'region': {'id': 'LCN',\n",
       "   'iso2code': 'ZJ',\n",
       "   'value': 'Latin America & Caribbean '},\n",
       "  'incomeLevel': {'id': 'UMC',\n",
       "   'iso2code': 'XT',\n",
       "   'value': 'Upper middle income'},\n",
       "  'capitalCity': 'Kingstown',\n",
       "  'longitude': '-61.2653',\n",
       "  'latitude': '13.2035'},\n",
       " {'iso2Code': 'VE',\n",
       "  'name': 'Venezuela, RB',\n",
       "  'region': {'id': 'LCN',\n",
       "   'iso2code': 'ZJ',\n",
       "   'value': 'Latin America & Caribbean '},\n",
       "  'incomeLevel': {'id': 'UMC',\n",
       "   'iso2code': 'XT',\n",
       "   'value': 'Upper middle income'},\n",
       "  'capitalCity': 'Caracas',\n",
       "  'longitude': '-69.8371',\n",
       "  'latitude': '9.08165'},\n",
       " {'iso2Code': 'VG',\n",
       "  'name': 'British Virgin Islands',\n",
       "  'region': {'id': 'LCN',\n",
       "   'iso2code': 'ZJ',\n",
       "   'value': 'Latin America & Caribbean '},\n",
       "  'incomeLevel': {'id': 'HIC', 'iso2code': 'XD', 'value': 'High income'},\n",
       "  'capitalCity': 'Road Town',\n",
       "  'longitude': '-64.623056',\n",
       "  'latitude': '18.431389'},\n",
       " {'iso2Code': 'VI',\n",
       "  'name': 'Virgin Islands (U.S.)',\n",
       "  'region': {'id': 'LCN',\n",
       "   'iso2code': 'ZJ',\n",
       "   'value': 'Latin America & Caribbean '},\n",
       "  'incomeLevel': {'id': 'HIC', 'iso2code': 'XD', 'value': 'High income'},\n",
       "  'capitalCity': 'Charlotte Amalie',\n",
       "  'longitude': '-64.8963',\n",
       "  'latitude': '18.3358'},\n",
       " {'iso2Code': 'VN',\n",
       "  'name': 'Vietnam',\n",
       "  'region': {'id': 'EAS', 'iso2code': 'Z4', 'value': 'East Asia & Pacific'},\n",
       "  'incomeLevel': {'id': 'LMC',\n",
       "   'iso2code': 'XN',\n",
       "   'value': 'Lower middle income'},\n",
       "  'capitalCity': 'Hanoi',\n",
       "  'longitude': '105.825',\n",
       "  'latitude': '21.0069'},\n",
       " {'iso2Code': 'VU',\n",
       "  'name': 'Vanuatu',\n",
       "  'region': {'id': 'EAS', 'iso2code': 'Z4', 'value': 'East Asia & Pacific'},\n",
       "  'incomeLevel': {'id': 'LMC',\n",
       "   'iso2code': 'XN',\n",
       "   'value': 'Lower middle income'},\n",
       "  'capitalCity': 'Port-Vila',\n",
       "  'longitude': '168.321',\n",
       "  'latitude': '-17.7404'},\n",
       " {'iso2Code': '1W',\n",
       "  'name': 'World',\n",
       "  'region': {'id': 'NA', 'iso2code': 'NA', 'value': 'Aggregates'},\n",
       "  'incomeLevel': {'id': 'NA', 'iso2code': 'NA', 'value': 'Aggregates'},\n",
       "  'capitalCity': '',\n",
       "  'longitude': '',\n",
       "  'latitude': ''},\n",
       " {'iso2Code': 'WS',\n",
       "  'name': 'Samoa',\n",
       "  'region': {'id': 'EAS', 'iso2code': 'Z4', 'value': 'East Asia & Pacific'},\n",
       "  'incomeLevel': {'id': 'UMC',\n",
       "   'iso2code': 'XT',\n",
       "   'value': 'Upper middle income'},\n",
       "  'capitalCity': 'Apia',\n",
       "  'longitude': '-171.752',\n",
       "  'latitude': '-13.8314'},\n",
       " {'iso2Code': 'XK',\n",
       "  'name': 'Kosovo',\n",
       "  'region': {'id': 'ECS', 'iso2code': 'Z7', 'value': 'Europe & Central Asia'},\n",
       "  'incomeLevel': {'id': 'UMC',\n",
       "   'iso2code': 'XT',\n",
       "   'value': 'Upper middle income'},\n",
       "  'capitalCity': 'Pristina',\n",
       "  'longitude': '20.926',\n",
       "  'latitude': '42.565'},\n",
       " {'iso2Code': 'A5',\n",
       "  'name': 'Sub-Saharan Africa excluding South Africa and Nigeria',\n",
       "  'region': {'id': 'NA', 'iso2code': 'NA', 'value': 'Aggregates'},\n",
       "  'incomeLevel': {'id': 'NA', 'iso2code': 'NA', 'value': 'Aggregates'},\n",
       "  'capitalCity': '',\n",
       "  'longitude': '',\n",
       "  'latitude': ''},\n",
       " {'iso2Code': 'YE',\n",
       "  'name': 'Yemen, Rep.',\n",
       "  'region': {'id': 'MEA',\n",
       "   'iso2code': 'ZQ',\n",
       "   'value': 'Middle East & North Africa'},\n",
       "  'incomeLevel': {'id': 'LIC', 'iso2code': 'XM', 'value': 'Low income'},\n",
       "  'capitalCity': \"Sana'a\",\n",
       "  'longitude': '44.2075',\n",
       "  'latitude': '15.352'},\n",
       " {'iso2Code': 'ZA',\n",
       "  'name': 'South Africa',\n",
       "  'region': {'id': 'SSF', 'iso2code': 'ZG', 'value': 'Sub-Saharan Africa '},\n",
       "  'incomeLevel': {'id': 'UMC',\n",
       "   'iso2code': 'XT',\n",
       "   'value': 'Upper middle income'},\n",
       "  'capitalCity': 'Pretoria',\n",
       "  'longitude': '28.1871',\n",
       "  'latitude': '-25.746'},\n",
       " {'iso2Code': 'ZM',\n",
       "  'name': 'Zambia',\n",
       "  'region': {'id': 'SSF', 'iso2code': 'ZG', 'value': 'Sub-Saharan Africa '},\n",
       "  'incomeLevel': {'id': 'LMC',\n",
       "   'iso2code': 'XN',\n",
       "   'value': 'Lower middle income'},\n",
       "  'capitalCity': 'Lusaka',\n",
       "  'longitude': '28.2937',\n",
       "  'latitude': '-15.3982'},\n",
       " {'iso2Code': 'ZW',\n",
       "  'name': 'Zimbabwe',\n",
       "  'region': {'id': 'SSF', 'iso2code': 'ZG', 'value': 'Sub-Saharan Africa '},\n",
       "  'incomeLevel': {'id': 'LMC',\n",
       "   'iso2code': 'XN',\n",
       "   'value': 'Lower middle income'},\n",
       "  'capitalCity': 'Harare',\n",
       "  'longitude': '31.0672',\n",
       "  'latitude': '-17.8312'}]"
      ]
     },
     "execution_count": 10,
     "metadata": {},
     "output_type": "execute_result"
    }
   ],
   "source": [
    "list1"
   ]
  },
  {
   "cell_type": "code",
   "execution_count": 11,
   "metadata": {
    "ExecuteTime": {
     "end_time": "2020-12-29T12:05:48.100503Z",
     "start_time": "2020-12-29T12:05:48.089925Z"
    }
   },
   "outputs": [
    {
     "data": {
      "text/plain": [
       "list"
      ]
     },
     "execution_count": 11,
     "metadata": {},
     "output_type": "execute_result"
    }
   ],
   "source": [
    "type(list1)"
   ]
  },
  {
   "cell_type": "code",
   "execution_count": 12,
   "metadata": {
    "ExecuteTime": {
     "end_time": "2020-12-29T12:05:48.119544Z",
     "start_time": "2020-12-29T12:05:48.104584Z"
    }
   },
   "outputs": [],
   "source": [
    "df = pd.DataFrame(list1,)"
   ]
  },
  {
   "cell_type": "code",
   "execution_count": null,
   "metadata": {
    "ExecuteTime": {
     "end_time": "2020-12-24T11:56:17.440188Z",
     "start_time": "2020-12-24T11:56:17.432998Z"
    }
   },
   "outputs": [],
   "source": []
  },
  {
   "cell_type": "code",
   "execution_count": 13,
   "metadata": {
    "ExecuteTime": {
     "end_time": "2020-12-29T12:05:48.153514Z",
     "start_time": "2020-12-29T12:05:48.122437Z"
    }
   },
   "outputs": [
    {
     "data": {
      "text/html": [
       "<div>\n",
       "<style scoped>\n",
       "    .dataframe tbody tr th:only-of-type {\n",
       "        vertical-align: middle;\n",
       "    }\n",
       "\n",
       "    .dataframe tbody tr th {\n",
       "        vertical-align: top;\n",
       "    }\n",
       "\n",
       "    .dataframe thead th {\n",
       "        text-align: right;\n",
       "    }\n",
       "</style>\n",
       "<table border=\"1\" class=\"dataframe\">\n",
       "  <thead>\n",
       "    <tr style=\"text-align: right;\">\n",
       "      <th></th>\n",
       "      <th>iso2Code</th>\n",
       "      <th>name</th>\n",
       "      <th>region</th>\n",
       "      <th>incomeLevel</th>\n",
       "      <th>capitalCity</th>\n",
       "      <th>longitude</th>\n",
       "      <th>latitude</th>\n",
       "    </tr>\n",
       "  </thead>\n",
       "  <tbody>\n",
       "    <tr>\n",
       "      <th>0</th>\n",
       "      <td>AW</td>\n",
       "      <td>Aruba</td>\n",
       "      <td>{'id': 'LCN', 'iso2code': 'ZJ', 'value': 'Lati...</td>\n",
       "      <td>{'id': 'HIC', 'iso2code': 'XD', 'value': 'High...</td>\n",
       "      <td>Oranjestad</td>\n",
       "      <td>-70.0167</td>\n",
       "      <td>12.5167</td>\n",
       "    </tr>\n",
       "    <tr>\n",
       "      <th>1</th>\n",
       "      <td>AF</td>\n",
       "      <td>Afghanistan</td>\n",
       "      <td>{'id': 'SAS', 'iso2code': '8S', 'value': 'Sout...</td>\n",
       "      <td>{'id': 'LIC', 'iso2code': 'XM', 'value': 'Low ...</td>\n",
       "      <td>Kabul</td>\n",
       "      <td>69.1761</td>\n",
       "      <td>34.5228</td>\n",
       "    </tr>\n",
       "    <tr>\n",
       "      <th>2</th>\n",
       "      <td>A9</td>\n",
       "      <td>Africa</td>\n",
       "      <td>{'id': 'NA', 'iso2code': 'NA', 'value': 'Aggre...</td>\n",
       "      <td>{'id': 'NA', 'iso2code': 'NA', 'value': 'Aggre...</td>\n",
       "      <td></td>\n",
       "      <td></td>\n",
       "      <td></td>\n",
       "    </tr>\n",
       "    <tr>\n",
       "      <th>3</th>\n",
       "      <td>AO</td>\n",
       "      <td>Angola</td>\n",
       "      <td>{'id': 'SSF', 'iso2code': 'ZG', 'value': 'Sub-...</td>\n",
       "      <td>{'id': 'LMC', 'iso2code': 'XN', 'value': 'Lowe...</td>\n",
       "      <td>Luanda</td>\n",
       "      <td>13.242</td>\n",
       "      <td>-8.81155</td>\n",
       "    </tr>\n",
       "    <tr>\n",
       "      <th>4</th>\n",
       "      <td>AL</td>\n",
       "      <td>Albania</td>\n",
       "      <td>{'id': 'ECS', 'iso2code': 'Z7', 'value': 'Euro...</td>\n",
       "      <td>{'id': 'UMC', 'iso2code': 'XT', 'value': 'Uppe...</td>\n",
       "      <td>Tirane</td>\n",
       "      <td>19.8172</td>\n",
       "      <td>41.3317</td>\n",
       "    </tr>\n",
       "    <tr>\n",
       "      <th>...</th>\n",
       "      <td>...</td>\n",
       "      <td>...</td>\n",
       "      <td>...</td>\n",
       "      <td>...</td>\n",
       "      <td>...</td>\n",
       "      <td>...</td>\n",
       "      <td>...</td>\n",
       "    </tr>\n",
       "    <tr>\n",
       "      <th>299</th>\n",
       "      <td>A5</td>\n",
       "      <td>Sub-Saharan Africa excluding South Africa and ...</td>\n",
       "      <td>{'id': 'NA', 'iso2code': 'NA', 'value': 'Aggre...</td>\n",
       "      <td>{'id': 'NA', 'iso2code': 'NA', 'value': 'Aggre...</td>\n",
       "      <td></td>\n",
       "      <td></td>\n",
       "      <td></td>\n",
       "    </tr>\n",
       "    <tr>\n",
       "      <th>300</th>\n",
       "      <td>YE</td>\n",
       "      <td>Yemen, Rep.</td>\n",
       "      <td>{'id': 'MEA', 'iso2code': 'ZQ', 'value': 'Midd...</td>\n",
       "      <td>{'id': 'LIC', 'iso2code': 'XM', 'value': 'Low ...</td>\n",
       "      <td>Sana'a</td>\n",
       "      <td>44.2075</td>\n",
       "      <td>15.352</td>\n",
       "    </tr>\n",
       "    <tr>\n",
       "      <th>301</th>\n",
       "      <td>ZA</td>\n",
       "      <td>South Africa</td>\n",
       "      <td>{'id': 'SSF', 'iso2code': 'ZG', 'value': 'Sub-...</td>\n",
       "      <td>{'id': 'UMC', 'iso2code': 'XT', 'value': 'Uppe...</td>\n",
       "      <td>Pretoria</td>\n",
       "      <td>28.1871</td>\n",
       "      <td>-25.746</td>\n",
       "    </tr>\n",
       "    <tr>\n",
       "      <th>302</th>\n",
       "      <td>ZM</td>\n",
       "      <td>Zambia</td>\n",
       "      <td>{'id': 'SSF', 'iso2code': 'ZG', 'value': 'Sub-...</td>\n",
       "      <td>{'id': 'LMC', 'iso2code': 'XN', 'value': 'Lowe...</td>\n",
       "      <td>Lusaka</td>\n",
       "      <td>28.2937</td>\n",
       "      <td>-15.3982</td>\n",
       "    </tr>\n",
       "    <tr>\n",
       "      <th>303</th>\n",
       "      <td>ZW</td>\n",
       "      <td>Zimbabwe</td>\n",
       "      <td>{'id': 'SSF', 'iso2code': 'ZG', 'value': 'Sub-...</td>\n",
       "      <td>{'id': 'LMC', 'iso2code': 'XN', 'value': 'Lowe...</td>\n",
       "      <td>Harare</td>\n",
       "      <td>31.0672</td>\n",
       "      <td>-17.8312</td>\n",
       "    </tr>\n",
       "  </tbody>\n",
       "</table>\n",
       "<p>304 rows × 7 columns</p>\n",
       "</div>"
      ],
      "text/plain": [
       "    iso2Code                                               name  \\\n",
       "0         AW                                              Aruba   \n",
       "1         AF                                        Afghanistan   \n",
       "2         A9                                             Africa   \n",
       "3         AO                                             Angola   \n",
       "4         AL                                            Albania   \n",
       "..       ...                                                ...   \n",
       "299       A5  Sub-Saharan Africa excluding South Africa and ...   \n",
       "300       YE                                        Yemen, Rep.   \n",
       "301       ZA                                       South Africa   \n",
       "302       ZM                                             Zambia   \n",
       "303       ZW                                           Zimbabwe   \n",
       "\n",
       "                                                region  \\\n",
       "0    {'id': 'LCN', 'iso2code': 'ZJ', 'value': 'Lati...   \n",
       "1    {'id': 'SAS', 'iso2code': '8S', 'value': 'Sout...   \n",
       "2    {'id': 'NA', 'iso2code': 'NA', 'value': 'Aggre...   \n",
       "3    {'id': 'SSF', 'iso2code': 'ZG', 'value': 'Sub-...   \n",
       "4    {'id': 'ECS', 'iso2code': 'Z7', 'value': 'Euro...   \n",
       "..                                                 ...   \n",
       "299  {'id': 'NA', 'iso2code': 'NA', 'value': 'Aggre...   \n",
       "300  {'id': 'MEA', 'iso2code': 'ZQ', 'value': 'Midd...   \n",
       "301  {'id': 'SSF', 'iso2code': 'ZG', 'value': 'Sub-...   \n",
       "302  {'id': 'SSF', 'iso2code': 'ZG', 'value': 'Sub-...   \n",
       "303  {'id': 'SSF', 'iso2code': 'ZG', 'value': 'Sub-...   \n",
       "\n",
       "                                           incomeLevel capitalCity longitude  \\\n",
       "0    {'id': 'HIC', 'iso2code': 'XD', 'value': 'High...  Oranjestad  -70.0167   \n",
       "1    {'id': 'LIC', 'iso2code': 'XM', 'value': 'Low ...       Kabul   69.1761   \n",
       "2    {'id': 'NA', 'iso2code': 'NA', 'value': 'Aggre...                         \n",
       "3    {'id': 'LMC', 'iso2code': 'XN', 'value': 'Lowe...      Luanda    13.242   \n",
       "4    {'id': 'UMC', 'iso2code': 'XT', 'value': 'Uppe...      Tirane   19.8172   \n",
       "..                                                 ...         ...       ...   \n",
       "299  {'id': 'NA', 'iso2code': 'NA', 'value': 'Aggre...                         \n",
       "300  {'id': 'LIC', 'iso2code': 'XM', 'value': 'Low ...      Sana'a   44.2075   \n",
       "301  {'id': 'UMC', 'iso2code': 'XT', 'value': 'Uppe...    Pretoria   28.1871   \n",
       "302  {'id': 'LMC', 'iso2code': 'XN', 'value': 'Lowe...      Lusaka   28.2937   \n",
       "303  {'id': 'LMC', 'iso2code': 'XN', 'value': 'Lowe...      Harare   31.0672   \n",
       "\n",
       "     latitude  \n",
       "0     12.5167  \n",
       "1     34.5228  \n",
       "2              \n",
       "3    -8.81155  \n",
       "4     41.3317  \n",
       "..        ...  \n",
       "299            \n",
       "300    15.352  \n",
       "301   -25.746  \n",
       "302  -15.3982  \n",
       "303  -17.8312  \n",
       "\n",
       "[304 rows x 7 columns]"
      ]
     },
     "execution_count": 13,
     "metadata": {},
     "output_type": "execute_result"
    }
   ],
   "source": [
    "df"
   ]
  },
  {
   "cell_type": "markdown",
   "metadata": {
    "ExecuteTime": {
     "end_time": "2020-12-28T10:13:30.907018Z",
     "start_time": "2020-12-28T10:13:30.903120Z"
    }
   },
   "source": [
    "# Normalizing dataframe"
   ]
  },
  {
   "cell_type": "code",
   "execution_count": 14,
   "metadata": {
    "ExecuteTime": {
     "end_time": "2020-12-29T12:05:48.162707Z",
     "start_time": "2020-12-29T12:05:48.157478Z"
    }
   },
   "outputs": [],
   "source": [
    "# Extracting value from region column and renaming as Region"
   ]
  },
  {
   "cell_type": "code",
   "execution_count": null,
   "metadata": {},
   "outputs": [],
   "source": []
  },
  {
   "cell_type": "code",
   "execution_count": 15,
   "metadata": {
    "ExecuteTime": {
     "end_time": "2020-12-29T12:05:48.179369Z",
     "start_time": "2020-12-29T12:05:48.166427Z"
    }
   },
   "outputs": [],
   "source": [
    "a = pd.json_normalize(df['region'])"
   ]
  },
  {
   "cell_type": "code",
   "execution_count": 16,
   "metadata": {
    "ExecuteTime": {
     "end_time": "2020-12-29T12:05:48.189392Z",
     "start_time": "2020-12-29T12:05:48.183116Z"
    }
   },
   "outputs": [],
   "source": [
    "Region = a['value']"
   ]
  },
  {
   "cell_type": "code",
   "execution_count": 17,
   "metadata": {
    "ExecuteTime": {
     "end_time": "2020-12-29T12:05:48.203694Z",
     "start_time": "2020-12-29T12:05:48.192926Z"
    }
   },
   "outputs": [],
   "source": [
    "# Extracting value from incomeLevel column and renaming as Income"
   ]
  },
  {
   "cell_type": "code",
   "execution_count": 18,
   "metadata": {
    "ExecuteTime": {
     "end_time": "2020-12-29T12:05:48.227628Z",
     "start_time": "2020-12-29T12:05:48.210501Z"
    }
   },
   "outputs": [],
   "source": [
    "b = pd.json_normalize(df['incomeLevel'])\n",
    "#b"
   ]
  },
  {
   "cell_type": "code",
   "execution_count": 19,
   "metadata": {
    "ExecuteTime": {
     "end_time": "2020-12-29T12:05:48.248141Z",
     "start_time": "2020-12-29T12:05:48.241212Z"
    }
   },
   "outputs": [],
   "source": [
    "Income = b['value']"
   ]
  },
  {
   "cell_type": "code",
   "execution_count": 20,
   "metadata": {
    "ExecuteTime": {
     "end_time": "2020-12-29T12:05:48.260533Z",
     "start_time": "2020-12-29T12:05:48.252348Z"
    }
   },
   "outputs": [],
   "source": [
    "df['Region'] = Region\n",
    "df['Income'] = Income"
   ]
  },
  {
   "cell_type": "code",
   "execution_count": 21,
   "metadata": {
    "ExecuteTime": {
     "end_time": "2020-12-29T12:05:48.296697Z",
     "start_time": "2020-12-29T12:05:48.264629Z"
    }
   },
   "outputs": [
    {
     "data": {
      "text/html": [
       "<div>\n",
       "<style scoped>\n",
       "    .dataframe tbody tr th:only-of-type {\n",
       "        vertical-align: middle;\n",
       "    }\n",
       "\n",
       "    .dataframe tbody tr th {\n",
       "        vertical-align: top;\n",
       "    }\n",
       "\n",
       "    .dataframe thead th {\n",
       "        text-align: right;\n",
       "    }\n",
       "</style>\n",
       "<table border=\"1\" class=\"dataframe\">\n",
       "  <thead>\n",
       "    <tr style=\"text-align: right;\">\n",
       "      <th></th>\n",
       "      <th>iso2Code</th>\n",
       "      <th>name</th>\n",
       "      <th>region</th>\n",
       "      <th>incomeLevel</th>\n",
       "      <th>capitalCity</th>\n",
       "      <th>longitude</th>\n",
       "      <th>latitude</th>\n",
       "      <th>Region</th>\n",
       "      <th>Income</th>\n",
       "    </tr>\n",
       "  </thead>\n",
       "  <tbody>\n",
       "    <tr>\n",
       "      <th>0</th>\n",
       "      <td>AW</td>\n",
       "      <td>Aruba</td>\n",
       "      <td>{'id': 'LCN', 'iso2code': 'ZJ', 'value': 'Lati...</td>\n",
       "      <td>{'id': 'HIC', 'iso2code': 'XD', 'value': 'High...</td>\n",
       "      <td>Oranjestad</td>\n",
       "      <td>-70.0167</td>\n",
       "      <td>12.5167</td>\n",
       "      <td>Latin America &amp; Caribbean</td>\n",
       "      <td>High income</td>\n",
       "    </tr>\n",
       "    <tr>\n",
       "      <th>1</th>\n",
       "      <td>AF</td>\n",
       "      <td>Afghanistan</td>\n",
       "      <td>{'id': 'SAS', 'iso2code': '8S', 'value': 'Sout...</td>\n",
       "      <td>{'id': 'LIC', 'iso2code': 'XM', 'value': 'Low ...</td>\n",
       "      <td>Kabul</td>\n",
       "      <td>69.1761</td>\n",
       "      <td>34.5228</td>\n",
       "      <td>South Asia</td>\n",
       "      <td>Low income</td>\n",
       "    </tr>\n",
       "    <tr>\n",
       "      <th>2</th>\n",
       "      <td>A9</td>\n",
       "      <td>Africa</td>\n",
       "      <td>{'id': 'NA', 'iso2code': 'NA', 'value': 'Aggre...</td>\n",
       "      <td>{'id': 'NA', 'iso2code': 'NA', 'value': 'Aggre...</td>\n",
       "      <td></td>\n",
       "      <td></td>\n",
       "      <td></td>\n",
       "      <td>Aggregates</td>\n",
       "      <td>Aggregates</td>\n",
       "    </tr>\n",
       "    <tr>\n",
       "      <th>3</th>\n",
       "      <td>AO</td>\n",
       "      <td>Angola</td>\n",
       "      <td>{'id': 'SSF', 'iso2code': 'ZG', 'value': 'Sub-...</td>\n",
       "      <td>{'id': 'LMC', 'iso2code': 'XN', 'value': 'Lowe...</td>\n",
       "      <td>Luanda</td>\n",
       "      <td>13.242</td>\n",
       "      <td>-8.81155</td>\n",
       "      <td>Sub-Saharan Africa</td>\n",
       "      <td>Lower middle income</td>\n",
       "    </tr>\n",
       "    <tr>\n",
       "      <th>4</th>\n",
       "      <td>AL</td>\n",
       "      <td>Albania</td>\n",
       "      <td>{'id': 'ECS', 'iso2code': 'Z7', 'value': 'Euro...</td>\n",
       "      <td>{'id': 'UMC', 'iso2code': 'XT', 'value': 'Uppe...</td>\n",
       "      <td>Tirane</td>\n",
       "      <td>19.8172</td>\n",
       "      <td>41.3317</td>\n",
       "      <td>Europe &amp; Central Asia</td>\n",
       "      <td>Upper middle income</td>\n",
       "    </tr>\n",
       "    <tr>\n",
       "      <th>...</th>\n",
       "      <td>...</td>\n",
       "      <td>...</td>\n",
       "      <td>...</td>\n",
       "      <td>...</td>\n",
       "      <td>...</td>\n",
       "      <td>...</td>\n",
       "      <td>...</td>\n",
       "      <td>...</td>\n",
       "      <td>...</td>\n",
       "    </tr>\n",
       "    <tr>\n",
       "      <th>299</th>\n",
       "      <td>A5</td>\n",
       "      <td>Sub-Saharan Africa excluding South Africa and ...</td>\n",
       "      <td>{'id': 'NA', 'iso2code': 'NA', 'value': 'Aggre...</td>\n",
       "      <td>{'id': 'NA', 'iso2code': 'NA', 'value': 'Aggre...</td>\n",
       "      <td></td>\n",
       "      <td></td>\n",
       "      <td></td>\n",
       "      <td>Aggregates</td>\n",
       "      <td>Aggregates</td>\n",
       "    </tr>\n",
       "    <tr>\n",
       "      <th>300</th>\n",
       "      <td>YE</td>\n",
       "      <td>Yemen, Rep.</td>\n",
       "      <td>{'id': 'MEA', 'iso2code': 'ZQ', 'value': 'Midd...</td>\n",
       "      <td>{'id': 'LIC', 'iso2code': 'XM', 'value': 'Low ...</td>\n",
       "      <td>Sana'a</td>\n",
       "      <td>44.2075</td>\n",
       "      <td>15.352</td>\n",
       "      <td>Middle East &amp; North Africa</td>\n",
       "      <td>Low income</td>\n",
       "    </tr>\n",
       "    <tr>\n",
       "      <th>301</th>\n",
       "      <td>ZA</td>\n",
       "      <td>South Africa</td>\n",
       "      <td>{'id': 'SSF', 'iso2code': 'ZG', 'value': 'Sub-...</td>\n",
       "      <td>{'id': 'UMC', 'iso2code': 'XT', 'value': 'Uppe...</td>\n",
       "      <td>Pretoria</td>\n",
       "      <td>28.1871</td>\n",
       "      <td>-25.746</td>\n",
       "      <td>Sub-Saharan Africa</td>\n",
       "      <td>Upper middle income</td>\n",
       "    </tr>\n",
       "    <tr>\n",
       "      <th>302</th>\n",
       "      <td>ZM</td>\n",
       "      <td>Zambia</td>\n",
       "      <td>{'id': 'SSF', 'iso2code': 'ZG', 'value': 'Sub-...</td>\n",
       "      <td>{'id': 'LMC', 'iso2code': 'XN', 'value': 'Lowe...</td>\n",
       "      <td>Lusaka</td>\n",
       "      <td>28.2937</td>\n",
       "      <td>-15.3982</td>\n",
       "      <td>Sub-Saharan Africa</td>\n",
       "      <td>Lower middle income</td>\n",
       "    </tr>\n",
       "    <tr>\n",
       "      <th>303</th>\n",
       "      <td>ZW</td>\n",
       "      <td>Zimbabwe</td>\n",
       "      <td>{'id': 'SSF', 'iso2code': 'ZG', 'value': 'Sub-...</td>\n",
       "      <td>{'id': 'LMC', 'iso2code': 'XN', 'value': 'Lowe...</td>\n",
       "      <td>Harare</td>\n",
       "      <td>31.0672</td>\n",
       "      <td>-17.8312</td>\n",
       "      <td>Sub-Saharan Africa</td>\n",
       "      <td>Lower middle income</td>\n",
       "    </tr>\n",
       "  </tbody>\n",
       "</table>\n",
       "<p>304 rows × 9 columns</p>\n",
       "</div>"
      ],
      "text/plain": [
       "    iso2Code                                               name  \\\n",
       "0         AW                                              Aruba   \n",
       "1         AF                                        Afghanistan   \n",
       "2         A9                                             Africa   \n",
       "3         AO                                             Angola   \n",
       "4         AL                                            Albania   \n",
       "..       ...                                                ...   \n",
       "299       A5  Sub-Saharan Africa excluding South Africa and ...   \n",
       "300       YE                                        Yemen, Rep.   \n",
       "301       ZA                                       South Africa   \n",
       "302       ZM                                             Zambia   \n",
       "303       ZW                                           Zimbabwe   \n",
       "\n",
       "                                                region  \\\n",
       "0    {'id': 'LCN', 'iso2code': 'ZJ', 'value': 'Lati...   \n",
       "1    {'id': 'SAS', 'iso2code': '8S', 'value': 'Sout...   \n",
       "2    {'id': 'NA', 'iso2code': 'NA', 'value': 'Aggre...   \n",
       "3    {'id': 'SSF', 'iso2code': 'ZG', 'value': 'Sub-...   \n",
       "4    {'id': 'ECS', 'iso2code': 'Z7', 'value': 'Euro...   \n",
       "..                                                 ...   \n",
       "299  {'id': 'NA', 'iso2code': 'NA', 'value': 'Aggre...   \n",
       "300  {'id': 'MEA', 'iso2code': 'ZQ', 'value': 'Midd...   \n",
       "301  {'id': 'SSF', 'iso2code': 'ZG', 'value': 'Sub-...   \n",
       "302  {'id': 'SSF', 'iso2code': 'ZG', 'value': 'Sub-...   \n",
       "303  {'id': 'SSF', 'iso2code': 'ZG', 'value': 'Sub-...   \n",
       "\n",
       "                                           incomeLevel capitalCity longitude  \\\n",
       "0    {'id': 'HIC', 'iso2code': 'XD', 'value': 'High...  Oranjestad  -70.0167   \n",
       "1    {'id': 'LIC', 'iso2code': 'XM', 'value': 'Low ...       Kabul   69.1761   \n",
       "2    {'id': 'NA', 'iso2code': 'NA', 'value': 'Aggre...                         \n",
       "3    {'id': 'LMC', 'iso2code': 'XN', 'value': 'Lowe...      Luanda    13.242   \n",
       "4    {'id': 'UMC', 'iso2code': 'XT', 'value': 'Uppe...      Tirane   19.8172   \n",
       "..                                                 ...         ...       ...   \n",
       "299  {'id': 'NA', 'iso2code': 'NA', 'value': 'Aggre...                         \n",
       "300  {'id': 'LIC', 'iso2code': 'XM', 'value': 'Low ...      Sana'a   44.2075   \n",
       "301  {'id': 'UMC', 'iso2code': 'XT', 'value': 'Uppe...    Pretoria   28.1871   \n",
       "302  {'id': 'LMC', 'iso2code': 'XN', 'value': 'Lowe...      Lusaka   28.2937   \n",
       "303  {'id': 'LMC', 'iso2code': 'XN', 'value': 'Lowe...      Harare   31.0672   \n",
       "\n",
       "     latitude                      Region               Income  \n",
       "0     12.5167  Latin America & Caribbean           High income  \n",
       "1     34.5228                  South Asia           Low income  \n",
       "2                              Aggregates           Aggregates  \n",
       "3    -8.81155         Sub-Saharan Africa   Lower middle income  \n",
       "4     41.3317       Europe & Central Asia  Upper middle income  \n",
       "..        ...                         ...                  ...  \n",
       "299                            Aggregates           Aggregates  \n",
       "300    15.352  Middle East & North Africa           Low income  \n",
       "301   -25.746         Sub-Saharan Africa   Upper middle income  \n",
       "302  -15.3982         Sub-Saharan Africa   Lower middle income  \n",
       "303  -17.8312         Sub-Saharan Africa   Lower middle income  \n",
       "\n",
       "[304 rows x 9 columns]"
      ]
     },
     "execution_count": 21,
     "metadata": {},
     "output_type": "execute_result"
    }
   ],
   "source": [
    "df"
   ]
  },
  {
   "cell_type": "markdown",
   "metadata": {},
   "source": [
    "# Cleaning and Tidying Dataframe"
   ]
  },
  {
   "cell_type": "code",
   "execution_count": 22,
   "metadata": {
    "ExecuteTime": {
     "end_time": "2020-12-29T12:05:48.308546Z",
     "start_time": "2020-12-29T12:05:48.300668Z"
    }
   },
   "outputs": [
    {
     "data": {
      "text/plain": [
       "Index(['iso2Code', 'name', 'region', 'incomeLevel', 'capitalCity', 'longitude',\n",
       "       'latitude', 'Region', 'Income'],\n",
       "      dtype='object')"
      ]
     },
     "execution_count": 22,
     "metadata": {},
     "output_type": "execute_result"
    }
   ],
   "source": [
    "df.columns"
   ]
  },
  {
   "cell_type": "code",
   "execution_count": 23,
   "metadata": {
    "ExecuteTime": {
     "end_time": "2020-12-29T12:05:48.328001Z",
     "start_time": "2020-12-29T12:05:48.321120Z"
    }
   },
   "outputs": [],
   "source": [
    "df.drop(columns=['iso2Code','region','incomeLevel'],inplace=True)"
   ]
  },
  {
   "cell_type": "code",
   "execution_count": 24,
   "metadata": {
    "ExecuteTime": {
     "end_time": "2020-12-29T12:05:48.352775Z",
     "start_time": "2020-12-29T12:05:48.333973Z"
    }
   },
   "outputs": [
    {
     "data": {
      "text/html": [
       "<div>\n",
       "<style scoped>\n",
       "    .dataframe tbody tr th:only-of-type {\n",
       "        vertical-align: middle;\n",
       "    }\n",
       "\n",
       "    .dataframe tbody tr th {\n",
       "        vertical-align: top;\n",
       "    }\n",
       "\n",
       "    .dataframe thead th {\n",
       "        text-align: right;\n",
       "    }\n",
       "</style>\n",
       "<table border=\"1\" class=\"dataframe\">\n",
       "  <thead>\n",
       "    <tr style=\"text-align: right;\">\n",
       "      <th></th>\n",
       "      <th>name</th>\n",
       "      <th>capitalCity</th>\n",
       "      <th>longitude</th>\n",
       "      <th>latitude</th>\n",
       "      <th>Region</th>\n",
       "      <th>Income</th>\n",
       "    </tr>\n",
       "  </thead>\n",
       "  <tbody>\n",
       "    <tr>\n",
       "      <th>0</th>\n",
       "      <td>Aruba</td>\n",
       "      <td>Oranjestad</td>\n",
       "      <td>-70.0167</td>\n",
       "      <td>12.5167</td>\n",
       "      <td>Latin America &amp; Caribbean</td>\n",
       "      <td>High income</td>\n",
       "    </tr>\n",
       "    <tr>\n",
       "      <th>1</th>\n",
       "      <td>Afghanistan</td>\n",
       "      <td>Kabul</td>\n",
       "      <td>69.1761</td>\n",
       "      <td>34.5228</td>\n",
       "      <td>South Asia</td>\n",
       "      <td>Low income</td>\n",
       "    </tr>\n",
       "    <tr>\n",
       "      <th>2</th>\n",
       "      <td>Africa</td>\n",
       "      <td></td>\n",
       "      <td></td>\n",
       "      <td></td>\n",
       "      <td>Aggregates</td>\n",
       "      <td>Aggregates</td>\n",
       "    </tr>\n",
       "    <tr>\n",
       "      <th>3</th>\n",
       "      <td>Angola</td>\n",
       "      <td>Luanda</td>\n",
       "      <td>13.242</td>\n",
       "      <td>-8.81155</td>\n",
       "      <td>Sub-Saharan Africa</td>\n",
       "      <td>Lower middle income</td>\n",
       "    </tr>\n",
       "    <tr>\n",
       "      <th>4</th>\n",
       "      <td>Albania</td>\n",
       "      <td>Tirane</td>\n",
       "      <td>19.8172</td>\n",
       "      <td>41.3317</td>\n",
       "      <td>Europe &amp; Central Asia</td>\n",
       "      <td>Upper middle income</td>\n",
       "    </tr>\n",
       "    <tr>\n",
       "      <th>...</th>\n",
       "      <td>...</td>\n",
       "      <td>...</td>\n",
       "      <td>...</td>\n",
       "      <td>...</td>\n",
       "      <td>...</td>\n",
       "      <td>...</td>\n",
       "    </tr>\n",
       "    <tr>\n",
       "      <th>299</th>\n",
       "      <td>Sub-Saharan Africa excluding South Africa and ...</td>\n",
       "      <td></td>\n",
       "      <td></td>\n",
       "      <td></td>\n",
       "      <td>Aggregates</td>\n",
       "      <td>Aggregates</td>\n",
       "    </tr>\n",
       "    <tr>\n",
       "      <th>300</th>\n",
       "      <td>Yemen, Rep.</td>\n",
       "      <td>Sana'a</td>\n",
       "      <td>44.2075</td>\n",
       "      <td>15.352</td>\n",
       "      <td>Middle East &amp; North Africa</td>\n",
       "      <td>Low income</td>\n",
       "    </tr>\n",
       "    <tr>\n",
       "      <th>301</th>\n",
       "      <td>South Africa</td>\n",
       "      <td>Pretoria</td>\n",
       "      <td>28.1871</td>\n",
       "      <td>-25.746</td>\n",
       "      <td>Sub-Saharan Africa</td>\n",
       "      <td>Upper middle income</td>\n",
       "    </tr>\n",
       "    <tr>\n",
       "      <th>302</th>\n",
       "      <td>Zambia</td>\n",
       "      <td>Lusaka</td>\n",
       "      <td>28.2937</td>\n",
       "      <td>-15.3982</td>\n",
       "      <td>Sub-Saharan Africa</td>\n",
       "      <td>Lower middle income</td>\n",
       "    </tr>\n",
       "    <tr>\n",
       "      <th>303</th>\n",
       "      <td>Zimbabwe</td>\n",
       "      <td>Harare</td>\n",
       "      <td>31.0672</td>\n",
       "      <td>-17.8312</td>\n",
       "      <td>Sub-Saharan Africa</td>\n",
       "      <td>Lower middle income</td>\n",
       "    </tr>\n",
       "  </tbody>\n",
       "</table>\n",
       "<p>304 rows × 6 columns</p>\n",
       "</div>"
      ],
      "text/plain": [
       "                                                  name capitalCity longitude  \\\n",
       "0                                                Aruba  Oranjestad  -70.0167   \n",
       "1                                          Afghanistan       Kabul   69.1761   \n",
       "2                                               Africa                         \n",
       "3                                               Angola      Luanda    13.242   \n",
       "4                                              Albania      Tirane   19.8172   \n",
       "..                                                 ...         ...       ...   \n",
       "299  Sub-Saharan Africa excluding South Africa and ...                         \n",
       "300                                        Yemen, Rep.      Sana'a   44.2075   \n",
       "301                                       South Africa    Pretoria   28.1871   \n",
       "302                                             Zambia      Lusaka   28.2937   \n",
       "303                                           Zimbabwe      Harare   31.0672   \n",
       "\n",
       "     latitude                      Region               Income  \n",
       "0     12.5167  Latin America & Caribbean           High income  \n",
       "1     34.5228                  South Asia           Low income  \n",
       "2                              Aggregates           Aggregates  \n",
       "3    -8.81155         Sub-Saharan Africa   Lower middle income  \n",
       "4     41.3317       Europe & Central Asia  Upper middle income  \n",
       "..        ...                         ...                  ...  \n",
       "299                            Aggregates           Aggregates  \n",
       "300    15.352  Middle East & North Africa           Low income  \n",
       "301   -25.746         Sub-Saharan Africa   Upper middle income  \n",
       "302  -15.3982         Sub-Saharan Africa   Lower middle income  \n",
       "303  -17.8312         Sub-Saharan Africa   Lower middle income  \n",
       "\n",
       "[304 rows x 6 columns]"
      ]
     },
     "execution_count": 24,
     "metadata": {},
     "output_type": "execute_result"
    }
   ],
   "source": [
    "df"
   ]
  },
  {
   "cell_type": "markdown",
   "metadata": {},
   "source": [
    "<mark>There are some values called 'Aggregates' in 'Income' and 'Region' columns. I will drop the rows with those values."
   ]
  },
  {
   "cell_type": "code",
   "execution_count": 25,
   "metadata": {
    "ExecuteTime": {
     "end_time": "2020-12-29T12:05:48.376079Z",
     "start_time": "2020-12-29T12:05:48.356383Z"
    }
   },
   "outputs": [],
   "source": [
    "index_toDrop = df.query(\"Region=='Aggregates'\").index"
   ]
  },
  {
   "cell_type": "code",
   "execution_count": 26,
   "metadata": {
    "ExecuteTime": {
     "end_time": "2020-12-29T12:05:48.383888Z",
     "start_time": "2020-12-29T12:05:48.378521Z"
    }
   },
   "outputs": [],
   "source": [
    "#df1 = df.drop(df[df['Region']=='Aggregates'].index)"
   ]
  },
  {
   "cell_type": "code",
   "execution_count": 27,
   "metadata": {
    "ExecuteTime": {
     "end_time": "2020-12-29T12:05:48.396706Z",
     "start_time": "2020-12-29T12:05:48.387270Z"
    }
   },
   "outputs": [
    {
     "data": {
      "text/plain": [
       "Int64Index([  2,   6,   7,  17,  18,  24,  28,  31,  37,  40,  43,  44,  45,\n",
       "             51,  52,  60,  61,  67,  68,  70,  72,  74,  75,  77,  79,  80,\n",
       "             81,  82,  84,  85,  86,  87,  88,  91,  96,  97, 103, 119, 122,\n",
       "            126, 127, 128, 129, 130, 132, 135, 153, 159, 160, 161, 162, 165,\n",
       "            166, 168, 175, 178, 181, 184, 189, 198, 199, 206, 209, 211, 213,\n",
       "            215, 223, 229, 230, 234, 235, 238, 240, 250, 252, 253, 261, 266,\n",
       "            267, 272, 274, 276, 277, 286, 296, 299],\n",
       "           dtype='int64')"
      ]
     },
     "execution_count": 27,
     "metadata": {},
     "output_type": "execute_result"
    }
   ],
   "source": [
    "index_toDrop"
   ]
  },
  {
   "cell_type": "code",
   "execution_count": 28,
   "metadata": {
    "ExecuteTime": {
     "end_time": "2020-12-29T12:05:48.410459Z",
     "start_time": "2020-12-29T12:05:48.400311Z"
    }
   },
   "outputs": [],
   "source": [
    "df2 = df.drop(df.query(\"Region=='Aggregates'\").index)"
   ]
  },
  {
   "cell_type": "code",
   "execution_count": 29,
   "metadata": {
    "ExecuteTime": {
     "end_time": "2020-12-29T12:05:48.421458Z",
     "start_time": "2020-12-29T12:05:48.413923Z"
    }
   },
   "outputs": [],
   "source": [
    "df2.reset_index(inplace=True)"
   ]
  },
  {
   "cell_type": "code",
   "execution_count": 30,
   "metadata": {
    "ExecuteTime": {
     "end_time": "2020-12-29T12:05:48.433900Z",
     "start_time": "2020-12-29T12:05:48.425497Z"
    }
   },
   "outputs": [
    {
     "data": {
      "text/plain": [
       "(218, 7)"
      ]
     },
     "execution_count": 30,
     "metadata": {},
     "output_type": "execute_result"
    }
   ],
   "source": [
    "df2.shape"
   ]
  },
  {
   "cell_type": "markdown",
   "metadata": {},
   "source": [
    "<mark> I have now 218 rows and 6 columns after removing unnessary rows and columns"
   ]
  },
  {
   "cell_type": "code",
   "execution_count": 31,
   "metadata": {
    "ExecuteTime": {
     "end_time": "2020-12-29T12:05:48.446923Z",
     "start_time": "2020-12-29T12:05:48.437855Z"
    }
   },
   "outputs": [
    {
     "data": {
      "text/plain": [
       "Index(['index', 'name', 'capitalCity', 'longitude', 'latitude', 'Region',\n",
       "       'Income'],\n",
       "      dtype='object')"
      ]
     },
     "execution_count": 31,
     "metadata": {},
     "output_type": "execute_result"
    }
   ],
   "source": [
    "df2.columns"
   ]
  },
  {
   "cell_type": "markdown",
   "metadata": {},
   "source": [
    "<mark> I will now arrange the columns in proper order so that it looks good to read"
   ]
  },
  {
   "cell_type": "code",
   "execution_count": 32,
   "metadata": {
    "ExecuteTime": {
     "end_time": "2020-12-29T12:05:48.469784Z",
     "start_time": "2020-12-29T12:05:48.451006Z"
    }
   },
   "outputs": [],
   "source": [
    "df2 = df2[['name','capitalCity','Region','Income','longitude','latitude']]"
   ]
  },
  {
   "cell_type": "code",
   "execution_count": 33,
   "metadata": {
    "ExecuteTime": {
     "end_time": "2020-12-29T12:05:48.518783Z",
     "start_time": "2020-12-29T12:05:48.477824Z"
    }
   },
   "outputs": [
    {
     "data": {
      "text/html": [
       "<div>\n",
       "<style scoped>\n",
       "    .dataframe tbody tr th:only-of-type {\n",
       "        vertical-align: middle;\n",
       "    }\n",
       "\n",
       "    .dataframe tbody tr th {\n",
       "        vertical-align: top;\n",
       "    }\n",
       "\n",
       "    .dataframe thead th {\n",
       "        text-align: right;\n",
       "    }\n",
       "</style>\n",
       "<table border=\"1\" class=\"dataframe\">\n",
       "  <thead>\n",
       "    <tr style=\"text-align: right;\">\n",
       "      <th></th>\n",
       "      <th>name</th>\n",
       "      <th>capitalCity</th>\n",
       "      <th>Region</th>\n",
       "      <th>Income</th>\n",
       "      <th>longitude</th>\n",
       "      <th>latitude</th>\n",
       "    </tr>\n",
       "  </thead>\n",
       "  <tbody>\n",
       "    <tr>\n",
       "      <th>0</th>\n",
       "      <td>Aruba</td>\n",
       "      <td>Oranjestad</td>\n",
       "      <td>Latin America &amp; Caribbean</td>\n",
       "      <td>High income</td>\n",
       "      <td>-70.0167</td>\n",
       "      <td>12.5167</td>\n",
       "    </tr>\n",
       "    <tr>\n",
       "      <th>1</th>\n",
       "      <td>Afghanistan</td>\n",
       "      <td>Kabul</td>\n",
       "      <td>South Asia</td>\n",
       "      <td>Low income</td>\n",
       "      <td>69.1761</td>\n",
       "      <td>34.5228</td>\n",
       "    </tr>\n",
       "    <tr>\n",
       "      <th>2</th>\n",
       "      <td>Angola</td>\n",
       "      <td>Luanda</td>\n",
       "      <td>Sub-Saharan Africa</td>\n",
       "      <td>Lower middle income</td>\n",
       "      <td>13.242</td>\n",
       "      <td>-8.81155</td>\n",
       "    </tr>\n",
       "    <tr>\n",
       "      <th>3</th>\n",
       "      <td>Albania</td>\n",
       "      <td>Tirane</td>\n",
       "      <td>Europe &amp; Central Asia</td>\n",
       "      <td>Upper middle income</td>\n",
       "      <td>19.8172</td>\n",
       "      <td>41.3317</td>\n",
       "    </tr>\n",
       "    <tr>\n",
       "      <th>4</th>\n",
       "      <td>Andorra</td>\n",
       "      <td>Andorra la Vella</td>\n",
       "      <td>Europe &amp; Central Asia</td>\n",
       "      <td>High income</td>\n",
       "      <td>1.5218</td>\n",
       "      <td>42.5075</td>\n",
       "    </tr>\n",
       "    <tr>\n",
       "      <th>...</th>\n",
       "      <td>...</td>\n",
       "      <td>...</td>\n",
       "      <td>...</td>\n",
       "      <td>...</td>\n",
       "      <td>...</td>\n",
       "      <td>...</td>\n",
       "    </tr>\n",
       "    <tr>\n",
       "      <th>213</th>\n",
       "      <td>Kosovo</td>\n",
       "      <td>Pristina</td>\n",
       "      <td>Europe &amp; Central Asia</td>\n",
       "      <td>Upper middle income</td>\n",
       "      <td>20.926</td>\n",
       "      <td>42.565</td>\n",
       "    </tr>\n",
       "    <tr>\n",
       "      <th>214</th>\n",
       "      <td>Yemen, Rep.</td>\n",
       "      <td>Sana'a</td>\n",
       "      <td>Middle East &amp; North Africa</td>\n",
       "      <td>Low income</td>\n",
       "      <td>44.2075</td>\n",
       "      <td>15.352</td>\n",
       "    </tr>\n",
       "    <tr>\n",
       "      <th>215</th>\n",
       "      <td>South Africa</td>\n",
       "      <td>Pretoria</td>\n",
       "      <td>Sub-Saharan Africa</td>\n",
       "      <td>Upper middle income</td>\n",
       "      <td>28.1871</td>\n",
       "      <td>-25.746</td>\n",
       "    </tr>\n",
       "    <tr>\n",
       "      <th>216</th>\n",
       "      <td>Zambia</td>\n",
       "      <td>Lusaka</td>\n",
       "      <td>Sub-Saharan Africa</td>\n",
       "      <td>Lower middle income</td>\n",
       "      <td>28.2937</td>\n",
       "      <td>-15.3982</td>\n",
       "    </tr>\n",
       "    <tr>\n",
       "      <th>217</th>\n",
       "      <td>Zimbabwe</td>\n",
       "      <td>Harare</td>\n",
       "      <td>Sub-Saharan Africa</td>\n",
       "      <td>Lower middle income</td>\n",
       "      <td>31.0672</td>\n",
       "      <td>-17.8312</td>\n",
       "    </tr>\n",
       "  </tbody>\n",
       "</table>\n",
       "<p>218 rows × 6 columns</p>\n",
       "</div>"
      ],
      "text/plain": [
       "             name       capitalCity                      Region  \\\n",
       "0           Aruba        Oranjestad  Latin America & Caribbean    \n",
       "1     Afghanistan             Kabul                  South Asia   \n",
       "2          Angola            Luanda         Sub-Saharan Africa    \n",
       "3         Albania            Tirane       Europe & Central Asia   \n",
       "4         Andorra  Andorra la Vella       Europe & Central Asia   \n",
       "..            ...               ...                         ...   \n",
       "213        Kosovo          Pristina       Europe & Central Asia   \n",
       "214   Yemen, Rep.            Sana'a  Middle East & North Africa   \n",
       "215  South Africa          Pretoria         Sub-Saharan Africa    \n",
       "216        Zambia            Lusaka         Sub-Saharan Africa    \n",
       "217      Zimbabwe            Harare         Sub-Saharan Africa    \n",
       "\n",
       "                  Income longitude  latitude  \n",
       "0            High income  -70.0167   12.5167  \n",
       "1             Low income   69.1761   34.5228  \n",
       "2    Lower middle income    13.242  -8.81155  \n",
       "3    Upper middle income   19.8172   41.3317  \n",
       "4            High income    1.5218   42.5075  \n",
       "..                   ...       ...       ...  \n",
       "213  Upper middle income    20.926    42.565  \n",
       "214           Low income   44.2075    15.352  \n",
       "215  Upper middle income   28.1871   -25.746  \n",
       "216  Lower middle income   28.2937  -15.3982  \n",
       "217  Lower middle income   31.0672  -17.8312  \n",
       "\n",
       "[218 rows x 6 columns]"
      ]
     },
     "execution_count": 33,
     "metadata": {},
     "output_type": "execute_result"
    }
   ],
   "source": [
    "df2"
   ]
  },
  {
   "cell_type": "markdown",
   "metadata": {},
   "source": [
    "# Data Analysis"
   ]
  },
  {
   "cell_type": "code",
   "execution_count": 35,
   "metadata": {
    "ExecuteTime": {
     "end_time": "2020-12-29T12:06:57.112536Z",
     "start_time": "2020-12-29T12:06:57.100528Z"
    }
   },
   "outputs": [
    {
     "name": "stdout",
     "output_type": "stream",
     "text": [
      "<class 'pandas.core.frame.DataFrame'>\n",
      "RangeIndex: 218 entries, 0 to 217\n",
      "Data columns (total 6 columns):\n",
      " #   Column       Non-Null Count  Dtype \n",
      "---  ------       --------------  ----- \n",
      " 0   name         218 non-null    object\n",
      " 1   capitalCity  218 non-null    object\n",
      " 2   Region       218 non-null    object\n",
      " 3   Income       218 non-null    object\n",
      " 4   longitude    218 non-null    object\n",
      " 5   latitude     218 non-null    object\n",
      "dtypes: object(6)\n",
      "memory usage: 10.3+ KB\n"
     ]
    }
   ],
   "source": [
    "df2.info()"
   ]
  },
  {
   "cell_type": "code",
   "execution_count": 36,
   "metadata": {
    "ExecuteTime": {
     "end_time": "2020-12-29T12:07:00.355166Z",
     "start_time": "2020-12-29T12:07:00.317646Z"
    }
   },
   "outputs": [
    {
     "data": {
      "text/html": [
       "<div>\n",
       "<style scoped>\n",
       "    .dataframe tbody tr th:only-of-type {\n",
       "        vertical-align: middle;\n",
       "    }\n",
       "\n",
       "    .dataframe tbody tr th {\n",
       "        vertical-align: top;\n",
       "    }\n",
       "\n",
       "    .dataframe thead th {\n",
       "        text-align: right;\n",
       "    }\n",
       "</style>\n",
       "<table border=\"1\" class=\"dataframe\">\n",
       "  <thead>\n",
       "    <tr style=\"text-align: right;\">\n",
       "      <th></th>\n",
       "      <th>name</th>\n",
       "      <th>capitalCity</th>\n",
       "      <th>Region</th>\n",
       "      <th>Income</th>\n",
       "      <th>longitude</th>\n",
       "      <th>latitude</th>\n",
       "    </tr>\n",
       "  </thead>\n",
       "  <tbody>\n",
       "    <tr>\n",
       "      <th>count</th>\n",
       "      <td>218</td>\n",
       "      <td>218</td>\n",
       "      <td>218</td>\n",
       "      <td>218</td>\n",
       "      <td>218</td>\n",
       "      <td>218</td>\n",
       "    </tr>\n",
       "    <tr>\n",
       "      <th>unique</th>\n",
       "      <td>218</td>\n",
       "      <td>212</td>\n",
       "      <td>7</td>\n",
       "      <td>4</td>\n",
       "      <td>212</td>\n",
       "      <td>212</td>\n",
       "    </tr>\n",
       "    <tr>\n",
       "      <th>top</th>\n",
       "      <td>Iran, Islamic Rep.</td>\n",
       "      <td></td>\n",
       "      <td>Europe &amp; Central Asia</td>\n",
       "      <td>High income</td>\n",
       "      <td></td>\n",
       "      <td></td>\n",
       "    </tr>\n",
       "    <tr>\n",
       "      <th>freq</th>\n",
       "      <td>1</td>\n",
       "      <td>7</td>\n",
       "      <td>58</td>\n",
       "      <td>83</td>\n",
       "      <td>7</td>\n",
       "      <td>7</td>\n",
       "    </tr>\n",
       "  </tbody>\n",
       "</table>\n",
       "</div>"
      ],
      "text/plain": [
       "                      name capitalCity                 Region       Income  \\\n",
       "count                  218         218                    218          218   \n",
       "unique                 218         212                      7            4   \n",
       "top     Iran, Islamic Rep.              Europe & Central Asia  High income   \n",
       "freq                     1           7                     58           83   \n",
       "\n",
       "       longitude latitude  \n",
       "count        218      218  \n",
       "unique       212      212  \n",
       "top                        \n",
       "freq           7        7  "
      ]
     },
     "execution_count": 36,
     "metadata": {},
     "output_type": "execute_result"
    }
   ],
   "source": [
    "df2.describe()"
   ]
  },
  {
   "cell_type": "code",
   "execution_count": 37,
   "metadata": {
    "ExecuteTime": {
     "end_time": "2020-12-29T12:07:48.722090Z",
     "start_time": "2020-12-29T12:07:48.715695Z"
    }
   },
   "outputs": [],
   "source": [
    "by_Income = df2.groupby('Income').Income.count()"
   ]
  },
  {
   "cell_type": "code",
   "execution_count": 38,
   "metadata": {
    "ExecuteTime": {
     "end_time": "2020-12-29T12:07:49.790140Z",
     "start_time": "2020-12-29T12:07:49.147407Z"
    }
   },
   "outputs": [
    {
     "data": {
      "application/vnd.plotly.v1+json": {
       "config": {
        "plotlyServerURL": "https://plot.ly"
       },
       "data": [
        {
         "alignmentgroup": "True",
         "hovertemplate": "index=%{x}<br>value=%{y}<extra></extra>",
         "legendgroup": "High income",
         "marker": {
          "color": "#636efa"
         },
         "name": "High income",
         "offsetgroup": "High income",
         "orientation": "v",
         "showlegend": true,
         "textposition": "auto",
         "type": "bar",
         "x": [
          "High income"
         ],
         "xaxis": "x",
         "y": [
          83
         ],
         "yaxis": "y"
        },
        {
         "alignmentgroup": "True",
         "hovertemplate": "index=%{x}<br>value=%{y}<extra></extra>",
         "legendgroup": "Low income",
         "marker": {
          "color": "#EF553B"
         },
         "name": "Low income",
         "offsetgroup": "Low income",
         "orientation": "v",
         "showlegend": true,
         "textposition": "auto",
         "type": "bar",
         "x": [
          "Low income"
         ],
         "xaxis": "x",
         "y": [
          29
         ],
         "yaxis": "y"
        },
        {
         "alignmentgroup": "True",
         "hovertemplate": "index=%{x}<br>value=%{y}<extra></extra>",
         "legendgroup": "Lower middle income",
         "marker": {
          "color": "#00cc96"
         },
         "name": "Lower middle income",
         "offsetgroup": "Lower middle income",
         "orientation": "v",
         "showlegend": true,
         "textposition": "auto",
         "type": "bar",
         "x": [
          "Lower middle income"
         ],
         "xaxis": "x",
         "y": [
          50
         ],
         "yaxis": "y"
        },
        {
         "alignmentgroup": "True",
         "hovertemplate": "index=%{x}<br>value=%{y}<extra></extra>",
         "legendgroup": "Upper middle income",
         "marker": {
          "color": "#ab63fa"
         },
         "name": "Upper middle income",
         "offsetgroup": "Upper middle income",
         "orientation": "v",
         "showlegend": true,
         "textposition": "auto",
         "type": "bar",
         "x": [
          "Upper middle income"
         ],
         "xaxis": "x",
         "y": [
          56
         ],
         "yaxis": "y"
        }
       ],
       "layout": {
        "barmode": "relative",
        "legend": {
         "title": {
          "text": "index"
         },
         "tracegroupgap": 0
        },
        "margin": {
         "t": 60
        },
        "template": {
         "data": {
          "bar": [
           {
            "error_x": {
             "color": "#2a3f5f"
            },
            "error_y": {
             "color": "#2a3f5f"
            },
            "marker": {
             "line": {
              "color": "#E5ECF6",
              "width": 0.5
             }
            },
            "type": "bar"
           }
          ],
          "barpolar": [
           {
            "marker": {
             "line": {
              "color": "#E5ECF6",
              "width": 0.5
             }
            },
            "type": "barpolar"
           }
          ],
          "carpet": [
           {
            "aaxis": {
             "endlinecolor": "#2a3f5f",
             "gridcolor": "white",
             "linecolor": "white",
             "minorgridcolor": "white",
             "startlinecolor": "#2a3f5f"
            },
            "baxis": {
             "endlinecolor": "#2a3f5f",
             "gridcolor": "white",
             "linecolor": "white",
             "minorgridcolor": "white",
             "startlinecolor": "#2a3f5f"
            },
            "type": "carpet"
           }
          ],
          "choropleth": [
           {
            "colorbar": {
             "outlinewidth": 0,
             "ticks": ""
            },
            "type": "choropleth"
           }
          ],
          "contour": [
           {
            "colorbar": {
             "outlinewidth": 0,
             "ticks": ""
            },
            "colorscale": [
             [
              0,
              "#0d0887"
             ],
             [
              0.1111111111111111,
              "#46039f"
             ],
             [
              0.2222222222222222,
              "#7201a8"
             ],
             [
              0.3333333333333333,
              "#9c179e"
             ],
             [
              0.4444444444444444,
              "#bd3786"
             ],
             [
              0.5555555555555556,
              "#d8576b"
             ],
             [
              0.6666666666666666,
              "#ed7953"
             ],
             [
              0.7777777777777778,
              "#fb9f3a"
             ],
             [
              0.8888888888888888,
              "#fdca26"
             ],
             [
              1,
              "#f0f921"
             ]
            ],
            "type": "contour"
           }
          ],
          "contourcarpet": [
           {
            "colorbar": {
             "outlinewidth": 0,
             "ticks": ""
            },
            "type": "contourcarpet"
           }
          ],
          "heatmap": [
           {
            "colorbar": {
             "outlinewidth": 0,
             "ticks": ""
            },
            "colorscale": [
             [
              0,
              "#0d0887"
             ],
             [
              0.1111111111111111,
              "#46039f"
             ],
             [
              0.2222222222222222,
              "#7201a8"
             ],
             [
              0.3333333333333333,
              "#9c179e"
             ],
             [
              0.4444444444444444,
              "#bd3786"
             ],
             [
              0.5555555555555556,
              "#d8576b"
             ],
             [
              0.6666666666666666,
              "#ed7953"
             ],
             [
              0.7777777777777778,
              "#fb9f3a"
             ],
             [
              0.8888888888888888,
              "#fdca26"
             ],
             [
              1,
              "#f0f921"
             ]
            ],
            "type": "heatmap"
           }
          ],
          "heatmapgl": [
           {
            "colorbar": {
             "outlinewidth": 0,
             "ticks": ""
            },
            "colorscale": [
             [
              0,
              "#0d0887"
             ],
             [
              0.1111111111111111,
              "#46039f"
             ],
             [
              0.2222222222222222,
              "#7201a8"
             ],
             [
              0.3333333333333333,
              "#9c179e"
             ],
             [
              0.4444444444444444,
              "#bd3786"
             ],
             [
              0.5555555555555556,
              "#d8576b"
             ],
             [
              0.6666666666666666,
              "#ed7953"
             ],
             [
              0.7777777777777778,
              "#fb9f3a"
             ],
             [
              0.8888888888888888,
              "#fdca26"
             ],
             [
              1,
              "#f0f921"
             ]
            ],
            "type": "heatmapgl"
           }
          ],
          "histogram": [
           {
            "marker": {
             "colorbar": {
              "outlinewidth": 0,
              "ticks": ""
             }
            },
            "type": "histogram"
           }
          ],
          "histogram2d": [
           {
            "colorbar": {
             "outlinewidth": 0,
             "ticks": ""
            },
            "colorscale": [
             [
              0,
              "#0d0887"
             ],
             [
              0.1111111111111111,
              "#46039f"
             ],
             [
              0.2222222222222222,
              "#7201a8"
             ],
             [
              0.3333333333333333,
              "#9c179e"
             ],
             [
              0.4444444444444444,
              "#bd3786"
             ],
             [
              0.5555555555555556,
              "#d8576b"
             ],
             [
              0.6666666666666666,
              "#ed7953"
             ],
             [
              0.7777777777777778,
              "#fb9f3a"
             ],
             [
              0.8888888888888888,
              "#fdca26"
             ],
             [
              1,
              "#f0f921"
             ]
            ],
            "type": "histogram2d"
           }
          ],
          "histogram2dcontour": [
           {
            "colorbar": {
             "outlinewidth": 0,
             "ticks": ""
            },
            "colorscale": [
             [
              0,
              "#0d0887"
             ],
             [
              0.1111111111111111,
              "#46039f"
             ],
             [
              0.2222222222222222,
              "#7201a8"
             ],
             [
              0.3333333333333333,
              "#9c179e"
             ],
             [
              0.4444444444444444,
              "#bd3786"
             ],
             [
              0.5555555555555556,
              "#d8576b"
             ],
             [
              0.6666666666666666,
              "#ed7953"
             ],
             [
              0.7777777777777778,
              "#fb9f3a"
             ],
             [
              0.8888888888888888,
              "#fdca26"
             ],
             [
              1,
              "#f0f921"
             ]
            ],
            "type": "histogram2dcontour"
           }
          ],
          "mesh3d": [
           {
            "colorbar": {
             "outlinewidth": 0,
             "ticks": ""
            },
            "type": "mesh3d"
           }
          ],
          "parcoords": [
           {
            "line": {
             "colorbar": {
              "outlinewidth": 0,
              "ticks": ""
             }
            },
            "type": "parcoords"
           }
          ],
          "pie": [
           {
            "automargin": true,
            "type": "pie"
           }
          ],
          "scatter": [
           {
            "marker": {
             "colorbar": {
              "outlinewidth": 0,
              "ticks": ""
             }
            },
            "type": "scatter"
           }
          ],
          "scatter3d": [
           {
            "line": {
             "colorbar": {
              "outlinewidth": 0,
              "ticks": ""
             }
            },
            "marker": {
             "colorbar": {
              "outlinewidth": 0,
              "ticks": ""
             }
            },
            "type": "scatter3d"
           }
          ],
          "scattercarpet": [
           {
            "marker": {
             "colorbar": {
              "outlinewidth": 0,
              "ticks": ""
             }
            },
            "type": "scattercarpet"
           }
          ],
          "scattergeo": [
           {
            "marker": {
             "colorbar": {
              "outlinewidth": 0,
              "ticks": ""
             }
            },
            "type": "scattergeo"
           }
          ],
          "scattergl": [
           {
            "marker": {
             "colorbar": {
              "outlinewidth": 0,
              "ticks": ""
             }
            },
            "type": "scattergl"
           }
          ],
          "scattermapbox": [
           {
            "marker": {
             "colorbar": {
              "outlinewidth": 0,
              "ticks": ""
             }
            },
            "type": "scattermapbox"
           }
          ],
          "scatterpolar": [
           {
            "marker": {
             "colorbar": {
              "outlinewidth": 0,
              "ticks": ""
             }
            },
            "type": "scatterpolar"
           }
          ],
          "scatterpolargl": [
           {
            "marker": {
             "colorbar": {
              "outlinewidth": 0,
              "ticks": ""
             }
            },
            "type": "scatterpolargl"
           }
          ],
          "scatterternary": [
           {
            "marker": {
             "colorbar": {
              "outlinewidth": 0,
              "ticks": ""
             }
            },
            "type": "scatterternary"
           }
          ],
          "surface": [
           {
            "colorbar": {
             "outlinewidth": 0,
             "ticks": ""
            },
            "colorscale": [
             [
              0,
              "#0d0887"
             ],
             [
              0.1111111111111111,
              "#46039f"
             ],
             [
              0.2222222222222222,
              "#7201a8"
             ],
             [
              0.3333333333333333,
              "#9c179e"
             ],
             [
              0.4444444444444444,
              "#bd3786"
             ],
             [
              0.5555555555555556,
              "#d8576b"
             ],
             [
              0.6666666666666666,
              "#ed7953"
             ],
             [
              0.7777777777777778,
              "#fb9f3a"
             ],
             [
              0.8888888888888888,
              "#fdca26"
             ],
             [
              1,
              "#f0f921"
             ]
            ],
            "type": "surface"
           }
          ],
          "table": [
           {
            "cells": {
             "fill": {
              "color": "#EBF0F8"
             },
             "line": {
              "color": "white"
             }
            },
            "header": {
             "fill": {
              "color": "#C8D4E3"
             },
             "line": {
              "color": "white"
             }
            },
            "type": "table"
           }
          ]
         },
         "layout": {
          "annotationdefaults": {
           "arrowcolor": "#2a3f5f",
           "arrowhead": 0,
           "arrowwidth": 1
          },
          "coloraxis": {
           "colorbar": {
            "outlinewidth": 0,
            "ticks": ""
           }
          },
          "colorscale": {
           "diverging": [
            [
             0,
             "#8e0152"
            ],
            [
             0.1,
             "#c51b7d"
            ],
            [
             0.2,
             "#de77ae"
            ],
            [
             0.3,
             "#f1b6da"
            ],
            [
             0.4,
             "#fde0ef"
            ],
            [
             0.5,
             "#f7f7f7"
            ],
            [
             0.6,
             "#e6f5d0"
            ],
            [
             0.7,
             "#b8e186"
            ],
            [
             0.8,
             "#7fbc41"
            ],
            [
             0.9,
             "#4d9221"
            ],
            [
             1,
             "#276419"
            ]
           ],
           "sequential": [
            [
             0,
             "#0d0887"
            ],
            [
             0.1111111111111111,
             "#46039f"
            ],
            [
             0.2222222222222222,
             "#7201a8"
            ],
            [
             0.3333333333333333,
             "#9c179e"
            ],
            [
             0.4444444444444444,
             "#bd3786"
            ],
            [
             0.5555555555555556,
             "#d8576b"
            ],
            [
             0.6666666666666666,
             "#ed7953"
            ],
            [
             0.7777777777777778,
             "#fb9f3a"
            ],
            [
             0.8888888888888888,
             "#fdca26"
            ],
            [
             1,
             "#f0f921"
            ]
           ],
           "sequentialminus": [
            [
             0,
             "#0d0887"
            ],
            [
             0.1111111111111111,
             "#46039f"
            ],
            [
             0.2222222222222222,
             "#7201a8"
            ],
            [
             0.3333333333333333,
             "#9c179e"
            ],
            [
             0.4444444444444444,
             "#bd3786"
            ],
            [
             0.5555555555555556,
             "#d8576b"
            ],
            [
             0.6666666666666666,
             "#ed7953"
            ],
            [
             0.7777777777777778,
             "#fb9f3a"
            ],
            [
             0.8888888888888888,
             "#fdca26"
            ],
            [
             1,
             "#f0f921"
            ]
           ]
          },
          "colorway": [
           "#636efa",
           "#EF553B",
           "#00cc96",
           "#ab63fa",
           "#FFA15A",
           "#19d3f3",
           "#FF6692",
           "#B6E880",
           "#FF97FF",
           "#FECB52"
          ],
          "font": {
           "color": "#2a3f5f"
          },
          "geo": {
           "bgcolor": "white",
           "lakecolor": "white",
           "landcolor": "#E5ECF6",
           "showlakes": true,
           "showland": true,
           "subunitcolor": "white"
          },
          "hoverlabel": {
           "align": "left"
          },
          "hovermode": "closest",
          "mapbox": {
           "style": "light"
          },
          "paper_bgcolor": "white",
          "plot_bgcolor": "#E5ECF6",
          "polar": {
           "angularaxis": {
            "gridcolor": "white",
            "linecolor": "white",
            "ticks": ""
           },
           "bgcolor": "#E5ECF6",
           "radialaxis": {
            "gridcolor": "white",
            "linecolor": "white",
            "ticks": ""
           }
          },
          "scene": {
           "xaxis": {
            "backgroundcolor": "#E5ECF6",
            "gridcolor": "white",
            "gridwidth": 2,
            "linecolor": "white",
            "showbackground": true,
            "ticks": "",
            "zerolinecolor": "white"
           },
           "yaxis": {
            "backgroundcolor": "#E5ECF6",
            "gridcolor": "white",
            "gridwidth": 2,
            "linecolor": "white",
            "showbackground": true,
            "ticks": "",
            "zerolinecolor": "white"
           },
           "zaxis": {
            "backgroundcolor": "#E5ECF6",
            "gridcolor": "white",
            "gridwidth": 2,
            "linecolor": "white",
            "showbackground": true,
            "ticks": "",
            "zerolinecolor": "white"
           }
          },
          "shapedefaults": {
           "line": {
            "color": "#2a3f5f"
           }
          },
          "ternary": {
           "aaxis": {
            "gridcolor": "white",
            "linecolor": "white",
            "ticks": ""
           },
           "baxis": {
            "gridcolor": "white",
            "linecolor": "white",
            "ticks": ""
           },
           "bgcolor": "#E5ECF6",
           "caxis": {
            "gridcolor": "white",
            "linecolor": "white",
            "ticks": ""
           }
          },
          "title": {
           "x": 0.05
          },
          "xaxis": {
           "automargin": true,
           "gridcolor": "white",
           "linecolor": "white",
           "ticks": "",
           "title": {
            "standoff": 15
           },
           "zerolinecolor": "white",
           "zerolinewidth": 2
          },
          "yaxis": {
           "automargin": true,
           "gridcolor": "white",
           "linecolor": "white",
           "ticks": "",
           "title": {
            "standoff": 15
           },
           "zerolinecolor": "white",
           "zerolinewidth": 2
          }
         }
        },
        "xaxis": {
         "anchor": "y",
         "categoryarray": [
          "High income",
          "Low income",
          "Lower middle income",
          "Upper middle income"
         ],
         "categoryorder": "array",
         "domain": [
          0,
          1
         ],
         "title": {
          "text": "index"
         }
        },
        "yaxis": {
         "anchor": "x",
         "domain": [
          0,
          1
         ],
         "title": {
          "text": "value"
         }
        }
       }
      },
      "text/html": [
       "<div>                            <div id=\"0388c284-1e06-42d8-ab52-a6a57ae69bbe\" class=\"plotly-graph-div\" style=\"height:525px; width:100%;\"></div>            <script type=\"text/javascript\">                require([\"plotly\"], function(Plotly) {                    window.PLOTLYENV=window.PLOTLYENV || {};                                    if (document.getElementById(\"0388c284-1e06-42d8-ab52-a6a57ae69bbe\")) {                    Plotly.newPlot(                        \"0388c284-1e06-42d8-ab52-a6a57ae69bbe\",                        [{\"alignmentgroup\": \"True\", \"hovertemplate\": \"index=%{x}<br>value=%{y}<extra></extra>\", \"legendgroup\": \"High income\", \"marker\": {\"color\": \"#636efa\"}, \"name\": \"High income\", \"offsetgroup\": \"High income\", \"orientation\": \"v\", \"showlegend\": true, \"textposition\": \"auto\", \"type\": \"bar\", \"x\": [\"High income\"], \"xaxis\": \"x\", \"y\": [83], \"yaxis\": \"y\"}, {\"alignmentgroup\": \"True\", \"hovertemplate\": \"index=%{x}<br>value=%{y}<extra></extra>\", \"legendgroup\": \"Low income\", \"marker\": {\"color\": \"#EF553B\"}, \"name\": \"Low income\", \"offsetgroup\": \"Low income\", \"orientation\": \"v\", \"showlegend\": true, \"textposition\": \"auto\", \"type\": \"bar\", \"x\": [\"Low income\"], \"xaxis\": \"x\", \"y\": [29], \"yaxis\": \"y\"}, {\"alignmentgroup\": \"True\", \"hovertemplate\": \"index=%{x}<br>value=%{y}<extra></extra>\", \"legendgroup\": \"Lower middle income\", \"marker\": {\"color\": \"#00cc96\"}, \"name\": \"Lower middle income\", \"offsetgroup\": \"Lower middle income\", \"orientation\": \"v\", \"showlegend\": true, \"textposition\": \"auto\", \"type\": \"bar\", \"x\": [\"Lower middle income\"], \"xaxis\": \"x\", \"y\": [50], \"yaxis\": \"y\"}, {\"alignmentgroup\": \"True\", \"hovertemplate\": \"index=%{x}<br>value=%{y}<extra></extra>\", \"legendgroup\": \"Upper middle income\", \"marker\": {\"color\": \"#ab63fa\"}, \"name\": \"Upper middle income\", \"offsetgroup\": \"Upper middle income\", \"orientation\": \"v\", \"showlegend\": true, \"textposition\": \"auto\", \"type\": \"bar\", \"x\": [\"Upper middle income\"], \"xaxis\": \"x\", \"y\": [56], \"yaxis\": \"y\"}],                        {\"barmode\": \"relative\", \"legend\": {\"title\": {\"text\": \"index\"}, \"tracegroupgap\": 0}, \"margin\": {\"t\": 60}, \"template\": {\"data\": {\"bar\": [{\"error_x\": {\"color\": \"#2a3f5f\"}, \"error_y\": {\"color\": \"#2a3f5f\"}, \"marker\": {\"line\": {\"color\": \"#E5ECF6\", \"width\": 0.5}}, \"type\": \"bar\"}], \"barpolar\": [{\"marker\": {\"line\": {\"color\": \"#E5ECF6\", \"width\": 0.5}}, \"type\": \"barpolar\"}], \"carpet\": [{\"aaxis\": {\"endlinecolor\": \"#2a3f5f\", \"gridcolor\": \"white\", \"linecolor\": \"white\", \"minorgridcolor\": \"white\", \"startlinecolor\": \"#2a3f5f\"}, \"baxis\": {\"endlinecolor\": \"#2a3f5f\", \"gridcolor\": \"white\", \"linecolor\": \"white\", \"minorgridcolor\": \"white\", \"startlinecolor\": \"#2a3f5f\"}, \"type\": \"carpet\"}], \"choropleth\": [{\"colorbar\": {\"outlinewidth\": 0, \"ticks\": \"\"}, \"type\": \"choropleth\"}], \"contour\": [{\"colorbar\": {\"outlinewidth\": 0, \"ticks\": \"\"}, \"colorscale\": [[0.0, \"#0d0887\"], [0.1111111111111111, \"#46039f\"], [0.2222222222222222, \"#7201a8\"], [0.3333333333333333, \"#9c179e\"], [0.4444444444444444, \"#bd3786\"], [0.5555555555555556, \"#d8576b\"], [0.6666666666666666, \"#ed7953\"], [0.7777777777777778, \"#fb9f3a\"], [0.8888888888888888, \"#fdca26\"], [1.0, \"#f0f921\"]], \"type\": \"contour\"}], \"contourcarpet\": [{\"colorbar\": {\"outlinewidth\": 0, \"ticks\": \"\"}, \"type\": \"contourcarpet\"}], \"heatmap\": [{\"colorbar\": {\"outlinewidth\": 0, \"ticks\": \"\"}, \"colorscale\": [[0.0, \"#0d0887\"], [0.1111111111111111, \"#46039f\"], [0.2222222222222222, \"#7201a8\"], [0.3333333333333333, \"#9c179e\"], [0.4444444444444444, \"#bd3786\"], [0.5555555555555556, \"#d8576b\"], [0.6666666666666666, \"#ed7953\"], [0.7777777777777778, \"#fb9f3a\"], [0.8888888888888888, \"#fdca26\"], [1.0, \"#f0f921\"]], \"type\": \"heatmap\"}], \"heatmapgl\": [{\"colorbar\": {\"outlinewidth\": 0, \"ticks\": \"\"}, \"colorscale\": [[0.0, \"#0d0887\"], [0.1111111111111111, \"#46039f\"], [0.2222222222222222, \"#7201a8\"], [0.3333333333333333, \"#9c179e\"], [0.4444444444444444, \"#bd3786\"], [0.5555555555555556, \"#d8576b\"], [0.6666666666666666, \"#ed7953\"], [0.7777777777777778, \"#fb9f3a\"], [0.8888888888888888, \"#fdca26\"], [1.0, \"#f0f921\"]], \"type\": \"heatmapgl\"}], \"histogram\": [{\"marker\": {\"colorbar\": {\"outlinewidth\": 0, \"ticks\": \"\"}}, \"type\": \"histogram\"}], \"histogram2d\": [{\"colorbar\": {\"outlinewidth\": 0, \"ticks\": \"\"}, \"colorscale\": [[0.0, \"#0d0887\"], [0.1111111111111111, \"#46039f\"], [0.2222222222222222, \"#7201a8\"], [0.3333333333333333, \"#9c179e\"], [0.4444444444444444, \"#bd3786\"], [0.5555555555555556, \"#d8576b\"], [0.6666666666666666, \"#ed7953\"], [0.7777777777777778, \"#fb9f3a\"], [0.8888888888888888, \"#fdca26\"], [1.0, \"#f0f921\"]], \"type\": \"histogram2d\"}], \"histogram2dcontour\": [{\"colorbar\": {\"outlinewidth\": 0, \"ticks\": \"\"}, \"colorscale\": [[0.0, \"#0d0887\"], [0.1111111111111111, \"#46039f\"], [0.2222222222222222, \"#7201a8\"], [0.3333333333333333, \"#9c179e\"], [0.4444444444444444, \"#bd3786\"], [0.5555555555555556, \"#d8576b\"], [0.6666666666666666, \"#ed7953\"], [0.7777777777777778, \"#fb9f3a\"], [0.8888888888888888, \"#fdca26\"], [1.0, \"#f0f921\"]], \"type\": \"histogram2dcontour\"}], \"mesh3d\": [{\"colorbar\": {\"outlinewidth\": 0, \"ticks\": \"\"}, \"type\": \"mesh3d\"}], \"parcoords\": [{\"line\": {\"colorbar\": {\"outlinewidth\": 0, \"ticks\": \"\"}}, \"type\": \"parcoords\"}], \"pie\": [{\"automargin\": true, \"type\": \"pie\"}], \"scatter\": [{\"marker\": {\"colorbar\": {\"outlinewidth\": 0, \"ticks\": \"\"}}, \"type\": \"scatter\"}], \"scatter3d\": [{\"line\": {\"colorbar\": {\"outlinewidth\": 0, \"ticks\": \"\"}}, \"marker\": {\"colorbar\": {\"outlinewidth\": 0, \"ticks\": \"\"}}, \"type\": \"scatter3d\"}], \"scattercarpet\": [{\"marker\": {\"colorbar\": {\"outlinewidth\": 0, \"ticks\": \"\"}}, \"type\": \"scattercarpet\"}], \"scattergeo\": [{\"marker\": {\"colorbar\": {\"outlinewidth\": 0, \"ticks\": \"\"}}, \"type\": \"scattergeo\"}], \"scattergl\": [{\"marker\": {\"colorbar\": {\"outlinewidth\": 0, \"ticks\": \"\"}}, \"type\": \"scattergl\"}], \"scattermapbox\": [{\"marker\": {\"colorbar\": {\"outlinewidth\": 0, \"ticks\": \"\"}}, \"type\": \"scattermapbox\"}], \"scatterpolar\": [{\"marker\": {\"colorbar\": {\"outlinewidth\": 0, \"ticks\": \"\"}}, \"type\": \"scatterpolar\"}], \"scatterpolargl\": [{\"marker\": {\"colorbar\": {\"outlinewidth\": 0, \"ticks\": \"\"}}, \"type\": \"scatterpolargl\"}], \"scatterternary\": [{\"marker\": {\"colorbar\": {\"outlinewidth\": 0, \"ticks\": \"\"}}, \"type\": \"scatterternary\"}], \"surface\": [{\"colorbar\": {\"outlinewidth\": 0, \"ticks\": \"\"}, \"colorscale\": [[0.0, \"#0d0887\"], [0.1111111111111111, \"#46039f\"], [0.2222222222222222, \"#7201a8\"], [0.3333333333333333, \"#9c179e\"], [0.4444444444444444, \"#bd3786\"], [0.5555555555555556, \"#d8576b\"], [0.6666666666666666, \"#ed7953\"], [0.7777777777777778, \"#fb9f3a\"], [0.8888888888888888, \"#fdca26\"], [1.0, \"#f0f921\"]], \"type\": \"surface\"}], \"table\": [{\"cells\": {\"fill\": {\"color\": \"#EBF0F8\"}, \"line\": {\"color\": \"white\"}}, \"header\": {\"fill\": {\"color\": \"#C8D4E3\"}, \"line\": {\"color\": \"white\"}}, \"type\": \"table\"}]}, \"layout\": {\"annotationdefaults\": {\"arrowcolor\": \"#2a3f5f\", \"arrowhead\": 0, \"arrowwidth\": 1}, \"coloraxis\": {\"colorbar\": {\"outlinewidth\": 0, \"ticks\": \"\"}}, \"colorscale\": {\"diverging\": [[0, \"#8e0152\"], [0.1, \"#c51b7d\"], [0.2, \"#de77ae\"], [0.3, \"#f1b6da\"], [0.4, \"#fde0ef\"], [0.5, \"#f7f7f7\"], [0.6, \"#e6f5d0\"], [0.7, \"#b8e186\"], [0.8, \"#7fbc41\"], [0.9, \"#4d9221\"], [1, \"#276419\"]], \"sequential\": [[0.0, \"#0d0887\"], [0.1111111111111111, \"#46039f\"], [0.2222222222222222, \"#7201a8\"], [0.3333333333333333, \"#9c179e\"], [0.4444444444444444, \"#bd3786\"], [0.5555555555555556, \"#d8576b\"], [0.6666666666666666, \"#ed7953\"], [0.7777777777777778, \"#fb9f3a\"], [0.8888888888888888, \"#fdca26\"], [1.0, \"#f0f921\"]], \"sequentialminus\": [[0.0, \"#0d0887\"], [0.1111111111111111, \"#46039f\"], [0.2222222222222222, \"#7201a8\"], [0.3333333333333333, \"#9c179e\"], [0.4444444444444444, \"#bd3786\"], [0.5555555555555556, \"#d8576b\"], [0.6666666666666666, \"#ed7953\"], [0.7777777777777778, \"#fb9f3a\"], [0.8888888888888888, \"#fdca26\"], [1.0, \"#f0f921\"]]}, \"colorway\": [\"#636efa\", \"#EF553B\", \"#00cc96\", \"#ab63fa\", \"#FFA15A\", \"#19d3f3\", \"#FF6692\", \"#B6E880\", \"#FF97FF\", \"#FECB52\"], \"font\": {\"color\": \"#2a3f5f\"}, \"geo\": {\"bgcolor\": \"white\", \"lakecolor\": \"white\", \"landcolor\": \"#E5ECF6\", \"showlakes\": true, \"showland\": true, \"subunitcolor\": \"white\"}, \"hoverlabel\": {\"align\": \"left\"}, \"hovermode\": \"closest\", \"mapbox\": {\"style\": \"light\"}, \"paper_bgcolor\": \"white\", \"plot_bgcolor\": \"#E5ECF6\", \"polar\": {\"angularaxis\": {\"gridcolor\": \"white\", \"linecolor\": \"white\", \"ticks\": \"\"}, \"bgcolor\": \"#E5ECF6\", \"radialaxis\": {\"gridcolor\": \"white\", \"linecolor\": \"white\", \"ticks\": \"\"}}, \"scene\": {\"xaxis\": {\"backgroundcolor\": \"#E5ECF6\", \"gridcolor\": \"white\", \"gridwidth\": 2, \"linecolor\": \"white\", \"showbackground\": true, \"ticks\": \"\", \"zerolinecolor\": \"white\"}, \"yaxis\": {\"backgroundcolor\": \"#E5ECF6\", \"gridcolor\": \"white\", \"gridwidth\": 2, \"linecolor\": \"white\", \"showbackground\": true, \"ticks\": \"\", \"zerolinecolor\": \"white\"}, \"zaxis\": {\"backgroundcolor\": \"#E5ECF6\", \"gridcolor\": \"white\", \"gridwidth\": 2, \"linecolor\": \"white\", \"showbackground\": true, \"ticks\": \"\", \"zerolinecolor\": \"white\"}}, \"shapedefaults\": {\"line\": {\"color\": \"#2a3f5f\"}}, \"ternary\": {\"aaxis\": {\"gridcolor\": \"white\", \"linecolor\": \"white\", \"ticks\": \"\"}, \"baxis\": {\"gridcolor\": \"white\", \"linecolor\": \"white\", \"ticks\": \"\"}, \"bgcolor\": \"#E5ECF6\", \"caxis\": {\"gridcolor\": \"white\", \"linecolor\": \"white\", \"ticks\": \"\"}}, \"title\": {\"x\": 0.05}, \"xaxis\": {\"automargin\": true, \"gridcolor\": \"white\", \"linecolor\": \"white\", \"ticks\": \"\", \"title\": {\"standoff\": 15}, \"zerolinecolor\": \"white\", \"zerolinewidth\": 2}, \"yaxis\": {\"automargin\": true, \"gridcolor\": \"white\", \"linecolor\": \"white\", \"ticks\": \"\", \"title\": {\"standoff\": 15}, \"zerolinecolor\": \"white\", \"zerolinewidth\": 2}}}, \"xaxis\": {\"anchor\": \"y\", \"categoryarray\": [\"High income\", \"Low income\", \"Lower middle income\", \"Upper middle income\"], \"categoryorder\": \"array\", \"domain\": [0.0, 1.0], \"title\": {\"text\": \"index\"}}, \"yaxis\": {\"anchor\": \"x\", \"domain\": [0.0, 1.0], \"title\": {\"text\": \"value\"}}},                        {\"responsive\": true}                    ).then(function(){\n",
       "                            \n",
       "var gd = document.getElementById('0388c284-1e06-42d8-ab52-a6a57ae69bbe');\n",
       "var x = new MutationObserver(function (mutations, observer) {{\n",
       "        var display = window.getComputedStyle(gd).display;\n",
       "        if (!display || display === 'none') {{\n",
       "            console.log([gd, 'removed!']);\n",
       "            Plotly.purge(gd);\n",
       "            observer.disconnect();\n",
       "        }}\n",
       "}});\n",
       "\n",
       "// Listen for the removal of the full notebook cells\n",
       "var notebookContainer = gd.closest('#notebook-container');\n",
       "if (notebookContainer) {{\n",
       "    x.observe(notebookContainer, {childList: true});\n",
       "}}\n",
       "\n",
       "// Listen for the clearing of the current output cell\n",
       "var outputEl = gd.closest('.output');\n",
       "if (outputEl) {{\n",
       "    x.observe(outputEl, {childList: true});\n",
       "}}\n",
       "\n",
       "                        })                };                });            </script>        </div>"
      ]
     },
     "metadata": {},
     "output_type": "display_data"
    }
   ],
   "source": [
    "fig = px.bar(by_Income,color=by_Income.index)\n",
    "fig.show()"
   ]
  },
  {
   "cell_type": "markdown",
   "metadata": {},
   "source": [
    "<mark> There are 29 countries with per capital income of less than 1,036 dollars whereas there are 83 nations with per capita income of more than 12,536 dollars. \n"
   ]
  },
  {
   "cell_type": "code",
   "execution_count": 39,
   "metadata": {
    "ExecuteTime": {
     "end_time": "2020-12-29T12:07:52.681218Z",
     "start_time": "2020-12-29T12:07:52.673576Z"
    }
   },
   "outputs": [
    {
     "data": {
      "text/plain": [
       "7"
      ]
     },
     "execution_count": 39,
     "metadata": {},
     "output_type": "execute_result"
    }
   ],
   "source": [
    "df2['Region'].nunique()"
   ]
  },
  {
   "cell_type": "code",
   "execution_count": 40,
   "metadata": {
    "ExecuteTime": {
     "end_time": "2020-12-29T12:07:54.605771Z",
     "start_time": "2020-12-29T12:07:54.586563Z"
    }
   },
   "outputs": [
    {
     "data": {
      "text/html": [
       "<div>\n",
       "<style scoped>\n",
       "    .dataframe tbody tr th:only-of-type {\n",
       "        vertical-align: middle;\n",
       "    }\n",
       "\n",
       "    .dataframe tbody tr th {\n",
       "        vertical-align: top;\n",
       "    }\n",
       "\n",
       "    .dataframe thead th {\n",
       "        text-align: right;\n",
       "    }\n",
       "</style>\n",
       "<table border=\"1\" class=\"dataframe\">\n",
       "  <thead>\n",
       "    <tr style=\"text-align: right;\">\n",
       "      <th></th>\n",
       "      <th>name</th>\n",
       "      <th>capitalCity</th>\n",
       "      <th>Region</th>\n",
       "      <th>Income</th>\n",
       "      <th>longitude</th>\n",
       "      <th>latitude</th>\n",
       "    </tr>\n",
       "  </thead>\n",
       "  <tbody>\n",
       "    <tr>\n",
       "      <th>0</th>\n",
       "      <td>Aruba</td>\n",
       "      <td>Oranjestad</td>\n",
       "      <td>Latin America &amp; Caribbean</td>\n",
       "      <td>High income</td>\n",
       "      <td>-70.0167</td>\n",
       "      <td>12.5167</td>\n",
       "    </tr>\n",
       "    <tr>\n",
       "      <th>1</th>\n",
       "      <td>Afghanistan</td>\n",
       "      <td>Kabul</td>\n",
       "      <td>South Asia</td>\n",
       "      <td>Low income</td>\n",
       "      <td>69.1761</td>\n",
       "      <td>34.5228</td>\n",
       "    </tr>\n",
       "    <tr>\n",
       "      <th>2</th>\n",
       "      <td>Angola</td>\n",
       "      <td>Luanda</td>\n",
       "      <td>Sub-Saharan Africa</td>\n",
       "      <td>Lower middle income</td>\n",
       "      <td>13.242</td>\n",
       "      <td>-8.81155</td>\n",
       "    </tr>\n",
       "    <tr>\n",
       "      <th>3</th>\n",
       "      <td>Albania</td>\n",
       "      <td>Tirane</td>\n",
       "      <td>Europe &amp; Central Asia</td>\n",
       "      <td>Upper middle income</td>\n",
       "      <td>19.8172</td>\n",
       "      <td>41.3317</td>\n",
       "    </tr>\n",
       "    <tr>\n",
       "      <th>4</th>\n",
       "      <td>Andorra</td>\n",
       "      <td>Andorra la Vella</td>\n",
       "      <td>Europe &amp; Central Asia</td>\n",
       "      <td>High income</td>\n",
       "      <td>1.5218</td>\n",
       "      <td>42.5075</td>\n",
       "    </tr>\n",
       "    <tr>\n",
       "      <th>...</th>\n",
       "      <td>...</td>\n",
       "      <td>...</td>\n",
       "      <td>...</td>\n",
       "      <td>...</td>\n",
       "      <td>...</td>\n",
       "      <td>...</td>\n",
       "    </tr>\n",
       "    <tr>\n",
       "      <th>213</th>\n",
       "      <td>Kosovo</td>\n",
       "      <td>Pristina</td>\n",
       "      <td>Europe &amp; Central Asia</td>\n",
       "      <td>Upper middle income</td>\n",
       "      <td>20.926</td>\n",
       "      <td>42.565</td>\n",
       "    </tr>\n",
       "    <tr>\n",
       "      <th>214</th>\n",
       "      <td>Yemen, Rep.</td>\n",
       "      <td>Sana'a</td>\n",
       "      <td>Middle East &amp; North Africa</td>\n",
       "      <td>Low income</td>\n",
       "      <td>44.2075</td>\n",
       "      <td>15.352</td>\n",
       "    </tr>\n",
       "    <tr>\n",
       "      <th>215</th>\n",
       "      <td>South Africa</td>\n",
       "      <td>Pretoria</td>\n",
       "      <td>Sub-Saharan Africa</td>\n",
       "      <td>Upper middle income</td>\n",
       "      <td>28.1871</td>\n",
       "      <td>-25.746</td>\n",
       "    </tr>\n",
       "    <tr>\n",
       "      <th>216</th>\n",
       "      <td>Zambia</td>\n",
       "      <td>Lusaka</td>\n",
       "      <td>Sub-Saharan Africa</td>\n",
       "      <td>Lower middle income</td>\n",
       "      <td>28.2937</td>\n",
       "      <td>-15.3982</td>\n",
       "    </tr>\n",
       "    <tr>\n",
       "      <th>217</th>\n",
       "      <td>Zimbabwe</td>\n",
       "      <td>Harare</td>\n",
       "      <td>Sub-Saharan Africa</td>\n",
       "      <td>Lower middle income</td>\n",
       "      <td>31.0672</td>\n",
       "      <td>-17.8312</td>\n",
       "    </tr>\n",
       "  </tbody>\n",
       "</table>\n",
       "<p>218 rows × 6 columns</p>\n",
       "</div>"
      ],
      "text/plain": [
       "             name       capitalCity                      Region  \\\n",
       "0           Aruba        Oranjestad  Latin America & Caribbean    \n",
       "1     Afghanistan             Kabul                  South Asia   \n",
       "2          Angola            Luanda         Sub-Saharan Africa    \n",
       "3         Albania            Tirane       Europe & Central Asia   \n",
       "4         Andorra  Andorra la Vella       Europe & Central Asia   \n",
       "..            ...               ...                         ...   \n",
       "213        Kosovo          Pristina       Europe & Central Asia   \n",
       "214   Yemen, Rep.            Sana'a  Middle East & North Africa   \n",
       "215  South Africa          Pretoria         Sub-Saharan Africa    \n",
       "216        Zambia            Lusaka         Sub-Saharan Africa    \n",
       "217      Zimbabwe            Harare         Sub-Saharan Africa    \n",
       "\n",
       "                  Income longitude  latitude  \n",
       "0            High income  -70.0167   12.5167  \n",
       "1             Low income   69.1761   34.5228  \n",
       "2    Lower middle income    13.242  -8.81155  \n",
       "3    Upper middle income   19.8172   41.3317  \n",
       "4            High income    1.5218   42.5075  \n",
       "..                   ...       ...       ...  \n",
       "213  Upper middle income    20.926    42.565  \n",
       "214           Low income   44.2075    15.352  \n",
       "215  Upper middle income   28.1871   -25.746  \n",
       "216  Lower middle income   28.2937  -15.3982  \n",
       "217  Lower middle income   31.0672  -17.8312  \n",
       "\n",
       "[218 rows x 6 columns]"
      ]
     },
     "execution_count": 40,
     "metadata": {},
     "output_type": "execute_result"
    }
   ],
   "source": [
    "df2"
   ]
  },
  {
   "cell_type": "code",
   "execution_count": 49,
   "metadata": {
    "ExecuteTime": {
     "end_time": "2020-12-29T12:12:53.438218Z",
     "start_time": "2020-12-29T12:12:53.340710Z"
    }
   },
   "outputs": [
    {
     "data": {
      "application/vnd.plotly.v1+json": {
       "config": {
        "plotlyServerURL": "https://plot.ly"
       },
       "data": [
        {
         "alignmentgroup": "True",
         "hovertemplate": "Income=High income<br>Region=%{x}<br>count=%{y}<extra></extra>",
         "legendgroup": "High income",
         "marker": {
          "color": "#636efa"
         },
         "name": "High income",
         "offsetgroup": "High income",
         "orientation": "v",
         "showlegend": true,
         "textposition": "auto",
         "type": "bar",
         "x": [
          "Latin America & Caribbean ",
          "Europe & Central Asia",
          "Middle East & North Africa",
          "Latin America & Caribbean ",
          "East Asia & Pacific",
          "Europe & Central Asia",
          "Europe & Central Asia",
          "Middle East & North Africa",
          "Latin America & Caribbean ",
          "North America",
          "Latin America & Caribbean ",
          "East Asia & Pacific",
          "North America",
          "Europe & Central Asia",
          "Europe & Central Asia",
          "Latin America & Caribbean ",
          "Latin America & Caribbean ",
          "Latin America & Caribbean ",
          "Europe & Central Asia",
          "Europe & Central Asia",
          "Europe & Central Asia",
          "Europe & Central Asia",
          "Europe & Central Asia",
          "Europe & Central Asia",
          "Europe & Central Asia",
          "Europe & Central Asia",
          "Europe & Central Asia",
          "Europe & Central Asia",
          "Europe & Central Asia",
          "Europe & Central Asia",
          "Europe & Central Asia",
          "East Asia & Pacific",
          "East Asia & Pacific",
          "Europe & Central Asia",
          "Europe & Central Asia",
          "Europe & Central Asia",
          "Europe & Central Asia",
          "Europe & Central Asia",
          "Middle East & North Africa",
          "Europe & Central Asia",
          "East Asia & Pacific",
          "Latin America & Caribbean ",
          "East Asia & Pacific",
          "Middle East & North Africa",
          "Europe & Central Asia",
          "Europe & Central Asia",
          "Europe & Central Asia",
          "Europe & Central Asia",
          "East Asia & Pacific",
          "Latin America & Caribbean ",
          "Europe & Central Asia",
          "Middle East & North Africa",
          "East Asia & Pacific",
          "Sub-Saharan Africa ",
          "East Asia & Pacific",
          "Europe & Central Asia",
          "Europe & Central Asia",
          "East Asia & Pacific",
          "East Asia & Pacific",
          "Middle East & North Africa",
          "Latin America & Caribbean ",
          "East Asia & Pacific",
          "Europe & Central Asia",
          "Latin America & Caribbean ",
          "Europe & Central Asia",
          "East Asia & Pacific",
          "Middle East & North Africa",
          "Europe & Central Asia",
          "Middle East & North Africa",
          "East Asia & Pacific",
          "Europe & Central Asia",
          "Europe & Central Asia",
          "Europe & Central Asia",
          "Europe & Central Asia",
          "Latin America & Caribbean ",
          "Sub-Saharan Africa ",
          "Latin America & Caribbean ",
          "Latin America & Caribbean ",
          "East Asia & Pacific",
          "Latin America & Caribbean ",
          "North America",
          "Latin America & Caribbean ",
          "Latin America & Caribbean "
         ],
         "xaxis": "x",
         "y": [
          1,
          1,
          1,
          1,
          1,
          1,
          1,
          1,
          1,
          1,
          1,
          1,
          1,
          1,
          1,
          1,
          1,
          1,
          1,
          1,
          1,
          1,
          1,
          1,
          1,
          1,
          1,
          1,
          1,
          1,
          1,
          1,
          1,
          1,
          1,
          1,
          1,
          1,
          1,
          1,
          1,
          1,
          1,
          1,
          1,
          1,
          1,
          1,
          1,
          1,
          1,
          1,
          1,
          1,
          1,
          1,
          1,
          1,
          1,
          1,
          1,
          1,
          1,
          1,
          1,
          1,
          1,
          1,
          1,
          1,
          1,
          1,
          1,
          1,
          1,
          1,
          1,
          1,
          1,
          1,
          1,
          1,
          1
         ],
         "yaxis": "y"
        },
        {
         "alignmentgroup": "True",
         "hovertemplate": "Income=Low income<br>Region=%{x}<br>count=%{y}<extra></extra>",
         "legendgroup": "Low income",
         "marker": {
          "color": "#EF553B"
         },
         "name": "Low income",
         "offsetgroup": "Low income",
         "orientation": "v",
         "showlegend": true,
         "textposition": "auto",
         "type": "bar",
         "x": [
          "South Asia",
          "Sub-Saharan Africa ",
          "Sub-Saharan Africa ",
          "Sub-Saharan Africa ",
          "Sub-Saharan Africa ",
          "Sub-Saharan Africa ",
          "Sub-Saharan Africa ",
          "Sub-Saharan Africa ",
          "Sub-Saharan Africa ",
          "Sub-Saharan Africa ",
          "Latin America & Caribbean ",
          "Sub-Saharan Africa ",
          "Sub-Saharan Africa ",
          "Sub-Saharan Africa ",
          "Sub-Saharan Africa ",
          "Sub-Saharan Africa ",
          "Sub-Saharan Africa ",
          "East Asia & Pacific",
          "Sub-Saharan Africa ",
          "Sub-Saharan Africa ",
          "Sub-Saharan Africa ",
          "Sub-Saharan Africa ",
          "Sub-Saharan Africa ",
          "Middle East & North Africa",
          "Sub-Saharan Africa ",
          "Sub-Saharan Africa ",
          "Europe & Central Asia",
          "Sub-Saharan Africa ",
          "Middle East & North Africa"
         ],
         "xaxis": "x",
         "y": [
          1,
          1,
          1,
          1,
          1,
          1,
          1,
          1,
          1,
          1,
          1,
          1,
          1,
          1,
          1,
          1,
          1,
          1,
          1,
          1,
          1,
          1,
          1,
          1,
          1,
          1,
          1,
          1,
          1
         ],
         "yaxis": "y"
        },
        {
         "alignmentgroup": "True",
         "hovertemplate": "Income=Lower middle income<br>Region=%{x}<br>count=%{y}<extra></extra>",
         "legendgroup": "Lower middle income",
         "marker": {
          "color": "#00cc96"
         },
         "name": "Lower middle income",
         "offsetgroup": "Lower middle income",
         "orientation": "v",
         "showlegend": true,
         "textposition": "auto",
         "type": "bar",
         "x": [
          "Sub-Saharan Africa ",
          "Sub-Saharan Africa ",
          "South Asia",
          "Latin America & Caribbean ",
          "South Asia",
          "Sub-Saharan Africa ",
          "Sub-Saharan Africa ",
          "Sub-Saharan Africa ",
          "Sub-Saharan Africa ",
          "Sub-Saharan Africa ",
          "Middle East & North Africa",
          "Middle East & North Africa",
          "Middle East & North Africa",
          "East Asia & Pacific",
          "Sub-Saharan Africa ",
          "Latin America & Caribbean ",
          "South Asia",
          "Sub-Saharan Africa ",
          "Europe & Central Asia",
          "East Asia & Pacific",
          "East Asia & Pacific",
          "East Asia & Pacific",
          "South Asia",
          "Sub-Saharan Africa ",
          "Middle East & North Africa",
          "Europe & Central Asia",
          "East Asia & Pacific",
          "East Asia & Pacific",
          "Sub-Saharan Africa ",
          "Sub-Saharan Africa ",
          "Latin America & Caribbean ",
          "South Asia",
          "South Asia",
          "East Asia & Pacific",
          "East Asia & Pacific",
          "Middle East & North Africa",
          "Sub-Saharan Africa ",
          "East Asia & Pacific",
          "Latin America & Caribbean ",
          "Sub-Saharan Africa ",
          "Sub-Saharan Africa ",
          "East Asia & Pacific",
          "Middle East & North Africa",
          "Sub-Saharan Africa ",
          "Europe & Central Asia",
          "Europe & Central Asia",
          "East Asia & Pacific",
          "East Asia & Pacific",
          "Sub-Saharan Africa ",
          "Sub-Saharan Africa "
         ],
         "xaxis": "x",
         "y": [
          1,
          1,
          1,
          1,
          1,
          1,
          1,
          1,
          1,
          1,
          1,
          1,
          1,
          1,
          1,
          1,
          1,
          1,
          1,
          1,
          1,
          1,
          1,
          1,
          1,
          1,
          1,
          1,
          1,
          1,
          1,
          1,
          1,
          1,
          1,
          1,
          1,
          1,
          1,
          1,
          1,
          1,
          1,
          1,
          1,
          1,
          1,
          1,
          1,
          1
         ],
         "yaxis": "y"
        },
        {
         "alignmentgroup": "True",
         "hovertemplate": "Income=Upper middle income<br>Region=%{x}<br>count=%{y}<extra></extra>",
         "legendgroup": "Upper middle income",
         "marker": {
          "color": "#ab63fa"
         },
         "name": "Upper middle income",
         "offsetgroup": "Upper middle income",
         "orientation": "v",
         "showlegend": true,
         "textposition": "auto",
         "type": "bar",
         "x": [
          "Europe & Central Asia",
          "Latin America & Caribbean ",
          "Europe & Central Asia",
          "East Asia & Pacific",
          "Europe & Central Asia",
          "Europe & Central Asia",
          "Europe & Central Asia",
          "Europe & Central Asia",
          "Latin America & Caribbean ",
          "Latin America & Caribbean ",
          "Sub-Saharan Africa ",
          "East Asia & Pacific",
          "Latin America & Caribbean ",
          "Latin America & Caribbean ",
          "Latin America & Caribbean ",
          "Latin America & Caribbean ",
          "Latin America & Caribbean ",
          "Latin America & Caribbean ",
          "East Asia & Pacific",
          "Sub-Saharan Africa ",
          "Europe & Central Asia",
          "Sub-Saharan Africa ",
          "Latin America & Caribbean ",
          "Latin America & Caribbean ",
          "Latin America & Caribbean ",
          "East Asia & Pacific",
          "Middle East & North Africa",
          "Middle East & North Africa",
          "Latin America & Caribbean ",
          "Middle East & North Africa",
          "Europe & Central Asia",
          "Middle East & North Africa",
          "Middle East & North Africa",
          "Latin America & Caribbean ",
          "South Asia",
          "Latin America & Caribbean ",
          "East Asia & Pacific",
          "Europe & Central Asia",
          "Europe & Central Asia",
          "East Asia & Pacific",
          "Sub-Saharan Africa ",
          "Latin America & Caribbean ",
          "Latin America & Caribbean ",
          "Europe & Central Asia",
          "Europe & Central Asia",
          "Latin America & Caribbean ",
          "East Asia & Pacific",
          "Europe & Central Asia",
          "East Asia & Pacific",
          "Europe & Central Asia",
          "East Asia & Pacific",
          "Latin America & Caribbean ",
          "Latin America & Caribbean ",
          "East Asia & Pacific",
          "Europe & Central Asia",
          "Sub-Saharan Africa "
         ],
         "xaxis": "x",
         "y": [
          1,
          1,
          1,
          1,
          1,
          1,
          1,
          1,
          1,
          1,
          1,
          1,
          1,
          1,
          1,
          1,
          1,
          1,
          1,
          1,
          1,
          1,
          1,
          1,
          1,
          1,
          1,
          1,
          1,
          1,
          1,
          1,
          1,
          1,
          1,
          1,
          1,
          1,
          1,
          1,
          1,
          1,
          1,
          1,
          1,
          1,
          1,
          1,
          1,
          1,
          1,
          1,
          1,
          1,
          1,
          1
         ],
         "yaxis": "y"
        }
       ],
       "layout": {
        "barmode": "relative",
        "legend": {
         "title": {
          "text": "Income"
         },
         "tracegroupgap": 0
        },
        "margin": {
         "t": 60
        },
        "template": {
         "data": {
          "bar": [
           {
            "error_x": {
             "color": "#2a3f5f"
            },
            "error_y": {
             "color": "#2a3f5f"
            },
            "marker": {
             "line": {
              "color": "#E5ECF6",
              "width": 0.5
             }
            },
            "type": "bar"
           }
          ],
          "barpolar": [
           {
            "marker": {
             "line": {
              "color": "#E5ECF6",
              "width": 0.5
             }
            },
            "type": "barpolar"
           }
          ],
          "carpet": [
           {
            "aaxis": {
             "endlinecolor": "#2a3f5f",
             "gridcolor": "white",
             "linecolor": "white",
             "minorgridcolor": "white",
             "startlinecolor": "#2a3f5f"
            },
            "baxis": {
             "endlinecolor": "#2a3f5f",
             "gridcolor": "white",
             "linecolor": "white",
             "minorgridcolor": "white",
             "startlinecolor": "#2a3f5f"
            },
            "type": "carpet"
           }
          ],
          "choropleth": [
           {
            "colorbar": {
             "outlinewidth": 0,
             "ticks": ""
            },
            "type": "choropleth"
           }
          ],
          "contour": [
           {
            "colorbar": {
             "outlinewidth": 0,
             "ticks": ""
            },
            "colorscale": [
             [
              0,
              "#0d0887"
             ],
             [
              0.1111111111111111,
              "#46039f"
             ],
             [
              0.2222222222222222,
              "#7201a8"
             ],
             [
              0.3333333333333333,
              "#9c179e"
             ],
             [
              0.4444444444444444,
              "#bd3786"
             ],
             [
              0.5555555555555556,
              "#d8576b"
             ],
             [
              0.6666666666666666,
              "#ed7953"
             ],
             [
              0.7777777777777778,
              "#fb9f3a"
             ],
             [
              0.8888888888888888,
              "#fdca26"
             ],
             [
              1,
              "#f0f921"
             ]
            ],
            "type": "contour"
           }
          ],
          "contourcarpet": [
           {
            "colorbar": {
             "outlinewidth": 0,
             "ticks": ""
            },
            "type": "contourcarpet"
           }
          ],
          "heatmap": [
           {
            "colorbar": {
             "outlinewidth": 0,
             "ticks": ""
            },
            "colorscale": [
             [
              0,
              "#0d0887"
             ],
             [
              0.1111111111111111,
              "#46039f"
             ],
             [
              0.2222222222222222,
              "#7201a8"
             ],
             [
              0.3333333333333333,
              "#9c179e"
             ],
             [
              0.4444444444444444,
              "#bd3786"
             ],
             [
              0.5555555555555556,
              "#d8576b"
             ],
             [
              0.6666666666666666,
              "#ed7953"
             ],
             [
              0.7777777777777778,
              "#fb9f3a"
             ],
             [
              0.8888888888888888,
              "#fdca26"
             ],
             [
              1,
              "#f0f921"
             ]
            ],
            "type": "heatmap"
           }
          ],
          "heatmapgl": [
           {
            "colorbar": {
             "outlinewidth": 0,
             "ticks": ""
            },
            "colorscale": [
             [
              0,
              "#0d0887"
             ],
             [
              0.1111111111111111,
              "#46039f"
             ],
             [
              0.2222222222222222,
              "#7201a8"
             ],
             [
              0.3333333333333333,
              "#9c179e"
             ],
             [
              0.4444444444444444,
              "#bd3786"
             ],
             [
              0.5555555555555556,
              "#d8576b"
             ],
             [
              0.6666666666666666,
              "#ed7953"
             ],
             [
              0.7777777777777778,
              "#fb9f3a"
             ],
             [
              0.8888888888888888,
              "#fdca26"
             ],
             [
              1,
              "#f0f921"
             ]
            ],
            "type": "heatmapgl"
           }
          ],
          "histogram": [
           {
            "marker": {
             "colorbar": {
              "outlinewidth": 0,
              "ticks": ""
             }
            },
            "type": "histogram"
           }
          ],
          "histogram2d": [
           {
            "colorbar": {
             "outlinewidth": 0,
             "ticks": ""
            },
            "colorscale": [
             [
              0,
              "#0d0887"
             ],
             [
              0.1111111111111111,
              "#46039f"
             ],
             [
              0.2222222222222222,
              "#7201a8"
             ],
             [
              0.3333333333333333,
              "#9c179e"
             ],
             [
              0.4444444444444444,
              "#bd3786"
             ],
             [
              0.5555555555555556,
              "#d8576b"
             ],
             [
              0.6666666666666666,
              "#ed7953"
             ],
             [
              0.7777777777777778,
              "#fb9f3a"
             ],
             [
              0.8888888888888888,
              "#fdca26"
             ],
             [
              1,
              "#f0f921"
             ]
            ],
            "type": "histogram2d"
           }
          ],
          "histogram2dcontour": [
           {
            "colorbar": {
             "outlinewidth": 0,
             "ticks": ""
            },
            "colorscale": [
             [
              0,
              "#0d0887"
             ],
             [
              0.1111111111111111,
              "#46039f"
             ],
             [
              0.2222222222222222,
              "#7201a8"
             ],
             [
              0.3333333333333333,
              "#9c179e"
             ],
             [
              0.4444444444444444,
              "#bd3786"
             ],
             [
              0.5555555555555556,
              "#d8576b"
             ],
             [
              0.6666666666666666,
              "#ed7953"
             ],
             [
              0.7777777777777778,
              "#fb9f3a"
             ],
             [
              0.8888888888888888,
              "#fdca26"
             ],
             [
              1,
              "#f0f921"
             ]
            ],
            "type": "histogram2dcontour"
           }
          ],
          "mesh3d": [
           {
            "colorbar": {
             "outlinewidth": 0,
             "ticks": ""
            },
            "type": "mesh3d"
           }
          ],
          "parcoords": [
           {
            "line": {
             "colorbar": {
              "outlinewidth": 0,
              "ticks": ""
             }
            },
            "type": "parcoords"
           }
          ],
          "pie": [
           {
            "automargin": true,
            "type": "pie"
           }
          ],
          "scatter": [
           {
            "marker": {
             "colorbar": {
              "outlinewidth": 0,
              "ticks": ""
             }
            },
            "type": "scatter"
           }
          ],
          "scatter3d": [
           {
            "line": {
             "colorbar": {
              "outlinewidth": 0,
              "ticks": ""
             }
            },
            "marker": {
             "colorbar": {
              "outlinewidth": 0,
              "ticks": ""
             }
            },
            "type": "scatter3d"
           }
          ],
          "scattercarpet": [
           {
            "marker": {
             "colorbar": {
              "outlinewidth": 0,
              "ticks": ""
             }
            },
            "type": "scattercarpet"
           }
          ],
          "scattergeo": [
           {
            "marker": {
             "colorbar": {
              "outlinewidth": 0,
              "ticks": ""
             }
            },
            "type": "scattergeo"
           }
          ],
          "scattergl": [
           {
            "marker": {
             "colorbar": {
              "outlinewidth": 0,
              "ticks": ""
             }
            },
            "type": "scattergl"
           }
          ],
          "scattermapbox": [
           {
            "marker": {
             "colorbar": {
              "outlinewidth": 0,
              "ticks": ""
             }
            },
            "type": "scattermapbox"
           }
          ],
          "scatterpolar": [
           {
            "marker": {
             "colorbar": {
              "outlinewidth": 0,
              "ticks": ""
             }
            },
            "type": "scatterpolar"
           }
          ],
          "scatterpolargl": [
           {
            "marker": {
             "colorbar": {
              "outlinewidth": 0,
              "ticks": ""
             }
            },
            "type": "scatterpolargl"
           }
          ],
          "scatterternary": [
           {
            "marker": {
             "colorbar": {
              "outlinewidth": 0,
              "ticks": ""
             }
            },
            "type": "scatterternary"
           }
          ],
          "surface": [
           {
            "colorbar": {
             "outlinewidth": 0,
             "ticks": ""
            },
            "colorscale": [
             [
              0,
              "#0d0887"
             ],
             [
              0.1111111111111111,
              "#46039f"
             ],
             [
              0.2222222222222222,
              "#7201a8"
             ],
             [
              0.3333333333333333,
              "#9c179e"
             ],
             [
              0.4444444444444444,
              "#bd3786"
             ],
             [
              0.5555555555555556,
              "#d8576b"
             ],
             [
              0.6666666666666666,
              "#ed7953"
             ],
             [
              0.7777777777777778,
              "#fb9f3a"
             ],
             [
              0.8888888888888888,
              "#fdca26"
             ],
             [
              1,
              "#f0f921"
             ]
            ],
            "type": "surface"
           }
          ],
          "table": [
           {
            "cells": {
             "fill": {
              "color": "#EBF0F8"
             },
             "line": {
              "color": "white"
             }
            },
            "header": {
             "fill": {
              "color": "#C8D4E3"
             },
             "line": {
              "color": "white"
             }
            },
            "type": "table"
           }
          ]
         },
         "layout": {
          "annotationdefaults": {
           "arrowcolor": "#2a3f5f",
           "arrowhead": 0,
           "arrowwidth": 1
          },
          "coloraxis": {
           "colorbar": {
            "outlinewidth": 0,
            "ticks": ""
           }
          },
          "colorscale": {
           "diverging": [
            [
             0,
             "#8e0152"
            ],
            [
             0.1,
             "#c51b7d"
            ],
            [
             0.2,
             "#de77ae"
            ],
            [
             0.3,
             "#f1b6da"
            ],
            [
             0.4,
             "#fde0ef"
            ],
            [
             0.5,
             "#f7f7f7"
            ],
            [
             0.6,
             "#e6f5d0"
            ],
            [
             0.7,
             "#b8e186"
            ],
            [
             0.8,
             "#7fbc41"
            ],
            [
             0.9,
             "#4d9221"
            ],
            [
             1,
             "#276419"
            ]
           ],
           "sequential": [
            [
             0,
             "#0d0887"
            ],
            [
             0.1111111111111111,
             "#46039f"
            ],
            [
             0.2222222222222222,
             "#7201a8"
            ],
            [
             0.3333333333333333,
             "#9c179e"
            ],
            [
             0.4444444444444444,
             "#bd3786"
            ],
            [
             0.5555555555555556,
             "#d8576b"
            ],
            [
             0.6666666666666666,
             "#ed7953"
            ],
            [
             0.7777777777777778,
             "#fb9f3a"
            ],
            [
             0.8888888888888888,
             "#fdca26"
            ],
            [
             1,
             "#f0f921"
            ]
           ],
           "sequentialminus": [
            [
             0,
             "#0d0887"
            ],
            [
             0.1111111111111111,
             "#46039f"
            ],
            [
             0.2222222222222222,
             "#7201a8"
            ],
            [
             0.3333333333333333,
             "#9c179e"
            ],
            [
             0.4444444444444444,
             "#bd3786"
            ],
            [
             0.5555555555555556,
             "#d8576b"
            ],
            [
             0.6666666666666666,
             "#ed7953"
            ],
            [
             0.7777777777777778,
             "#fb9f3a"
            ],
            [
             0.8888888888888888,
             "#fdca26"
            ],
            [
             1,
             "#f0f921"
            ]
           ]
          },
          "colorway": [
           "#636efa",
           "#EF553B",
           "#00cc96",
           "#ab63fa",
           "#FFA15A",
           "#19d3f3",
           "#FF6692",
           "#B6E880",
           "#FF97FF",
           "#FECB52"
          ],
          "font": {
           "color": "#2a3f5f"
          },
          "geo": {
           "bgcolor": "white",
           "lakecolor": "white",
           "landcolor": "#E5ECF6",
           "showlakes": true,
           "showland": true,
           "subunitcolor": "white"
          },
          "hoverlabel": {
           "align": "left"
          },
          "hovermode": "closest",
          "mapbox": {
           "style": "light"
          },
          "paper_bgcolor": "white",
          "plot_bgcolor": "#E5ECF6",
          "polar": {
           "angularaxis": {
            "gridcolor": "white",
            "linecolor": "white",
            "ticks": ""
           },
           "bgcolor": "#E5ECF6",
           "radialaxis": {
            "gridcolor": "white",
            "linecolor": "white",
            "ticks": ""
           }
          },
          "scene": {
           "xaxis": {
            "backgroundcolor": "#E5ECF6",
            "gridcolor": "white",
            "gridwidth": 2,
            "linecolor": "white",
            "showbackground": true,
            "ticks": "",
            "zerolinecolor": "white"
           },
           "yaxis": {
            "backgroundcolor": "#E5ECF6",
            "gridcolor": "white",
            "gridwidth": 2,
            "linecolor": "white",
            "showbackground": true,
            "ticks": "",
            "zerolinecolor": "white"
           },
           "zaxis": {
            "backgroundcolor": "#E5ECF6",
            "gridcolor": "white",
            "gridwidth": 2,
            "linecolor": "white",
            "showbackground": true,
            "ticks": "",
            "zerolinecolor": "white"
           }
          },
          "shapedefaults": {
           "line": {
            "color": "#2a3f5f"
           }
          },
          "ternary": {
           "aaxis": {
            "gridcolor": "white",
            "linecolor": "white",
            "ticks": ""
           },
           "baxis": {
            "gridcolor": "white",
            "linecolor": "white",
            "ticks": ""
           },
           "bgcolor": "#E5ECF6",
           "caxis": {
            "gridcolor": "white",
            "linecolor": "white",
            "ticks": ""
           }
          },
          "title": {
           "x": 0.05
          },
          "xaxis": {
           "automargin": true,
           "gridcolor": "white",
           "linecolor": "white",
           "ticks": "",
           "title": {
            "standoff": 15
           },
           "zerolinecolor": "white",
           "zerolinewidth": 2
          },
          "yaxis": {
           "automargin": true,
           "gridcolor": "white",
           "linecolor": "white",
           "ticks": "",
           "title": {
            "standoff": 15
           },
           "zerolinecolor": "white",
           "zerolinewidth": 2
          }
         }
        },
        "xaxis": {
         "anchor": "y",
         "domain": [
          0,
          1
         ],
         "title": {
          "text": "Region"
         }
        },
        "yaxis": {
         "anchor": "x",
         "domain": [
          0,
          1
         ],
         "title": {
          "text": "count"
         }
        }
       }
      },
      "text/html": [
       "<div>                            <div id=\"82e4285f-557e-4585-8a74-45b065589d03\" class=\"plotly-graph-div\" style=\"height:525px; width:100%;\"></div>            <script type=\"text/javascript\">                require([\"plotly\"], function(Plotly) {                    window.PLOTLYENV=window.PLOTLYENV || {};                                    if (document.getElementById(\"82e4285f-557e-4585-8a74-45b065589d03\")) {                    Plotly.newPlot(                        \"82e4285f-557e-4585-8a74-45b065589d03\",                        [{\"alignmentgroup\": \"True\", \"hovertemplate\": \"Income=High income<br>Region=%{x}<br>count=%{y}<extra></extra>\", \"legendgroup\": \"High income\", \"marker\": {\"color\": \"#636efa\"}, \"name\": \"High income\", \"offsetgroup\": \"High income\", \"orientation\": \"v\", \"showlegend\": true, \"textposition\": \"auto\", \"type\": \"bar\", \"x\": [\"Latin America & Caribbean \", \"Europe & Central Asia\", \"Middle East & North Africa\", \"Latin America & Caribbean \", \"East Asia & Pacific\", \"Europe & Central Asia\", \"Europe & Central Asia\", \"Middle East & North Africa\", \"Latin America & Caribbean \", \"North America\", \"Latin America & Caribbean \", \"East Asia & Pacific\", \"North America\", \"Europe & Central Asia\", \"Europe & Central Asia\", \"Latin America & Caribbean \", \"Latin America & Caribbean \", \"Latin America & Caribbean \", \"Europe & Central Asia\", \"Europe & Central Asia\", \"Europe & Central Asia\", \"Europe & Central Asia\", \"Europe & Central Asia\", \"Europe & Central Asia\", \"Europe & Central Asia\", \"Europe & Central Asia\", \"Europe & Central Asia\", \"Europe & Central Asia\", \"Europe & Central Asia\", \"Europe & Central Asia\", \"Europe & Central Asia\", \"East Asia & Pacific\", \"East Asia & Pacific\", \"Europe & Central Asia\", \"Europe & Central Asia\", \"Europe & Central Asia\", \"Europe & Central Asia\", \"Europe & Central Asia\", \"Middle East & North Africa\", \"Europe & Central Asia\", \"East Asia & Pacific\", \"Latin America & Caribbean \", \"East Asia & Pacific\", \"Middle East & North Africa\", \"Europe & Central Asia\", \"Europe & Central Asia\", \"Europe & Central Asia\", \"Europe & Central Asia\", \"East Asia & Pacific\", \"Latin America & Caribbean \", \"Europe & Central Asia\", \"Middle East & North Africa\", \"East Asia & Pacific\", \"Sub-Saharan Africa \", \"East Asia & Pacific\", \"Europe & Central Asia\", \"Europe & Central Asia\", \"East Asia & Pacific\", \"East Asia & Pacific\", \"Middle East & North Africa\", \"Latin America & Caribbean \", \"East Asia & Pacific\", \"Europe & Central Asia\", \"Latin America & Caribbean \", \"Europe & Central Asia\", \"East Asia & Pacific\", \"Middle East & North Africa\", \"Europe & Central Asia\", \"Middle East & North Africa\", \"East Asia & Pacific\", \"Europe & Central Asia\", \"Europe & Central Asia\", \"Europe & Central Asia\", \"Europe & Central Asia\", \"Latin America & Caribbean \", \"Sub-Saharan Africa \", \"Latin America & Caribbean \", \"Latin America & Caribbean \", \"East Asia & Pacific\", \"Latin America & Caribbean \", \"North America\", \"Latin America & Caribbean \", \"Latin America & Caribbean \"], \"xaxis\": \"x\", \"y\": [1, 1, 1, 1, 1, 1, 1, 1, 1, 1, 1, 1, 1, 1, 1, 1, 1, 1, 1, 1, 1, 1, 1, 1, 1, 1, 1, 1, 1, 1, 1, 1, 1, 1, 1, 1, 1, 1, 1, 1, 1, 1, 1, 1, 1, 1, 1, 1, 1, 1, 1, 1, 1, 1, 1, 1, 1, 1, 1, 1, 1, 1, 1, 1, 1, 1, 1, 1, 1, 1, 1, 1, 1, 1, 1, 1, 1, 1, 1, 1, 1, 1, 1], \"yaxis\": \"y\"}, {\"alignmentgroup\": \"True\", \"hovertemplate\": \"Income=Low income<br>Region=%{x}<br>count=%{y}<extra></extra>\", \"legendgroup\": \"Low income\", \"marker\": {\"color\": \"#EF553B\"}, \"name\": \"Low income\", \"offsetgroup\": \"Low income\", \"orientation\": \"v\", \"showlegend\": true, \"textposition\": \"auto\", \"type\": \"bar\", \"x\": [\"South Asia\", \"Sub-Saharan Africa \", \"Sub-Saharan Africa \", \"Sub-Saharan Africa \", \"Sub-Saharan Africa \", \"Sub-Saharan Africa \", \"Sub-Saharan Africa \", \"Sub-Saharan Africa \", \"Sub-Saharan Africa \", \"Sub-Saharan Africa \", \"Latin America & Caribbean \", \"Sub-Saharan Africa \", \"Sub-Saharan Africa \", \"Sub-Saharan Africa \", \"Sub-Saharan Africa \", \"Sub-Saharan Africa \", \"Sub-Saharan Africa \", \"East Asia & Pacific\", \"Sub-Saharan Africa \", \"Sub-Saharan Africa \", \"Sub-Saharan Africa \", \"Sub-Saharan Africa \", \"Sub-Saharan Africa \", \"Middle East & North Africa\", \"Sub-Saharan Africa \", \"Sub-Saharan Africa \", \"Europe & Central Asia\", \"Sub-Saharan Africa \", \"Middle East & North Africa\"], \"xaxis\": \"x\", \"y\": [1, 1, 1, 1, 1, 1, 1, 1, 1, 1, 1, 1, 1, 1, 1, 1, 1, 1, 1, 1, 1, 1, 1, 1, 1, 1, 1, 1, 1], \"yaxis\": \"y\"}, {\"alignmentgroup\": \"True\", \"hovertemplate\": \"Income=Lower middle income<br>Region=%{x}<br>count=%{y}<extra></extra>\", \"legendgroup\": \"Lower middle income\", \"marker\": {\"color\": \"#00cc96\"}, \"name\": \"Lower middle income\", \"offsetgroup\": \"Lower middle income\", \"orientation\": \"v\", \"showlegend\": true, \"textposition\": \"auto\", \"type\": \"bar\", \"x\": [\"Sub-Saharan Africa \", \"Sub-Saharan Africa \", \"South Asia\", \"Latin America & Caribbean \", \"South Asia\", \"Sub-Saharan Africa \", \"Sub-Saharan Africa \", \"Sub-Saharan Africa \", \"Sub-Saharan Africa \", \"Sub-Saharan Africa \", \"Middle East & North Africa\", \"Middle East & North Africa\", \"Middle East & North Africa\", \"East Asia & Pacific\", \"Sub-Saharan Africa \", \"Latin America & Caribbean \", \"South Asia\", \"Sub-Saharan Africa \", \"Europe & Central Asia\", \"East Asia & Pacific\", \"East Asia & Pacific\", \"East Asia & Pacific\", \"South Asia\", \"Sub-Saharan Africa \", \"Middle East & North Africa\", \"Europe & Central Asia\", \"East Asia & Pacific\", \"East Asia & Pacific\", \"Sub-Saharan Africa \", \"Sub-Saharan Africa \", \"Latin America & Caribbean \", \"South Asia\", \"South Asia\", \"East Asia & Pacific\", \"East Asia & Pacific\", \"Middle East & North Africa\", \"Sub-Saharan Africa \", \"East Asia & Pacific\", \"Latin America & Caribbean \", \"Sub-Saharan Africa \", \"Sub-Saharan Africa \", \"East Asia & Pacific\", \"Middle East & North Africa\", \"Sub-Saharan Africa \", \"Europe & Central Asia\", \"Europe & Central Asia\", \"East Asia & Pacific\", \"East Asia & Pacific\", \"Sub-Saharan Africa \", \"Sub-Saharan Africa \"], \"xaxis\": \"x\", \"y\": [1, 1, 1, 1, 1, 1, 1, 1, 1, 1, 1, 1, 1, 1, 1, 1, 1, 1, 1, 1, 1, 1, 1, 1, 1, 1, 1, 1, 1, 1, 1, 1, 1, 1, 1, 1, 1, 1, 1, 1, 1, 1, 1, 1, 1, 1, 1, 1, 1, 1], \"yaxis\": \"y\"}, {\"alignmentgroup\": \"True\", \"hovertemplate\": \"Income=Upper middle income<br>Region=%{x}<br>count=%{y}<extra></extra>\", \"legendgroup\": \"Upper middle income\", \"marker\": {\"color\": \"#ab63fa\"}, \"name\": \"Upper middle income\", \"offsetgroup\": \"Upper middle income\", \"orientation\": \"v\", \"showlegend\": true, \"textposition\": \"auto\", \"type\": \"bar\", \"x\": [\"Europe & Central Asia\", \"Latin America & Caribbean \", \"Europe & Central Asia\", \"East Asia & Pacific\", \"Europe & Central Asia\", \"Europe & Central Asia\", \"Europe & Central Asia\", \"Europe & Central Asia\", \"Latin America & Caribbean \", \"Latin America & Caribbean \", \"Sub-Saharan Africa \", \"East Asia & Pacific\", \"Latin America & Caribbean \", \"Latin America & Caribbean \", \"Latin America & Caribbean \", \"Latin America & Caribbean \", \"Latin America & Caribbean \", \"Latin America & Caribbean \", \"East Asia & Pacific\", \"Sub-Saharan Africa \", \"Europe & Central Asia\", \"Sub-Saharan Africa \", \"Latin America & Caribbean \", \"Latin America & Caribbean \", \"Latin America & Caribbean \", \"East Asia & Pacific\", \"Middle East & North Africa\", \"Middle East & North Africa\", \"Latin America & Caribbean \", \"Middle East & North Africa\", \"Europe & Central Asia\", \"Middle East & North Africa\", \"Middle East & North Africa\", \"Latin America & Caribbean \", \"South Asia\", \"Latin America & Caribbean \", \"East Asia & Pacific\", \"Europe & Central Asia\", \"Europe & Central Asia\", \"East Asia & Pacific\", \"Sub-Saharan Africa \", \"Latin America & Caribbean \", \"Latin America & Caribbean \", \"Europe & Central Asia\", \"Europe & Central Asia\", \"Latin America & Caribbean \", \"East Asia & Pacific\", \"Europe & Central Asia\", \"East Asia & Pacific\", \"Europe & Central Asia\", \"East Asia & Pacific\", \"Latin America & Caribbean \", \"Latin America & Caribbean \", \"East Asia & Pacific\", \"Europe & Central Asia\", \"Sub-Saharan Africa \"], \"xaxis\": \"x\", \"y\": [1, 1, 1, 1, 1, 1, 1, 1, 1, 1, 1, 1, 1, 1, 1, 1, 1, 1, 1, 1, 1, 1, 1, 1, 1, 1, 1, 1, 1, 1, 1, 1, 1, 1, 1, 1, 1, 1, 1, 1, 1, 1, 1, 1, 1, 1, 1, 1, 1, 1, 1, 1, 1, 1, 1, 1], \"yaxis\": \"y\"}],                        {\"barmode\": \"relative\", \"legend\": {\"title\": {\"text\": \"Income\"}, \"tracegroupgap\": 0}, \"margin\": {\"t\": 60}, \"template\": {\"data\": {\"bar\": [{\"error_x\": {\"color\": \"#2a3f5f\"}, \"error_y\": {\"color\": \"#2a3f5f\"}, \"marker\": {\"line\": {\"color\": \"#E5ECF6\", \"width\": 0.5}}, \"type\": \"bar\"}], \"barpolar\": [{\"marker\": {\"line\": {\"color\": \"#E5ECF6\", \"width\": 0.5}}, \"type\": \"barpolar\"}], \"carpet\": [{\"aaxis\": {\"endlinecolor\": \"#2a3f5f\", \"gridcolor\": \"white\", \"linecolor\": \"white\", \"minorgridcolor\": \"white\", \"startlinecolor\": \"#2a3f5f\"}, \"baxis\": {\"endlinecolor\": \"#2a3f5f\", \"gridcolor\": \"white\", \"linecolor\": \"white\", \"minorgridcolor\": \"white\", \"startlinecolor\": \"#2a3f5f\"}, \"type\": \"carpet\"}], \"choropleth\": [{\"colorbar\": {\"outlinewidth\": 0, \"ticks\": \"\"}, \"type\": \"choropleth\"}], \"contour\": [{\"colorbar\": {\"outlinewidth\": 0, \"ticks\": \"\"}, \"colorscale\": [[0.0, \"#0d0887\"], [0.1111111111111111, \"#46039f\"], [0.2222222222222222, \"#7201a8\"], [0.3333333333333333, \"#9c179e\"], [0.4444444444444444, \"#bd3786\"], [0.5555555555555556, \"#d8576b\"], [0.6666666666666666, \"#ed7953\"], [0.7777777777777778, \"#fb9f3a\"], [0.8888888888888888, \"#fdca26\"], [1.0, \"#f0f921\"]], \"type\": \"contour\"}], \"contourcarpet\": [{\"colorbar\": {\"outlinewidth\": 0, \"ticks\": \"\"}, \"type\": \"contourcarpet\"}], \"heatmap\": [{\"colorbar\": {\"outlinewidth\": 0, \"ticks\": \"\"}, \"colorscale\": [[0.0, \"#0d0887\"], [0.1111111111111111, \"#46039f\"], [0.2222222222222222, \"#7201a8\"], [0.3333333333333333, \"#9c179e\"], [0.4444444444444444, \"#bd3786\"], [0.5555555555555556, \"#d8576b\"], [0.6666666666666666, \"#ed7953\"], [0.7777777777777778, \"#fb9f3a\"], [0.8888888888888888, \"#fdca26\"], [1.0, \"#f0f921\"]], \"type\": \"heatmap\"}], \"heatmapgl\": [{\"colorbar\": {\"outlinewidth\": 0, \"ticks\": \"\"}, \"colorscale\": [[0.0, \"#0d0887\"], [0.1111111111111111, \"#46039f\"], [0.2222222222222222, \"#7201a8\"], [0.3333333333333333, \"#9c179e\"], [0.4444444444444444, \"#bd3786\"], [0.5555555555555556, \"#d8576b\"], [0.6666666666666666, \"#ed7953\"], [0.7777777777777778, \"#fb9f3a\"], [0.8888888888888888, \"#fdca26\"], [1.0, \"#f0f921\"]], \"type\": \"heatmapgl\"}], \"histogram\": [{\"marker\": {\"colorbar\": {\"outlinewidth\": 0, \"ticks\": \"\"}}, \"type\": \"histogram\"}], \"histogram2d\": [{\"colorbar\": {\"outlinewidth\": 0, \"ticks\": \"\"}, \"colorscale\": [[0.0, \"#0d0887\"], [0.1111111111111111, \"#46039f\"], [0.2222222222222222, \"#7201a8\"], [0.3333333333333333, \"#9c179e\"], [0.4444444444444444, \"#bd3786\"], [0.5555555555555556, \"#d8576b\"], [0.6666666666666666, \"#ed7953\"], [0.7777777777777778, \"#fb9f3a\"], [0.8888888888888888, \"#fdca26\"], [1.0, \"#f0f921\"]], \"type\": \"histogram2d\"}], \"histogram2dcontour\": [{\"colorbar\": {\"outlinewidth\": 0, \"ticks\": \"\"}, \"colorscale\": [[0.0, \"#0d0887\"], [0.1111111111111111, \"#46039f\"], [0.2222222222222222, \"#7201a8\"], [0.3333333333333333, \"#9c179e\"], [0.4444444444444444, \"#bd3786\"], [0.5555555555555556, \"#d8576b\"], [0.6666666666666666, \"#ed7953\"], [0.7777777777777778, \"#fb9f3a\"], [0.8888888888888888, \"#fdca26\"], [1.0, \"#f0f921\"]], \"type\": \"histogram2dcontour\"}], \"mesh3d\": [{\"colorbar\": {\"outlinewidth\": 0, \"ticks\": \"\"}, \"type\": \"mesh3d\"}], \"parcoords\": [{\"line\": {\"colorbar\": {\"outlinewidth\": 0, \"ticks\": \"\"}}, \"type\": \"parcoords\"}], \"pie\": [{\"automargin\": true, \"type\": \"pie\"}], \"scatter\": [{\"marker\": {\"colorbar\": {\"outlinewidth\": 0, \"ticks\": \"\"}}, \"type\": \"scatter\"}], \"scatter3d\": [{\"line\": {\"colorbar\": {\"outlinewidth\": 0, \"ticks\": \"\"}}, \"marker\": {\"colorbar\": {\"outlinewidth\": 0, \"ticks\": \"\"}}, \"type\": \"scatter3d\"}], \"scattercarpet\": [{\"marker\": {\"colorbar\": {\"outlinewidth\": 0, \"ticks\": \"\"}}, \"type\": \"scattercarpet\"}], \"scattergeo\": [{\"marker\": {\"colorbar\": {\"outlinewidth\": 0, \"ticks\": \"\"}}, \"type\": \"scattergeo\"}], \"scattergl\": [{\"marker\": {\"colorbar\": {\"outlinewidth\": 0, \"ticks\": \"\"}}, \"type\": \"scattergl\"}], \"scattermapbox\": [{\"marker\": {\"colorbar\": {\"outlinewidth\": 0, \"ticks\": \"\"}}, \"type\": \"scattermapbox\"}], \"scatterpolar\": [{\"marker\": {\"colorbar\": {\"outlinewidth\": 0, \"ticks\": \"\"}}, \"type\": \"scatterpolar\"}], \"scatterpolargl\": [{\"marker\": {\"colorbar\": {\"outlinewidth\": 0, \"ticks\": \"\"}}, \"type\": \"scatterpolargl\"}], \"scatterternary\": [{\"marker\": {\"colorbar\": {\"outlinewidth\": 0, \"ticks\": \"\"}}, \"type\": \"scatterternary\"}], \"surface\": [{\"colorbar\": {\"outlinewidth\": 0, \"ticks\": \"\"}, \"colorscale\": [[0.0, \"#0d0887\"], [0.1111111111111111, \"#46039f\"], [0.2222222222222222, \"#7201a8\"], [0.3333333333333333, \"#9c179e\"], [0.4444444444444444, \"#bd3786\"], [0.5555555555555556, \"#d8576b\"], [0.6666666666666666, \"#ed7953\"], [0.7777777777777778, \"#fb9f3a\"], [0.8888888888888888, \"#fdca26\"], [1.0, \"#f0f921\"]], \"type\": \"surface\"}], \"table\": [{\"cells\": {\"fill\": {\"color\": \"#EBF0F8\"}, \"line\": {\"color\": \"white\"}}, \"header\": {\"fill\": {\"color\": \"#C8D4E3\"}, \"line\": {\"color\": \"white\"}}, \"type\": \"table\"}]}, \"layout\": {\"annotationdefaults\": {\"arrowcolor\": \"#2a3f5f\", \"arrowhead\": 0, \"arrowwidth\": 1}, \"coloraxis\": {\"colorbar\": {\"outlinewidth\": 0, \"ticks\": \"\"}}, \"colorscale\": {\"diverging\": [[0, \"#8e0152\"], [0.1, \"#c51b7d\"], [0.2, \"#de77ae\"], [0.3, \"#f1b6da\"], [0.4, \"#fde0ef\"], [0.5, \"#f7f7f7\"], [0.6, \"#e6f5d0\"], [0.7, \"#b8e186\"], [0.8, \"#7fbc41\"], [0.9, \"#4d9221\"], [1, \"#276419\"]], \"sequential\": [[0.0, \"#0d0887\"], [0.1111111111111111, \"#46039f\"], [0.2222222222222222, \"#7201a8\"], [0.3333333333333333, \"#9c179e\"], [0.4444444444444444, \"#bd3786\"], [0.5555555555555556, \"#d8576b\"], [0.6666666666666666, \"#ed7953\"], [0.7777777777777778, \"#fb9f3a\"], [0.8888888888888888, \"#fdca26\"], [1.0, \"#f0f921\"]], \"sequentialminus\": [[0.0, \"#0d0887\"], [0.1111111111111111, \"#46039f\"], [0.2222222222222222, \"#7201a8\"], [0.3333333333333333, \"#9c179e\"], [0.4444444444444444, \"#bd3786\"], [0.5555555555555556, \"#d8576b\"], [0.6666666666666666, \"#ed7953\"], [0.7777777777777778, \"#fb9f3a\"], [0.8888888888888888, \"#fdca26\"], [1.0, \"#f0f921\"]]}, \"colorway\": [\"#636efa\", \"#EF553B\", \"#00cc96\", \"#ab63fa\", \"#FFA15A\", \"#19d3f3\", \"#FF6692\", \"#B6E880\", \"#FF97FF\", \"#FECB52\"], \"font\": {\"color\": \"#2a3f5f\"}, \"geo\": {\"bgcolor\": \"white\", \"lakecolor\": \"white\", \"landcolor\": \"#E5ECF6\", \"showlakes\": true, \"showland\": true, \"subunitcolor\": \"white\"}, \"hoverlabel\": {\"align\": \"left\"}, \"hovermode\": \"closest\", \"mapbox\": {\"style\": \"light\"}, \"paper_bgcolor\": \"white\", \"plot_bgcolor\": \"#E5ECF6\", \"polar\": {\"angularaxis\": {\"gridcolor\": \"white\", \"linecolor\": \"white\", \"ticks\": \"\"}, \"bgcolor\": \"#E5ECF6\", \"radialaxis\": {\"gridcolor\": \"white\", \"linecolor\": \"white\", \"ticks\": \"\"}}, \"scene\": {\"xaxis\": {\"backgroundcolor\": \"#E5ECF6\", \"gridcolor\": \"white\", \"gridwidth\": 2, \"linecolor\": \"white\", \"showbackground\": true, \"ticks\": \"\", \"zerolinecolor\": \"white\"}, \"yaxis\": {\"backgroundcolor\": \"#E5ECF6\", \"gridcolor\": \"white\", \"gridwidth\": 2, \"linecolor\": \"white\", \"showbackground\": true, \"ticks\": \"\", \"zerolinecolor\": \"white\"}, \"zaxis\": {\"backgroundcolor\": \"#E5ECF6\", \"gridcolor\": \"white\", \"gridwidth\": 2, \"linecolor\": \"white\", \"showbackground\": true, \"ticks\": \"\", \"zerolinecolor\": \"white\"}}, \"shapedefaults\": {\"line\": {\"color\": \"#2a3f5f\"}}, \"ternary\": {\"aaxis\": {\"gridcolor\": \"white\", \"linecolor\": \"white\", \"ticks\": \"\"}, \"baxis\": {\"gridcolor\": \"white\", \"linecolor\": \"white\", \"ticks\": \"\"}, \"bgcolor\": \"#E5ECF6\", \"caxis\": {\"gridcolor\": \"white\", \"linecolor\": \"white\", \"ticks\": \"\"}}, \"title\": {\"x\": 0.05}, \"xaxis\": {\"automargin\": true, \"gridcolor\": \"white\", \"linecolor\": \"white\", \"ticks\": \"\", \"title\": {\"standoff\": 15}, \"zerolinecolor\": \"white\", \"zerolinewidth\": 2}, \"yaxis\": {\"automargin\": true, \"gridcolor\": \"white\", \"linecolor\": \"white\", \"ticks\": \"\", \"title\": {\"standoff\": 15}, \"zerolinecolor\": \"white\", \"zerolinewidth\": 2}}}, \"xaxis\": {\"anchor\": \"y\", \"domain\": [0.0, 1.0], \"title\": {\"text\": \"Region\"}}, \"yaxis\": {\"anchor\": \"x\", \"domain\": [0.0, 1.0], \"title\": {\"text\": \"count\"}}},                        {\"responsive\": true}                    ).then(function(){\n",
       "                            \n",
       "var gd = document.getElementById('82e4285f-557e-4585-8a74-45b065589d03');\n",
       "var x = new MutationObserver(function (mutations, observer) {{\n",
       "        var display = window.getComputedStyle(gd).display;\n",
       "        if (!display || display === 'none') {{\n",
       "            console.log([gd, 'removed!']);\n",
       "            Plotly.purge(gd);\n",
       "            observer.disconnect();\n",
       "        }}\n",
       "}});\n",
       "\n",
       "// Listen for the removal of the full notebook cells\n",
       "var notebookContainer = gd.closest('#notebook-container');\n",
       "if (notebookContainer) {{\n",
       "    x.observe(notebookContainer, {childList: true});\n",
       "}}\n",
       "\n",
       "// Listen for the clearing of the current output cell\n",
       "var outputEl = gd.closest('.output');\n",
       "if (outputEl) {{\n",
       "    x.observe(outputEl, {childList: true});\n",
       "}}\n",
       "\n",
       "                        })                };                });            </script>        </div>"
      ]
     },
     "metadata": {},
     "output_type": "display_data"
    }
   ],
   "source": [
    "fig1 = px.bar(df2,x='Region',color='Income')\n",
    "fig1.show()"
   ]
  },
  {
   "cell_type": "markdown",
   "metadata": {},
   "source": [
    "<mark> From the above figure we can see that North America has all countries having high income. Europe and Central Asia has mostly high income or upper middle income countries. The most low income coutries are in Sub-Saharan Africa. There are no single countries with high income in South Asia. We can also verify this from the code below."
   ]
  },
  {
   "cell_type": "code",
   "execution_count": 50,
   "metadata": {
    "ExecuteTime": {
     "end_time": "2020-12-29T12:16:11.895431Z",
     "start_time": "2020-12-29T12:16:11.875925Z"
    }
   },
   "outputs": [
    {
     "data": {
      "text/html": [
       "<div>\n",
       "<style scoped>\n",
       "    .dataframe tbody tr th:only-of-type {\n",
       "        vertical-align: middle;\n",
       "    }\n",
       "\n",
       "    .dataframe tbody tr th {\n",
       "        vertical-align: top;\n",
       "    }\n",
       "\n",
       "    .dataframe thead th {\n",
       "        text-align: right;\n",
       "    }\n",
       "</style>\n",
       "<table border=\"1\" class=\"dataframe\">\n",
       "  <thead>\n",
       "    <tr style=\"text-align: right;\">\n",
       "      <th></th>\n",
       "      <th>name</th>\n",
       "      <th>capitalCity</th>\n",
       "      <th>Region</th>\n",
       "      <th>Income</th>\n",
       "      <th>longitude</th>\n",
       "      <th>latitude</th>\n",
       "    </tr>\n",
       "  </thead>\n",
       "  <tbody>\n",
       "    <tr>\n",
       "      <th>1</th>\n",
       "      <td>Afghanistan</td>\n",
       "      <td>Kabul</td>\n",
       "      <td>South Asia</td>\n",
       "      <td>Low income</td>\n",
       "      <td>69.1761</td>\n",
       "      <td>34.5228</td>\n",
       "    </tr>\n",
       "    <tr>\n",
       "      <th>17</th>\n",
       "      <td>Bangladesh</td>\n",
       "      <td>Dhaka</td>\n",
       "      <td>South Asia</td>\n",
       "      <td>Lower middle income</td>\n",
       "      <td>90.4113</td>\n",
       "      <td>23.7055</td>\n",
       "    </tr>\n",
       "    <tr>\n",
       "      <th>29</th>\n",
       "      <td>Bhutan</td>\n",
       "      <td>Thimphu</td>\n",
       "      <td>South Asia</td>\n",
       "      <td>Lower middle income</td>\n",
       "      <td>89.6177</td>\n",
       "      <td>27.5768</td>\n",
       "    </tr>\n",
       "    <tr>\n",
       "      <th>89</th>\n",
       "      <td>India</td>\n",
       "      <td>New Delhi</td>\n",
       "      <td>South Asia</td>\n",
       "      <td>Lower middle income</td>\n",
       "      <td>77.225</td>\n",
       "      <td>28.6353</td>\n",
       "    </tr>\n",
       "    <tr>\n",
       "      <th>113</th>\n",
       "      <td>Sri Lanka</td>\n",
       "      <td>Colombo</td>\n",
       "      <td>South Asia</td>\n",
       "      <td>Lower middle income</td>\n",
       "      <td>79.8528</td>\n",
       "      <td>6.92148</td>\n",
       "    </tr>\n",
       "    <tr>\n",
       "      <th>124</th>\n",
       "      <td>Maldives</td>\n",
       "      <td>Male</td>\n",
       "      <td>South Asia</td>\n",
       "      <td>Upper middle income</td>\n",
       "      <td>73.5109</td>\n",
       "      <td>4.1742</td>\n",
       "    </tr>\n",
       "    <tr>\n",
       "      <th>146</th>\n",
       "      <td>Nepal</td>\n",
       "      <td>Kathmandu</td>\n",
       "      <td>South Asia</td>\n",
       "      <td>Lower middle income</td>\n",
       "      <td>85.3157</td>\n",
       "      <td>27.6939</td>\n",
       "    </tr>\n",
       "    <tr>\n",
       "      <th>150</th>\n",
       "      <td>Pakistan</td>\n",
       "      <td>Islamabad</td>\n",
       "      <td>South Asia</td>\n",
       "      <td>Lower middle income</td>\n",
       "      <td>72.8</td>\n",
       "      <td>30.5167</td>\n",
       "    </tr>\n",
       "  </tbody>\n",
       "</table>\n",
       "</div>"
      ],
      "text/plain": [
       "            name capitalCity      Region               Income longitude  \\\n",
       "1    Afghanistan       Kabul  South Asia           Low income   69.1761   \n",
       "17    Bangladesh       Dhaka  South Asia  Lower middle income   90.4113   \n",
       "29        Bhutan     Thimphu  South Asia  Lower middle income   89.6177   \n",
       "89         India   New Delhi  South Asia  Lower middle income    77.225   \n",
       "113    Sri Lanka     Colombo  South Asia  Lower middle income   79.8528   \n",
       "124     Maldives        Male  South Asia  Upper middle income   73.5109   \n",
       "146        Nepal   Kathmandu  South Asia  Lower middle income   85.3157   \n",
       "150     Pakistan   Islamabad  South Asia  Lower middle income      72.8   \n",
       "\n",
       "    latitude  \n",
       "1    34.5228  \n",
       "17   23.7055  \n",
       "29   27.5768  \n",
       "89   28.6353  \n",
       "113  6.92148  \n",
       "124   4.1742  \n",
       "146  27.6939  \n",
       "150  30.5167  "
      ]
     },
     "execution_count": 50,
     "metadata": {},
     "output_type": "execute_result"
    }
   ],
   "source": [
    "df2.query(\"Region=='South Asia'\")"
   ]
  },
  {
   "cell_type": "code",
   "execution_count": 52,
   "metadata": {
    "ExecuteTime": {
     "end_time": "2020-12-29T12:34:44.140221Z",
     "start_time": "2020-12-29T12:34:44.134535Z"
    }
   },
   "outputs": [],
   "source": [
    "import plotly.graph_objects as go"
   ]
  },
  {
   "cell_type": "code",
   "execution_count": null,
   "metadata": {},
   "outputs": [],
   "source": [
    "go.scattergeo()"
   ]
  },
  {
   "cell_type": "code",
   "execution_count": 56,
   "metadata": {
    "ExecuteTime": {
     "end_time": "2020-12-29T13:43:06.647230Z",
     "start_time": "2020-12-29T13:43:06.622084Z"
    }
   },
   "outputs": [
    {
     "data": {
      "text/html": [
       "<div>\n",
       "<style scoped>\n",
       "    .dataframe tbody tr th:only-of-type {\n",
       "        vertical-align: middle;\n",
       "    }\n",
       "\n",
       "    .dataframe tbody tr th {\n",
       "        vertical-align: top;\n",
       "    }\n",
       "\n",
       "    .dataframe thead th {\n",
       "        text-align: right;\n",
       "    }\n",
       "</style>\n",
       "<table border=\"1\" class=\"dataframe\">\n",
       "  <thead>\n",
       "    <tr style=\"text-align: right;\">\n",
       "      <th></th>\n",
       "      <th>name</th>\n",
       "      <th>capitalCity</th>\n",
       "      <th>Region</th>\n",
       "      <th>Income</th>\n",
       "      <th>longitude</th>\n",
       "      <th>latitude</th>\n",
       "    </tr>\n",
       "  </thead>\n",
       "  <tbody>\n",
       "    <tr>\n",
       "      <th>0</th>\n",
       "      <td>Aruba</td>\n",
       "      <td>Oranjestad</td>\n",
       "      <td>Latin America &amp; Caribbean</td>\n",
       "      <td>High income</td>\n",
       "      <td>-70.0167</td>\n",
       "      <td>12.5167</td>\n",
       "    </tr>\n",
       "    <tr>\n",
       "      <th>1</th>\n",
       "      <td>Afghanistan</td>\n",
       "      <td>Kabul</td>\n",
       "      <td>South Asia</td>\n",
       "      <td>Low income</td>\n",
       "      <td>69.1761</td>\n",
       "      <td>34.5228</td>\n",
       "    </tr>\n",
       "    <tr>\n",
       "      <th>2</th>\n",
       "      <td>Angola</td>\n",
       "      <td>Luanda</td>\n",
       "      <td>Sub-Saharan Africa</td>\n",
       "      <td>Lower middle income</td>\n",
       "      <td>13.242</td>\n",
       "      <td>-8.81155</td>\n",
       "    </tr>\n",
       "    <tr>\n",
       "      <th>3</th>\n",
       "      <td>Albania</td>\n",
       "      <td>Tirane</td>\n",
       "      <td>Europe &amp; Central Asia</td>\n",
       "      <td>Upper middle income</td>\n",
       "      <td>19.8172</td>\n",
       "      <td>41.3317</td>\n",
       "    </tr>\n",
       "    <tr>\n",
       "      <th>4</th>\n",
       "      <td>Andorra</td>\n",
       "      <td>Andorra la Vella</td>\n",
       "      <td>Europe &amp; Central Asia</td>\n",
       "      <td>High income</td>\n",
       "      <td>1.5218</td>\n",
       "      <td>42.5075</td>\n",
       "    </tr>\n",
       "    <tr>\n",
       "      <th>...</th>\n",
       "      <td>...</td>\n",
       "      <td>...</td>\n",
       "      <td>...</td>\n",
       "      <td>...</td>\n",
       "      <td>...</td>\n",
       "      <td>...</td>\n",
       "    </tr>\n",
       "    <tr>\n",
       "      <th>213</th>\n",
       "      <td>Kosovo</td>\n",
       "      <td>Pristina</td>\n",
       "      <td>Europe &amp; Central Asia</td>\n",
       "      <td>Upper middle income</td>\n",
       "      <td>20.926</td>\n",
       "      <td>42.565</td>\n",
       "    </tr>\n",
       "    <tr>\n",
       "      <th>214</th>\n",
       "      <td>Yemen, Rep.</td>\n",
       "      <td>Sana'a</td>\n",
       "      <td>Middle East &amp; North Africa</td>\n",
       "      <td>Low income</td>\n",
       "      <td>44.2075</td>\n",
       "      <td>15.352</td>\n",
       "    </tr>\n",
       "    <tr>\n",
       "      <th>215</th>\n",
       "      <td>South Africa</td>\n",
       "      <td>Pretoria</td>\n",
       "      <td>Sub-Saharan Africa</td>\n",
       "      <td>Upper middle income</td>\n",
       "      <td>28.1871</td>\n",
       "      <td>-25.746</td>\n",
       "    </tr>\n",
       "    <tr>\n",
       "      <th>216</th>\n",
       "      <td>Zambia</td>\n",
       "      <td>Lusaka</td>\n",
       "      <td>Sub-Saharan Africa</td>\n",
       "      <td>Lower middle income</td>\n",
       "      <td>28.2937</td>\n",
       "      <td>-15.3982</td>\n",
       "    </tr>\n",
       "    <tr>\n",
       "      <th>217</th>\n",
       "      <td>Zimbabwe</td>\n",
       "      <td>Harare</td>\n",
       "      <td>Sub-Saharan Africa</td>\n",
       "      <td>Lower middle income</td>\n",
       "      <td>31.0672</td>\n",
       "      <td>-17.8312</td>\n",
       "    </tr>\n",
       "  </tbody>\n",
       "</table>\n",
       "<p>218 rows × 6 columns</p>\n",
       "</div>"
      ],
      "text/plain": [
       "             name       capitalCity                      Region  \\\n",
       "0           Aruba        Oranjestad  Latin America & Caribbean    \n",
       "1     Afghanistan             Kabul                  South Asia   \n",
       "2          Angola            Luanda         Sub-Saharan Africa    \n",
       "3         Albania            Tirane       Europe & Central Asia   \n",
       "4         Andorra  Andorra la Vella       Europe & Central Asia   \n",
       "..            ...               ...                         ...   \n",
       "213        Kosovo          Pristina       Europe & Central Asia   \n",
       "214   Yemen, Rep.            Sana'a  Middle East & North Africa   \n",
       "215  South Africa          Pretoria         Sub-Saharan Africa    \n",
       "216        Zambia            Lusaka         Sub-Saharan Africa    \n",
       "217      Zimbabwe            Harare         Sub-Saharan Africa    \n",
       "\n",
       "                  Income longitude  latitude  \n",
       "0            High income  -70.0167   12.5167  \n",
       "1             Low income   69.1761   34.5228  \n",
       "2    Lower middle income    13.242  -8.81155  \n",
       "3    Upper middle income   19.8172   41.3317  \n",
       "4            High income    1.5218   42.5075  \n",
       "..                   ...       ...       ...  \n",
       "213  Upper middle income    20.926    42.565  \n",
       "214           Low income   44.2075    15.352  \n",
       "215  Upper middle income   28.1871   -25.746  \n",
       "216  Lower middle income   28.2937  -15.3982  \n",
       "217  Lower middle income   31.0672  -17.8312  \n",
       "\n",
       "[218 rows x 6 columns]"
      ]
     },
     "execution_count": 56,
     "metadata": {},
     "output_type": "execute_result"
    }
   ],
   "source": [
    "df2"
   ]
  },
  {
   "cell_type": "code",
   "execution_count": 55,
   "metadata": {
    "ExecuteTime": {
     "end_time": "2020-12-29T13:41:38.737653Z",
     "start_time": "2020-12-29T13:41:38.641864Z"
    },
    "scrolled": true
   },
   "outputs": [
    {
     "data": {
      "application/vnd.plotly.v1+json": {
       "config": {
        "plotlyServerURL": "https://plot.ly"
       },
       "data": [
        {
         "geo": "geo",
         "hovertemplate": "Income=High income<br>latitude=%{lat}<br>longitude=%{lon}<br>name=%{location}<extra></extra>",
         "lat": [
          "12.5167",
          "42.5075",
          "24.4764",
          "17.1175",
          "-35.282",
          "48.2201",
          "50.8371",
          "26.1921",
          "25.0661",
          "32.3293",
          "13.0935",
          "4.94199",
          "45.4215",
          "46.948",
          "",
          "-33.475",
          "",
          "19.3022",
          "35.1676",
          "50.0878",
          "52.5235",
          "55.6763",
          "40.4167",
          "59.4392",
          "60.1608",
          "48.8566",
          "61.8926",
          "51.5002",
          "",
          "37.9792",
          "64.1836",
          "13.4443",
          "22.3964",
          "45.8069",
          "47.4984",
          "54.1509",
          "53.3441",
          "64.1353",
          "31.7717",
          "41.8955",
          "35.67",
          "17.3",
          "37.5323",
          "29.3721",
          "47.1411",
          "54.6896",
          "49.61",
          "56.9465",
          "22.1667",
          "",
          "43.7325",
          "35.9042",
          "15.1935",
          "-20.1605",
          "-22.2677",
          "52.3738",
          "59.9138",
          "-0.5477",
          "-41.2865",
          "23.6105",
          "8.99427",
          "7.34194",
          "52.26",
          "18.23",
          "38.7072",
          "-17.535",
          "25.2948",
          "44.4479",
          "24.6748",
          "1.28941",
          "43.9322",
          "48.1484",
          "46.0546",
          "59.3327",
          "",
          "-4.6309",
          "21.4602778",
          "10.6596",
          "",
          "-34.8941",
          "38.8895",
          "18.431389",
          "18.3358"
         ],
         "legendgroup": "High income",
         "locations": [
          "Aruba",
          "Andorra",
          "United Arab Emirates",
          "Antigua and Barbuda",
          "Australia",
          "Austria",
          "Belgium",
          "Bahrain",
          "Bahamas, The",
          "Bermuda",
          "Barbados",
          "Brunei Darussalam",
          "Canada",
          "Switzerland",
          "Channel Islands",
          "Chile",
          "Curacao",
          "Cayman Islands",
          "Cyprus",
          "Czech Republic",
          "Germany",
          "Denmark",
          "Spain",
          "Estonia",
          "Finland",
          "France",
          "Faroe Islands",
          "United Kingdom",
          "Gibraltar",
          "Greece",
          "Greenland",
          "Guam",
          "Hong Kong SAR, China",
          "Croatia",
          "Hungary",
          "Isle of Man",
          "Ireland",
          "Iceland",
          "Israel",
          "Italy",
          "Japan",
          "St. Kitts and Nevis",
          "Korea, Rep.",
          "Kuwait",
          "Liechtenstein",
          "Lithuania",
          "Luxembourg",
          "Latvia",
          "Macao SAR, China",
          "St. Martin (French part)",
          "Monaco",
          "Malta",
          "Northern Mariana Islands",
          "Mauritius",
          "New Caledonia",
          "Netherlands",
          "Norway",
          "Nauru",
          "New Zealand",
          "Oman",
          "Panama",
          "Palau",
          "Poland",
          "Puerto Rico",
          "Portugal",
          "French Polynesia",
          "Qatar",
          "Romania",
          "Saudi Arabia",
          "Singapore",
          "San Marino",
          "Slovak Republic",
          "Slovenia",
          "Sweden",
          "Sint Maarten (Dutch part)",
          "Seychelles",
          "Turks and Caicos Islands",
          "Trinidad and Tobago",
          "Taiwan, China",
          "Uruguay",
          "United States",
          "British Virgin Islands",
          "Virgin Islands (U.S.)"
         ],
         "lon": [
          "-70.0167",
          "1.5218",
          "54.3705",
          "-61.8456",
          "149.129",
          "16.3798",
          "4.36761",
          "50.5354",
          "-77.339",
          "-64.706",
          "-59.6105",
          "114.946",
          "-75.6919",
          "7.44821",
          "",
          "-70.6475",
          "",
          "-81.3857",
          "33.3736",
          "14.4205",
          "13.4115",
          "12.5681",
          "-3.70327",
          "24.7586",
          "24.9525",
          "2.35097",
          "-6.91181",
          "-0.126236",
          "",
          "23.7166",
          "-51.7214",
          "144.794",
          "114.109",
          "15.9614",
          "19.0408",
          "-4.47928",
          "-6.26749",
          "-21.8952",
          "35.2035",
          "12.4823",
          "139.77",
          "-62.7309",
          "126.957",
          "47.9824",
          "9.52148",
          "25.2799",
          "6.1296",
          "24.1048",
          "113.55",
          "",
          "7.41891",
          "14.5189",
          "145.765",
          "57.4977",
          "166.464",
          "4.89095",
          "10.7387",
          "166.920867",
          "174.776",
          "58.5874",
          "-79.5188",
          "134.479",
          "21.02",
          "-66",
          "-9.13552",
          "-149.57",
          "51.5082",
          "26.0979",
          "46.6977",
          "103.85",
          "12.4486",
          "17.1073",
          "14.5044",
          "18.0645",
          "",
          "55.4466",
          "-71.141389",
          "-61.4789",
          "",
          "-56.0675",
          "-77.032",
          "-64.623056",
          "-64.8963"
         ],
         "marker": {
          "color": "#636efa",
          "symbol": "circle"
         },
         "mode": "markers",
         "name": "High income",
         "showlegend": true,
         "type": "scattergeo"
        },
        {
         "geo": "geo",
         "hovertemplate": "Income=Low income<br>latitude=%{lat}<br>longitude=%{lon}<br>name=%{location}<extra></extra>",
         "lat": [
          "34.5228",
          "-3.3784",
          "12.3605",
          "5.63056",
          "-4.325",
          "15.3315",
          "9.02274",
          "9.51667",
          "13.4495",
          "11.8037",
          "18.5392",
          "6.30039",
          "-20.4667",
          "13.5667",
          "-25.9664",
          "-13.9899",
          "13.514",
          "39.0319",
          "-1.95325",
          "15.5932",
          "8.4821",
          "2.07515",
          "4.85",
          "33.5146",
          "12.1048",
          "6.1228",
          "38.5878",
          "0.314269",
          "15.352"
         ],
         "legendgroup": "Low income",
         "locations": [
          "Afghanistan",
          "Burundi",
          "Burkina Faso",
          "Central African Republic",
          "Congo, Dem. Rep.",
          "Eritrea",
          "Ethiopia",
          "Guinea",
          "Gambia, The",
          "Guinea-Bissau",
          "Haiti",
          "Liberia",
          "Madagascar",
          "Mali",
          "Mozambique",
          "Malawi",
          "Niger",
          "Korea, Dem. People’s Rep.",
          "Rwanda",
          "Sudan",
          "Sierra Leone",
          "Somalia",
          "South Sudan",
          "Syrian Arab Republic",
          "Chad",
          "Togo",
          "Tajikistan",
          "Uganda",
          "Yemen, Rep."
         ],
         "lon": [
          "69.1761",
          "29.3639",
          "-1.53395",
          "21.6407",
          "15.3222",
          "38.9183",
          "38.7468",
          "-13.7",
          "-16.5885",
          "-15.1804",
          "-72.3288",
          "-10.7957",
          "45.7167",
          "-7.50034",
          "32.5713",
          "33.7703",
          "2.1073",
          "125.754",
          "30.0587",
          "32.5363",
          "-13.2134",
          "45.3254",
          "31.6",
          "36.3119",
          "15.0445",
          "1.2255",
          "68.7864",
          "32.5729",
          "44.2075"
         ],
         "marker": {
          "color": "#EF553B",
          "symbol": "circle"
         },
         "mode": "markers",
         "name": "Low income",
         "showlegend": true,
         "type": "scattergeo"
        },
        {
         "geo": "geo",
         "hovertemplate": "Income=Lower middle income<br>latitude=%{lat}<br>longitude=%{lon}<br>name=%{location}<extra></extra>",
         "lat": [
          "-8.81155",
          "6.4779",
          "23.7055",
          "-13.9908",
          "27.5768",
          "5.332",
          "3.8721",
          "-4.2767",
          "-11.6986",
          "14.9218",
          "11.5806",
          "36.7397",
          "30.0982",
          "6.91771",
          "5.57045",
          "15.1333",
          "28.6353",
          "-1.27975",
          "42.8851",
          "11.5556",
          "1.32905",
          "18.5826",
          "6.92148",
          "-29.5208",
          "33.9905",
          "47.0167",
          "21.914",
          "47.9129",
          "18.2367",
          "9.05804",
          "12.1475",
          "27.6939",
          "30.5167",
          "14.5515",
          "-9.47357",
          "",
          "14.7247",
          "-9.42676",
          "13.7034",
          "0.20618",
          "-26.5225",
          "-8.56667",
          "36.7899",
          "-6.17486",
          "50.4536",
          "41.3052",
          "21.0069",
          "-17.7404",
          "-15.3982",
          "-17.8312"
         ],
         "legendgroup": "Lower middle income",
         "locations": [
          "Angola",
          "Benin",
          "Bangladesh",
          "Bolivia",
          "Bhutan",
          "Cote d'Ivoire",
          "Cameroon",
          "Congo, Rep.",
          "Comoros",
          "Cabo Verde",
          "Djibouti",
          "Algeria",
          "Egypt, Arab Rep.",
          "Micronesia, Fed. Sts.",
          "Ghana",
          "Honduras",
          "India",
          "Kenya",
          "Kyrgyz Republic",
          "Cambodia",
          "Kiribati",
          "Lao PDR",
          "Sri Lanka",
          "Lesotho",
          "Morocco",
          "Moldova",
          "Myanmar",
          "Mongolia",
          "Mauritania",
          "Nigeria",
          "Nicaragua",
          "Nepal",
          "Pakistan",
          "Philippines",
          "Papua New Guinea",
          "West Bank and Gaza",
          "Senegal",
          "Solomon Islands",
          "El Salvador",
          "Sao Tome and Principe",
          "Eswatini",
          "Timor-Leste",
          "Tunisia",
          "Tanzania",
          "Ukraine",
          "Uzbekistan",
          "Vietnam",
          "Vanuatu",
          "Zambia",
          "Zimbabwe"
         ],
         "lon": [
          "13.242",
          "2.6323",
          "90.4113",
          "-66.1936",
          "89.6177",
          "-4.0305",
          "11.5174",
          "15.2662",
          "43.2418",
          "-23.5087",
          "43.1425",
          "3.05097",
          "31.2461",
          "158.185",
          "-0.20795",
          "-87.4667",
          "77.225",
          "36.8126",
          "74.6057",
          "104.874",
          "172.979",
          "102.177",
          "79.8528",
          "27.7167",
          "-6.8704",
          "28.8497",
          "95.9562",
          "106.937",
          "-15.9824",
          "7.48906",
          "-86.2734",
          "85.3157",
          "72.8",
          "121.035",
          "147.194",
          "",
          "-17.4734",
          "159.949",
          "-89.2073",
          "6.6071",
          "31.4659",
          "125.567",
          "10.21",
          "35.7382",
          "30.5038",
          "69.269",
          "105.825",
          "168.321",
          "28.2937",
          "31.0672"
         ],
         "marker": {
          "color": "#00cc96",
          "symbol": "circle"
         },
         "mode": "markers",
         "name": "Lower middle income",
         "showlegend": true,
         "type": "scattergeo"
        },
        {
         "geo": "geo",
         "hovertemplate": "Income=Upper middle income<br>latitude=%{lat}<br>longitude=%{lon}<br>name=%{location}<extra></extra>",
         "lat": [
          "41.3317",
          "-34.6118",
          "40.1596",
          "-14.2846",
          "40.3834",
          "42.7105",
          "43.8607",
          "53.9678",
          "17.2534",
          "-15.7801",
          "-24.6544",
          "40.0495",
          "4.60987",
          "9.63701",
          "23.1333",
          "15.2976",
          "18.479",
          "-0.229498",
          "-18.1149",
          "0.38832",
          "41.71",
          "3.7523",
          "12.0653",
          "14.6248",
          "6.80461",
          "-6.19752",
          "35.6878",
          "33.3302",
          "17.9927",
          "31.9497",
          "51.1879",
          "33.8872",
          "32.8578",
          "14",
          "4.1742",
          "19.427",
          "7.11046",
          "42.0024",
          "42.4602",
          "3.12433",
          "-22.5648",
          "-12.0931",
          "-25.3005",
          "55.7558",
          "44.8024",
          "5.8232",
          "13.7308",
          "37.9509",
          "-21.136",
          "39.7153",
          "-8.6314877",
          "13.2035",
          "9.08165",
          "-13.8314",
          "42.565",
          "-25.746"
         ],
         "legendgroup": "Upper middle income",
         "locations": [
          "Albania",
          "Argentina",
          "Armenia",
          "American Samoa",
          "Azerbaijan",
          "Bulgaria",
          "Bosnia and Herzegovina",
          "Belarus",
          "Belize",
          "Brazil",
          "Botswana",
          "China",
          "Colombia",
          "Costa Rica",
          "Cuba",
          "Dominica",
          "Dominican Republic",
          "Ecuador",
          "Fiji",
          "Gabon",
          "Georgia",
          "Equatorial Guinea",
          "Grenada",
          "Guatemala",
          "Guyana",
          "Indonesia",
          "Iran, Islamic Rep.",
          "Iraq",
          "Jamaica",
          "Jordan",
          "Kazakhstan",
          "Lebanon",
          "Libya",
          "St. Lucia",
          "Maldives",
          "Mexico",
          "Marshall Islands",
          "North Macedonia",
          "Montenegro",
          "Malaysia",
          "Namibia",
          "Peru",
          "Paraguay",
          "Russian Federation",
          "Serbia",
          "Suriname",
          "Thailand",
          "Turkmenistan",
          "Tonga",
          "Turkey",
          "Tuvalu",
          "St. Vincent and the Grenadines",
          "Venezuela, RB",
          "Samoa",
          "Kosovo",
          "South Africa"
         ],
         "lon": [
          "19.8172",
          "-58.4173",
          "44.509",
          "-170.691",
          "49.8932",
          "23.3238",
          "18.4214",
          "27.5766",
          "-88.7713",
          "-47.9292",
          "25.9201",
          "116.286",
          "-74.082",
          "-84.0089",
          "-82.3667",
          "-61.39",
          "-69.8908",
          "-78.5243",
          "178.399",
          "9.45162",
          "44.793",
          "8.7741",
          "-61.7449",
          "-90.5328",
          "-58.1548",
          "106.83",
          "51.4447",
          "44.394",
          "-76.792",
          "35.9263",
          "71.4382",
          "35.5134",
          "13.1072",
          "-60.9832",
          "73.5109",
          "-99.1276",
          "171.135",
          "21.4361",
          "19.2595",
          "101.684",
          "17.0931",
          "-77.0465",
          "-57.6362",
          "37.6176",
          "20.4656",
          "-55.1679",
          "100.521",
          "58.3794",
          "-175.216",
          "32.3606",
          "179.089567",
          "-61.2653",
          "-69.8371",
          "-171.752",
          "20.926",
          "28.1871"
         ],
         "marker": {
          "color": "#ab63fa",
          "symbol": "circle"
         },
         "mode": "markers",
         "name": "Upper middle income",
         "showlegend": true,
         "type": "scattergeo"
        }
       ],
       "layout": {
        "geo": {
         "center": {},
         "domain": {
          "x": [
           0,
           1
          ],
          "y": [
           0,
           1
          ]
         }
        },
        "legend": {
         "title": {
          "text": "Income"
         },
         "tracegroupgap": 0
        },
        "margin": {
         "t": 60
        },
        "template": {
         "data": {
          "bar": [
           {
            "error_x": {
             "color": "#2a3f5f"
            },
            "error_y": {
             "color": "#2a3f5f"
            },
            "marker": {
             "line": {
              "color": "#E5ECF6",
              "width": 0.5
             }
            },
            "type": "bar"
           }
          ],
          "barpolar": [
           {
            "marker": {
             "line": {
              "color": "#E5ECF6",
              "width": 0.5
             }
            },
            "type": "barpolar"
           }
          ],
          "carpet": [
           {
            "aaxis": {
             "endlinecolor": "#2a3f5f",
             "gridcolor": "white",
             "linecolor": "white",
             "minorgridcolor": "white",
             "startlinecolor": "#2a3f5f"
            },
            "baxis": {
             "endlinecolor": "#2a3f5f",
             "gridcolor": "white",
             "linecolor": "white",
             "minorgridcolor": "white",
             "startlinecolor": "#2a3f5f"
            },
            "type": "carpet"
           }
          ],
          "choropleth": [
           {
            "colorbar": {
             "outlinewidth": 0,
             "ticks": ""
            },
            "type": "choropleth"
           }
          ],
          "contour": [
           {
            "colorbar": {
             "outlinewidth": 0,
             "ticks": ""
            },
            "colorscale": [
             [
              0,
              "#0d0887"
             ],
             [
              0.1111111111111111,
              "#46039f"
             ],
             [
              0.2222222222222222,
              "#7201a8"
             ],
             [
              0.3333333333333333,
              "#9c179e"
             ],
             [
              0.4444444444444444,
              "#bd3786"
             ],
             [
              0.5555555555555556,
              "#d8576b"
             ],
             [
              0.6666666666666666,
              "#ed7953"
             ],
             [
              0.7777777777777778,
              "#fb9f3a"
             ],
             [
              0.8888888888888888,
              "#fdca26"
             ],
             [
              1,
              "#f0f921"
             ]
            ],
            "type": "contour"
           }
          ],
          "contourcarpet": [
           {
            "colorbar": {
             "outlinewidth": 0,
             "ticks": ""
            },
            "type": "contourcarpet"
           }
          ],
          "heatmap": [
           {
            "colorbar": {
             "outlinewidth": 0,
             "ticks": ""
            },
            "colorscale": [
             [
              0,
              "#0d0887"
             ],
             [
              0.1111111111111111,
              "#46039f"
             ],
             [
              0.2222222222222222,
              "#7201a8"
             ],
             [
              0.3333333333333333,
              "#9c179e"
             ],
             [
              0.4444444444444444,
              "#bd3786"
             ],
             [
              0.5555555555555556,
              "#d8576b"
             ],
             [
              0.6666666666666666,
              "#ed7953"
             ],
             [
              0.7777777777777778,
              "#fb9f3a"
             ],
             [
              0.8888888888888888,
              "#fdca26"
             ],
             [
              1,
              "#f0f921"
             ]
            ],
            "type": "heatmap"
           }
          ],
          "heatmapgl": [
           {
            "colorbar": {
             "outlinewidth": 0,
             "ticks": ""
            },
            "colorscale": [
             [
              0,
              "#0d0887"
             ],
             [
              0.1111111111111111,
              "#46039f"
             ],
             [
              0.2222222222222222,
              "#7201a8"
             ],
             [
              0.3333333333333333,
              "#9c179e"
             ],
             [
              0.4444444444444444,
              "#bd3786"
             ],
             [
              0.5555555555555556,
              "#d8576b"
             ],
             [
              0.6666666666666666,
              "#ed7953"
             ],
             [
              0.7777777777777778,
              "#fb9f3a"
             ],
             [
              0.8888888888888888,
              "#fdca26"
             ],
             [
              1,
              "#f0f921"
             ]
            ],
            "type": "heatmapgl"
           }
          ],
          "histogram": [
           {
            "marker": {
             "colorbar": {
              "outlinewidth": 0,
              "ticks": ""
             }
            },
            "type": "histogram"
           }
          ],
          "histogram2d": [
           {
            "colorbar": {
             "outlinewidth": 0,
             "ticks": ""
            },
            "colorscale": [
             [
              0,
              "#0d0887"
             ],
             [
              0.1111111111111111,
              "#46039f"
             ],
             [
              0.2222222222222222,
              "#7201a8"
             ],
             [
              0.3333333333333333,
              "#9c179e"
             ],
             [
              0.4444444444444444,
              "#bd3786"
             ],
             [
              0.5555555555555556,
              "#d8576b"
             ],
             [
              0.6666666666666666,
              "#ed7953"
             ],
             [
              0.7777777777777778,
              "#fb9f3a"
             ],
             [
              0.8888888888888888,
              "#fdca26"
             ],
             [
              1,
              "#f0f921"
             ]
            ],
            "type": "histogram2d"
           }
          ],
          "histogram2dcontour": [
           {
            "colorbar": {
             "outlinewidth": 0,
             "ticks": ""
            },
            "colorscale": [
             [
              0,
              "#0d0887"
             ],
             [
              0.1111111111111111,
              "#46039f"
             ],
             [
              0.2222222222222222,
              "#7201a8"
             ],
             [
              0.3333333333333333,
              "#9c179e"
             ],
             [
              0.4444444444444444,
              "#bd3786"
             ],
             [
              0.5555555555555556,
              "#d8576b"
             ],
             [
              0.6666666666666666,
              "#ed7953"
             ],
             [
              0.7777777777777778,
              "#fb9f3a"
             ],
             [
              0.8888888888888888,
              "#fdca26"
             ],
             [
              1,
              "#f0f921"
             ]
            ],
            "type": "histogram2dcontour"
           }
          ],
          "mesh3d": [
           {
            "colorbar": {
             "outlinewidth": 0,
             "ticks": ""
            },
            "type": "mesh3d"
           }
          ],
          "parcoords": [
           {
            "line": {
             "colorbar": {
              "outlinewidth": 0,
              "ticks": ""
             }
            },
            "type": "parcoords"
           }
          ],
          "pie": [
           {
            "automargin": true,
            "type": "pie"
           }
          ],
          "scatter": [
           {
            "marker": {
             "colorbar": {
              "outlinewidth": 0,
              "ticks": ""
             }
            },
            "type": "scatter"
           }
          ],
          "scatter3d": [
           {
            "line": {
             "colorbar": {
              "outlinewidth": 0,
              "ticks": ""
             }
            },
            "marker": {
             "colorbar": {
              "outlinewidth": 0,
              "ticks": ""
             }
            },
            "type": "scatter3d"
           }
          ],
          "scattercarpet": [
           {
            "marker": {
             "colorbar": {
              "outlinewidth": 0,
              "ticks": ""
             }
            },
            "type": "scattercarpet"
           }
          ],
          "scattergeo": [
           {
            "marker": {
             "colorbar": {
              "outlinewidth": 0,
              "ticks": ""
             }
            },
            "type": "scattergeo"
           }
          ],
          "scattergl": [
           {
            "marker": {
             "colorbar": {
              "outlinewidth": 0,
              "ticks": ""
             }
            },
            "type": "scattergl"
           }
          ],
          "scattermapbox": [
           {
            "marker": {
             "colorbar": {
              "outlinewidth": 0,
              "ticks": ""
             }
            },
            "type": "scattermapbox"
           }
          ],
          "scatterpolar": [
           {
            "marker": {
             "colorbar": {
              "outlinewidth": 0,
              "ticks": ""
             }
            },
            "type": "scatterpolar"
           }
          ],
          "scatterpolargl": [
           {
            "marker": {
             "colorbar": {
              "outlinewidth": 0,
              "ticks": ""
             }
            },
            "type": "scatterpolargl"
           }
          ],
          "scatterternary": [
           {
            "marker": {
             "colorbar": {
              "outlinewidth": 0,
              "ticks": ""
             }
            },
            "type": "scatterternary"
           }
          ],
          "surface": [
           {
            "colorbar": {
             "outlinewidth": 0,
             "ticks": ""
            },
            "colorscale": [
             [
              0,
              "#0d0887"
             ],
             [
              0.1111111111111111,
              "#46039f"
             ],
             [
              0.2222222222222222,
              "#7201a8"
             ],
             [
              0.3333333333333333,
              "#9c179e"
             ],
             [
              0.4444444444444444,
              "#bd3786"
             ],
             [
              0.5555555555555556,
              "#d8576b"
             ],
             [
              0.6666666666666666,
              "#ed7953"
             ],
             [
              0.7777777777777778,
              "#fb9f3a"
             ],
             [
              0.8888888888888888,
              "#fdca26"
             ],
             [
              1,
              "#f0f921"
             ]
            ],
            "type": "surface"
           }
          ],
          "table": [
           {
            "cells": {
             "fill": {
              "color": "#EBF0F8"
             },
             "line": {
              "color": "white"
             }
            },
            "header": {
             "fill": {
              "color": "#C8D4E3"
             },
             "line": {
              "color": "white"
             }
            },
            "type": "table"
           }
          ]
         },
         "layout": {
          "annotationdefaults": {
           "arrowcolor": "#2a3f5f",
           "arrowhead": 0,
           "arrowwidth": 1
          },
          "coloraxis": {
           "colorbar": {
            "outlinewidth": 0,
            "ticks": ""
           }
          },
          "colorscale": {
           "diverging": [
            [
             0,
             "#8e0152"
            ],
            [
             0.1,
             "#c51b7d"
            ],
            [
             0.2,
             "#de77ae"
            ],
            [
             0.3,
             "#f1b6da"
            ],
            [
             0.4,
             "#fde0ef"
            ],
            [
             0.5,
             "#f7f7f7"
            ],
            [
             0.6,
             "#e6f5d0"
            ],
            [
             0.7,
             "#b8e186"
            ],
            [
             0.8,
             "#7fbc41"
            ],
            [
             0.9,
             "#4d9221"
            ],
            [
             1,
             "#276419"
            ]
           ],
           "sequential": [
            [
             0,
             "#0d0887"
            ],
            [
             0.1111111111111111,
             "#46039f"
            ],
            [
             0.2222222222222222,
             "#7201a8"
            ],
            [
             0.3333333333333333,
             "#9c179e"
            ],
            [
             0.4444444444444444,
             "#bd3786"
            ],
            [
             0.5555555555555556,
             "#d8576b"
            ],
            [
             0.6666666666666666,
             "#ed7953"
            ],
            [
             0.7777777777777778,
             "#fb9f3a"
            ],
            [
             0.8888888888888888,
             "#fdca26"
            ],
            [
             1,
             "#f0f921"
            ]
           ],
           "sequentialminus": [
            [
             0,
             "#0d0887"
            ],
            [
             0.1111111111111111,
             "#46039f"
            ],
            [
             0.2222222222222222,
             "#7201a8"
            ],
            [
             0.3333333333333333,
             "#9c179e"
            ],
            [
             0.4444444444444444,
             "#bd3786"
            ],
            [
             0.5555555555555556,
             "#d8576b"
            ],
            [
             0.6666666666666666,
             "#ed7953"
            ],
            [
             0.7777777777777778,
             "#fb9f3a"
            ],
            [
             0.8888888888888888,
             "#fdca26"
            ],
            [
             1,
             "#f0f921"
            ]
           ]
          },
          "colorway": [
           "#636efa",
           "#EF553B",
           "#00cc96",
           "#ab63fa",
           "#FFA15A",
           "#19d3f3",
           "#FF6692",
           "#B6E880",
           "#FF97FF",
           "#FECB52"
          ],
          "font": {
           "color": "#2a3f5f"
          },
          "geo": {
           "bgcolor": "white",
           "lakecolor": "white",
           "landcolor": "#E5ECF6",
           "showlakes": true,
           "showland": true,
           "subunitcolor": "white"
          },
          "hoverlabel": {
           "align": "left"
          },
          "hovermode": "closest",
          "mapbox": {
           "style": "light"
          },
          "paper_bgcolor": "white",
          "plot_bgcolor": "#E5ECF6",
          "polar": {
           "angularaxis": {
            "gridcolor": "white",
            "linecolor": "white",
            "ticks": ""
           },
           "bgcolor": "#E5ECF6",
           "radialaxis": {
            "gridcolor": "white",
            "linecolor": "white",
            "ticks": ""
           }
          },
          "scene": {
           "xaxis": {
            "backgroundcolor": "#E5ECF6",
            "gridcolor": "white",
            "gridwidth": 2,
            "linecolor": "white",
            "showbackground": true,
            "ticks": "",
            "zerolinecolor": "white"
           },
           "yaxis": {
            "backgroundcolor": "#E5ECF6",
            "gridcolor": "white",
            "gridwidth": 2,
            "linecolor": "white",
            "showbackground": true,
            "ticks": "",
            "zerolinecolor": "white"
           },
           "zaxis": {
            "backgroundcolor": "#E5ECF6",
            "gridcolor": "white",
            "gridwidth": 2,
            "linecolor": "white",
            "showbackground": true,
            "ticks": "",
            "zerolinecolor": "white"
           }
          },
          "shapedefaults": {
           "line": {
            "color": "#2a3f5f"
           }
          },
          "ternary": {
           "aaxis": {
            "gridcolor": "white",
            "linecolor": "white",
            "ticks": ""
           },
           "baxis": {
            "gridcolor": "white",
            "linecolor": "white",
            "ticks": ""
           },
           "bgcolor": "#E5ECF6",
           "caxis": {
            "gridcolor": "white",
            "linecolor": "white",
            "ticks": ""
           }
          },
          "title": {
           "x": 0.05
          },
          "xaxis": {
           "automargin": true,
           "gridcolor": "white",
           "linecolor": "white",
           "ticks": "",
           "title": {
            "standoff": 15
           },
           "zerolinecolor": "white",
           "zerolinewidth": 2
          },
          "yaxis": {
           "automargin": true,
           "gridcolor": "white",
           "linecolor": "white",
           "ticks": "",
           "title": {
            "standoff": 15
           },
           "zerolinecolor": "white",
           "zerolinewidth": 2
          }
         }
        }
       }
      },
      "text/html": [
       "<div>                            <div id=\"9db1eeea-d3b5-4628-a16c-13be7f4c5842\" class=\"plotly-graph-div\" style=\"height:525px; width:100%;\"></div>            <script type=\"text/javascript\">                require([\"plotly\"], function(Plotly) {                    window.PLOTLYENV=window.PLOTLYENV || {};                                    if (document.getElementById(\"9db1eeea-d3b5-4628-a16c-13be7f4c5842\")) {                    Plotly.newPlot(                        \"9db1eeea-d3b5-4628-a16c-13be7f4c5842\",                        [{\"geo\": \"geo\", \"hovertemplate\": \"Income=High income<br>latitude=%{lat}<br>longitude=%{lon}<br>name=%{location}<extra></extra>\", \"lat\": [\"12.5167\", \"42.5075\", \"24.4764\", \"17.1175\", \"-35.282\", \"48.2201\", \"50.8371\", \"26.1921\", \"25.0661\", \"32.3293\", \"13.0935\", \"4.94199\", \"45.4215\", \"46.948\", \"\", \"-33.475\", \"\", \"19.3022\", \"35.1676\", \"50.0878\", \"52.5235\", \"55.6763\", \"40.4167\", \"59.4392\", \"60.1608\", \"48.8566\", \"61.8926\", \"51.5002\", \"\", \"37.9792\", \"64.1836\", \"13.4443\", \"22.3964\", \"45.8069\", \"47.4984\", \"54.1509\", \"53.3441\", \"64.1353\", \"31.7717\", \"41.8955\", \"35.67\", \"17.3\", \"37.5323\", \"29.3721\", \"47.1411\", \"54.6896\", \"49.61\", \"56.9465\", \"22.1667\", \"\", \"43.7325\", \"35.9042\", \"15.1935\", \"-20.1605\", \"-22.2677\", \"52.3738\", \"59.9138\", \"-0.5477\", \"-41.2865\", \"23.6105\", \"8.99427\", \"7.34194\", \"52.26\", \"18.23\", \"38.7072\", \"-17.535\", \"25.2948\", \"44.4479\", \"24.6748\", \"1.28941\", \"43.9322\", \"48.1484\", \"46.0546\", \"59.3327\", \"\", \"-4.6309\", \"21.4602778\", \"10.6596\", \"\", \"-34.8941\", \"38.8895\", \"18.431389\", \"18.3358\"], \"legendgroup\": \"High income\", \"locations\": [\"Aruba\", \"Andorra\", \"United Arab Emirates\", \"Antigua and Barbuda\", \"Australia\", \"Austria\", \"Belgium\", \"Bahrain\", \"Bahamas, The\", \"Bermuda\", \"Barbados\", \"Brunei Darussalam\", \"Canada\", \"Switzerland\", \"Channel Islands\", \"Chile\", \"Curacao\", \"Cayman Islands\", \"Cyprus\", \"Czech Republic\", \"Germany\", \"Denmark\", \"Spain\", \"Estonia\", \"Finland\", \"France\", \"Faroe Islands\", \"United Kingdom\", \"Gibraltar\", \"Greece\", \"Greenland\", \"Guam\", \"Hong Kong SAR, China\", \"Croatia\", \"Hungary\", \"Isle of Man\", \"Ireland\", \"Iceland\", \"Israel\", \"Italy\", \"Japan\", \"St. Kitts and Nevis\", \"Korea, Rep.\", \"Kuwait\", \"Liechtenstein\", \"Lithuania\", \"Luxembourg\", \"Latvia\", \"Macao SAR, China\", \"St. Martin (French part)\", \"Monaco\", \"Malta\", \"Northern Mariana Islands\", \"Mauritius\", \"New Caledonia\", \"Netherlands\", \"Norway\", \"Nauru\", \"New Zealand\", \"Oman\", \"Panama\", \"Palau\", \"Poland\", \"Puerto Rico\", \"Portugal\", \"French Polynesia\", \"Qatar\", \"Romania\", \"Saudi Arabia\", \"Singapore\", \"San Marino\", \"Slovak Republic\", \"Slovenia\", \"Sweden\", \"Sint Maarten (Dutch part)\", \"Seychelles\", \"Turks and Caicos Islands\", \"Trinidad and Tobago\", \"Taiwan, China\", \"Uruguay\", \"United States\", \"British Virgin Islands\", \"Virgin Islands (U.S.)\"], \"lon\": [\"-70.0167\", \"1.5218\", \"54.3705\", \"-61.8456\", \"149.129\", \"16.3798\", \"4.36761\", \"50.5354\", \"-77.339\", \"-64.706\", \"-59.6105\", \"114.946\", \"-75.6919\", \"7.44821\", \"\", \"-70.6475\", \"\", \"-81.3857\", \"33.3736\", \"14.4205\", \"13.4115\", \"12.5681\", \"-3.70327\", \"24.7586\", \"24.9525\", \"2.35097\", \"-6.91181\", \"-0.126236\", \"\", \"23.7166\", \"-51.7214\", \"144.794\", \"114.109\", \"15.9614\", \"19.0408\", \"-4.47928\", \"-6.26749\", \"-21.8952\", \"35.2035\", \"12.4823\", \"139.77\", \"-62.7309\", \"126.957\", \"47.9824\", \"9.52148\", \"25.2799\", \"6.1296\", \"24.1048\", \"113.55\", \"\", \"7.41891\", \"14.5189\", \"145.765\", \"57.4977\", \"166.464\", \"4.89095\", \"10.7387\", \"166.920867\", \"174.776\", \"58.5874\", \"-79.5188\", \"134.479\", \"21.02\", \"-66\", \"-9.13552\", \"-149.57\", \"51.5082\", \"26.0979\", \"46.6977\", \"103.85\", \"12.4486\", \"17.1073\", \"14.5044\", \"18.0645\", \"\", \"55.4466\", \"-71.141389\", \"-61.4789\", \"\", \"-56.0675\", \"-77.032\", \"-64.623056\", \"-64.8963\"], \"marker\": {\"color\": \"#636efa\", \"symbol\": \"circle\"}, \"mode\": \"markers\", \"name\": \"High income\", \"showlegend\": true, \"type\": \"scattergeo\"}, {\"geo\": \"geo\", \"hovertemplate\": \"Income=Low income<br>latitude=%{lat}<br>longitude=%{lon}<br>name=%{location}<extra></extra>\", \"lat\": [\"34.5228\", \"-3.3784\", \"12.3605\", \"5.63056\", \"-4.325\", \"15.3315\", \"9.02274\", \"9.51667\", \"13.4495\", \"11.8037\", \"18.5392\", \"6.30039\", \"-20.4667\", \"13.5667\", \"-25.9664\", \"-13.9899\", \"13.514\", \"39.0319\", \"-1.95325\", \"15.5932\", \"8.4821\", \"2.07515\", \"4.85\", \"33.5146\", \"12.1048\", \"6.1228\", \"38.5878\", \"0.314269\", \"15.352\"], \"legendgroup\": \"Low income\", \"locations\": [\"Afghanistan\", \"Burundi\", \"Burkina Faso\", \"Central African Republic\", \"Congo, Dem. Rep.\", \"Eritrea\", \"Ethiopia\", \"Guinea\", \"Gambia, The\", \"Guinea-Bissau\", \"Haiti\", \"Liberia\", \"Madagascar\", \"Mali\", \"Mozambique\", \"Malawi\", \"Niger\", \"Korea, Dem. People\\u2019s Rep.\", \"Rwanda\", \"Sudan\", \"Sierra Leone\", \"Somalia\", \"South Sudan\", \"Syrian Arab Republic\", \"Chad\", \"Togo\", \"Tajikistan\", \"Uganda\", \"Yemen, Rep.\"], \"lon\": [\"69.1761\", \"29.3639\", \"-1.53395\", \"21.6407\", \"15.3222\", \"38.9183\", \"38.7468\", \"-13.7\", \"-16.5885\", \"-15.1804\", \"-72.3288\", \"-10.7957\", \"45.7167\", \"-7.50034\", \"32.5713\", \"33.7703\", \"2.1073\", \"125.754\", \"30.0587\", \"32.5363\", \"-13.2134\", \"45.3254\", \"31.6\", \"36.3119\", \"15.0445\", \"1.2255\", \"68.7864\", \"32.5729\", \"44.2075\"], \"marker\": {\"color\": \"#EF553B\", \"symbol\": \"circle\"}, \"mode\": \"markers\", \"name\": \"Low income\", \"showlegend\": true, \"type\": \"scattergeo\"}, {\"geo\": \"geo\", \"hovertemplate\": \"Income=Lower middle income<br>latitude=%{lat}<br>longitude=%{lon}<br>name=%{location}<extra></extra>\", \"lat\": [\"-8.81155\", \"6.4779\", \"23.7055\", \"-13.9908\", \"27.5768\", \"5.332\", \"3.8721\", \"-4.2767\", \"-11.6986\", \"14.9218\", \"11.5806\", \"36.7397\", \"30.0982\", \"6.91771\", \"5.57045\", \"15.1333\", \"28.6353\", \"-1.27975\", \"42.8851\", \"11.5556\", \"1.32905\", \"18.5826\", \"6.92148\", \"-29.5208\", \"33.9905\", \"47.0167\", \"21.914\", \"47.9129\", \"18.2367\", \"9.05804\", \"12.1475\", \"27.6939\", \"30.5167\", \"14.5515\", \"-9.47357\", \"\", \"14.7247\", \"-9.42676\", \"13.7034\", \"0.20618\", \"-26.5225\", \"-8.56667\", \"36.7899\", \"-6.17486\", \"50.4536\", \"41.3052\", \"21.0069\", \"-17.7404\", \"-15.3982\", \"-17.8312\"], \"legendgroup\": \"Lower middle income\", \"locations\": [\"Angola\", \"Benin\", \"Bangladesh\", \"Bolivia\", \"Bhutan\", \"Cote d'Ivoire\", \"Cameroon\", \"Congo, Rep.\", \"Comoros\", \"Cabo Verde\", \"Djibouti\", \"Algeria\", \"Egypt, Arab Rep.\", \"Micronesia, Fed. Sts.\", \"Ghana\", \"Honduras\", \"India\", \"Kenya\", \"Kyrgyz Republic\", \"Cambodia\", \"Kiribati\", \"Lao PDR\", \"Sri Lanka\", \"Lesotho\", \"Morocco\", \"Moldova\", \"Myanmar\", \"Mongolia\", \"Mauritania\", \"Nigeria\", \"Nicaragua\", \"Nepal\", \"Pakistan\", \"Philippines\", \"Papua New Guinea\", \"West Bank and Gaza\", \"Senegal\", \"Solomon Islands\", \"El Salvador\", \"Sao Tome and Principe\", \"Eswatini\", \"Timor-Leste\", \"Tunisia\", \"Tanzania\", \"Ukraine\", \"Uzbekistan\", \"Vietnam\", \"Vanuatu\", \"Zambia\", \"Zimbabwe\"], \"lon\": [\"13.242\", \"2.6323\", \"90.4113\", \"-66.1936\", \"89.6177\", \"-4.0305\", \"11.5174\", \"15.2662\", \"43.2418\", \"-23.5087\", \"43.1425\", \"3.05097\", \"31.2461\", \"158.185\", \"-0.20795\", \"-87.4667\", \"77.225\", \"36.8126\", \"74.6057\", \"104.874\", \"172.979\", \"102.177\", \"79.8528\", \"27.7167\", \"-6.8704\", \"28.8497\", \"95.9562\", \"106.937\", \"-15.9824\", \"7.48906\", \"-86.2734\", \"85.3157\", \"72.8\", \"121.035\", \"147.194\", \"\", \"-17.4734\", \"159.949\", \"-89.2073\", \"6.6071\", \"31.4659\", \"125.567\", \"10.21\", \"35.7382\", \"30.5038\", \"69.269\", \"105.825\", \"168.321\", \"28.2937\", \"31.0672\"], \"marker\": {\"color\": \"#00cc96\", \"symbol\": \"circle\"}, \"mode\": \"markers\", \"name\": \"Lower middle income\", \"showlegend\": true, \"type\": \"scattergeo\"}, {\"geo\": \"geo\", \"hovertemplate\": \"Income=Upper middle income<br>latitude=%{lat}<br>longitude=%{lon}<br>name=%{location}<extra></extra>\", \"lat\": [\"41.3317\", \"-34.6118\", \"40.1596\", \"-14.2846\", \"40.3834\", \"42.7105\", \"43.8607\", \"53.9678\", \"17.2534\", \"-15.7801\", \"-24.6544\", \"40.0495\", \"4.60987\", \"9.63701\", \"23.1333\", \"15.2976\", \"18.479\", \"-0.229498\", \"-18.1149\", \"0.38832\", \"41.71\", \"3.7523\", \"12.0653\", \"14.6248\", \"6.80461\", \"-6.19752\", \"35.6878\", \"33.3302\", \"17.9927\", \"31.9497\", \"51.1879\", \"33.8872\", \"32.8578\", \"14\", \"4.1742\", \"19.427\", \"7.11046\", \"42.0024\", \"42.4602\", \"3.12433\", \"-22.5648\", \"-12.0931\", \"-25.3005\", \"55.7558\", \"44.8024\", \"5.8232\", \"13.7308\", \"37.9509\", \"-21.136\", \"39.7153\", \"-8.6314877\", \"13.2035\", \"9.08165\", \"-13.8314\", \"42.565\", \"-25.746\"], \"legendgroup\": \"Upper middle income\", \"locations\": [\"Albania\", \"Argentina\", \"Armenia\", \"American Samoa\", \"Azerbaijan\", \"Bulgaria\", \"Bosnia and Herzegovina\", \"Belarus\", \"Belize\", \"Brazil\", \"Botswana\", \"China\", \"Colombia\", \"Costa Rica\", \"Cuba\", \"Dominica\", \"Dominican Republic\", \"Ecuador\", \"Fiji\", \"Gabon\", \"Georgia\", \"Equatorial Guinea\", \"Grenada\", \"Guatemala\", \"Guyana\", \"Indonesia\", \"Iran, Islamic Rep.\", \"Iraq\", \"Jamaica\", \"Jordan\", \"Kazakhstan\", \"Lebanon\", \"Libya\", \"St. Lucia\", \"Maldives\", \"Mexico\", \"Marshall Islands\", \"North Macedonia\", \"Montenegro\", \"Malaysia\", \"Namibia\", \"Peru\", \"Paraguay\", \"Russian Federation\", \"Serbia\", \"Suriname\", \"Thailand\", \"Turkmenistan\", \"Tonga\", \"Turkey\", \"Tuvalu\", \"St. Vincent and the Grenadines\", \"Venezuela, RB\", \"Samoa\", \"Kosovo\", \"South Africa\"], \"lon\": [\"19.8172\", \"-58.4173\", \"44.509\", \"-170.691\", \"49.8932\", \"23.3238\", \"18.4214\", \"27.5766\", \"-88.7713\", \"-47.9292\", \"25.9201\", \"116.286\", \"-74.082\", \"-84.0089\", \"-82.3667\", \"-61.39\", \"-69.8908\", \"-78.5243\", \"178.399\", \"9.45162\", \"44.793\", \"8.7741\", \"-61.7449\", \"-90.5328\", \"-58.1548\", \"106.83\", \"51.4447\", \"44.394\", \"-76.792\", \"35.9263\", \"71.4382\", \"35.5134\", \"13.1072\", \"-60.9832\", \"73.5109\", \"-99.1276\", \"171.135\", \"21.4361\", \"19.2595\", \"101.684\", \"17.0931\", \"-77.0465\", \"-57.6362\", \"37.6176\", \"20.4656\", \"-55.1679\", \"100.521\", \"58.3794\", \"-175.216\", \"32.3606\", \"179.089567\", \"-61.2653\", \"-69.8371\", \"-171.752\", \"20.926\", \"28.1871\"], \"marker\": {\"color\": \"#ab63fa\", \"symbol\": \"circle\"}, \"mode\": \"markers\", \"name\": \"Upper middle income\", \"showlegend\": true, \"type\": \"scattergeo\"}],                        {\"geo\": {\"center\": {}, \"domain\": {\"x\": [0.0, 1.0], \"y\": [0.0, 1.0]}}, \"legend\": {\"title\": {\"text\": \"Income\"}, \"tracegroupgap\": 0}, \"margin\": {\"t\": 60}, \"template\": {\"data\": {\"bar\": [{\"error_x\": {\"color\": \"#2a3f5f\"}, \"error_y\": {\"color\": \"#2a3f5f\"}, \"marker\": {\"line\": {\"color\": \"#E5ECF6\", \"width\": 0.5}}, \"type\": \"bar\"}], \"barpolar\": [{\"marker\": {\"line\": {\"color\": \"#E5ECF6\", \"width\": 0.5}}, \"type\": \"barpolar\"}], \"carpet\": [{\"aaxis\": {\"endlinecolor\": \"#2a3f5f\", \"gridcolor\": \"white\", \"linecolor\": \"white\", \"minorgridcolor\": \"white\", \"startlinecolor\": \"#2a3f5f\"}, \"baxis\": {\"endlinecolor\": \"#2a3f5f\", \"gridcolor\": \"white\", \"linecolor\": \"white\", \"minorgridcolor\": \"white\", \"startlinecolor\": \"#2a3f5f\"}, \"type\": \"carpet\"}], \"choropleth\": [{\"colorbar\": {\"outlinewidth\": 0, \"ticks\": \"\"}, \"type\": \"choropleth\"}], \"contour\": [{\"colorbar\": {\"outlinewidth\": 0, \"ticks\": \"\"}, \"colorscale\": [[0.0, \"#0d0887\"], [0.1111111111111111, \"#46039f\"], [0.2222222222222222, \"#7201a8\"], [0.3333333333333333, \"#9c179e\"], [0.4444444444444444, \"#bd3786\"], [0.5555555555555556, \"#d8576b\"], [0.6666666666666666, \"#ed7953\"], [0.7777777777777778, \"#fb9f3a\"], [0.8888888888888888, \"#fdca26\"], [1.0, \"#f0f921\"]], \"type\": \"contour\"}], \"contourcarpet\": [{\"colorbar\": {\"outlinewidth\": 0, \"ticks\": \"\"}, \"type\": \"contourcarpet\"}], \"heatmap\": [{\"colorbar\": {\"outlinewidth\": 0, \"ticks\": \"\"}, \"colorscale\": [[0.0, \"#0d0887\"], [0.1111111111111111, \"#46039f\"], [0.2222222222222222, \"#7201a8\"], [0.3333333333333333, \"#9c179e\"], [0.4444444444444444, \"#bd3786\"], [0.5555555555555556, \"#d8576b\"], [0.6666666666666666, \"#ed7953\"], [0.7777777777777778, \"#fb9f3a\"], [0.8888888888888888, \"#fdca26\"], [1.0, \"#f0f921\"]], \"type\": \"heatmap\"}], \"heatmapgl\": [{\"colorbar\": {\"outlinewidth\": 0, \"ticks\": \"\"}, \"colorscale\": [[0.0, \"#0d0887\"], [0.1111111111111111, \"#46039f\"], [0.2222222222222222, \"#7201a8\"], [0.3333333333333333, \"#9c179e\"], [0.4444444444444444, \"#bd3786\"], [0.5555555555555556, \"#d8576b\"], [0.6666666666666666, \"#ed7953\"], [0.7777777777777778, \"#fb9f3a\"], [0.8888888888888888, \"#fdca26\"], [1.0, \"#f0f921\"]], \"type\": \"heatmapgl\"}], \"histogram\": [{\"marker\": {\"colorbar\": {\"outlinewidth\": 0, \"ticks\": \"\"}}, \"type\": \"histogram\"}], \"histogram2d\": [{\"colorbar\": {\"outlinewidth\": 0, \"ticks\": \"\"}, \"colorscale\": [[0.0, \"#0d0887\"], [0.1111111111111111, \"#46039f\"], [0.2222222222222222, \"#7201a8\"], [0.3333333333333333, \"#9c179e\"], [0.4444444444444444, \"#bd3786\"], [0.5555555555555556, \"#d8576b\"], [0.6666666666666666, \"#ed7953\"], [0.7777777777777778, \"#fb9f3a\"], [0.8888888888888888, \"#fdca26\"], [1.0, \"#f0f921\"]], \"type\": \"histogram2d\"}], \"histogram2dcontour\": [{\"colorbar\": {\"outlinewidth\": 0, \"ticks\": \"\"}, \"colorscale\": [[0.0, \"#0d0887\"], [0.1111111111111111, \"#46039f\"], [0.2222222222222222, \"#7201a8\"], [0.3333333333333333, \"#9c179e\"], [0.4444444444444444, \"#bd3786\"], [0.5555555555555556, \"#d8576b\"], [0.6666666666666666, \"#ed7953\"], [0.7777777777777778, \"#fb9f3a\"], [0.8888888888888888, \"#fdca26\"], [1.0, \"#f0f921\"]], \"type\": \"histogram2dcontour\"}], \"mesh3d\": [{\"colorbar\": {\"outlinewidth\": 0, \"ticks\": \"\"}, \"type\": \"mesh3d\"}], \"parcoords\": [{\"line\": {\"colorbar\": {\"outlinewidth\": 0, \"ticks\": \"\"}}, \"type\": \"parcoords\"}], \"pie\": [{\"automargin\": true, \"type\": \"pie\"}], \"scatter\": [{\"marker\": {\"colorbar\": {\"outlinewidth\": 0, \"ticks\": \"\"}}, \"type\": \"scatter\"}], \"scatter3d\": [{\"line\": {\"colorbar\": {\"outlinewidth\": 0, \"ticks\": \"\"}}, \"marker\": {\"colorbar\": {\"outlinewidth\": 0, \"ticks\": \"\"}}, \"type\": \"scatter3d\"}], \"scattercarpet\": [{\"marker\": {\"colorbar\": {\"outlinewidth\": 0, \"ticks\": \"\"}}, \"type\": \"scattercarpet\"}], \"scattergeo\": [{\"marker\": {\"colorbar\": {\"outlinewidth\": 0, \"ticks\": \"\"}}, \"type\": \"scattergeo\"}], \"scattergl\": [{\"marker\": {\"colorbar\": {\"outlinewidth\": 0, \"ticks\": \"\"}}, \"type\": \"scattergl\"}], \"scattermapbox\": [{\"marker\": {\"colorbar\": {\"outlinewidth\": 0, \"ticks\": \"\"}}, \"type\": \"scattermapbox\"}], \"scatterpolar\": [{\"marker\": {\"colorbar\": {\"outlinewidth\": 0, \"ticks\": \"\"}}, \"type\": \"scatterpolar\"}], \"scatterpolargl\": [{\"marker\": {\"colorbar\": {\"outlinewidth\": 0, \"ticks\": \"\"}}, \"type\": \"scatterpolargl\"}], \"scatterternary\": [{\"marker\": {\"colorbar\": {\"outlinewidth\": 0, \"ticks\": \"\"}}, \"type\": \"scatterternary\"}], \"surface\": [{\"colorbar\": {\"outlinewidth\": 0, \"ticks\": \"\"}, \"colorscale\": [[0.0, \"#0d0887\"], [0.1111111111111111, \"#46039f\"], [0.2222222222222222, \"#7201a8\"], [0.3333333333333333, \"#9c179e\"], [0.4444444444444444, \"#bd3786\"], [0.5555555555555556, \"#d8576b\"], [0.6666666666666666, \"#ed7953\"], [0.7777777777777778, \"#fb9f3a\"], [0.8888888888888888, \"#fdca26\"], [1.0, \"#f0f921\"]], \"type\": \"surface\"}], \"table\": [{\"cells\": {\"fill\": {\"color\": \"#EBF0F8\"}, \"line\": {\"color\": \"white\"}}, \"header\": {\"fill\": {\"color\": \"#C8D4E3\"}, \"line\": {\"color\": \"white\"}}, \"type\": \"table\"}]}, \"layout\": {\"annotationdefaults\": {\"arrowcolor\": \"#2a3f5f\", \"arrowhead\": 0, \"arrowwidth\": 1}, \"coloraxis\": {\"colorbar\": {\"outlinewidth\": 0, \"ticks\": \"\"}}, \"colorscale\": {\"diverging\": [[0, \"#8e0152\"], [0.1, \"#c51b7d\"], [0.2, \"#de77ae\"], [0.3, \"#f1b6da\"], [0.4, \"#fde0ef\"], [0.5, \"#f7f7f7\"], [0.6, \"#e6f5d0\"], [0.7, \"#b8e186\"], [0.8, \"#7fbc41\"], [0.9, \"#4d9221\"], [1, \"#276419\"]], \"sequential\": [[0.0, \"#0d0887\"], [0.1111111111111111, \"#46039f\"], [0.2222222222222222, \"#7201a8\"], [0.3333333333333333, \"#9c179e\"], [0.4444444444444444, \"#bd3786\"], [0.5555555555555556, \"#d8576b\"], [0.6666666666666666, \"#ed7953\"], [0.7777777777777778, \"#fb9f3a\"], [0.8888888888888888, \"#fdca26\"], [1.0, \"#f0f921\"]], \"sequentialminus\": [[0.0, \"#0d0887\"], [0.1111111111111111, \"#46039f\"], [0.2222222222222222, \"#7201a8\"], [0.3333333333333333, \"#9c179e\"], [0.4444444444444444, \"#bd3786\"], [0.5555555555555556, \"#d8576b\"], [0.6666666666666666, \"#ed7953\"], [0.7777777777777778, \"#fb9f3a\"], [0.8888888888888888, \"#fdca26\"], [1.0, \"#f0f921\"]]}, \"colorway\": [\"#636efa\", \"#EF553B\", \"#00cc96\", \"#ab63fa\", \"#FFA15A\", \"#19d3f3\", \"#FF6692\", \"#B6E880\", \"#FF97FF\", \"#FECB52\"], \"font\": {\"color\": \"#2a3f5f\"}, \"geo\": {\"bgcolor\": \"white\", \"lakecolor\": \"white\", \"landcolor\": \"#E5ECF6\", \"showlakes\": true, \"showland\": true, \"subunitcolor\": \"white\"}, \"hoverlabel\": {\"align\": \"left\"}, \"hovermode\": \"closest\", \"mapbox\": {\"style\": \"light\"}, \"paper_bgcolor\": \"white\", \"plot_bgcolor\": \"#E5ECF6\", \"polar\": {\"angularaxis\": {\"gridcolor\": \"white\", \"linecolor\": \"white\", \"ticks\": \"\"}, \"bgcolor\": \"#E5ECF6\", \"radialaxis\": {\"gridcolor\": \"white\", \"linecolor\": \"white\", \"ticks\": \"\"}}, \"scene\": {\"xaxis\": {\"backgroundcolor\": \"#E5ECF6\", \"gridcolor\": \"white\", \"gridwidth\": 2, \"linecolor\": \"white\", \"showbackground\": true, \"ticks\": \"\", \"zerolinecolor\": \"white\"}, \"yaxis\": {\"backgroundcolor\": \"#E5ECF6\", \"gridcolor\": \"white\", \"gridwidth\": 2, \"linecolor\": \"white\", \"showbackground\": true, \"ticks\": \"\", \"zerolinecolor\": \"white\"}, \"zaxis\": {\"backgroundcolor\": \"#E5ECF6\", \"gridcolor\": \"white\", \"gridwidth\": 2, \"linecolor\": \"white\", \"showbackground\": true, \"ticks\": \"\", \"zerolinecolor\": \"white\"}}, \"shapedefaults\": {\"line\": {\"color\": \"#2a3f5f\"}}, \"ternary\": {\"aaxis\": {\"gridcolor\": \"white\", \"linecolor\": \"white\", \"ticks\": \"\"}, \"baxis\": {\"gridcolor\": \"white\", \"linecolor\": \"white\", \"ticks\": \"\"}, \"bgcolor\": \"#E5ECF6\", \"caxis\": {\"gridcolor\": \"white\", \"linecolor\": \"white\", \"ticks\": \"\"}}, \"title\": {\"x\": 0.05}, \"xaxis\": {\"automargin\": true, \"gridcolor\": \"white\", \"linecolor\": \"white\", \"ticks\": \"\", \"title\": {\"standoff\": 15}, \"zerolinecolor\": \"white\", \"zerolinewidth\": 2}, \"yaxis\": {\"automargin\": true, \"gridcolor\": \"white\", \"linecolor\": \"white\", \"ticks\": \"\", \"title\": {\"standoff\": 15}, \"zerolinecolor\": \"white\", \"zerolinewidth\": 2}}}},                        {\"responsive\": true}                    ).then(function(){\n",
       "                            \n",
       "var gd = document.getElementById('9db1eeea-d3b5-4628-a16c-13be7f4c5842');\n",
       "var x = new MutationObserver(function (mutations, observer) {{\n",
       "        var display = window.getComputedStyle(gd).display;\n",
       "        if (!display || display === 'none') {{\n",
       "            console.log([gd, 'removed!']);\n",
       "            Plotly.purge(gd);\n",
       "            observer.disconnect();\n",
       "        }}\n",
       "}});\n",
       "\n",
       "// Listen for the removal of the full notebook cells\n",
       "var notebookContainer = gd.closest('#notebook-container');\n",
       "if (notebookContainer) {{\n",
       "    x.observe(notebookContainer, {childList: true});\n",
       "}}\n",
       "\n",
       "// Listen for the clearing of the current output cell\n",
       "var outputEl = gd.closest('.output');\n",
       "if (outputEl) {{\n",
       "    x.observe(outputEl, {childList: true});\n",
       "}}\n",
       "\n",
       "                        })                };                });            </script>        </div>"
      ]
     },
     "metadata": {},
     "output_type": "display_data"
    }
   ],
   "source": [
    "fig2 = px.scatter_geo(df2,lat='latitude',lon='longitude',\n",
    "                      locations='name',color='Income',\n",
    "             )\n",
    "fig2.show()"
   ]
  },
  {
   "cell_type": "code",
   "execution_count": 58,
   "metadata": {
    "ExecuteTime": {
     "end_time": "2020-12-29T14:04:10.549928Z",
     "start_time": "2020-12-29T14:04:10.405578Z"
    }
   },
   "outputs": [
    {
     "data": {
      "application/vnd.plotly.v1+json": {
       "config": {
        "plotlyServerURL": "https://plot.ly"
       },
       "data": [
        {
         "colorscale": [
          [
           0,
           "#636efa"
          ],
          [
           1,
           "#636efa"
          ]
         ],
         "hovertemplate": "Income=High income<br>name=%{location}<extra></extra>",
         "locations": [
          "Aruba",
          "Andorra",
          "United Arab Emirates",
          "Antigua and Barbuda",
          "Australia",
          "Austria",
          "Belgium",
          "Bahrain",
          "Bahamas, The",
          "Bermuda",
          "Barbados",
          "Brunei Darussalam",
          "Canada",
          "Switzerland",
          "Channel Islands",
          "Chile",
          "Curacao",
          "Cayman Islands",
          "Cyprus",
          "Czech Republic",
          "Germany",
          "Denmark",
          "Spain",
          "Estonia",
          "Finland",
          "France",
          "Faroe Islands",
          "United Kingdom",
          "Gibraltar",
          "Greece",
          "Greenland",
          "Guam",
          "Hong Kong SAR, China",
          "Croatia",
          "Hungary",
          "Isle of Man",
          "Ireland",
          "Iceland",
          "Israel",
          "Italy",
          "Japan",
          "St. Kitts and Nevis",
          "Korea, Rep.",
          "Kuwait",
          "Liechtenstein",
          "Lithuania",
          "Luxembourg",
          "Latvia",
          "Macao SAR, China",
          "St. Martin (French part)",
          "Monaco",
          "Malta",
          "Northern Mariana Islands",
          "Mauritius",
          "New Caledonia",
          "Netherlands",
          "Norway",
          "Nauru",
          "New Zealand",
          "Oman",
          "Panama",
          "Palau",
          "Poland",
          "Puerto Rico",
          "Portugal",
          "French Polynesia",
          "Qatar",
          "Romania",
          "Saudi Arabia",
          "Singapore",
          "San Marino",
          "Slovak Republic",
          "Slovenia",
          "Sweden",
          "Sint Maarten (Dutch part)",
          "Seychelles",
          "Turks and Caicos Islands",
          "Trinidad and Tobago",
          "Taiwan, China",
          "Uruguay",
          "United States",
          "British Virgin Islands",
          "Virgin Islands (U.S.)"
         ],
         "name": "High income",
         "showlegend": true,
         "showscale": false,
         "subplot": "mapbox",
         "type": "choroplethmapbox",
         "z": [
          1,
          1,
          1,
          1,
          1,
          1,
          1,
          1,
          1,
          1,
          1,
          1,
          1,
          1,
          1,
          1,
          1,
          1,
          1,
          1,
          1,
          1,
          1,
          1,
          1,
          1,
          1,
          1,
          1,
          1,
          1,
          1,
          1,
          1,
          1,
          1,
          1,
          1,
          1,
          1,
          1,
          1,
          1,
          1,
          1,
          1,
          1,
          1,
          1,
          1,
          1,
          1,
          1,
          1,
          1,
          1,
          1,
          1,
          1,
          1,
          1,
          1,
          1,
          1,
          1,
          1,
          1,
          1,
          1,
          1,
          1,
          1,
          1,
          1,
          1,
          1,
          1,
          1,
          1,
          1,
          1,
          1,
          1
         ]
        },
        {
         "colorscale": [
          [
           0,
           "#EF553B"
          ],
          [
           1,
           "#EF553B"
          ]
         ],
         "hovertemplate": "Income=Low income<br>name=%{location}<extra></extra>",
         "locations": [
          "Afghanistan",
          "Burundi",
          "Burkina Faso",
          "Central African Republic",
          "Congo, Dem. Rep.",
          "Eritrea",
          "Ethiopia",
          "Guinea",
          "Gambia, The",
          "Guinea-Bissau",
          "Haiti",
          "Liberia",
          "Madagascar",
          "Mali",
          "Mozambique",
          "Malawi",
          "Niger",
          "Korea, Dem. People’s Rep.",
          "Rwanda",
          "Sudan",
          "Sierra Leone",
          "Somalia",
          "South Sudan",
          "Syrian Arab Republic",
          "Chad",
          "Togo",
          "Tajikistan",
          "Uganda",
          "Yemen, Rep."
         ],
         "name": "Low income",
         "showlegend": true,
         "showscale": false,
         "subplot": "mapbox",
         "type": "choroplethmapbox",
         "z": [
          1,
          1,
          1,
          1,
          1,
          1,
          1,
          1,
          1,
          1,
          1,
          1,
          1,
          1,
          1,
          1,
          1,
          1,
          1,
          1,
          1,
          1,
          1,
          1,
          1,
          1,
          1,
          1,
          1
         ]
        },
        {
         "colorscale": [
          [
           0,
           "#00cc96"
          ],
          [
           1,
           "#00cc96"
          ]
         ],
         "hovertemplate": "Income=Lower middle income<br>name=%{location}<extra></extra>",
         "locations": [
          "Angola",
          "Benin",
          "Bangladesh",
          "Bolivia",
          "Bhutan",
          "Cote d'Ivoire",
          "Cameroon",
          "Congo, Rep.",
          "Comoros",
          "Cabo Verde",
          "Djibouti",
          "Algeria",
          "Egypt, Arab Rep.",
          "Micronesia, Fed. Sts.",
          "Ghana",
          "Honduras",
          "India",
          "Kenya",
          "Kyrgyz Republic",
          "Cambodia",
          "Kiribati",
          "Lao PDR",
          "Sri Lanka",
          "Lesotho",
          "Morocco",
          "Moldova",
          "Myanmar",
          "Mongolia",
          "Mauritania",
          "Nigeria",
          "Nicaragua",
          "Nepal",
          "Pakistan",
          "Philippines",
          "Papua New Guinea",
          "West Bank and Gaza",
          "Senegal",
          "Solomon Islands",
          "El Salvador",
          "Sao Tome and Principe",
          "Eswatini",
          "Timor-Leste",
          "Tunisia",
          "Tanzania",
          "Ukraine",
          "Uzbekistan",
          "Vietnam",
          "Vanuatu",
          "Zambia",
          "Zimbabwe"
         ],
         "name": "Lower middle income",
         "showlegend": true,
         "showscale": false,
         "subplot": "mapbox",
         "type": "choroplethmapbox",
         "z": [
          1,
          1,
          1,
          1,
          1,
          1,
          1,
          1,
          1,
          1,
          1,
          1,
          1,
          1,
          1,
          1,
          1,
          1,
          1,
          1,
          1,
          1,
          1,
          1,
          1,
          1,
          1,
          1,
          1,
          1,
          1,
          1,
          1,
          1,
          1,
          1,
          1,
          1,
          1,
          1,
          1,
          1,
          1,
          1,
          1,
          1,
          1,
          1,
          1,
          1
         ]
        },
        {
         "colorscale": [
          [
           0,
           "#ab63fa"
          ],
          [
           1,
           "#ab63fa"
          ]
         ],
         "hovertemplate": "Income=Upper middle income<br>name=%{location}<extra></extra>",
         "locations": [
          "Albania",
          "Argentina",
          "Armenia",
          "American Samoa",
          "Azerbaijan",
          "Bulgaria",
          "Bosnia and Herzegovina",
          "Belarus",
          "Belize",
          "Brazil",
          "Botswana",
          "China",
          "Colombia",
          "Costa Rica",
          "Cuba",
          "Dominica",
          "Dominican Republic",
          "Ecuador",
          "Fiji",
          "Gabon",
          "Georgia",
          "Equatorial Guinea",
          "Grenada",
          "Guatemala",
          "Guyana",
          "Indonesia",
          "Iran, Islamic Rep.",
          "Iraq",
          "Jamaica",
          "Jordan",
          "Kazakhstan",
          "Lebanon",
          "Libya",
          "St. Lucia",
          "Maldives",
          "Mexico",
          "Marshall Islands",
          "North Macedonia",
          "Montenegro",
          "Malaysia",
          "Namibia",
          "Peru",
          "Paraguay",
          "Russian Federation",
          "Serbia",
          "Suriname",
          "Thailand",
          "Turkmenistan",
          "Tonga",
          "Turkey",
          "Tuvalu",
          "St. Vincent and the Grenadines",
          "Venezuela, RB",
          "Samoa",
          "Kosovo",
          "South Africa"
         ],
         "name": "Upper middle income",
         "showlegend": true,
         "showscale": false,
         "subplot": "mapbox",
         "type": "choroplethmapbox",
         "z": [
          1,
          1,
          1,
          1,
          1,
          1,
          1,
          1,
          1,
          1,
          1,
          1,
          1,
          1,
          1,
          1,
          1,
          1,
          1,
          1,
          1,
          1,
          1,
          1,
          1,
          1,
          1,
          1,
          1,
          1,
          1,
          1,
          1,
          1,
          1,
          1,
          1,
          1,
          1,
          1,
          1,
          1,
          1,
          1,
          1,
          1,
          1,
          1,
          1,
          1,
          1,
          1,
          1,
          1,
          1,
          1
         ]
        }
       ],
       "layout": {
        "legend": {
         "title": {
          "text": "Income"
         },
         "tracegroupgap": 0
        },
        "mapbox": {
         "center": {},
         "domain": {
          "x": [
           0,
           1
          ],
          "y": [
           0,
           1
          ]
         },
         "zoom": 8
        },
        "margin": {
         "t": 60
        },
        "template": {
         "data": {
          "bar": [
           {
            "error_x": {
             "color": "#2a3f5f"
            },
            "error_y": {
             "color": "#2a3f5f"
            },
            "marker": {
             "line": {
              "color": "#E5ECF6",
              "width": 0.5
             }
            },
            "type": "bar"
           }
          ],
          "barpolar": [
           {
            "marker": {
             "line": {
              "color": "#E5ECF6",
              "width": 0.5
             }
            },
            "type": "barpolar"
           }
          ],
          "carpet": [
           {
            "aaxis": {
             "endlinecolor": "#2a3f5f",
             "gridcolor": "white",
             "linecolor": "white",
             "minorgridcolor": "white",
             "startlinecolor": "#2a3f5f"
            },
            "baxis": {
             "endlinecolor": "#2a3f5f",
             "gridcolor": "white",
             "linecolor": "white",
             "minorgridcolor": "white",
             "startlinecolor": "#2a3f5f"
            },
            "type": "carpet"
           }
          ],
          "choropleth": [
           {
            "colorbar": {
             "outlinewidth": 0,
             "ticks": ""
            },
            "type": "choropleth"
           }
          ],
          "contour": [
           {
            "colorbar": {
             "outlinewidth": 0,
             "ticks": ""
            },
            "colorscale": [
             [
              0,
              "#0d0887"
             ],
             [
              0.1111111111111111,
              "#46039f"
             ],
             [
              0.2222222222222222,
              "#7201a8"
             ],
             [
              0.3333333333333333,
              "#9c179e"
             ],
             [
              0.4444444444444444,
              "#bd3786"
             ],
             [
              0.5555555555555556,
              "#d8576b"
             ],
             [
              0.6666666666666666,
              "#ed7953"
             ],
             [
              0.7777777777777778,
              "#fb9f3a"
             ],
             [
              0.8888888888888888,
              "#fdca26"
             ],
             [
              1,
              "#f0f921"
             ]
            ],
            "type": "contour"
           }
          ],
          "contourcarpet": [
           {
            "colorbar": {
             "outlinewidth": 0,
             "ticks": ""
            },
            "type": "contourcarpet"
           }
          ],
          "heatmap": [
           {
            "colorbar": {
             "outlinewidth": 0,
             "ticks": ""
            },
            "colorscale": [
             [
              0,
              "#0d0887"
             ],
             [
              0.1111111111111111,
              "#46039f"
             ],
             [
              0.2222222222222222,
              "#7201a8"
             ],
             [
              0.3333333333333333,
              "#9c179e"
             ],
             [
              0.4444444444444444,
              "#bd3786"
             ],
             [
              0.5555555555555556,
              "#d8576b"
             ],
             [
              0.6666666666666666,
              "#ed7953"
             ],
             [
              0.7777777777777778,
              "#fb9f3a"
             ],
             [
              0.8888888888888888,
              "#fdca26"
             ],
             [
              1,
              "#f0f921"
             ]
            ],
            "type": "heatmap"
           }
          ],
          "heatmapgl": [
           {
            "colorbar": {
             "outlinewidth": 0,
             "ticks": ""
            },
            "colorscale": [
             [
              0,
              "#0d0887"
             ],
             [
              0.1111111111111111,
              "#46039f"
             ],
             [
              0.2222222222222222,
              "#7201a8"
             ],
             [
              0.3333333333333333,
              "#9c179e"
             ],
             [
              0.4444444444444444,
              "#bd3786"
             ],
             [
              0.5555555555555556,
              "#d8576b"
             ],
             [
              0.6666666666666666,
              "#ed7953"
             ],
             [
              0.7777777777777778,
              "#fb9f3a"
             ],
             [
              0.8888888888888888,
              "#fdca26"
             ],
             [
              1,
              "#f0f921"
             ]
            ],
            "type": "heatmapgl"
           }
          ],
          "histogram": [
           {
            "marker": {
             "colorbar": {
              "outlinewidth": 0,
              "ticks": ""
             }
            },
            "type": "histogram"
           }
          ],
          "histogram2d": [
           {
            "colorbar": {
             "outlinewidth": 0,
             "ticks": ""
            },
            "colorscale": [
             [
              0,
              "#0d0887"
             ],
             [
              0.1111111111111111,
              "#46039f"
             ],
             [
              0.2222222222222222,
              "#7201a8"
             ],
             [
              0.3333333333333333,
              "#9c179e"
             ],
             [
              0.4444444444444444,
              "#bd3786"
             ],
             [
              0.5555555555555556,
              "#d8576b"
             ],
             [
              0.6666666666666666,
              "#ed7953"
             ],
             [
              0.7777777777777778,
              "#fb9f3a"
             ],
             [
              0.8888888888888888,
              "#fdca26"
             ],
             [
              1,
              "#f0f921"
             ]
            ],
            "type": "histogram2d"
           }
          ],
          "histogram2dcontour": [
           {
            "colorbar": {
             "outlinewidth": 0,
             "ticks": ""
            },
            "colorscale": [
             [
              0,
              "#0d0887"
             ],
             [
              0.1111111111111111,
              "#46039f"
             ],
             [
              0.2222222222222222,
              "#7201a8"
             ],
             [
              0.3333333333333333,
              "#9c179e"
             ],
             [
              0.4444444444444444,
              "#bd3786"
             ],
             [
              0.5555555555555556,
              "#d8576b"
             ],
             [
              0.6666666666666666,
              "#ed7953"
             ],
             [
              0.7777777777777778,
              "#fb9f3a"
             ],
             [
              0.8888888888888888,
              "#fdca26"
             ],
             [
              1,
              "#f0f921"
             ]
            ],
            "type": "histogram2dcontour"
           }
          ],
          "mesh3d": [
           {
            "colorbar": {
             "outlinewidth": 0,
             "ticks": ""
            },
            "type": "mesh3d"
           }
          ],
          "parcoords": [
           {
            "line": {
             "colorbar": {
              "outlinewidth": 0,
              "ticks": ""
             }
            },
            "type": "parcoords"
           }
          ],
          "pie": [
           {
            "automargin": true,
            "type": "pie"
           }
          ],
          "scatter": [
           {
            "marker": {
             "colorbar": {
              "outlinewidth": 0,
              "ticks": ""
             }
            },
            "type": "scatter"
           }
          ],
          "scatter3d": [
           {
            "line": {
             "colorbar": {
              "outlinewidth": 0,
              "ticks": ""
             }
            },
            "marker": {
             "colorbar": {
              "outlinewidth": 0,
              "ticks": ""
             }
            },
            "type": "scatter3d"
           }
          ],
          "scattercarpet": [
           {
            "marker": {
             "colorbar": {
              "outlinewidth": 0,
              "ticks": ""
             }
            },
            "type": "scattercarpet"
           }
          ],
          "scattergeo": [
           {
            "marker": {
             "colorbar": {
              "outlinewidth": 0,
              "ticks": ""
             }
            },
            "type": "scattergeo"
           }
          ],
          "scattergl": [
           {
            "marker": {
             "colorbar": {
              "outlinewidth": 0,
              "ticks": ""
             }
            },
            "type": "scattergl"
           }
          ],
          "scattermapbox": [
           {
            "marker": {
             "colorbar": {
              "outlinewidth": 0,
              "ticks": ""
             }
            },
            "type": "scattermapbox"
           }
          ],
          "scatterpolar": [
           {
            "marker": {
             "colorbar": {
              "outlinewidth": 0,
              "ticks": ""
             }
            },
            "type": "scatterpolar"
           }
          ],
          "scatterpolargl": [
           {
            "marker": {
             "colorbar": {
              "outlinewidth": 0,
              "ticks": ""
             }
            },
            "type": "scatterpolargl"
           }
          ],
          "scatterternary": [
           {
            "marker": {
             "colorbar": {
              "outlinewidth": 0,
              "ticks": ""
             }
            },
            "type": "scatterternary"
           }
          ],
          "surface": [
           {
            "colorbar": {
             "outlinewidth": 0,
             "ticks": ""
            },
            "colorscale": [
             [
              0,
              "#0d0887"
             ],
             [
              0.1111111111111111,
              "#46039f"
             ],
             [
              0.2222222222222222,
              "#7201a8"
             ],
             [
              0.3333333333333333,
              "#9c179e"
             ],
             [
              0.4444444444444444,
              "#bd3786"
             ],
             [
              0.5555555555555556,
              "#d8576b"
             ],
             [
              0.6666666666666666,
              "#ed7953"
             ],
             [
              0.7777777777777778,
              "#fb9f3a"
             ],
             [
              0.8888888888888888,
              "#fdca26"
             ],
             [
              1,
              "#f0f921"
             ]
            ],
            "type": "surface"
           }
          ],
          "table": [
           {
            "cells": {
             "fill": {
              "color": "#EBF0F8"
             },
             "line": {
              "color": "white"
             }
            },
            "header": {
             "fill": {
              "color": "#C8D4E3"
             },
             "line": {
              "color": "white"
             }
            },
            "type": "table"
           }
          ]
         },
         "layout": {
          "annotationdefaults": {
           "arrowcolor": "#2a3f5f",
           "arrowhead": 0,
           "arrowwidth": 1
          },
          "coloraxis": {
           "colorbar": {
            "outlinewidth": 0,
            "ticks": ""
           }
          },
          "colorscale": {
           "diverging": [
            [
             0,
             "#8e0152"
            ],
            [
             0.1,
             "#c51b7d"
            ],
            [
             0.2,
             "#de77ae"
            ],
            [
             0.3,
             "#f1b6da"
            ],
            [
             0.4,
             "#fde0ef"
            ],
            [
             0.5,
             "#f7f7f7"
            ],
            [
             0.6,
             "#e6f5d0"
            ],
            [
             0.7,
             "#b8e186"
            ],
            [
             0.8,
             "#7fbc41"
            ],
            [
             0.9,
             "#4d9221"
            ],
            [
             1,
             "#276419"
            ]
           ],
           "sequential": [
            [
             0,
             "#0d0887"
            ],
            [
             0.1111111111111111,
             "#46039f"
            ],
            [
             0.2222222222222222,
             "#7201a8"
            ],
            [
             0.3333333333333333,
             "#9c179e"
            ],
            [
             0.4444444444444444,
             "#bd3786"
            ],
            [
             0.5555555555555556,
             "#d8576b"
            ],
            [
             0.6666666666666666,
             "#ed7953"
            ],
            [
             0.7777777777777778,
             "#fb9f3a"
            ],
            [
             0.8888888888888888,
             "#fdca26"
            ],
            [
             1,
             "#f0f921"
            ]
           ],
           "sequentialminus": [
            [
             0,
             "#0d0887"
            ],
            [
             0.1111111111111111,
             "#46039f"
            ],
            [
             0.2222222222222222,
             "#7201a8"
            ],
            [
             0.3333333333333333,
             "#9c179e"
            ],
            [
             0.4444444444444444,
             "#bd3786"
            ],
            [
             0.5555555555555556,
             "#d8576b"
            ],
            [
             0.6666666666666666,
             "#ed7953"
            ],
            [
             0.7777777777777778,
             "#fb9f3a"
            ],
            [
             0.8888888888888888,
             "#fdca26"
            ],
            [
             1,
             "#f0f921"
            ]
           ]
          },
          "colorway": [
           "#636efa",
           "#EF553B",
           "#00cc96",
           "#ab63fa",
           "#FFA15A",
           "#19d3f3",
           "#FF6692",
           "#B6E880",
           "#FF97FF",
           "#FECB52"
          ],
          "font": {
           "color": "#2a3f5f"
          },
          "geo": {
           "bgcolor": "white",
           "lakecolor": "white",
           "landcolor": "#E5ECF6",
           "showlakes": true,
           "showland": true,
           "subunitcolor": "white"
          },
          "hoverlabel": {
           "align": "left"
          },
          "hovermode": "closest",
          "mapbox": {
           "style": "light"
          },
          "paper_bgcolor": "white",
          "plot_bgcolor": "#E5ECF6",
          "polar": {
           "angularaxis": {
            "gridcolor": "white",
            "linecolor": "white",
            "ticks": ""
           },
           "bgcolor": "#E5ECF6",
           "radialaxis": {
            "gridcolor": "white",
            "linecolor": "white",
            "ticks": ""
           }
          },
          "scene": {
           "xaxis": {
            "backgroundcolor": "#E5ECF6",
            "gridcolor": "white",
            "gridwidth": 2,
            "linecolor": "white",
            "showbackground": true,
            "ticks": "",
            "zerolinecolor": "white"
           },
           "yaxis": {
            "backgroundcolor": "#E5ECF6",
            "gridcolor": "white",
            "gridwidth": 2,
            "linecolor": "white",
            "showbackground": true,
            "ticks": "",
            "zerolinecolor": "white"
           },
           "zaxis": {
            "backgroundcolor": "#E5ECF6",
            "gridcolor": "white",
            "gridwidth": 2,
            "linecolor": "white",
            "showbackground": true,
            "ticks": "",
            "zerolinecolor": "white"
           }
          },
          "shapedefaults": {
           "line": {
            "color": "#2a3f5f"
           }
          },
          "ternary": {
           "aaxis": {
            "gridcolor": "white",
            "linecolor": "white",
            "ticks": ""
           },
           "baxis": {
            "gridcolor": "white",
            "linecolor": "white",
            "ticks": ""
           },
           "bgcolor": "#E5ECF6",
           "caxis": {
            "gridcolor": "white",
            "linecolor": "white",
            "ticks": ""
           }
          },
          "title": {
           "x": 0.05
          },
          "xaxis": {
           "automargin": true,
           "gridcolor": "white",
           "linecolor": "white",
           "ticks": "",
           "title": {
            "standoff": 15
           },
           "zerolinecolor": "white",
           "zerolinewidth": 2
          },
          "yaxis": {
           "automargin": true,
           "gridcolor": "white",
           "linecolor": "white",
           "ticks": "",
           "title": {
            "standoff": 15
           },
           "zerolinecolor": "white",
           "zerolinewidth": 2
          }
         }
        }
       }
      },
      "text/html": [
       "<div>                            <div id=\"869ea364-bfb2-4214-a937-94fb7ef165c9\" class=\"plotly-graph-div\" style=\"height:525px; width:100%;\"></div>            <script type=\"text/javascript\">                require([\"plotly\"], function(Plotly) {                    window.PLOTLYENV=window.PLOTLYENV || {};                                    if (document.getElementById(\"869ea364-bfb2-4214-a937-94fb7ef165c9\")) {                    Plotly.newPlot(                        \"869ea364-bfb2-4214-a937-94fb7ef165c9\",                        [{\"colorscale\": [[0.0, \"#636efa\"], [1.0, \"#636efa\"]], \"hovertemplate\": \"Income=High income<br>name=%{location}<extra></extra>\", \"locations\": [\"Aruba\", \"Andorra\", \"United Arab Emirates\", \"Antigua and Barbuda\", \"Australia\", \"Austria\", \"Belgium\", \"Bahrain\", \"Bahamas, The\", \"Bermuda\", \"Barbados\", \"Brunei Darussalam\", \"Canada\", \"Switzerland\", \"Channel Islands\", \"Chile\", \"Curacao\", \"Cayman Islands\", \"Cyprus\", \"Czech Republic\", \"Germany\", \"Denmark\", \"Spain\", \"Estonia\", \"Finland\", \"France\", \"Faroe Islands\", \"United Kingdom\", \"Gibraltar\", \"Greece\", \"Greenland\", \"Guam\", \"Hong Kong SAR, China\", \"Croatia\", \"Hungary\", \"Isle of Man\", \"Ireland\", \"Iceland\", \"Israel\", \"Italy\", \"Japan\", \"St. Kitts and Nevis\", \"Korea, Rep.\", \"Kuwait\", \"Liechtenstein\", \"Lithuania\", \"Luxembourg\", \"Latvia\", \"Macao SAR, China\", \"St. Martin (French part)\", \"Monaco\", \"Malta\", \"Northern Mariana Islands\", \"Mauritius\", \"New Caledonia\", \"Netherlands\", \"Norway\", \"Nauru\", \"New Zealand\", \"Oman\", \"Panama\", \"Palau\", \"Poland\", \"Puerto Rico\", \"Portugal\", \"French Polynesia\", \"Qatar\", \"Romania\", \"Saudi Arabia\", \"Singapore\", \"San Marino\", \"Slovak Republic\", \"Slovenia\", \"Sweden\", \"Sint Maarten (Dutch part)\", \"Seychelles\", \"Turks and Caicos Islands\", \"Trinidad and Tobago\", \"Taiwan, China\", \"Uruguay\", \"United States\", \"British Virgin Islands\", \"Virgin Islands (U.S.)\"], \"name\": \"High income\", \"showlegend\": true, \"showscale\": false, \"subplot\": \"mapbox\", \"type\": \"choroplethmapbox\", \"z\": [1, 1, 1, 1, 1, 1, 1, 1, 1, 1, 1, 1, 1, 1, 1, 1, 1, 1, 1, 1, 1, 1, 1, 1, 1, 1, 1, 1, 1, 1, 1, 1, 1, 1, 1, 1, 1, 1, 1, 1, 1, 1, 1, 1, 1, 1, 1, 1, 1, 1, 1, 1, 1, 1, 1, 1, 1, 1, 1, 1, 1, 1, 1, 1, 1, 1, 1, 1, 1, 1, 1, 1, 1, 1, 1, 1, 1, 1, 1, 1, 1, 1, 1]}, {\"colorscale\": [[0.0, \"#EF553B\"], [1.0, \"#EF553B\"]], \"hovertemplate\": \"Income=Low income<br>name=%{location}<extra></extra>\", \"locations\": [\"Afghanistan\", \"Burundi\", \"Burkina Faso\", \"Central African Republic\", \"Congo, Dem. Rep.\", \"Eritrea\", \"Ethiopia\", \"Guinea\", \"Gambia, The\", \"Guinea-Bissau\", \"Haiti\", \"Liberia\", \"Madagascar\", \"Mali\", \"Mozambique\", \"Malawi\", \"Niger\", \"Korea, Dem. People\\u2019s Rep.\", \"Rwanda\", \"Sudan\", \"Sierra Leone\", \"Somalia\", \"South Sudan\", \"Syrian Arab Republic\", \"Chad\", \"Togo\", \"Tajikistan\", \"Uganda\", \"Yemen, Rep.\"], \"name\": \"Low income\", \"showlegend\": true, \"showscale\": false, \"subplot\": \"mapbox\", \"type\": \"choroplethmapbox\", \"z\": [1, 1, 1, 1, 1, 1, 1, 1, 1, 1, 1, 1, 1, 1, 1, 1, 1, 1, 1, 1, 1, 1, 1, 1, 1, 1, 1, 1, 1]}, {\"colorscale\": [[0.0, \"#00cc96\"], [1.0, \"#00cc96\"]], \"hovertemplate\": \"Income=Lower middle income<br>name=%{location}<extra></extra>\", \"locations\": [\"Angola\", \"Benin\", \"Bangladesh\", \"Bolivia\", \"Bhutan\", \"Cote d'Ivoire\", \"Cameroon\", \"Congo, Rep.\", \"Comoros\", \"Cabo Verde\", \"Djibouti\", \"Algeria\", \"Egypt, Arab Rep.\", \"Micronesia, Fed. Sts.\", \"Ghana\", \"Honduras\", \"India\", \"Kenya\", \"Kyrgyz Republic\", \"Cambodia\", \"Kiribati\", \"Lao PDR\", \"Sri Lanka\", \"Lesotho\", \"Morocco\", \"Moldova\", \"Myanmar\", \"Mongolia\", \"Mauritania\", \"Nigeria\", \"Nicaragua\", \"Nepal\", \"Pakistan\", \"Philippines\", \"Papua New Guinea\", \"West Bank and Gaza\", \"Senegal\", \"Solomon Islands\", \"El Salvador\", \"Sao Tome and Principe\", \"Eswatini\", \"Timor-Leste\", \"Tunisia\", \"Tanzania\", \"Ukraine\", \"Uzbekistan\", \"Vietnam\", \"Vanuatu\", \"Zambia\", \"Zimbabwe\"], \"name\": \"Lower middle income\", \"showlegend\": true, \"showscale\": false, \"subplot\": \"mapbox\", \"type\": \"choroplethmapbox\", \"z\": [1, 1, 1, 1, 1, 1, 1, 1, 1, 1, 1, 1, 1, 1, 1, 1, 1, 1, 1, 1, 1, 1, 1, 1, 1, 1, 1, 1, 1, 1, 1, 1, 1, 1, 1, 1, 1, 1, 1, 1, 1, 1, 1, 1, 1, 1, 1, 1, 1, 1]}, {\"colorscale\": [[0.0, \"#ab63fa\"], [1.0, \"#ab63fa\"]], \"hovertemplate\": \"Income=Upper middle income<br>name=%{location}<extra></extra>\", \"locations\": [\"Albania\", \"Argentina\", \"Armenia\", \"American Samoa\", \"Azerbaijan\", \"Bulgaria\", \"Bosnia and Herzegovina\", \"Belarus\", \"Belize\", \"Brazil\", \"Botswana\", \"China\", \"Colombia\", \"Costa Rica\", \"Cuba\", \"Dominica\", \"Dominican Republic\", \"Ecuador\", \"Fiji\", \"Gabon\", \"Georgia\", \"Equatorial Guinea\", \"Grenada\", \"Guatemala\", \"Guyana\", \"Indonesia\", \"Iran, Islamic Rep.\", \"Iraq\", \"Jamaica\", \"Jordan\", \"Kazakhstan\", \"Lebanon\", \"Libya\", \"St. Lucia\", \"Maldives\", \"Mexico\", \"Marshall Islands\", \"North Macedonia\", \"Montenegro\", \"Malaysia\", \"Namibia\", \"Peru\", \"Paraguay\", \"Russian Federation\", \"Serbia\", \"Suriname\", \"Thailand\", \"Turkmenistan\", \"Tonga\", \"Turkey\", \"Tuvalu\", \"St. Vincent and the Grenadines\", \"Venezuela, RB\", \"Samoa\", \"Kosovo\", \"South Africa\"], \"name\": \"Upper middle income\", \"showlegend\": true, \"showscale\": false, \"subplot\": \"mapbox\", \"type\": \"choroplethmapbox\", \"z\": [1, 1, 1, 1, 1, 1, 1, 1, 1, 1, 1, 1, 1, 1, 1, 1, 1, 1, 1, 1, 1, 1, 1, 1, 1, 1, 1, 1, 1, 1, 1, 1, 1, 1, 1, 1, 1, 1, 1, 1, 1, 1, 1, 1, 1, 1, 1, 1, 1, 1, 1, 1, 1, 1, 1, 1]}],                        {\"legend\": {\"title\": {\"text\": \"Income\"}, \"tracegroupgap\": 0}, \"mapbox\": {\"center\": {}, \"domain\": {\"x\": [0.0, 1.0], \"y\": [0.0, 1.0]}, \"zoom\": 8}, \"margin\": {\"t\": 60}, \"template\": {\"data\": {\"bar\": [{\"error_x\": {\"color\": \"#2a3f5f\"}, \"error_y\": {\"color\": \"#2a3f5f\"}, \"marker\": {\"line\": {\"color\": \"#E5ECF6\", \"width\": 0.5}}, \"type\": \"bar\"}], \"barpolar\": [{\"marker\": {\"line\": {\"color\": \"#E5ECF6\", \"width\": 0.5}}, \"type\": \"barpolar\"}], \"carpet\": [{\"aaxis\": {\"endlinecolor\": \"#2a3f5f\", \"gridcolor\": \"white\", \"linecolor\": \"white\", \"minorgridcolor\": \"white\", \"startlinecolor\": \"#2a3f5f\"}, \"baxis\": {\"endlinecolor\": \"#2a3f5f\", \"gridcolor\": \"white\", \"linecolor\": \"white\", \"minorgridcolor\": \"white\", \"startlinecolor\": \"#2a3f5f\"}, \"type\": \"carpet\"}], \"choropleth\": [{\"colorbar\": {\"outlinewidth\": 0, \"ticks\": \"\"}, \"type\": \"choropleth\"}], \"contour\": [{\"colorbar\": {\"outlinewidth\": 0, \"ticks\": \"\"}, \"colorscale\": [[0.0, \"#0d0887\"], [0.1111111111111111, \"#46039f\"], [0.2222222222222222, \"#7201a8\"], [0.3333333333333333, \"#9c179e\"], [0.4444444444444444, \"#bd3786\"], [0.5555555555555556, \"#d8576b\"], [0.6666666666666666, \"#ed7953\"], [0.7777777777777778, \"#fb9f3a\"], [0.8888888888888888, \"#fdca26\"], [1.0, \"#f0f921\"]], \"type\": \"contour\"}], \"contourcarpet\": [{\"colorbar\": {\"outlinewidth\": 0, \"ticks\": \"\"}, \"type\": \"contourcarpet\"}], \"heatmap\": [{\"colorbar\": {\"outlinewidth\": 0, \"ticks\": \"\"}, \"colorscale\": [[0.0, \"#0d0887\"], [0.1111111111111111, \"#46039f\"], [0.2222222222222222, \"#7201a8\"], [0.3333333333333333, \"#9c179e\"], [0.4444444444444444, \"#bd3786\"], [0.5555555555555556, \"#d8576b\"], [0.6666666666666666, \"#ed7953\"], [0.7777777777777778, \"#fb9f3a\"], [0.8888888888888888, \"#fdca26\"], [1.0, \"#f0f921\"]], \"type\": \"heatmap\"}], \"heatmapgl\": [{\"colorbar\": {\"outlinewidth\": 0, \"ticks\": \"\"}, \"colorscale\": [[0.0, \"#0d0887\"], [0.1111111111111111, \"#46039f\"], [0.2222222222222222, \"#7201a8\"], [0.3333333333333333, \"#9c179e\"], [0.4444444444444444, \"#bd3786\"], [0.5555555555555556, \"#d8576b\"], [0.6666666666666666, \"#ed7953\"], [0.7777777777777778, \"#fb9f3a\"], [0.8888888888888888, \"#fdca26\"], [1.0, \"#f0f921\"]], \"type\": \"heatmapgl\"}], \"histogram\": [{\"marker\": {\"colorbar\": {\"outlinewidth\": 0, \"ticks\": \"\"}}, \"type\": \"histogram\"}], \"histogram2d\": [{\"colorbar\": {\"outlinewidth\": 0, \"ticks\": \"\"}, \"colorscale\": [[0.0, \"#0d0887\"], [0.1111111111111111, \"#46039f\"], [0.2222222222222222, \"#7201a8\"], [0.3333333333333333, \"#9c179e\"], [0.4444444444444444, \"#bd3786\"], [0.5555555555555556, \"#d8576b\"], [0.6666666666666666, \"#ed7953\"], [0.7777777777777778, \"#fb9f3a\"], [0.8888888888888888, \"#fdca26\"], [1.0, \"#f0f921\"]], \"type\": \"histogram2d\"}], \"histogram2dcontour\": [{\"colorbar\": {\"outlinewidth\": 0, \"ticks\": \"\"}, \"colorscale\": [[0.0, \"#0d0887\"], [0.1111111111111111, \"#46039f\"], [0.2222222222222222, \"#7201a8\"], [0.3333333333333333, \"#9c179e\"], [0.4444444444444444, \"#bd3786\"], [0.5555555555555556, \"#d8576b\"], [0.6666666666666666, \"#ed7953\"], [0.7777777777777778, \"#fb9f3a\"], [0.8888888888888888, \"#fdca26\"], [1.0, \"#f0f921\"]], \"type\": \"histogram2dcontour\"}], \"mesh3d\": [{\"colorbar\": {\"outlinewidth\": 0, \"ticks\": \"\"}, \"type\": \"mesh3d\"}], \"parcoords\": [{\"line\": {\"colorbar\": {\"outlinewidth\": 0, \"ticks\": \"\"}}, \"type\": \"parcoords\"}], \"pie\": [{\"automargin\": true, \"type\": \"pie\"}], \"scatter\": [{\"marker\": {\"colorbar\": {\"outlinewidth\": 0, \"ticks\": \"\"}}, \"type\": \"scatter\"}], \"scatter3d\": [{\"line\": {\"colorbar\": {\"outlinewidth\": 0, \"ticks\": \"\"}}, \"marker\": {\"colorbar\": {\"outlinewidth\": 0, \"ticks\": \"\"}}, \"type\": \"scatter3d\"}], \"scattercarpet\": [{\"marker\": {\"colorbar\": {\"outlinewidth\": 0, \"ticks\": \"\"}}, \"type\": \"scattercarpet\"}], \"scattergeo\": [{\"marker\": {\"colorbar\": {\"outlinewidth\": 0, \"ticks\": \"\"}}, \"type\": \"scattergeo\"}], \"scattergl\": [{\"marker\": {\"colorbar\": {\"outlinewidth\": 0, \"ticks\": \"\"}}, \"type\": \"scattergl\"}], \"scattermapbox\": [{\"marker\": {\"colorbar\": {\"outlinewidth\": 0, \"ticks\": \"\"}}, \"type\": \"scattermapbox\"}], \"scatterpolar\": [{\"marker\": {\"colorbar\": {\"outlinewidth\": 0, \"ticks\": \"\"}}, \"type\": \"scatterpolar\"}], \"scatterpolargl\": [{\"marker\": {\"colorbar\": {\"outlinewidth\": 0, \"ticks\": \"\"}}, \"type\": \"scatterpolargl\"}], \"scatterternary\": [{\"marker\": {\"colorbar\": {\"outlinewidth\": 0, \"ticks\": \"\"}}, \"type\": \"scatterternary\"}], \"surface\": [{\"colorbar\": {\"outlinewidth\": 0, \"ticks\": \"\"}, \"colorscale\": [[0.0, \"#0d0887\"], [0.1111111111111111, \"#46039f\"], [0.2222222222222222, \"#7201a8\"], [0.3333333333333333, \"#9c179e\"], [0.4444444444444444, \"#bd3786\"], [0.5555555555555556, \"#d8576b\"], [0.6666666666666666, \"#ed7953\"], [0.7777777777777778, \"#fb9f3a\"], [0.8888888888888888, \"#fdca26\"], [1.0, \"#f0f921\"]], \"type\": \"surface\"}], \"table\": [{\"cells\": {\"fill\": {\"color\": \"#EBF0F8\"}, \"line\": {\"color\": \"white\"}}, \"header\": {\"fill\": {\"color\": \"#C8D4E3\"}, \"line\": {\"color\": \"white\"}}, \"type\": \"table\"}]}, \"layout\": {\"annotationdefaults\": {\"arrowcolor\": \"#2a3f5f\", \"arrowhead\": 0, \"arrowwidth\": 1}, \"coloraxis\": {\"colorbar\": {\"outlinewidth\": 0, \"ticks\": \"\"}}, \"colorscale\": {\"diverging\": [[0, \"#8e0152\"], [0.1, \"#c51b7d\"], [0.2, \"#de77ae\"], [0.3, \"#f1b6da\"], [0.4, \"#fde0ef\"], [0.5, \"#f7f7f7\"], [0.6, \"#e6f5d0\"], [0.7, \"#b8e186\"], [0.8, \"#7fbc41\"], [0.9, \"#4d9221\"], [1, \"#276419\"]], \"sequential\": [[0.0, \"#0d0887\"], [0.1111111111111111, \"#46039f\"], [0.2222222222222222, \"#7201a8\"], [0.3333333333333333, \"#9c179e\"], [0.4444444444444444, \"#bd3786\"], [0.5555555555555556, \"#d8576b\"], [0.6666666666666666, \"#ed7953\"], [0.7777777777777778, \"#fb9f3a\"], [0.8888888888888888, \"#fdca26\"], [1.0, \"#f0f921\"]], \"sequentialminus\": [[0.0, \"#0d0887\"], [0.1111111111111111, \"#46039f\"], [0.2222222222222222, \"#7201a8\"], [0.3333333333333333, \"#9c179e\"], [0.4444444444444444, \"#bd3786\"], [0.5555555555555556, \"#d8576b\"], [0.6666666666666666, \"#ed7953\"], [0.7777777777777778, \"#fb9f3a\"], [0.8888888888888888, \"#fdca26\"], [1.0, \"#f0f921\"]]}, \"colorway\": [\"#636efa\", \"#EF553B\", \"#00cc96\", \"#ab63fa\", \"#FFA15A\", \"#19d3f3\", \"#FF6692\", \"#B6E880\", \"#FF97FF\", \"#FECB52\"], \"font\": {\"color\": \"#2a3f5f\"}, \"geo\": {\"bgcolor\": \"white\", \"lakecolor\": \"white\", \"landcolor\": \"#E5ECF6\", \"showlakes\": true, \"showland\": true, \"subunitcolor\": \"white\"}, \"hoverlabel\": {\"align\": \"left\"}, \"hovermode\": \"closest\", \"mapbox\": {\"style\": \"light\"}, \"paper_bgcolor\": \"white\", \"plot_bgcolor\": \"#E5ECF6\", \"polar\": {\"angularaxis\": {\"gridcolor\": \"white\", \"linecolor\": \"white\", \"ticks\": \"\"}, \"bgcolor\": \"#E5ECF6\", \"radialaxis\": {\"gridcolor\": \"white\", \"linecolor\": \"white\", \"ticks\": \"\"}}, \"scene\": {\"xaxis\": {\"backgroundcolor\": \"#E5ECF6\", \"gridcolor\": \"white\", \"gridwidth\": 2, \"linecolor\": \"white\", \"showbackground\": true, \"ticks\": \"\", \"zerolinecolor\": \"white\"}, \"yaxis\": {\"backgroundcolor\": \"#E5ECF6\", \"gridcolor\": \"white\", \"gridwidth\": 2, \"linecolor\": \"white\", \"showbackground\": true, \"ticks\": \"\", \"zerolinecolor\": \"white\"}, \"zaxis\": {\"backgroundcolor\": \"#E5ECF6\", \"gridcolor\": \"white\", \"gridwidth\": 2, \"linecolor\": \"white\", \"showbackground\": true, \"ticks\": \"\", \"zerolinecolor\": \"white\"}}, \"shapedefaults\": {\"line\": {\"color\": \"#2a3f5f\"}}, \"ternary\": {\"aaxis\": {\"gridcolor\": \"white\", \"linecolor\": \"white\", \"ticks\": \"\"}, \"baxis\": {\"gridcolor\": \"white\", \"linecolor\": \"white\", \"ticks\": \"\"}, \"bgcolor\": \"#E5ECF6\", \"caxis\": {\"gridcolor\": \"white\", \"linecolor\": \"white\", \"ticks\": \"\"}}, \"title\": {\"x\": 0.05}, \"xaxis\": {\"automargin\": true, \"gridcolor\": \"white\", \"linecolor\": \"white\", \"ticks\": \"\", \"title\": {\"standoff\": 15}, \"zerolinecolor\": \"white\", \"zerolinewidth\": 2}, \"yaxis\": {\"automargin\": true, \"gridcolor\": \"white\", \"linecolor\": \"white\", \"ticks\": \"\", \"title\": {\"standoff\": 15}, \"zerolinecolor\": \"white\", \"zerolinewidth\": 2}}}},                        {\"responsive\": true}                    ).then(function(){\n",
       "                            \n",
       "var gd = document.getElementById('869ea364-bfb2-4214-a937-94fb7ef165c9');\n",
       "var x = new MutationObserver(function (mutations, observer) {{\n",
       "        var display = window.getComputedStyle(gd).display;\n",
       "        if (!display || display === 'none') {{\n",
       "            console.log([gd, 'removed!']);\n",
       "            Plotly.purge(gd);\n",
       "            observer.disconnect();\n",
       "        }}\n",
       "}});\n",
       "\n",
       "// Listen for the removal of the full notebook cells\n",
       "var notebookContainer = gd.closest('#notebook-container');\n",
       "if (notebookContainer) {{\n",
       "    x.observe(notebookContainer, {childList: true});\n",
       "}}\n",
       "\n",
       "// Listen for the clearing of the current output cell\n",
       "var outputEl = gd.closest('.output');\n",
       "if (outputEl) {{\n",
       "    x.observe(outputEl, {childList: true});\n",
       "}}\n",
       "\n",
       "                        })                };                });            </script>        </div>"
      ]
     },
     "metadata": {},
     "output_type": "display_data"
    }
   ],
   "source": [
    "fig3 = px.choropleth_mapbox(data_frame=df2,locations='name',color='Income')\n",
    "fig3.show()"
   ]
  },
  {
   "cell_type": "code",
   "execution_count": null,
   "metadata": {},
   "outputs": [],
   "source": []
  }
 ],
 "metadata": {
  "kernelspec": {
   "display_name": "Python 3",
   "language": "python",
   "name": "python3"
  },
  "language_info": {
   "codemirror_mode": {
    "name": "ipython",
    "version": 3
   },
   "file_extension": ".py",
   "mimetype": "text/x-python",
   "name": "python",
   "nbconvert_exporter": "python",
   "pygments_lexer": "ipython3",
   "version": "3.8.3"
  }
 },
 "nbformat": 4,
 "nbformat_minor": 4
}
